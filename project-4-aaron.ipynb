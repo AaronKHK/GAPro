{
 "cells": [
  {
   "cell_type": "code",
   "execution_count": 1,
   "metadata": {},
   "outputs": [],
   "source": [
    "import pandas as pd\n",
    "import numpy as np\n",
    "import matplotlib.pyplot as plt\n",
    "import seaborn as sns\n",
    "import scipy.stats as stats\n",
    "import warnings\n",
    "warnings.filterwarnings('ignore')\n",
    "\n",
    "plt.style.use('fivethirtyeight')\n",
    "sns.set_style('whitegrid')\n",
    "\n",
    "%config InlineBackend.figure_format = 'retina'\n",
    "%matplotlib inline"
   ]
  },
  {
   "cell_type": "code",
   "execution_count": 2,
   "metadata": {},
   "outputs": [],
   "source": [
    "import statsmodels.formula.api as sm\n",
    "import patsy\n",
    "import itertools\n",
    "from sklearn.metrics import classification_report, confusion_matrix, accuracy_score, roc_curve, roc_auc_score, auc\n",
    "from sklearn.model_selection import cross_val_score, cross_val_predict, KFold, GridSearchCV,learning_curve\n",
    "from sklearn.model_selection import train_test_split, GridSearchCV, StratifiedKFold, StratifiedShuffleSplit\n",
    "from sklearn.linear_model import LogisticRegression, LogisticRegressionCV\n",
    "from sklearn.naive_bayes import MultinomialNB, BernoulliNB, GaussianNB\n",
    "from sklearn.preprocessing import StandardScaler\n",
    "from sklearn.feature_extraction.text import CountVectorizer, TfidfTransformer, TfidfVectorizer \n",
    "from sklearn.pipeline import Pipeline"
   ]
  },
  {
   "cell_type": "code",
   "execution_count": 3,
   "metadata": {},
   "outputs": [
    {
     "data": {
      "text/plain": [
       "(3960, 9)"
      ]
     },
     "execution_count": 3,
     "metadata": {},
     "output_type": "execute_result"
    }
   ],
   "source": [
    "job = pd.read_csv('data_job.csv')\n",
    "job.shape"
   ]
  },
  {
   "cell_type": "markdown",
   "metadata": {},
   "source": [
    "# EDA and Features Engineering"
   ]
  },
  {
   "cell_type": "code",
   "execution_count": 4,
   "metadata": {},
   "outputs": [
    {
     "name": "stdout",
     "output_type": "stream",
     "text": [
      "<class 'pandas.core.frame.DataFrame'>\n",
      "RangeIndex: 3960 entries, 0 to 3959\n",
      "Data columns (total 9 columns):\n",
      "Unnamed: 0      3960 non-null int64\n",
      "Job_Id          3960 non-null object\n",
      "Job_Title       3960 non-null object\n",
      "Company         3960 non-null object\n",
      "Date_Posted     3960 non-null object\n",
      "Salary          3960 non-null object\n",
      "Seniority       3960 non-null object\n",
      "Category        3960 non-null object\n",
      "Requirements    3960 non-null object\n",
      "dtypes: int64(1), object(8)\n",
      "memory usage: 278.5+ KB\n"
     ]
    }
   ],
   "source": [
    "job.info()"
   ]
  },
  {
   "cell_type": "code",
   "execution_count": 5,
   "metadata": {
    "scrolled": true
   },
   "outputs": [
    {
     "data": {
      "text/html": [
       "<div>\n",
       "<style scoped>\n",
       "    .dataframe tbody tr th:only-of-type {\n",
       "        vertical-align: middle;\n",
       "    }\n",
       "\n",
       "    .dataframe tbody tr th {\n",
       "        vertical-align: top;\n",
       "    }\n",
       "\n",
       "    .dataframe thead th {\n",
       "        text-align: right;\n",
       "    }\n",
       "</style>\n",
       "<table border=\"1\" class=\"dataframe\">\n",
       "  <thead>\n",
       "    <tr style=\"text-align: right;\">\n",
       "      <th></th>\n",
       "      <th>Unnamed: 0</th>\n",
       "      <th>Job_Id</th>\n",
       "      <th>Job_Title</th>\n",
       "      <th>Company</th>\n",
       "      <th>Date_Posted</th>\n",
       "      <th>Salary</th>\n",
       "      <th>Seniority</th>\n",
       "      <th>Category</th>\n",
       "      <th>Requirements</th>\n",
       "    </tr>\n",
       "  </thead>\n",
       "  <tbody>\n",
       "    <tr>\n",
       "      <th>0</th>\n",
       "      <td>0</td>\n",
       "      <td>[b' JOB-2019-0090219 ']</td>\n",
       "      <td>[b'Data Engineer (5 days, Orchard, $3500-4000)']</td>\n",
       "      <td>[b'MACHSPEED HUMAN RESOURCES PTE. LTD.']</td>\n",
       "      <td>[b'Posted 27 Apr 2019']</td>\n",
       "      <td>['/ $3,500to$4,000/ $3,500/ to$4,000/ Monthly/...</td>\n",
       "      <td>[b'Executive']</td>\n",
       "      <td>[b'Information Technology']</td>\n",
       "      <td>['RequirementsRequirements  Minimum Degree/Dip...</td>\n",
       "    </tr>\n",
       "    <tr>\n",
       "      <th>1</th>\n",
       "      <td>1</td>\n",
       "      <td>[b' JOB-2019-0090314 ']</td>\n",
       "      <td>[b'Customer Engagement Excellence Learning Man...</td>\n",
       "      <td>[b'BAYER (SOUTH EAST ASIA) PTE LTD']</td>\n",
       "      <td>[b'Posted 27 Apr 2019']</td>\n",
       "      <td>['/ $10,400to$15,400/ $10,400/ to$15,400/ Mont...</td>\n",
       "      <td>[b'Manager']</td>\n",
       "      <td>[b'Healthcare / Pharmaceutical']</td>\n",
       "      <td>['Requirements A University / Bachelors degree...</td>\n",
       "    </tr>\n",
       "    <tr>\n",
       "      <th>2</th>\n",
       "      <td>2</td>\n",
       "      <td>[b' JOB-2019-0090256 ']</td>\n",
       "      <td>[b'Manager, Research']</td>\n",
       "      <td>[b'GROUP ONE HOLDINGS PTE. LTD.']</td>\n",
       "      <td>[b'Posted 27 Apr 2019']</td>\n",
       "      <td>['/ $5,000to$8,000/ $5,000/ to$8,000/ Monthly/...</td>\n",
       "      <td>[b'Manager']</td>\n",
       "      <td>[b'Others']</td>\n",
       "      <td>['Requirements·\\xa0\\xa0\\xa0\\xa0\\xa0\\xa0\\xa0A s...</td>\n",
       "    </tr>\n",
       "    <tr>\n",
       "      <th>3</th>\n",
       "      <td>3</td>\n",
       "      <td>[b' JOB-2019-0090319 ']</td>\n",
       "      <td>[b'Head of Research &amp;amp; Evaluation, Asia']</td>\n",
       "      <td>[b'SAVE THE CHILDREN ASIA REGIONAL OFFICE LIMI...</td>\n",
       "      <td>[b'Posted 27 Apr 2019']</td>\n",
       "      <td>['/ $80,000to$140,000/ $80,000/ to$140,000/ An...</td>\n",
       "      <td>[b'Middle Management']</td>\n",
       "      <td>[b'General Management']</td>\n",
       "      <td>['RequirementsQualifications  10 plus years ex...</td>\n",
       "    </tr>\n",
       "    <tr>\n",
       "      <th>4</th>\n",
       "      <td>4</td>\n",
       "      <td>[b' JOB-2019-0090300 ']</td>\n",
       "      <td>[b'IT Systems Adminstrator']</td>\n",
       "      <td>[b'ELIXIR TECHNOLOGY PTE LTD']</td>\n",
       "      <td>[b'Posted 27 Apr 2019']</td>\n",
       "      <td>['/ $2,800to$3,500/ $2,800/ to$3,500/ Monthly/...</td>\n",
       "      <td>[b'Professional']</td>\n",
       "      <td>[b'Information Technology']</td>\n",
       "      <td>[\"Requirements Bachelor's Degree in Computer S...</td>\n",
       "    </tr>\n",
       "  </tbody>\n",
       "</table>\n",
       "</div>"
      ],
      "text/plain": [
       "   Unnamed: 0                   Job_Id  \\\n",
       "0           0  [b' JOB-2019-0090219 ']   \n",
       "1           1  [b' JOB-2019-0090314 ']   \n",
       "2           2  [b' JOB-2019-0090256 ']   \n",
       "3           3  [b' JOB-2019-0090319 ']   \n",
       "4           4  [b' JOB-2019-0090300 ']   \n",
       "\n",
       "                                           Job_Title  \\\n",
       "0   [b'Data Engineer (5 days, Orchard, $3500-4000)']   \n",
       "1  [b'Customer Engagement Excellence Learning Man...   \n",
       "2                             [b'Manager, Research']   \n",
       "3       [b'Head of Research &amp; Evaluation, Asia']   \n",
       "4                       [b'IT Systems Adminstrator']   \n",
       "\n",
       "                                             Company              Date_Posted  \\\n",
       "0           [b'MACHSPEED HUMAN RESOURCES PTE. LTD.']  [b'Posted 27 Apr 2019']   \n",
       "1               [b'BAYER (SOUTH EAST ASIA) PTE LTD']  [b'Posted 27 Apr 2019']   \n",
       "2                  [b'GROUP ONE HOLDINGS PTE. LTD.']  [b'Posted 27 Apr 2019']   \n",
       "3  [b'SAVE THE CHILDREN ASIA REGIONAL OFFICE LIMI...  [b'Posted 27 Apr 2019']   \n",
       "4                     [b'ELIXIR TECHNOLOGY PTE LTD']  [b'Posted 27 Apr 2019']   \n",
       "\n",
       "                                              Salary               Seniority  \\\n",
       "0  ['/ $3,500to$4,000/ $3,500/ to$4,000/ Monthly/...          [b'Executive']   \n",
       "1  ['/ $10,400to$15,400/ $10,400/ to$15,400/ Mont...            [b'Manager']   \n",
       "2  ['/ $5,000to$8,000/ $5,000/ to$8,000/ Monthly/...            [b'Manager']   \n",
       "3  ['/ $80,000to$140,000/ $80,000/ to$140,000/ An...  [b'Middle Management']   \n",
       "4  ['/ $2,800to$3,500/ $2,800/ to$3,500/ Monthly/...       [b'Professional']   \n",
       "\n",
       "                           Category  \\\n",
       "0       [b'Information Technology']   \n",
       "1  [b'Healthcare / Pharmaceutical']   \n",
       "2                       [b'Others']   \n",
       "3           [b'General Management']   \n",
       "4       [b'Information Technology']   \n",
       "\n",
       "                                        Requirements  \n",
       "0  ['RequirementsRequirements  Minimum Degree/Dip...  \n",
       "1  ['Requirements A University / Bachelors degree...  \n",
       "2  ['Requirements·\\xa0\\xa0\\xa0\\xa0\\xa0\\xa0\\xa0A s...  \n",
       "3  ['RequirementsQualifications  10 plus years ex...  \n",
       "4  [\"Requirements Bachelor's Degree in Computer S...  "
      ]
     },
     "execution_count": 5,
     "metadata": {},
     "output_type": "execute_result"
    }
   ],
   "source": [
    "job.head()"
   ]
  },
  {
   "cell_type": "code",
   "execution_count": 6,
   "metadata": {},
   "outputs": [
    {
     "data": {
      "text/plain": [
       "(3932, 7)"
      ]
     },
     "execution_count": 6,
     "metadata": {},
     "output_type": "execute_result"
    }
   ],
   "source": [
    "job_clean = job.drop_duplicates(subset='Job_Id', keep='first') #remove duplicate based on Job ID\n",
    "\n",
    "#drop job Id as it is only use to remove duplicates\n",
    "job_clean = job_clean.drop(columns=['Job_Id','Unnamed: 0'])\n",
    "job_clean.shape"
   ]
  },
  {
   "cell_type": "code",
   "execution_count": 7,
   "metadata": {},
   "outputs": [
    {
     "data": {
      "text/html": [
       "<div>\n",
       "<style scoped>\n",
       "    .dataframe tbody tr th:only-of-type {\n",
       "        vertical-align: middle;\n",
       "    }\n",
       "\n",
       "    .dataframe tbody tr th {\n",
       "        vertical-align: top;\n",
       "    }\n",
       "\n",
       "    .dataframe thead th {\n",
       "        text-align: right;\n",
       "    }\n",
       "</style>\n",
       "<table border=\"1\" class=\"dataframe\">\n",
       "  <thead>\n",
       "    <tr style=\"text-align: right;\">\n",
       "      <th></th>\n",
       "      <th>Job_Title</th>\n",
       "      <th>Company</th>\n",
       "      <th>Date_Posted</th>\n",
       "      <th>Salary</th>\n",
       "      <th>Seniority</th>\n",
       "      <th>Category</th>\n",
       "      <th>Requirements</th>\n",
       "    </tr>\n",
       "  </thead>\n",
       "  <tbody>\n",
       "    <tr>\n",
       "      <th>0</th>\n",
       "      <td>Data Engineer (5 days, Orchard, $3500-4000)</td>\n",
       "      <td>MACHSPEED HUMAN RESOURCES PTE. LTD.</td>\n",
       "      <td>Posted 27 Apr 2019</td>\n",
       "      <td>/ $3,500to$4,000/ $3,500/ to$4,000/ Monthly/ C...</td>\n",
       "      <td>Executive</td>\n",
       "      <td>Information Technology</td>\n",
       "      <td>Minimum Degree/Diploma in Computer Science, ...</td>\n",
       "    </tr>\n",
       "    <tr>\n",
       "      <th>1</th>\n",
       "      <td>Customer Engagement Excellence Learning Manager</td>\n",
       "      <td>BAYER (SOUTH EAST ASIA) PTE LTD</td>\n",
       "      <td>Posted 27 Apr 2019</td>\n",
       "      <td>/ $10,400to$15,400/ $10,400/ to$15,400/ Monthl...</td>\n",
       "      <td>Manager</td>\n",
       "      <td>Healthcare / Pharmaceutical</td>\n",
       "      <td>A University / Bachelors degree holder in app...</td>\n",
       "    </tr>\n",
       "    <tr>\n",
       "      <th>2</th>\n",
       "      <td>Manager, Research</td>\n",
       "      <td>GROUP ONE HOLDINGS PTE. LTD.</td>\n",
       "      <td>Posted 27 Apr 2019</td>\n",
       "      <td>/ $5,000to$8,000/ $5,000/ to$8,000/ Monthly/ C...</td>\n",
       "      <td>Manager</td>\n",
       "      <td>Others</td>\n",
       "      <td>·A smart communicator, a team player with proa...</td>\n",
       "    </tr>\n",
       "    <tr>\n",
       "      <th>3</th>\n",
       "      <td>Head of Research &amp; Evaluation, Asia</td>\n",
       "      <td>SAVE THE CHILDREN ASIA REGIONAL OFFICE LIMITED</td>\n",
       "      <td>Posted 27 Apr 2019</td>\n",
       "      <td>/ $80,000to$140,000/ $80,000/ to$140,000/ Annu...</td>\n",
       "      <td>Middle Management</td>\n",
       "      <td>General Management</td>\n",
       "      <td>Qualifications  10 plus years expertise and do...</td>\n",
       "    </tr>\n",
       "    <tr>\n",
       "      <th>4</th>\n",
       "      <td>IT Systems Adminstrator</td>\n",
       "      <td>ELIXIR TECHNOLOGY PTE LTD</td>\n",
       "      <td>Posted 27 Apr 2019</td>\n",
       "      <td>/ $2,800to$3,500/ $2,800/ to$3,500/ Monthly/ C...</td>\n",
       "      <td>Professional</td>\n",
       "      <td>Information Technology</td>\n",
       "      <td>\" Bachelors Degree in Computer Science, Comput...</td>\n",
       "    </tr>\n",
       "  </tbody>\n",
       "</table>\n",
       "</div>"
      ],
      "text/plain": [
       "                                         Job_Title  \\\n",
       "0      Data Engineer (5 days, Orchard, $3500-4000)   \n",
       "1  Customer Engagement Excellence Learning Manager   \n",
       "2                                Manager, Research   \n",
       "3              Head of Research & Evaluation, Asia   \n",
       "4                          IT Systems Adminstrator   \n",
       "\n",
       "                                          Company         Date_Posted  \\\n",
       "0             MACHSPEED HUMAN RESOURCES PTE. LTD.  Posted 27 Apr 2019   \n",
       "1                 BAYER (SOUTH EAST ASIA) PTE LTD  Posted 27 Apr 2019   \n",
       "2                    GROUP ONE HOLDINGS PTE. LTD.  Posted 27 Apr 2019   \n",
       "3  SAVE THE CHILDREN ASIA REGIONAL OFFICE LIMITED  Posted 27 Apr 2019   \n",
       "4                       ELIXIR TECHNOLOGY PTE LTD  Posted 27 Apr 2019   \n",
       "\n",
       "                                              Salary          Seniority  \\\n",
       "0  / $3,500to$4,000/ $3,500/ to$4,000/ Monthly/ C...          Executive   \n",
       "1  / $10,400to$15,400/ $10,400/ to$15,400/ Monthl...            Manager   \n",
       "2  / $5,000to$8,000/ $5,000/ to$8,000/ Monthly/ C...            Manager   \n",
       "3  / $80,000to$140,000/ $80,000/ to$140,000/ Annu...  Middle Management   \n",
       "4  / $2,800to$3,500/ $2,800/ to$3,500/ Monthly/ C...       Professional   \n",
       "\n",
       "                      Category  \\\n",
       "0       Information Technology   \n",
       "1  Healthcare / Pharmaceutical   \n",
       "2                       Others   \n",
       "3           General Management   \n",
       "4       Information Technology   \n",
       "\n",
       "                                        Requirements  \n",
       "0    Minimum Degree/Diploma in Computer Science, ...  \n",
       "1   A University / Bachelors degree holder in app...  \n",
       "2  ·A smart communicator, a team player with proa...  \n",
       "3  Qualifications  10 plus years expertise and do...  \n",
       "4  \" Bachelors Degree in Computer Science, Comput...  "
      ]
     },
     "execution_count": 7,
     "metadata": {},
     "output_type": "execute_result"
    }
   ],
   "source": [
    "#perform data cleaning on every row and columms\n",
    "for col in job_clean.columns:\n",
    "    job_clean[col]=job_clean[col].str.replace(\"(\\[|\\]|b'|Requirements|'|amp;|xa0|\\\\\\|\\|xe2x80x93)\", \"\")\n",
    "job_clean.head()"
   ]
  },
  {
   "cell_type": "code",
   "execution_count": 8,
   "metadata": {},
   "outputs": [
    {
     "data": {
      "text/html": [
       "<div>\n",
       "<style scoped>\n",
       "    .dataframe tbody tr th:only-of-type {\n",
       "        vertical-align: middle;\n",
       "    }\n",
       "\n",
       "    .dataframe tbody tr th {\n",
       "        vertical-align: top;\n",
       "    }\n",
       "\n",
       "    .dataframe thead th {\n",
       "        text-align: right;\n",
       "    }\n",
       "</style>\n",
       "<table border=\"1\" class=\"dataframe\">\n",
       "  <thead>\n",
       "    <tr style=\"text-align: right;\">\n",
       "      <th></th>\n",
       "      <th>Job_Title</th>\n",
       "      <th>Company</th>\n",
       "      <th>Date_Posted</th>\n",
       "      <th>Salary</th>\n",
       "      <th>Seniority</th>\n",
       "      <th>Category</th>\n",
       "      <th>Requirements</th>\n",
       "    </tr>\n",
       "  </thead>\n",
       "  <tbody>\n",
       "    <tr>\n",
       "      <th>27</th>\n",
       "      <td></td>\n",
       "      <td></td>\n",
       "      <td></td>\n",
       "      <td></td>\n",
       "      <td></td>\n",
       "      <td></td>\n",
       "      <td></td>\n",
       "    </tr>\n",
       "  </tbody>\n",
       "</table>\n",
       "</div>"
      ],
      "text/plain": [
       "   Job_Title Company Date_Posted Salary Seniority Category Requirements\n",
       "27                                                                     "
      ]
     },
     "execution_count": 8,
     "metadata": {},
     "output_type": "execute_result"
    }
   ],
   "source": [
    "#check for row with missing job title\n",
    "job_clean[job_clean['Job_Title'] == '']"
   ]
  },
  {
   "cell_type": "code",
   "execution_count": 9,
   "metadata": {},
   "outputs": [],
   "source": [
    "empty = job_clean['Job_Title'] == ''"
   ]
  },
  {
   "cell_type": "code",
   "execution_count": 10,
   "metadata": {},
   "outputs": [],
   "source": [
    "#remove row without job title\n",
    "job_clean = job_clean[~empty]"
   ]
  },
  {
   "cell_type": "code",
   "execution_count": 11,
   "metadata": {},
   "outputs": [],
   "source": [
    "#remove row without salary\n",
    "no_salary = job_clean['Salary'].str.contains('Salary undisclosed')"
   ]
  },
  {
   "cell_type": "code",
   "execution_count": 12,
   "metadata": {},
   "outputs": [],
   "source": [
    "job_clean_df = job_clean[~no_salary]"
   ]
  },
  {
   "cell_type": "code",
   "execution_count": 13,
   "metadata": {},
   "outputs": [],
   "source": [
    "#extract salary columns due to contain multiple information\n",
    "salary_range = job_clean_df[\"Salary\"].str.split(\"/\", n = 5, expand = True) "
   ]
  },
  {
   "cell_type": "code",
   "execution_count": 14,
   "metadata": {},
   "outputs": [
    {
     "data": {
      "text/html": [
       "<div>\n",
       "<style scoped>\n",
       "    .dataframe tbody tr th:only-of-type {\n",
       "        vertical-align: middle;\n",
       "    }\n",
       "\n",
       "    .dataframe tbody tr th {\n",
       "        vertical-align: top;\n",
       "    }\n",
       "\n",
       "    .dataframe thead th {\n",
       "        text-align: right;\n",
       "    }\n",
       "</style>\n",
       "<table border=\"1\" class=\"dataframe\">\n",
       "  <thead>\n",
       "    <tr style=\"text-align: right;\">\n",
       "      <th></th>\n",
       "      <th>0</th>\n",
       "      <th>1</th>\n",
       "      <th>2</th>\n",
       "      <th>3</th>\n",
       "      <th>4</th>\n",
       "      <th>5</th>\n",
       "    </tr>\n",
       "  </thead>\n",
       "  <tbody>\n",
       "    <tr>\n",
       "      <th>0</th>\n",
       "      <td></td>\n",
       "      <td>$3,500to$4,000</td>\n",
       "      <td>$3,500</td>\n",
       "      <td>to$4,000</td>\n",
       "      <td>Monthly</td>\n",
       "      <td>Closing on 27 May 2019</td>\n",
       "    </tr>\n",
       "    <tr>\n",
       "      <th>1</th>\n",
       "      <td></td>\n",
       "      <td>$10,400to$15,400</td>\n",
       "      <td>$10,400</td>\n",
       "      <td>to$15,400</td>\n",
       "      <td>Monthly</td>\n",
       "      <td>Closing on 12 May 2019</td>\n",
       "    </tr>\n",
       "    <tr>\n",
       "      <th>2</th>\n",
       "      <td></td>\n",
       "      <td>$5,000to$8,000</td>\n",
       "      <td>$5,000</td>\n",
       "      <td>to$8,000</td>\n",
       "      <td>Monthly</td>\n",
       "      <td>Closing on 27 May 2019</td>\n",
       "    </tr>\n",
       "    <tr>\n",
       "      <th>3</th>\n",
       "      <td></td>\n",
       "      <td>$80,000to$140,000</td>\n",
       "      <td>$80,000</td>\n",
       "      <td>to$140,000</td>\n",
       "      <td>Annually</td>\n",
       "      <td>Closing on 11 May 2019</td>\n",
       "    </tr>\n",
       "    <tr>\n",
       "      <th>4</th>\n",
       "      <td></td>\n",
       "      <td>$2,800to$3,500</td>\n",
       "      <td>$2,800</td>\n",
       "      <td>to$3,500</td>\n",
       "      <td>Monthly</td>\n",
       "      <td>Closing on 27 May 2019</td>\n",
       "    </tr>\n",
       "  </tbody>\n",
       "</table>\n",
       "</div>"
      ],
      "text/plain": [
       "  0                   1         2            3          4  \\\n",
       "0        $3,500to$4,000    $3,500     to$4,000    Monthly   \n",
       "1      $10,400to$15,400   $10,400    to$15,400    Monthly   \n",
       "2        $5,000to$8,000    $5,000     to$8,000    Monthly   \n",
       "3     $80,000to$140,000   $80,000   to$140,000   Annually   \n",
       "4        $2,800to$3,500    $2,800     to$3,500    Monthly   \n",
       "\n",
       "                         5  \n",
       "0   Closing on 27 May 2019  \n",
       "1   Closing on 12 May 2019  \n",
       "2   Closing on 27 May 2019  \n",
       "3   Closing on 11 May 2019  \n",
       "4   Closing on 27 May 2019  "
      ]
     },
     "execution_count": 14,
     "metadata": {},
     "output_type": "execute_result"
    }
   ],
   "source": [
    "salary_range.head()"
   ]
  },
  {
   "cell_type": "code",
   "execution_count": 15,
   "metadata": {},
   "outputs": [],
   "source": [
    "#Give columns name to the dataframe\n",
    "salary_range = salary_range.rename({0:'recruiter',1:'range', 2:'min', 3:'max', 4:'type'}, axis='columns')"
   ]
  },
  {
   "cell_type": "code",
   "execution_count": 16,
   "metadata": {},
   "outputs": [],
   "source": [
    "#split the range column which contain min and max salary\n",
    "min_max = salary_range['range'].str.split('to', n=2, expand = True)\n",
    "min_max = min_max.rename({0:'sal_min', 1:'sal_max'}, axis='columns')"
   ]
  },
  {
   "cell_type": "code",
   "execution_count": 17,
   "metadata": {},
   "outputs": [],
   "source": [
    "#concat min_max salary dataframe with salary range dataframe\n",
    "salary_range = pd.concat([salary_range, min_max], axis=1)"
   ]
  },
  {
   "cell_type": "code",
   "execution_count": 18,
   "metadata": {},
   "outputs": [
    {
     "data": {
      "text/plain": [
       "(3472, 8)"
      ]
     },
     "execution_count": 18,
     "metadata": {},
     "output_type": "execute_result"
    }
   ],
   "source": [
    "salary_range.shape"
   ]
  },
  {
   "cell_type": "code",
   "execution_count": 19,
   "metadata": {},
   "outputs": [
    {
     "data": {
      "text/html": [
       "<div>\n",
       "<style scoped>\n",
       "    .dataframe tbody tr th:only-of-type {\n",
       "        vertical-align: middle;\n",
       "    }\n",
       "\n",
       "    .dataframe tbody tr th {\n",
       "        vertical-align: top;\n",
       "    }\n",
       "\n",
       "    .dataframe thead th {\n",
       "        text-align: right;\n",
       "    }\n",
       "</style>\n",
       "<table border=\"1\" class=\"dataframe\">\n",
       "  <thead>\n",
       "    <tr style=\"text-align: right;\">\n",
       "      <th></th>\n",
       "      <th>recruiter</th>\n",
       "      <th>range</th>\n",
       "      <th>min</th>\n",
       "      <th>max</th>\n",
       "      <th>type</th>\n",
       "      <th>5</th>\n",
       "      <th>sal_min</th>\n",
       "      <th>sal_max</th>\n",
       "    </tr>\n",
       "  </thead>\n",
       "  <tbody>\n",
       "    <tr>\n",
       "      <th>0</th>\n",
       "      <td></td>\n",
       "      <td>35004000</td>\n",
       "      <td>3500</td>\n",
       "      <td>4000</td>\n",
       "      <td>Monthly</td>\n",
       "      <td>Closing on 27 May 2019</td>\n",
       "      <td>3500</td>\n",
       "      <td>4000</td>\n",
       "    </tr>\n",
       "    <tr>\n",
       "      <th>1</th>\n",
       "      <td></td>\n",
       "      <td>1040015400</td>\n",
       "      <td>10400</td>\n",
       "      <td>15400</td>\n",
       "      <td>Monthly</td>\n",
       "      <td>Closing on 12 May 2019</td>\n",
       "      <td>10400</td>\n",
       "      <td>15400</td>\n",
       "    </tr>\n",
       "    <tr>\n",
       "      <th>2</th>\n",
       "      <td></td>\n",
       "      <td>50008000</td>\n",
       "      <td>5000</td>\n",
       "      <td>8000</td>\n",
       "      <td>Monthly</td>\n",
       "      <td>Closing on 27 May 2019</td>\n",
       "      <td>5000</td>\n",
       "      <td>8000</td>\n",
       "    </tr>\n",
       "    <tr>\n",
       "      <th>3</th>\n",
       "      <td></td>\n",
       "      <td>80000140000</td>\n",
       "      <td>80000</td>\n",
       "      <td>140000</td>\n",
       "      <td>Annually</td>\n",
       "      <td>Closing on 11 May 2019</td>\n",
       "      <td>80000</td>\n",
       "      <td>140000</td>\n",
       "    </tr>\n",
       "    <tr>\n",
       "      <th>4</th>\n",
       "      <td></td>\n",
       "      <td>28003500</td>\n",
       "      <td>2800</td>\n",
       "      <td>3500</td>\n",
       "      <td>Monthly</td>\n",
       "      <td>Closing on 27 May 2019</td>\n",
       "      <td>2800</td>\n",
       "      <td>3500</td>\n",
       "    </tr>\n",
       "  </tbody>\n",
       "</table>\n",
       "</div>"
      ],
      "text/plain": [
       "  recruiter         range     min      max       type  \\\n",
       "0                35004000    3500     4000    Monthly   \n",
       "1              1040015400   10400    15400    Monthly   \n",
       "2                50008000    5000     8000    Monthly   \n",
       "3             80000140000   80000   140000   Annually   \n",
       "4                28003500    2800     3500    Monthly   \n",
       "\n",
       "                         5 sal_min sal_max  \n",
       "0   Closing on 27 May 2019    3500    4000  \n",
       "1   Closing on 12 May 2019   10400   15400  \n",
       "2   Closing on 27 May 2019    5000    8000  \n",
       "3   Closing on 11 May 2019   80000  140000  \n",
       "4   Closing on 27 May 2019    2800    3500  "
      ]
     },
     "execution_count": 19,
     "metadata": {},
     "output_type": "execute_result"
    }
   ],
   "source": [
    "#removed $ and 'to' from salary \n",
    "for col in salary_range.columns:\n",
    "    salary_range[col]=salary_range[col].str.replace('(\\$|,|to)', '')\n",
    "salary_range.head()"
   ]
  },
  {
   "cell_type": "code",
   "execution_count": 20,
   "metadata": {},
   "outputs": [
    {
     "data": {
      "text/html": [
       "<div>\n",
       "<style scoped>\n",
       "    .dataframe tbody tr th:only-of-type {\n",
       "        vertical-align: middle;\n",
       "    }\n",
       "\n",
       "    .dataframe tbody tr th {\n",
       "        vertical-align: top;\n",
       "    }\n",
       "\n",
       "    .dataframe thead th {\n",
       "        text-align: right;\n",
       "    }\n",
       "</style>\n",
       "<table border=\"1\" class=\"dataframe\">\n",
       "  <thead>\n",
       "    <tr style=\"text-align: right;\">\n",
       "      <th></th>\n",
       "      <th>recruiter</th>\n",
       "      <th>range</th>\n",
       "      <th>min</th>\n",
       "      <th>max</th>\n",
       "      <th>type</th>\n",
       "      <th>5</th>\n",
       "      <th>sal_min</th>\n",
       "      <th>sal_max</th>\n",
       "    </tr>\n",
       "  </thead>\n",
       "  <tbody>\n",
       "    <tr>\n",
       "      <th>53</th>\n",
       "      <td>via Recruiter</td>\n",
       "      <td></td>\n",
       "      <td>25003200</td>\n",
       "      <td>2500</td>\n",
       "      <td>3200</td>\n",
       "      <td>Monthly/ Closing on 26 May 2019</td>\n",
       "      <td></td>\n",
       "      <td>None</td>\n",
       "    </tr>\n",
       "    <tr>\n",
       "      <th>72</th>\n",
       "      <td>Recruiter</td>\n",
       "      <td></td>\n",
       "      <td>30005000</td>\n",
       "      <td>3000</td>\n",
       "      <td>5000</td>\n",
       "      <td>Monthly/ Closing on 26 May 2019</td>\n",
       "      <td></td>\n",
       "      <td>None</td>\n",
       "    </tr>\n",
       "    <tr>\n",
       "      <th>96</th>\n",
       "      <td>via Recruiter</td>\n",
       "      <td></td>\n",
       "      <td>18002600</td>\n",
       "      <td>1800</td>\n",
       "      <td>2600</td>\n",
       "      <td>Monthly/ Closing on 26 May 2019</td>\n",
       "      <td></td>\n",
       "      <td>None</td>\n",
       "    </tr>\n",
       "    <tr>\n",
       "      <th>99</th>\n",
       "      <td>via Recruiter</td>\n",
       "      <td></td>\n",
       "      <td>63006800</td>\n",
       "      <td>6300</td>\n",
       "      <td>6800</td>\n",
       "      <td>Monthly/ Closing on 26 May 2019</td>\n",
       "      <td></td>\n",
       "      <td>None</td>\n",
       "    </tr>\n",
       "    <tr>\n",
       "      <th>103</th>\n",
       "      <td>via Recruiter</td>\n",
       "      <td></td>\n",
       "      <td>780012200</td>\n",
       "      <td>7800</td>\n",
       "      <td>12200</td>\n",
       "      <td>Monthly/ Closing on 10 May 2019</td>\n",
       "      <td></td>\n",
       "      <td>None</td>\n",
       "    </tr>\n",
       "  </tbody>\n",
       "</table>\n",
       "</div>"
      ],
      "text/plain": [
       "         recruiter range         min    max    type  \\\n",
       "53   via Recruiter          25003200   2500    3200   \n",
       "72       Recruiter          30005000   3000    5000   \n",
       "96   via Recruiter          18002600   1800    2600   \n",
       "99   via Recruiter          63006800   6300    6800   \n",
       "103  via Recruiter         780012200   7800   12200   \n",
       "\n",
       "                                    5 sal_min sal_max  \n",
       "53    Monthly/ Closing on 26 May 2019            None  \n",
       "72    Monthly/ Closing on 26 May 2019            None  \n",
       "96    Monthly/ Closing on 26 May 2019            None  \n",
       "99    Monthly/ Closing on 26 May 2019            None  \n",
       "103   Monthly/ Closing on 10 May 2019            None  "
      ]
     },
     "execution_count": 20,
     "metadata": {},
     "output_type": "execute_result"
    }
   ],
   "source": [
    "#data from job posted by recruiter are shifted to the right\n",
    "#salary min falls under max and salary max falls under type\n",
    "salary_range[salary_range['recruiter'].str.contains('Recruiter')].head()"
   ]
  },
  {
   "cell_type": "code",
   "execution_count": 21,
   "metadata": {},
   "outputs": [],
   "source": [
    "#adjust salary min and max location for recruiter data\n",
    "salary_range.loc[salary_range['recruiter'].str.contains('Recruiter'), 'sal_min'] = salary_range['max']\n",
    "salary_range.loc[salary_range['recruiter'].str.contains('Recruiter'), 'sal_max'] = salary_range['type']"
   ]
  },
  {
   "cell_type": "code",
   "execution_count": 22,
   "metadata": {},
   "outputs": [],
   "source": [
    "#convert from ojbect to float for statistical infomation\n",
    "salary_range['sal_min'] = salary_range['sal_min'].astype('float64')\n",
    "salary_range['sal_max'] = salary_range['sal_max'].astype('float64')"
   ]
  },
  {
   "cell_type": "code",
   "execution_count": 23,
   "metadata": {},
   "outputs": [
    {
     "data": {
      "text/html": [
       "<div>\n",
       "<style scoped>\n",
       "    .dataframe tbody tr th:only-of-type {\n",
       "        vertical-align: middle;\n",
       "    }\n",
       "\n",
       "    .dataframe tbody tr th {\n",
       "        vertical-align: top;\n",
       "    }\n",
       "\n",
       "    .dataframe thead th {\n",
       "        text-align: right;\n",
       "    }\n",
       "</style>\n",
       "<table border=\"1\" class=\"dataframe\">\n",
       "  <thead>\n",
       "    <tr style=\"text-align: right;\">\n",
       "      <th></th>\n",
       "      <th>sal_min</th>\n",
       "      <th>sal_max</th>\n",
       "    </tr>\n",
       "  </thead>\n",
       "  <tbody>\n",
       "    <tr>\n",
       "      <th>count</th>\n",
       "      <td>3472.000000</td>\n",
       "      <td>3472.000000</td>\n",
       "    </tr>\n",
       "    <tr>\n",
       "      <th>mean</th>\n",
       "      <td>7215.020449</td>\n",
       "      <td>11079.663882</td>\n",
       "    </tr>\n",
       "    <tr>\n",
       "      <th>std</th>\n",
       "      <td>15684.739939</td>\n",
       "      <td>23760.781468</td>\n",
       "    </tr>\n",
       "    <tr>\n",
       "      <th>min</th>\n",
       "      <td>1.000000</td>\n",
       "      <td>2.000000</td>\n",
       "    </tr>\n",
       "    <tr>\n",
       "      <th>25%</th>\n",
       "      <td>2800.000000</td>\n",
       "      <td>4000.000000</td>\n",
       "    </tr>\n",
       "    <tr>\n",
       "      <th>50%</th>\n",
       "      <td>4100.000000</td>\n",
       "      <td>6800.000000</td>\n",
       "    </tr>\n",
       "    <tr>\n",
       "      <th>75%</th>\n",
       "      <td>6500.000000</td>\n",
       "      <td>10000.000000</td>\n",
       "    </tr>\n",
       "    <tr>\n",
       "      <th>max</th>\n",
       "      <td>280000.000000</td>\n",
       "      <td>405000.000000</td>\n",
       "    </tr>\n",
       "  </tbody>\n",
       "</table>\n",
       "</div>"
      ],
      "text/plain": [
       "             sal_min        sal_max\n",
       "count    3472.000000    3472.000000\n",
       "mean     7215.020449   11079.663882\n",
       "std     15684.739939   23760.781468\n",
       "min         1.000000       2.000000\n",
       "25%      2800.000000    4000.000000\n",
       "50%      4100.000000    6800.000000\n",
       "75%      6500.000000   10000.000000\n",
       "max    280000.000000  405000.000000"
      ]
     },
     "execution_count": 23,
     "metadata": {},
     "output_type": "execute_result"
    }
   ],
   "source": [
    "#from the min and max value, extream outliers were observed\n",
    "salary_range.describe()"
   ]
  },
  {
   "cell_type": "code",
   "execution_count": 24,
   "metadata": {},
   "outputs": [
    {
     "data": {
      "text/plain": [
       "<matplotlib.axes._subplots.AxesSubplot at 0x1a1b036780>"
      ]
     },
     "execution_count": 24,
     "metadata": {},
     "output_type": "execute_result"
    },
    {
     "data": {
      "image/png": "[encoded data removed]",
      "text/plain": [
       "<Figure size 432x288 with 1 Axes>"
      ]
     },
     "metadata": {
      "image/png": {
       "height": 260,
       "width": 429
      },
      "needs_background": "light"
     },
     "output_type": "display_data"
    }
   ],
   "source": [
    "sns.distplot(salary_range['sal_max'],bins=15)"
   ]
  },
  {
   "cell_type": "markdown",
   "metadata": {},
   "source": [
    "From the plot, outliers caused the salary distribution to be heavily skewed"
   ]
  },
  {
   "cell_type": "code",
   "execution_count": 25,
   "metadata": {},
   "outputs": [],
   "source": [
    "#create a condition to check for high outliers\n",
    "abovemean = 3*np.mean(salary_range['sal_min'])"
   ]
  },
  {
   "cell_type": "code",
   "execution_count": 26,
   "metadata": {},
   "outputs": [
    {
     "data": {
      "text/html": [
       "<div>\n",
       "<style scoped>\n",
       "    .dataframe tbody tr th:only-of-type {\n",
       "        vertical-align: middle;\n",
       "    }\n",
       "\n",
       "    .dataframe tbody tr th {\n",
       "        vertical-align: top;\n",
       "    }\n",
       "\n",
       "    .dataframe thead th {\n",
       "        text-align: right;\n",
       "    }\n",
       "</style>\n",
       "<table border=\"1\" class=\"dataframe\">\n",
       "  <thead>\n",
       "    <tr style=\"text-align: right;\">\n",
       "      <th></th>\n",
       "      <th>recruiter</th>\n",
       "      <th>range</th>\n",
       "      <th>min</th>\n",
       "      <th>max</th>\n",
       "      <th>type</th>\n",
       "      <th>5</th>\n",
       "      <th>sal_min</th>\n",
       "      <th>sal_max</th>\n",
       "    </tr>\n",
       "  </thead>\n",
       "  <tbody>\n",
       "    <tr>\n",
       "      <th>428</th>\n",
       "      <td>Recruiter</td>\n",
       "      <td></td>\n",
       "      <td>110000180000</td>\n",
       "      <td>110000</td>\n",
       "      <td>180000</td>\n",
       "      <td>Annually/ Closing on 24 May 2019</td>\n",
       "      <td>110000.0</td>\n",
       "      <td>180000.0</td>\n",
       "    </tr>\n",
       "    <tr>\n",
       "      <th>1859</th>\n",
       "      <td>Recruiter</td>\n",
       "      <td></td>\n",
       "      <td>7000080000</td>\n",
       "      <td>70000</td>\n",
       "      <td>80000</td>\n",
       "      <td>Annually/ Closing on 15 May 2019</td>\n",
       "      <td>70000.0</td>\n",
       "      <td>80000.0</td>\n",
       "    </tr>\n",
       "  </tbody>\n",
       "</table>\n",
       "</div>"
      ],
      "text/plain": [
       "      recruiter range            min      max     type  \\\n",
       "428   Recruiter         110000180000   110000   180000   \n",
       "1859  Recruiter           7000080000    70000    80000   \n",
       "\n",
       "                                      5   sal_min   sal_max  \n",
       "428    Annually/ Closing on 24 May 2019  110000.0  180000.0  \n",
       "1859   Annually/ Closing on 15 May 2019   70000.0   80000.0  "
      ]
     },
     "execution_count": 26,
     "metadata": {},
     "output_type": "execute_result"
    }
   ],
   "source": [
    "#found salary which is 3 times higher than mean are actually Annual salary\n",
    "salary_range[((salary_range['recruiter'].str.contains('Recruiter')) & (salary_range['sal_min'] > abovemean))]"
   ]
  },
  {
   "cell_type": "code",
   "execution_count": 27,
   "metadata": {},
   "outputs": [],
   "source": [
    "#Rename salary type accordingly based on salary\n",
    "salary_range.loc[((salary_range['recruiter'].str.contains('Recruiter')) & (salary_range['sal_min'] > abovemean)), 'type'] = ' Annually'\n",
    "salary_range.loc[((salary_range['recruiter'].str.contains('Recruiter')) & (salary_range['sal_min'] < abovemean)), 'type'] = ' Monthly'"
   ]
  },
  {
   "cell_type": "code",
   "execution_count": 28,
   "metadata": {},
   "outputs": [],
   "source": [
    "#only keep relevent columns before merge back\n",
    "salary_range = salary_range.drop(columns=['range','min','max',5])"
   ]
  },
  {
   "cell_type": "code",
   "execution_count": 29,
   "metadata": {},
   "outputs": [],
   "source": [
    "#concat back to orginal dataframe after feature engineering completed for salary columns\n",
    "job_df = pd.concat([job_clean_df, salary_range], axis=1)"
   ]
  },
  {
   "cell_type": "code",
   "execution_count": 30,
   "metadata": {},
   "outputs": [],
   "source": [
    "#drop original salary columns and date posted due to feature not useful for prediction\n",
    "job_df = job_df.drop(columns=['Date_Posted','Salary','recruiter'])"
   ]
  },
  {
   "cell_type": "code",
   "execution_count": 31,
   "metadata": {},
   "outputs": [
    {
     "data": {
      "text/html": [
       "<div>\n",
       "<style scoped>\n",
       "    .dataframe tbody tr th:only-of-type {\n",
       "        vertical-align: middle;\n",
       "    }\n",
       "\n",
       "    .dataframe tbody tr th {\n",
       "        vertical-align: top;\n",
       "    }\n",
       "\n",
       "    .dataframe thead th {\n",
       "        text-align: right;\n",
       "    }\n",
       "</style>\n",
       "<table border=\"1\" class=\"dataframe\">\n",
       "  <thead>\n",
       "    <tr style=\"text-align: right;\">\n",
       "      <th></th>\n",
       "      <th>Job_Title</th>\n",
       "      <th>Company</th>\n",
       "      <th>Seniority</th>\n",
       "      <th>Category</th>\n",
       "      <th>Requirements</th>\n",
       "      <th>type</th>\n",
       "      <th>sal_min</th>\n",
       "      <th>sal_max</th>\n",
       "    </tr>\n",
       "  </thead>\n",
       "  <tbody>\n",
       "    <tr>\n",
       "      <th>809</th>\n",
       "      <td>Assistant Manager / Manager</td>\n",
       "      <td>SAMSUNG SDS ASIA PACIFIC PTE. LTD.</td>\n",
       "      <td>Senior Executive</td>\n",
       "      <td>Others</td>\n",
       "      <td>\" Bachelors degree in Mathematics, Computer Sc...</td>\n",
       "      <td>Monthly</td>\n",
       "      <td>5000.0</td>\n",
       "      <td>70000.0</td>\n",
       "    </tr>\n",
       "    <tr>\n",
       "      <th>1650</th>\n",
       "      <td>Sr Sitecore Developer</td>\n",
       "      <td>GATEWAY SEARCH PTE. LTD.</td>\n",
       "      <td>Senior Executive</td>\n",
       "      <td>Information Technology</td>\n",
       "      <td>2 years’ experience in designing, developing,...</td>\n",
       "      <td>Monthly</td>\n",
       "      <td>5000.0</td>\n",
       "      <td>75000.0</td>\n",
       "    </tr>\n",
       "    <tr>\n",
       "      <th>1860</th>\n",
       "      <td>Technical Consultant</td>\n",
       "      <td>RANDSTAD PTE. LIMITED</td>\n",
       "      <td>Senior Executive</td>\n",
       "      <td>Information Technology</td>\n",
       "      <td>:  • Degree in Information Technology or relat...</td>\n",
       "      <td>Monthly</td>\n",
       "      <td>7000.0</td>\n",
       "      <td>100000.0</td>\n",
       "    </tr>\n",
       "    <tr>\n",
       "      <th>3171</th>\n",
       "      <td>Front-End Developer</td>\n",
       "      <td>STANDARD CHARTERED BANK</td>\n",
       "      <td>Manager</td>\n",
       "      <td>Banking and Finance, Information Technology</td>\n",
       "      <td>Ideal Candidate: The successful candidate is e...</td>\n",
       "      <td>Monthly</td>\n",
       "      <td>10000.0</td>\n",
       "      <td>190000.0</td>\n",
       "    </tr>\n",
       "    <tr>\n",
       "      <th>3553</th>\n",
       "      <td>Software engineer</td>\n",
       "      <td>Company Undisclosed</td>\n",
       "      <td>Executive, Senior Executive</td>\n",
       "      <td>Information Technology</td>\n",
       "      <td>WHAT YOU’LL NEED:  Strong CS fundamentals (wit...</td>\n",
       "      <td>Monthly</td>\n",
       "      <td>4000.0</td>\n",
       "      <td>85000.0</td>\n",
       "    </tr>\n",
       "  </tbody>\n",
       "</table>\n",
       "</div>"
      ],
      "text/plain": [
       "                        Job_Title                             Company  \\\n",
       "809   Assistant Manager / Manager  SAMSUNG SDS ASIA PACIFIC PTE. LTD.   \n",
       "1650        Sr Sitecore Developer            GATEWAY SEARCH PTE. LTD.   \n",
       "1860         Technical Consultant               RANDSTAD PTE. LIMITED   \n",
       "3171          Front-End Developer             STANDARD CHARTERED BANK   \n",
       "3553            Software engineer                 Company Undisclosed   \n",
       "\n",
       "                        Seniority  \\\n",
       "809              Senior Executive   \n",
       "1650             Senior Executive   \n",
       "1860             Senior Executive   \n",
       "3171                      Manager   \n",
       "3553  Executive, Senior Executive   \n",
       "\n",
       "                                         Category  \\\n",
       "809                                        Others   \n",
       "1650                       Information Technology   \n",
       "1860                       Information Technology   \n",
       "3171  Banking and Finance, Information Technology   \n",
       "3553                       Information Technology   \n",
       "\n",
       "                                           Requirements      type  sal_min  \\\n",
       "809   \" Bachelors degree in Mathematics, Computer Sc...   Monthly   5000.0   \n",
       "1650   2 years’ experience in designing, developing,...   Monthly   5000.0   \n",
       "1860  :  • Degree in Information Technology or relat...   Monthly   7000.0   \n",
       "3171  Ideal Candidate: The successful candidate is e...   Monthly  10000.0   \n",
       "3553  WHAT YOU’LL NEED:  Strong CS fundamentals (wit...   Monthly   4000.0   \n",
       "\n",
       "       sal_max  \n",
       "809    70000.0  \n",
       "1650   75000.0  \n",
       "1860  100000.0  \n",
       "3171  190000.0  \n",
       "3553   85000.0  "
      ]
     },
     "execution_count": 31,
     "metadata": {},
     "output_type": "execute_result"
    }
   ],
   "source": [
    "#detected 5 jobs with unrealistic min and max monthly salary range (which is more than 10 times)\n",
    "job_df.loc[(job_df['sal_max']>10*job_df['sal_min'])]"
   ]
  },
  {
   "cell_type": "code",
   "execution_count": 32,
   "metadata": {},
   "outputs": [],
   "source": [
    "#assuming typo for sal_max 10 times more than sal_min. To correct value by sal_max divided by 10\n",
    "job_df.loc[(job_df['sal_max']>10*job_df['sal_min']), 'sal_max'] = job_df['sal_max']/10"
   ]
  },
  {
   "cell_type": "code",
   "execution_count": 33,
   "metadata": {},
   "outputs": [],
   "source": [
    "#standardize all salary type to Monthly\n",
    "job_df.loc[job_df['type'].str.contains(' Annually'), 'sal_min'] = round(job_df['sal_min']/12)\n",
    "job_df.loc[job_df['type'].str.contains(' Annually'), 'sal_max'] = round(job_df['sal_max']/12)\n",
    "job_df = job_df.drop(columns='type')"
   ]
  },
  {
   "cell_type": "code",
   "execution_count": 34,
   "metadata": {},
   "outputs": [],
   "source": [
    "#further remove job with same data from all columns\n",
    "job_df = job_df.drop_duplicates(subset=job_df.columns, keep='first')"
   ]
  },
  {
   "cell_type": "code",
   "execution_count": 35,
   "metadata": {},
   "outputs": [],
   "source": [
    "#further filter on job title with specific keywords\n",
    "title_key = ['DATA', 'MACHINE','ANALYST','MACHINE LEARNING','ANALYTICS','DEEP LEARNING','RESEARCH','NLP']\n",
    "key = '|'.join(title_key)\n",
    "data_job = job_df['Job_Title'].str.upper().str.contains(key)\n",
    "job_df = job_df[data_job]"
   ]
  },
  {
   "cell_type": "code",
   "execution_count": 36,
   "metadata": {},
   "outputs": [],
   "source": [
    "#to drop job with max salary less than 2000, assuming data entry/admin/operator job\n",
    "mask_low = job_df['sal_max']<=2000\n",
    "job_df = job_df[~mask_low]"
   ]
  },
  {
   "cell_type": "code",
   "execution_count": 37,
   "metadata": {},
   "outputs": [
    {
     "data": {
      "text/plain": [
       "<matplotlib.axes._subplots.AxesSubplot at 0x1a1affaf98>"
      ]
     },
     "execution_count": 37,
     "metadata": {},
     "output_type": "execute_result"
    },
    {
     "data": {
      "image/png": "[encoded data removed]",
      "text/plain": [
       "<Figure size 864x360 with 2 Axes>"
      ]
     },
     "metadata": {
      "image/png": {
       "height": 314,
       "width": 766
      },
      "needs_background": "light"
     },
     "output_type": "display_data"
    }
   ],
   "source": [
    "fig, ax =plt.subplots(nrows=1, ncols=2, figsize=(12,5))\n",
    "sns.boxplot(job_df['sal_max'], ax=ax[0])\n",
    "sns.distplot(job_df['sal_max'],bins=15, ax=ax[1])"
   ]
  },
  {
   "cell_type": "markdown",
   "metadata": {},
   "source": [
    "After few extream outliers were removed, median for sal_max is around $7500 but there are still few job with very high monthly salary"
   ]
  },
  {
   "cell_type": "code",
   "execution_count": 38,
   "metadata": {},
   "outputs": [
    {
     "data": {
      "text/html": [
       "<div>\n",
       "<style scoped>\n",
       "    .dataframe tbody tr th:only-of-type {\n",
       "        vertical-align: middle;\n",
       "    }\n",
       "\n",
       "    .dataframe tbody tr th {\n",
       "        vertical-align: top;\n",
       "    }\n",
       "\n",
       "    .dataframe thead th {\n",
       "        text-align: right;\n",
       "    }\n",
       "</style>\n",
       "<table border=\"1\" class=\"dataframe\">\n",
       "  <thead>\n",
       "    <tr style=\"text-align: right;\">\n",
       "      <th></th>\n",
       "      <th></th>\n",
       "      <th>Job_Title</th>\n",
       "      <th>Category</th>\n",
       "      <th>Requirements</th>\n",
       "      <th>sal_min</th>\n",
       "      <th>sal_max</th>\n",
       "    </tr>\n",
       "    <tr>\n",
       "      <th>Company</th>\n",
       "      <th>Seniority</th>\n",
       "      <th></th>\n",
       "      <th></th>\n",
       "      <th></th>\n",
       "      <th></th>\n",
       "      <th></th>\n",
       "    </tr>\n",
       "  </thead>\n",
       "  <tbody>\n",
       "    <tr>\n",
       "      <th>CISCO SYSTEMS (USA) PTE. LTD.</th>\n",
       "      <th>Professional</th>\n",
       "      <td>1</td>\n",
       "      <td>1</td>\n",
       "      <td>1</td>\n",
       "      <td>1</td>\n",
       "      <td>1</td>\n",
       "    </tr>\n",
       "    <tr>\n",
       "      <th>Company Undisclosed</th>\n",
       "      <th>Senior Management</th>\n",
       "      <td>2</td>\n",
       "      <td>2</td>\n",
       "      <td>2</td>\n",
       "      <td>2</td>\n",
       "      <td>2</td>\n",
       "    </tr>\n",
       "    <tr>\n",
       "      <th rowspan=\"2\" valign=\"top\">DBS BANK LTD.</th>\n",
       "      <th>Middle Management</th>\n",
       "      <td>1</td>\n",
       "      <td>1</td>\n",
       "      <td>1</td>\n",
       "      <td>1</td>\n",
       "      <td>1</td>\n",
       "    </tr>\n",
       "    <tr>\n",
       "      <th>Senior Management</th>\n",
       "      <td>7</td>\n",
       "      <td>7</td>\n",
       "      <td>7</td>\n",
       "      <td>7</td>\n",
       "      <td>7</td>\n",
       "    </tr>\n",
       "    <tr>\n",
       "      <th>DEUTSCHE BANK AKTIENGESELLSCHAFT</th>\n",
       "      <th>Professional</th>\n",
       "      <td>1</td>\n",
       "      <td>1</td>\n",
       "      <td>1</td>\n",
       "      <td>1</td>\n",
       "      <td>1</td>\n",
       "    </tr>\n",
       "    <tr>\n",
       "      <th>GOOGLE ASIA PACIFIC PTE. LTD.</th>\n",
       "      <th>Executive</th>\n",
       "      <td>3</td>\n",
       "      <td>3</td>\n",
       "      <td>3</td>\n",
       "      <td>3</td>\n",
       "      <td>3</td>\n",
       "    </tr>\n",
       "    <tr>\n",
       "      <th>MARKS SATTIN (SINGAPORE) PTE. LIMITED</th>\n",
       "      <th>Executive</th>\n",
       "      <td>1</td>\n",
       "      <td>1</td>\n",
       "      <td>1</td>\n",
       "      <td>1</td>\n",
       "      <td>1</td>\n",
       "    </tr>\n",
       "    <tr>\n",
       "      <th>MERGERMARKET CONSULTING (SINGAPORE) PTE. LTD.</th>\n",
       "      <th>Executive, Senior Executive</th>\n",
       "      <td>1</td>\n",
       "      <td>1</td>\n",
       "      <td>1</td>\n",
       "      <td>1</td>\n",
       "      <td>1</td>\n",
       "    </tr>\n",
       "    <tr>\n",
       "      <th>RIO TINTO COMMERCIAL PTE. LTD.</th>\n",
       "      <th>Professional</th>\n",
       "      <td>2</td>\n",
       "      <td>2</td>\n",
       "      <td>2</td>\n",
       "      <td>2</td>\n",
       "      <td>2</td>\n",
       "    </tr>\n",
       "    <tr>\n",
       "      <th>STANDARD CHARTERED BANK</th>\n",
       "      <th>Middle Management, Manager</th>\n",
       "      <td>1</td>\n",
       "      <td>1</td>\n",
       "      <td>1</td>\n",
       "      <td>1</td>\n",
       "      <td>1</td>\n",
       "    </tr>\n",
       "  </tbody>\n",
       "</table>\n",
       "</div>"
      ],
      "text/plain": [
       "                                                                           Job_Title  \\\n",
       "Company                                       Seniority                                \n",
       "CISCO SYSTEMS (USA) PTE. LTD.                 Professional                         1   \n",
       "Company Undisclosed                           Senior Management                    2   \n",
       "DBS BANK LTD.                                 Middle Management                    1   \n",
       "                                              Senior Management                    7   \n",
       "DEUTSCHE BANK AKTIENGESELLSCHAFT              Professional                         1   \n",
       "GOOGLE ASIA PACIFIC PTE. LTD.                 Executive                            3   \n",
       "MARKS SATTIN (SINGAPORE) PTE. LIMITED         Executive                            1   \n",
       "MERGERMARKET CONSULTING (SINGAPORE) PTE. LTD. Executive, Senior Executive          1   \n",
       "RIO TINTO COMMERCIAL PTE. LTD.                Professional                         2   \n",
       "STANDARD CHARTERED BANK                       Middle Management, Manager           1   \n",
       "\n",
       "                                                                           Category  \\\n",
       "Company                                       Seniority                               \n",
       "CISCO SYSTEMS (USA) PTE. LTD.                 Professional                        1   \n",
       "Company Undisclosed                           Senior Management                   2   \n",
       "DBS BANK LTD.                                 Middle Management                   1   \n",
       "                                              Senior Management                   7   \n",
       "DEUTSCHE BANK AKTIENGESELLSCHAFT              Professional                        1   \n",
       "GOOGLE ASIA PACIFIC PTE. LTD.                 Executive                           3   \n",
       "MARKS SATTIN (SINGAPORE) PTE. LIMITED         Executive                           1   \n",
       "MERGERMARKET CONSULTING (SINGAPORE) PTE. LTD. Executive, Senior Executive         1   \n",
       "RIO TINTO COMMERCIAL PTE. LTD.                Professional                        2   \n",
       "STANDARD CHARTERED BANK                       Middle Management, Manager          1   \n",
       "\n",
       "                                                                           Requirements  \\\n",
       "Company                                       Seniority                                   \n",
       "CISCO SYSTEMS (USA) PTE. LTD.                 Professional                            1   \n",
       "Company Undisclosed                           Senior Management                       2   \n",
       "DBS BANK LTD.                                 Middle Management                       1   \n",
       "                                              Senior Management                       7   \n",
       "DEUTSCHE BANK AKTIENGESELLSCHAFT              Professional                            1   \n",
       "GOOGLE ASIA PACIFIC PTE. LTD.                 Executive                               3   \n",
       "MARKS SATTIN (SINGAPORE) PTE. LIMITED         Executive                               1   \n",
       "MERGERMARKET CONSULTING (SINGAPORE) PTE. LTD. Executive, Senior Executive             1   \n",
       "RIO TINTO COMMERCIAL PTE. LTD.                Professional                            2   \n",
       "STANDARD CHARTERED BANK                       Middle Management, Manager              1   \n",
       "\n",
       "                                                                           sal_min  \\\n",
       "Company                                       Seniority                              \n",
       "CISCO SYSTEMS (USA) PTE. LTD.                 Professional                       1   \n",
       "Company Undisclosed                           Senior Management                  2   \n",
       "DBS BANK LTD.                                 Middle Management                  1   \n",
       "                                              Senior Management                  7   \n",
       "DEUTSCHE BANK AKTIENGESELLSCHAFT              Professional                       1   \n",
       "GOOGLE ASIA PACIFIC PTE. LTD.                 Executive                          3   \n",
       "MARKS SATTIN (SINGAPORE) PTE. LIMITED         Executive                          1   \n",
       "MERGERMARKET CONSULTING (SINGAPORE) PTE. LTD. Executive, Senior Executive        1   \n",
       "RIO TINTO COMMERCIAL PTE. LTD.                Professional                       2   \n",
       "STANDARD CHARTERED BANK                       Middle Management, Manager         1   \n",
       "\n",
       "                                                                           sal_max  \n",
       "Company                                       Seniority                             \n",
       "CISCO SYSTEMS (USA) PTE. LTD.                 Professional                       1  \n",
       "Company Undisclosed                           Senior Management                  2  \n",
       "DBS BANK LTD.                                 Middle Management                  1  \n",
       "                                              Senior Management                  7  \n",
       "DEUTSCHE BANK AKTIENGESELLSCHAFT              Professional                       1  \n",
       "GOOGLE ASIA PACIFIC PTE. LTD.                 Executive                          3  \n",
       "MARKS SATTIN (SINGAPORE) PTE. LIMITED         Executive                          1  \n",
       "MERGERMARKET CONSULTING (SINGAPORE) PTE. LTD. Executive, Senior Executive        1  \n",
       "RIO TINTO COMMERCIAL PTE. LTD.                Professional                       2  \n",
       "STANDARD CHARTERED BANK                       Middle Management, Manager         1  "
      ]
     },
     "execution_count": 38,
     "metadata": {},
     "output_type": "execute_result"
    }
   ],
   "source": [
    "job_df[job_df['sal_max']>17500].groupby(['Company', 'Seniority']).count()"
   ]
  },
  {
   "cell_type": "markdown",
   "metadata": {},
   "source": [
    "Jobs with high salary are mainy from higher management level, banking/finance industry, well-known MNC such as Google and CISCO. Hence, will keep in the dataset"
   ]
  },
  {
   "cell_type": "code",
   "execution_count": 39,
   "metadata": {},
   "outputs": [],
   "source": [
    "#create new feature for average salary\n",
    "job_df['Avg Salary'] = (job_df['sal_min'] + job_df['sal_max']) / 2"
   ]
  },
  {
   "cell_type": "code",
   "execution_count": 40,
   "metadata": {},
   "outputs": [
    {
     "data": {
      "text/plain": [
       "count      838.000000\n",
       "mean      6618.238663\n",
       "std       2950.465273\n",
       "min       2000.000000\n",
       "25%       4258.375000\n",
       "50%       6000.000000\n",
       "75%       8000.000000\n",
       "max      21750.000000\n",
       "Name: Avg Salary, dtype: float64"
      ]
     },
     "execution_count": 40,
     "metadata": {},
     "output_type": "execute_result"
    }
   ],
   "source": [
    "job_df['Avg Salary'].describe()"
   ]
  },
  {
   "cell_type": "code",
   "execution_count": 41,
   "metadata": {},
   "outputs": [
    {
     "data": {
      "text/plain": [
       "<matplotlib.axes._subplots.AxesSubplot at 0x1a1afde7b8>"
      ]
     },
     "execution_count": 41,
     "metadata": {},
     "output_type": "execute_result"
    },
    {
     "data": {
      "image/png": "[encoded data removed]",
      "text/plain": [
       "<Figure size 864x360 with 2 Axes>"
      ]
     },
     "metadata": {
      "image/png": {
       "height": 318,
       "width": 776
      },
      "needs_background": "light"
     },
     "output_type": "display_data"
    }
   ],
   "source": [
    "fig, ax =plt.subplots(nrows=1, ncols=2, figsize=(12,5))\n",
    "sns.boxplot(job_df['Avg Salary'], ax=ax[0])\n",
    "sns.distplot(job_df['Avg Salary'],bins=15, ax=ax[1])"
   ]
  },
  {
   "cell_type": "markdown",
   "metadata": {},
   "source": [
    "Average monthly salary column was created for labeling purpose for next step. The mean value at $6600 for the average salary and median at 6000, which in Singapore is consider as high pay.\n",
    "Next label was created for high and low salary according to median salary."
   ]
  },
  {
   "cell_type": "code",
   "execution_count": 42,
   "metadata": {},
   "outputs": [
    {
     "data": {
      "text/plain": [
       "1    450\n",
       "0    388\n",
       "Name: sal_high, dtype: int64"
      ]
     },
     "execution_count": 42,
     "metadata": {},
     "output_type": "execute_result"
    }
   ],
   "source": [
    "#Labeled 1 for salary above median (high) and 0 for salary below median (low)\n",
    "job_df[\"sal_high\"] = job_df['Avg Salary'].map(lambda x: 1 if x >= np.median(job_df['Avg Salary']) else 0)\n",
    "job_df[\"sal_high\"].value_counts()"
   ]
  },
  {
   "cell_type": "code",
   "execution_count": 43,
   "metadata": {},
   "outputs": [
    {
     "data": {
      "text/plain": [
       "0.5369928400954654"
      ]
     },
     "execution_count": 43,
     "metadata": {},
     "output_type": "execute_result"
    }
   ],
   "source": [
    "#baseline model at 53% due to salary cut-off at median\n",
    "baseline = np.mean(job_df[\"sal_high\"])\n",
    "baseline"
   ]
  },
  {
   "cell_type": "code",
   "execution_count": 44,
   "metadata": {},
   "outputs": [],
   "source": [
    "job_df = job_df.reset_index(drop=True)"
   ]
  },
  {
   "cell_type": "code",
   "execution_count": 45,
   "metadata": {},
   "outputs": [
    {
     "data": {
      "text/html": [
       "<div>\n",
       "<style scoped>\n",
       "    .dataframe tbody tr th:only-of-type {\n",
       "        vertical-align: middle;\n",
       "    }\n",
       "\n",
       "    .dataframe tbody tr th {\n",
       "        vertical-align: top;\n",
       "    }\n",
       "\n",
       "    .dataframe thead th {\n",
       "        text-align: right;\n",
       "    }\n",
       "</style>\n",
       "<table border=\"1\" class=\"dataframe\">\n",
       "  <thead>\n",
       "    <tr style=\"text-align: right;\">\n",
       "      <th></th>\n",
       "      <th>Job_Title</th>\n",
       "      <th>Company</th>\n",
       "      <th>Seniority</th>\n",
       "      <th>Category</th>\n",
       "      <th>Requirements</th>\n",
       "      <th>sal_min</th>\n",
       "      <th>sal_max</th>\n",
       "      <th>Avg Salary</th>\n",
       "      <th>sal_high</th>\n",
       "    </tr>\n",
       "  </thead>\n",
       "  <tbody>\n",
       "    <tr>\n",
       "      <th>54</th>\n",
       "      <td>Senior / Reporting Analyst</td>\n",
       "      <td>SIVANTOS PTE. LTD.</td>\n",
       "      <td>Executive, Junior Executive, Senior Executive</td>\n",
       "      <td>Logistics / Supply Chain</td>\n",
       "      <td>The successful candidate will be an individual...</td>\n",
       "      <td>3500.0</td>\n",
       "      <td>5500.0</td>\n",
       "      <td>4500.0</td>\n",
       "      <td>0</td>\n",
       "    </tr>\n",
       "    <tr>\n",
       "      <th>63</th>\n",
       "      <td>Data Migration Lead</td>\n",
       "      <td>Company Undisclosed</td>\n",
       "      <td>Manager, Professional, Senior Executive</td>\n",
       "      <td>Information Technology</td>\n",
       "      <td>\"The Successful Applicant  Must have relevant ...</td>\n",
       "      <td>7000.0</td>\n",
       "      <td>10000.0</td>\n",
       "      <td>8500.0</td>\n",
       "      <td>1</td>\n",
       "    </tr>\n",
       "    <tr>\n",
       "      <th>70</th>\n",
       "      <td>Data Engineer</td>\n",
       "      <td>FRIARTUCK PTE LTD</td>\n",
       "      <td>Professional, Executive, Senior Executive</td>\n",
       "      <td>Consulting , Information Technology</td>\n",
       "      <td>\"Responsibilities  Build the infrastructure an...</td>\n",
       "      <td>6000.0</td>\n",
       "      <td>8000.0</td>\n",
       "      <td>7000.0</td>\n",
       "      <td>1</td>\n",
       "    </tr>\n",
       "    <tr>\n",
       "      <th>84</th>\n",
       "      <td>Analyst</td>\n",
       "      <td>AON HEWITT SINGAPORE PTE. LTD.</td>\n",
       "      <td>Executive, Junior Executive, Senior Executive</td>\n",
       "      <td>Consulting</td>\n",
       "      <td>Bachelor’s Degree in Business Administration,...</td>\n",
       "      <td>3000.0</td>\n",
       "      <td>4000.0</td>\n",
       "      <td>3500.0</td>\n",
       "      <td>0</td>\n",
       "    </tr>\n",
       "    <tr>\n",
       "      <th>139</th>\n",
       "      <td>Project Analyst</td>\n",
       "      <td>INDEPENDENT PROJECT ANALYSIS PRIVATE LIMITED</td>\n",
       "      <td>Manager, Professional, Senior Executive</td>\n",
       "      <td>Consulting , Professional Services</td>\n",
       "      <td>*Strong quantitative analytical skill/ Underst...</td>\n",
       "      <td>6000.0</td>\n",
       "      <td>10000.0</td>\n",
       "      <td>8000.0</td>\n",
       "      <td>1</td>\n",
       "    </tr>\n",
       "  </tbody>\n",
       "</table>\n",
       "</div>"
      ],
      "text/plain": [
       "                      Job_Title                                       Company  \\\n",
       "54   Senior / Reporting Analyst                            SIVANTOS PTE. LTD.   \n",
       "63          Data Migration Lead                           Company Undisclosed   \n",
       "70                Data Engineer                             FRIARTUCK PTE LTD   \n",
       "84                      Analyst                AON HEWITT SINGAPORE PTE. LTD.   \n",
       "139             Project Analyst  INDEPENDENT PROJECT ANALYSIS PRIVATE LIMITED   \n",
       "\n",
       "                                         Seniority  \\\n",
       "54   Executive, Junior Executive, Senior Executive   \n",
       "63         Manager, Professional, Senior Executive   \n",
       "70       Professional, Executive, Senior Executive   \n",
       "84   Executive, Junior Executive, Senior Executive   \n",
       "139        Manager, Professional, Senior Executive   \n",
       "\n",
       "                                Category  \\\n",
       "54              Logistics / Supply Chain   \n",
       "63                Information Technology   \n",
       "70   Consulting , Information Technology   \n",
       "84                           Consulting    \n",
       "139   Consulting , Professional Services   \n",
       "\n",
       "                                          Requirements  sal_min  sal_max  \\\n",
       "54   The successful candidate will be an individual...   3500.0   5500.0   \n",
       "63   \"The Successful Applicant  Must have relevant ...   7000.0  10000.0   \n",
       "70   \"Responsibilities  Build the infrastructure an...   6000.0   8000.0   \n",
       "84    Bachelor’s Degree in Business Administration,...   3000.0   4000.0   \n",
       "139  *Strong quantitative analytical skill/ Underst...   6000.0  10000.0   \n",
       "\n",
       "     Avg Salary  sal_high  \n",
       "54       4500.0         0  \n",
       "63       8500.0         1  \n",
       "70       7000.0         1  \n",
       "84       3500.0         0  \n",
       "139      8000.0         1  "
      ]
     },
     "execution_count": 45,
     "metadata": {},
     "output_type": "execute_result"
    }
   ],
   "source": [
    "#check seniority with multiple rank\n",
    "job_df[job_df['Seniority'].str.count(',')>=2].head()"
   ]
  },
  {
   "cell_type": "code",
   "execution_count": 46,
   "metadata": {},
   "outputs": [],
   "source": [
    "job_df['Seniority'] = job_df['Seniority'].str.split(', ')"
   ]
  },
  {
   "cell_type": "code",
   "execution_count": 47,
   "metadata": {},
   "outputs": [],
   "source": [
    "#for job more with multiple seniority, only one will be taken as reference after the split\n",
    "job_df['Seniority'] = job_df['Seniority'].map(lambda x: x[0] if len(x)>2 else (x[1] if len(x)>1 else x[0]))"
   ]
  },
  {
   "cell_type": "code",
   "execution_count": 48,
   "metadata": {},
   "outputs": [
    {
     "data": {
      "text/plain": [
       "Professional         233\n",
       "Executive            198\n",
       "Senior Executive     109\n",
       "Non-executive         79\n",
       "Manager               60\n",
       "Junior Executive      54\n",
       "Fresh/entry level     41\n",
       "Middle Management     38\n",
       "Senior Management     26\n",
       "Name: Seniority, dtype: int64"
      ]
     },
     "execution_count": 48,
     "metadata": {},
     "output_type": "execute_result"
    }
   ],
   "source": [
    "job_df['Seniority'].value_counts()"
   ]
  },
  {
   "cell_type": "code",
   "execution_count": 49,
   "metadata": {},
   "outputs": [
    {
     "data": {
      "image/png": "[encoded data removed]",
      "text/plain": [
       "<Figure size 1080x360 with 1 Axes>"
      ]
     },
     "metadata": {
      "image/png": {
       "height": 424,
       "width": 1074
      },
      "needs_background": "light"
     },
     "output_type": "display_data"
    }
   ],
   "source": [
    "senior_order = ('Senior Management', 'Middle Management', 'Manager','Senior Executive',\n",
    "                'Professional','Executive', 'Junior Executive','Non-executive','Fresh/entry level')\n",
    "\n",
    "sns.catplot(x='Seniority', y='sal_high',data=job_df, kind='bar', aspect=3, \n",
    "               order=senior_order).set_xticklabels(rotation=55, horizontalalignment='right')\n",
    "plt.show();"
   ]
  },
  {
   "cell_type": "markdown",
   "metadata": {},
   "source": [
    "From the plot, seniority can be a good predictor for high and low salary. Junior executive can be considered as fresh/entry level too for most of the companies. Non-executive was slightly above both Junior role and entry level due to job without executive level was mostly likely to classify as non-executive."
   ]
  },
  {
   "cell_type": "code",
   "execution_count": 50,
   "metadata": {},
   "outputs": [
    {
     "data": {
      "text/html": [
       "<div>\n",
       "<style scoped>\n",
       "    .dataframe tbody tr th:only-of-type {\n",
       "        vertical-align: middle;\n",
       "    }\n",
       "\n",
       "    .dataframe tbody tr th {\n",
       "        vertical-align: top;\n",
       "    }\n",
       "\n",
       "    .dataframe thead th {\n",
       "        text-align: right;\n",
       "    }\n",
       "</style>\n",
       "<table border=\"1\" class=\"dataframe\">\n",
       "  <thead>\n",
       "    <tr style=\"text-align: right;\">\n",
       "      <th></th>\n",
       "      <th>Executive</th>\n",
       "      <th>Fresh/entry level</th>\n",
       "      <th>Junior Executive</th>\n",
       "      <th>Manager</th>\n",
       "      <th>Middle Management</th>\n",
       "      <th>Non-executive</th>\n",
       "      <th>Professional</th>\n",
       "      <th>Senior Executive</th>\n",
       "      <th>Senior Management</th>\n",
       "    </tr>\n",
       "  </thead>\n",
       "  <tbody>\n",
       "    <tr>\n",
       "      <th>0</th>\n",
       "      <td>1</td>\n",
       "      <td>0</td>\n",
       "      <td>0</td>\n",
       "      <td>0</td>\n",
       "      <td>0</td>\n",
       "      <td>0</td>\n",
       "      <td>0</td>\n",
       "      <td>0</td>\n",
       "      <td>0</td>\n",
       "    </tr>\n",
       "    <tr>\n",
       "      <th>1</th>\n",
       "      <td>0</td>\n",
       "      <td>0</td>\n",
       "      <td>0</td>\n",
       "      <td>1</td>\n",
       "      <td>0</td>\n",
       "      <td>0</td>\n",
       "      <td>0</td>\n",
       "      <td>0</td>\n",
       "      <td>0</td>\n",
       "    </tr>\n",
       "    <tr>\n",
       "      <th>2</th>\n",
       "      <td>0</td>\n",
       "      <td>0</td>\n",
       "      <td>0</td>\n",
       "      <td>0</td>\n",
       "      <td>1</td>\n",
       "      <td>0</td>\n",
       "      <td>0</td>\n",
       "      <td>0</td>\n",
       "      <td>0</td>\n",
       "    </tr>\n",
       "    <tr>\n",
       "      <th>3</th>\n",
       "      <td>0</td>\n",
       "      <td>0</td>\n",
       "      <td>0</td>\n",
       "      <td>0</td>\n",
       "      <td>0</td>\n",
       "      <td>0</td>\n",
       "      <td>0</td>\n",
       "      <td>1</td>\n",
       "      <td>0</td>\n",
       "    </tr>\n",
       "    <tr>\n",
       "      <th>4</th>\n",
       "      <td>0</td>\n",
       "      <td>0</td>\n",
       "      <td>0</td>\n",
       "      <td>0</td>\n",
       "      <td>0</td>\n",
       "      <td>0</td>\n",
       "      <td>1</td>\n",
       "      <td>0</td>\n",
       "      <td>0</td>\n",
       "    </tr>\n",
       "  </tbody>\n",
       "</table>\n",
       "</div>"
      ],
      "text/plain": [
       "   Executive  Fresh/entry level  Junior Executive  Manager  Middle Management  \\\n",
       "0          1                  0                 0        0                  0   \n",
       "1          0                  0                 0        1                  0   \n",
       "2          0                  0                 0        0                  1   \n",
       "3          0                  0                 0        0                  0   \n",
       "4          0                  0                 0        0                  0   \n",
       "\n",
       "   Non-executive  Professional  Senior Executive  Senior Management  \n",
       "0              0             0                 0                  0  \n",
       "1              0             0                 0                  0  \n",
       "2              0             0                 0                  0  \n",
       "3              0             0                 1                  0  \n",
       "4              0             1                 0                  0  "
      ]
     },
     "execution_count": 50,
     "metadata": {},
     "output_type": "execute_result"
    }
   ],
   "source": [
    "#Dummified Seniority columns to use as predictor features\n",
    "seniority_cat=job_df['Seniority'].str.get_dummies()\n",
    "seniority_cat.head()"
   ]
  },
  {
   "cell_type": "code",
   "execution_count": 51,
   "metadata": {},
   "outputs": [],
   "source": [
    "job_df = pd.concat([job_df, seniority_cat], axis=1)"
   ]
  },
  {
   "cell_type": "markdown",
   "metadata": {},
   "source": [
    "# QUESTION 1: Factors that impact salary"
   ]
  },
  {
   "cell_type": "code",
   "execution_count": 52,
   "metadata": {},
   "outputs": [],
   "source": [
    "from sklearn.feature_extraction.text import CountVectorizer, TfidfVectorizer\n",
    "from sklearn.feature_extraction import stop_words\n",
    "from nltk.corpus import stopwords"
   ]
  },
  {
   "cell_type": "code",
   "execution_count": 53,
   "metadata": {},
   "outputs": [],
   "source": [
    "#stop words were added to filter some generic recurring business terms.\n",
    "stop = stopwords.words('english')\n",
    "stop += ['regret','shortlisted', 'candidates','notified','etc', 'take', 'hands']"
   ]
  },
  {
   "cell_type": "code",
   "execution_count": 54,
   "metadata": {},
   "outputs": [],
   "source": [
    "def freq_words(word_count, features):\n",
    "\n",
    "    num_word = np.asarray(word_count.sum(axis=0)).reshape(-1)\n",
    "    most_count = num_word.argsort()[::-1]\n",
    "    key_word = pd.Series(num_word[most_count], \n",
    "                           index=features[most_count])\n",
    "\n",
    "    return key_word"
   ]
  },
  {
   "cell_type": "code",
   "execution_count": 55,
   "metadata": {},
   "outputs": [
    {
     "data": {
      "text/plain": [
       "data             1637\n",
       "skills           1268\n",
       "knowledge         719\n",
       "ability           692\n",
       "strong            681\n",
       "years             593\n",
       "work              567\n",
       "business          522\n",
       "management        511\n",
       "working           496\n",
       "good              486\n",
       "degree            477\n",
       "science           442\n",
       "computer          422\n",
       "communication     417\n",
       "team              410\n",
       "excellent         364\n",
       "sql               328\n",
       "related           318\n",
       "learning          317\n",
       "dtype: int64"
      ]
     },
     "execution_count": 55,
     "metadata": {},
     "output_type": "execute_result"
    }
   ],
   "source": [
    "#most common words for requirements\n",
    "cvt      =  CountVectorizer(lowercase=True, strip_accents='unicode',\n",
    "                       max_features=1500, min_df=5, max_df=0.7,\n",
    "                       stop_words=stop, ngram_range=(1,2))\n",
    "vect_word    =  cvt.fit_transform(job_df['Requirements'])\n",
    "features  =  np.array(cvt.get_feature_names()) \n",
    "\n",
    "key_word = freq_words(vect_word, features)\n",
    "key_word[:20]"
   ]
  },
  {
   "cell_type": "markdown",
   "metadata": {},
   "source": [
    "Checking keyword with countvetorizer with number of features set to 1500, minimun appearance of 5 times from different row and maximum apperance of not more than 70% in the overall dataset. Common word for data related job such as data, skills, knowledge, ability still can be observed after the setting the parameters."
   ]
  },
  {
   "cell_type": "code",
   "execution_count": 56,
   "metadata": {},
   "outputs": [
    {
     "data": {
      "text/plain": [
       "computer science        291\n",
       "communication skills    267\n",
       "years experience        224\n",
       "machine learning        201\n",
       "problem solving         168\n",
       "ability work            157\n",
       "big data                149\n",
       "experience working      143\n",
       "skills ability          142\n",
       "team player             130\n",
       "dtype: int64"
      ]
     },
     "execution_count": 56,
     "metadata": {},
     "output_type": "execute_result"
    }
   ],
   "source": [
    "#most common ngrams for requirements\n",
    "cvt = CountVectorizer(lowercase=True, strip_accents='unicode',\n",
    "                       max_features=1500, min_df=5, max_df=0.7,\n",
    "                       stop_words=stop, ngram_range=(2,2))\n",
    "vect_word = cvt.fit_transform(job_df['Requirements'])\n",
    "features  =  np.array(cvt.get_feature_names())\n",
    "\n",
    "key_word = freq_words(vect_word, features)\n",
    "key_word[:10]"
   ]
  },
  {
   "cell_type": "markdown",
   "metadata": {},
   "source": [
    "Limit ngram to 2, data science related keywords can be observed such as machine learning, big data and computer science"
   ]
  },
  {
   "cell_type": "code",
   "execution_count": 57,
   "metadata": {},
   "outputs": [
    {
     "data": {
      "text/plain": [
       "communication skills    25.591916\n",
       "computer science        25.538059\n",
       "years experience        22.934461\n",
       "machine learning        21.423508\n",
       "least years             17.625518\n",
       "problem solving         17.451751\n",
       "ability work            17.350427\n",
       "experience working      16.833215\n",
       "team player             16.443906\n",
       "big data                15.745155\n",
       "dtype: float64"
      ]
     },
     "execution_count": 57,
     "metadata": {},
     "output_type": "execute_result"
    }
   ],
   "source": [
    "tfid = TfidfVectorizer(lowercase=True, strip_accents='unicode',\n",
    "                       max_features=1500, min_df=5, max_df=0.7,\n",
    "                       stop_words=stop, ngram_range=(2,2))\n",
    "tfid_word = tfid.fit_transform(job_df['Requirements'])\n",
    "features  =  np.array(tfid.get_feature_names())\n",
    "\n",
    "key_word = freq_words(tfid_word, features)\n",
    "key_word[:10]"
   ]
  },
  {
   "cell_type": "markdown",
   "metadata": {},
   "source": [
    "Tried with TFID vectorizer on ngam=2 but result shows no siginifiant different from Count vectorizer, hence for the modeling will just stick with Count Vectorizer"
   ]
  },
  {
   "cell_type": "code",
   "execution_count": 58,
   "metadata": {},
   "outputs": [
    {
     "data": {
      "text/plain": [
       "CountVectorizer(analyzer='word', binary=False, decode_error='strict',\n",
       "        dtype=<class 'numpy.int64'>, encoding='utf-8', input='content',\n",
       "        lowercase=True, max_df=0.7, max_features=1500, min_df=5,\n",
       "        ngram_range=(1, 2), preprocessor=None,\n",
       "        stop_words=['i', 'me', 'my', 'myself', 'we', 'our', 'ours', 'ourselves', 'you', \"you're\", \"you've\", \"you'll\", \"you'd\", 'your', 'yours', 'yourself', 'yourselves', 'he', 'him', 'his', 'himself', 'she', \"she's\", 'her', 'hers', 'herself', 'it', \"it's\", 'its', 'itself', 'they', 'them', 'their', 'theirs',...t\", 'wouldn', \"wouldn't\", 'regret', 'shortlisted', 'candidates', 'notified', 'etc', 'take', 'hands'],\n",
       "        strip_accents='unicode', token_pattern='(?u)\\\\b\\\\w\\\\w+\\\\b',\n",
       "        tokenizer=None, vocabulary=None)"
      ]
     },
     "execution_count": 58,
     "metadata": {},
     "output_type": "execute_result"
    }
   ],
   "source": [
    "#CountVectorizer job requirements columns\n",
    "cvec = CountVectorizer(lowercase=True, strip_accents='unicode',\n",
    "                       max_features=1500, min_df=5, max_df=0.7, \n",
    "                       stop_words=stop,ngram_range=(1,2))\n",
    "cvec.fit(job_df['Requirements'])"
   ]
  },
  {
   "cell_type": "code",
   "execution_count": 59,
   "metadata": {},
   "outputs": [
    {
     "data": {
      "text/plain": [
       "(838, 1511)"
      ]
     },
     "execution_count": 59,
     "metadata": {},
     "output_type": "execute_result"
    }
   ],
   "source": [
    "#creating predictor and target dataset\n",
    "model_data = job_df.drop(columns=['Job_Title','Company','Seniority','Category','sal_min','sal_max','Avg Salary'])\n",
    "\n",
    "nlp = pd.DataFrame(cvec.transform(model_data['Requirements']).todense(),columns=cvec.get_feature_names())\n",
    "\n",
    "senior_nlp = pd.concat([model_data, nlp], axis=1)\n",
    "senior_nlp.shape"
   ]
  },
  {
   "cell_type": "code",
   "execution_count": 60,
   "metadata": {},
   "outputs": [],
   "source": [
    "X = senior_nlp.drop(columns=['sal_high','Requirements'])\n",
    "X_nlp = nlp\n",
    "y = senior_nlp['sal_high'].values"
   ]
  },
  {
   "cell_type": "code",
   "execution_count": 61,
   "metadata": {},
   "outputs": [],
   "source": [
    "#Data with dummified 'seniority' and countvectorized 'requirements'\n",
    "X_train, X_test, y_train, y_test = train_test_split(X, y, test_size=0.2, random_state=42)"
   ]
  },
  {
   "cell_type": "code",
   "execution_count": 62,
   "metadata": {},
   "outputs": [],
   "source": [
    "#Data with countvectorized 'requirements' only\n",
    "X_train_nlp, X_test_nlp, y_train_nlp, y_test_nlp = train_test_split(X_nlp, y, test_size=0.2, random_state=42)"
   ]
  },
  {
   "cell_type": "markdown",
   "metadata": {},
   "source": [
    "### Choosing the best model (Logistic, AdaBoost or RandomForest)"
   ]
  },
  {
   "cell_type": "code",
   "execution_count": 63,
   "metadata": {},
   "outputs": [
    {
     "name": "stdout",
     "output_type": "stream",
     "text": [
      "CV score on NLP+Seniority dummy data: 0.787587582444087\n",
      "CV score on NLP data: 0.7702642477725774\n"
     ]
    }
   ],
   "source": [
    "#Logistic regression model\n",
    "from sklearn.linear_model import LogisticRegression\n",
    "lr = LogisticRegression()\n",
    "lr.fit(X_train, y_train)\n",
    "print('CV score on NLP+Seniority dummy data:', np.mean(cross_val_score(lr, X_train, y_train, cv=5, scoring='roc_auc')))\n",
    "print('CV score on NLP data:', np.mean(cross_val_score(lr, X_train_nlp, y_train_nlp, cv=5, scoring='roc_auc')))"
   ]
  },
  {
   "cell_type": "code",
   "execution_count": 64,
   "metadata": {},
   "outputs": [
    {
     "name": "stdout",
     "output_type": "stream",
     "text": [
      "CV score on NLP+Seniority dummy data: 0.7909851482451058\n",
      "CV score on NLP data: 0.7431006288627824\n"
     ]
    }
   ],
   "source": [
    "#Adaboost model\n",
    "from sklearn.ensemble import AdaBoostClassifier\n",
    "Ada = AdaBoostClassifier(random_state=42)\n",
    "Ada.fit(X_train, y_train)\n",
    "print('CV score on NLP+Seniority dummy data:', np.mean(cross_val_score(Ada, X_train, y_train, cv=5, scoring='roc_auc')))\n",
    "print('CV score on NLP data:', np.mean(cross_val_score(Ada, X_train_nlp, y_train_nlp, cv=5, scoring='roc_auc')))"
   ]
  },
  {
   "cell_type": "code",
   "execution_count": 65,
   "metadata": {},
   "outputs": [
    {
     "name": "stdout",
     "output_type": "stream",
     "text": [
      "CV score on NLP+Seniority dummy data: 0.7550960882779754\n",
      "CV score on NLP data: 0.7523778773797705\n"
     ]
    }
   ],
   "source": [
    "#RandomForest model\n",
    "from sklearn.ensemble import RandomForestClassifier\n",
    "rfc=RandomForestClassifier(random_state=42)\n",
    "rfc.fit(X_train,y_train)\n",
    "print('CV score on NLP+Seniority dummy data:', np.mean(cross_val_score(rfc, X_train, y_train, cv=5, scoring='roc_auc')))\n",
    "print('CV score on NLP data:', np.mean(cross_val_score(rfc, X_train_nlp, y_train_nlp, cv=5, scoring='roc_auc')))"
   ]
  },
  {
   "cell_type": "markdown",
   "metadata": {},
   "source": [
    "Data consists of dummified seniority plus CountVectorized requirements provide better cross val score across all models. Logistic regression model performed better in cross val score compare to ensemble models (AdaBoost and RandomForest)."
   ]
  },
  {
   "cell_type": "markdown",
   "metadata": {},
   "source": [
    "### Logistic regression model with hyperparameter tune and classfication report"
   ]
  },
  {
   "cell_type": "code",
   "execution_count": 66,
   "metadata": {},
   "outputs": [
    {
     "name": "stdout",
     "output_type": "stream",
     "text": [
      "CV score on train data: 0.7960960806655947\n",
      "CV score on test data: 0.7702534113060429\n"
     ]
    }
   ],
   "source": [
    "#hyperparameter tune for logistic regression\n",
    "lr_params = {'penalty': ['l1','l2'], 'C': [0.001,0.01,0.1,1,10,100,1000]}\n",
    "gs_lr = GridSearchCV(lr, param_grid=lr_params, cv=5, scoring='roc_auc', n_jobs=-1)\n",
    "gs_lr.fit(X_train,y_train)\n",
    "\n",
    "lr_c2=gs_lr.best_estimator_\n",
    "lr_c2.fit(X_train,y_train)\n",
    "\n",
    "print('CV score on train data:', np.mean(cross_val_score(lr_c2, X_train, y_train, cv=5, scoring='roc_auc')))\n",
    "print('CV score on test data:', np.mean(cross_val_score(lr_c2, X_test, y_test, cv=5, scoring='roc_auc')))"
   ]
  },
  {
   "cell_type": "code",
   "execution_count": 67,
   "metadata": {},
   "outputs": [
    {
     "data": {
      "text/html": [
       "<div>\n",
       "<style scoped>\n",
       "    .dataframe tbody tr th:only-of-type {\n",
       "        vertical-align: middle;\n",
       "    }\n",
       "\n",
       "    .dataframe tbody tr th {\n",
       "        vertical-align: top;\n",
       "    }\n",
       "\n",
       "    .dataframe thead th {\n",
       "        text-align: right;\n",
       "    }\n",
       "</style>\n",
       "<table border=\"1\" class=\"dataframe\">\n",
       "  <thead>\n",
       "    <tr style=\"text-align: right;\">\n",
       "      <th></th>\n",
       "      <th>Predicted Low Salary</th>\n",
       "      <th>Predicted High Salary</th>\n",
       "    </tr>\n",
       "  </thead>\n",
       "  <tbody>\n",
       "    <tr>\n",
       "      <th>Actual Low Salary</th>\n",
       "      <td>52</td>\n",
       "      <td>23</td>\n",
       "    </tr>\n",
       "    <tr>\n",
       "      <th>Actual High Salary</th>\n",
       "      <td>24</td>\n",
       "      <td>69</td>\n",
       "    </tr>\n",
       "  </tbody>\n",
       "</table>\n",
       "</div>"
      ],
      "text/plain": [
       "                    Predicted Low Salary  Predicted High Salary\n",
       "Actual Low Salary                     52                     23\n",
       "Actual High Salary                    24                     69"
      ]
     },
     "execution_count": 67,
     "metadata": {},
     "output_type": "execute_result"
    }
   ],
   "source": [
    "pd.DataFrame(confusion_matrix(y_test,lr_c2.predict(X_test)),\n",
    "             index=['Actual Low Salary','Actual High Salary'],\n",
    "             columns=['Predicted Low Salary','Predicted High Salary'])"
   ]
  },
  {
   "cell_type": "code",
   "execution_count": 68,
   "metadata": {},
   "outputs": [
    {
     "name": "stdout",
     "output_type": "stream",
     "text": [
      "              precision    recall  f1-score   support\n",
      "\n",
      "  Low Salary       0.68      0.69      0.69        75\n",
      " High Salary       0.75      0.74      0.75        93\n",
      "\n",
      "   micro avg       0.72      0.72      0.72       168\n",
      "   macro avg       0.72      0.72      0.72       168\n",
      "weighted avg       0.72      0.72      0.72       168\n",
      "\n"
     ]
    }
   ],
   "source": [
    "print(classification_report(y_test,lr_c2.predict(X_test),target_names=[\"Low Salary\", \"High Salary\"]))"
   ]
  },
  {
   "cell_type": "markdown",
   "metadata": {},
   "source": [
    "Both class under train/test data are balance, so AUC score was chosen as valuation parameter. In overall the model is able to predict better than the baseline.\n",
    "Recall for low salary indicates 23 out of 75 low salary jobs are predicted as high salary which is the major concern for bonus question. This will be handled in the next part."
   ]
  },
  {
   "cell_type": "code",
   "execution_count": 69,
   "metadata": {},
   "outputs": [
    {
     "data": {
      "text/html": [
       "<div>\n",
       "<style scoped>\n",
       "    .dataframe tbody tr th:only-of-type {\n",
       "        vertical-align: middle;\n",
       "    }\n",
       "\n",
       "    .dataframe tbody tr th {\n",
       "        vertical-align: top;\n",
       "    }\n",
       "\n",
       "    .dataframe thead th {\n",
       "        text-align: right;\n",
       "    }\n",
       "</style>\n",
       "<table border=\"1\" class=\"dataframe\">\n",
       "  <thead>\n",
       "    <tr style=\"text-align: right;\">\n",
       "      <th></th>\n",
       "      <th>coef</th>\n",
       "      <th>abs coef</th>\n",
       "    </tr>\n",
       "  </thead>\n",
       "  <tbody>\n",
       "    <tr>\n",
       "      <th>phd</th>\n",
       "      <td>0.436951</td>\n",
       "      <td>0.436951</td>\n",
       "    </tr>\n",
       "    <tr>\n",
       "      <th>work experience</th>\n",
       "      <td>0.333218</td>\n",
       "      <td>0.333218</td>\n",
       "    </tr>\n",
       "    <tr>\n",
       "      <th>modeling</th>\n",
       "      <td>0.319042</td>\n",
       "      <td>0.319042</td>\n",
       "    </tr>\n",
       "    <tr>\n",
       "      <th>Manager</th>\n",
       "      <td>0.315336</td>\n",
       "      <td>0.315336</td>\n",
       "    </tr>\n",
       "    <tr>\n",
       "      <th>hadoop</th>\n",
       "      <td>0.312095</td>\n",
       "      <td>0.312095</td>\n",
       "    </tr>\n",
       "  </tbody>\n",
       "</table>\n",
       "</div>"
      ],
      "text/plain": [
       "                     coef  abs coef\n",
       "phd              0.436951  0.436951\n",
       "work experience  0.333218  0.333218\n",
       "modeling         0.319042  0.319042\n",
       "Manager          0.315336  0.315336\n",
       "hadoop           0.312095  0.312095"
      ]
     },
     "execution_count": 69,
     "metadata": {},
     "output_type": "execute_result"
    }
   ],
   "source": [
    "features = np.array(X_train.columns)\n",
    "lr_coefs = pd.DataFrame({'coef':lr_c2.coef_[0], 'abs coef':abs(lr_c2.coef_[0])},index=features)\n",
    "lr_coefs = lr_coefs.sort_values('coef',ascending=False)\n",
    "lr_coefs.head(5)"
   ]
  },
  {
   "cell_type": "code",
   "execution_count": 70,
   "metadata": {},
   "outputs": [
    {
     "data": {
      "text/html": [
       "<div>\n",
       "<style scoped>\n",
       "    .dataframe tbody tr th:only-of-type {\n",
       "        vertical-align: middle;\n",
       "    }\n",
       "\n",
       "    .dataframe tbody tr th {\n",
       "        vertical-align: top;\n",
       "    }\n",
       "\n",
       "    .dataframe thead th {\n",
       "        text-align: right;\n",
       "    }\n",
       "</style>\n",
       "<table border=\"1\" class=\"dataframe\">\n",
       "  <thead>\n",
       "    <tr style=\"text-align: right;\">\n",
       "      <th></th>\n",
       "      <th>coef</th>\n",
       "      <th>abs coef</th>\n",
       "    </tr>\n",
       "  </thead>\n",
       "  <tbody>\n",
       "    <tr>\n",
       "      <th>Non-executive</th>\n",
       "      <td>-0.373823</td>\n",
       "      <td>0.373823</td>\n",
       "    </tr>\n",
       "    <tr>\n",
       "      <th>sciences</th>\n",
       "      <td>-0.382525</td>\n",
       "      <td>0.382525</td>\n",
       "    </tr>\n",
       "    <tr>\n",
       "      <th>Junior Executive</th>\n",
       "      <td>-0.388593</td>\n",
       "      <td>0.388593</td>\n",
       "    </tr>\n",
       "    <tr>\n",
       "      <th>Executive</th>\n",
       "      <td>-0.420766</td>\n",
       "      <td>0.420766</td>\n",
       "    </tr>\n",
       "    <tr>\n",
       "      <th>diploma</th>\n",
       "      <td>-0.432527</td>\n",
       "      <td>0.432527</td>\n",
       "    </tr>\n",
       "  </tbody>\n",
       "</table>\n",
       "</div>"
      ],
      "text/plain": [
       "                      coef  abs coef\n",
       "Non-executive    -0.373823  0.373823\n",
       "sciences         -0.382525  0.382525\n",
       "Junior Executive -0.388593  0.388593\n",
       "Executive        -0.420766  0.420766\n",
       "diploma          -0.432527  0.432527"
      ]
     },
     "execution_count": 70,
     "metadata": {},
     "output_type": "execute_result"
    }
   ],
   "source": [
    "lr_coefs.tail(5)"
   ]
  },
  {
   "cell_type": "markdown",
   "metadata": {},
   "source": [
    "Logisitic regression model is able to provide both positive and negative coefficient, which allow us to find out features that contribute to high salary and low salary as well.\n",
    "From the features, apart from seniority level, education level such as phD holder vs diploma, work experience and skill such as hadoop have a direct impact on the salary."
   ]
  },
  {
   "cell_type": "markdown",
   "metadata": {},
   "source": [
    "### Random Forest model with hyperparameter tune and classfication report"
   ]
  },
  {
   "cell_type": "code",
   "execution_count": 71,
   "metadata": {},
   "outputs": [
    {
     "name": "stdout",
     "output_type": "stream",
     "text": [
      "CV score on train data: 0.8166269320422735\n",
      "CV score on test data: 0.7375438596491228\n"
     ]
    }
   ],
   "source": [
    "rfc_params={\n",
    " 'max_depth': [10, 20, 30, 40, 50, 60, 70, 80, 90, 100, None],\n",
    " 'n_estimators': [50,100,150,200]}\n",
    "\n",
    "gs_rfc=GridSearchCV(rfc, rfc_params, cv=5, scoring='roc_auc', n_jobs=-1)\n",
    "gs_rfc.fit(X_train,y_train)\n",
    "\n",
    "rfc2=gs_rfc.best_estimator_\n",
    "rfc2.fit(X_train,y_train)\n",
    "\n",
    "print('CV score on train data:', np.mean(cross_val_score(rfc2, X_train, y_train, cv=5, scoring='roc_auc')))\n",
    "print('CV score on test data:', np.mean(cross_val_score(rfc2, X_test, y_test, cv=5, scoring='roc_auc')))"
   ]
  },
  {
   "cell_type": "code",
   "execution_count": 72,
   "metadata": {},
   "outputs": [
    {
     "data": {
      "text/html": [
       "<div>\n",
       "<style scoped>\n",
       "    .dataframe tbody tr th:only-of-type {\n",
       "        vertical-align: middle;\n",
       "    }\n",
       "\n",
       "    .dataframe tbody tr th {\n",
       "        vertical-align: top;\n",
       "    }\n",
       "\n",
       "    .dataframe thead th {\n",
       "        text-align: right;\n",
       "    }\n",
       "</style>\n",
       "<table border=\"1\" class=\"dataframe\">\n",
       "  <thead>\n",
       "    <tr style=\"text-align: right;\">\n",
       "      <th></th>\n",
       "      <th>Predicted Low Salary</th>\n",
       "      <th>Predicted High Salary</th>\n",
       "    </tr>\n",
       "  </thead>\n",
       "  <tbody>\n",
       "    <tr>\n",
       "      <th>Actual Low Salary</th>\n",
       "      <td>54</td>\n",
       "      <td>21</td>\n",
       "    </tr>\n",
       "    <tr>\n",
       "      <th>Actual High Salary</th>\n",
       "      <td>20</td>\n",
       "      <td>73</td>\n",
       "    </tr>\n",
       "  </tbody>\n",
       "</table>\n",
       "</div>"
      ],
      "text/plain": [
       "                    Predicted Low Salary  Predicted High Salary\n",
       "Actual Low Salary                     54                     21\n",
       "Actual High Salary                    20                     73"
      ]
     },
     "execution_count": 72,
     "metadata": {},
     "output_type": "execute_result"
    }
   ],
   "source": [
    "pd.DataFrame(confusion_matrix(y_test,rfc2.predict(X_test)),\n",
    "             index=['Actual Low Salary','Actual High Salary'],\n",
    "             columns=['Predicted Low Salary','Predicted High Salary'])"
   ]
  },
  {
   "cell_type": "code",
   "execution_count": 73,
   "metadata": {},
   "outputs": [
    {
     "name": "stdout",
     "output_type": "stream",
     "text": [
      "              precision    recall  f1-score   support\n",
      "\n",
      "  Low Salary       0.73      0.72      0.72        75\n",
      " High Salary       0.78      0.78      0.78        93\n",
      "\n",
      "   micro avg       0.76      0.76      0.76       168\n",
      "   macro avg       0.75      0.75      0.75       168\n",
      "weighted avg       0.76      0.76      0.76       168\n",
      "\n"
     ]
    }
   ],
   "source": [
    "print(classification_report(y_test,rfc2.predict(X_test),target_names=[\"Low Salary\", \"High Salary\"]))"
   ]
  },
  {
   "cell_type": "markdown",
   "metadata": {},
   "source": [
    "From the test data cross val score, random forest is slightly lower compare to logistic regression but higher precision and recall score"
   ]
  },
  {
   "cell_type": "code",
   "execution_count": 74,
   "metadata": {},
   "outputs": [
    {
     "data": {
      "text/html": [
       "<div>\n",
       "<style scoped>\n",
       "    .dataframe tbody tr th:only-of-type {\n",
       "        vertical-align: middle;\n",
       "    }\n",
       "\n",
       "    .dataframe tbody tr th {\n",
       "        vertical-align: top;\n",
       "    }\n",
       "\n",
       "    .dataframe thead th {\n",
       "        text-align: right;\n",
       "    }\n",
       "</style>\n",
       "<table border=\"1\" class=\"dataframe\">\n",
       "  <thead>\n",
       "    <tr style=\"text-align: right;\">\n",
       "      <th></th>\n",
       "      <th>coef</th>\n",
       "    </tr>\n",
       "  </thead>\n",
       "  <tbody>\n",
       "    <tr>\n",
       "      <th>diploma</th>\n",
       "      <td>0.015199</td>\n",
       "    </tr>\n",
       "    <tr>\n",
       "      <th>Executive</th>\n",
       "      <td>0.009360</td>\n",
       "    </tr>\n",
       "    <tr>\n",
       "      <th>hadoop</th>\n",
       "      <td>0.008942</td>\n",
       "    </tr>\n",
       "    <tr>\n",
       "      <th>modeling</th>\n",
       "      <td>0.008766</td>\n",
       "    </tr>\n",
       "    <tr>\n",
       "      <th>understanding</th>\n",
       "      <td>0.007481</td>\n",
       "    </tr>\n",
       "    <tr>\n",
       "      <th>across</th>\n",
       "      <td>0.007439</td>\n",
       "    </tr>\n",
       "    <tr>\n",
       "      <th>Senior Management</th>\n",
       "      <td>0.007384</td>\n",
       "    </tr>\n",
       "    <tr>\n",
       "      <th>Junior Executive</th>\n",
       "      <td>0.007347</td>\n",
       "    </tr>\n",
       "    <tr>\n",
       "      <th>Middle Management</th>\n",
       "      <td>0.007292</td>\n",
       "    </tr>\n",
       "    <tr>\n",
       "      <th>salary</th>\n",
       "      <td>0.006621</td>\n",
       "    </tr>\n",
       "  </tbody>\n",
       "</table>\n",
       "</div>"
      ],
      "text/plain": [
       "                       coef\n",
       "diploma            0.015199\n",
       "Executive          0.009360\n",
       "hadoop             0.008942\n",
       "modeling           0.008766\n",
       "understanding      0.007481\n",
       "across             0.007439\n",
       "Senior Management  0.007384\n",
       "Junior Executive   0.007347\n",
       "Middle Management  0.007292\n",
       "salary             0.006621"
      ]
     },
     "execution_count": 74,
     "metadata": {},
     "output_type": "execute_result"
    }
   ],
   "source": [
    "features = np.array(X_train.columns)\n",
    "rf_coefs = pd.DataFrame({'coef':rfc2.feature_importances_},index=features)\n",
    "rf_coefs.sort_values('coef',ascending = False).head(10)"
   ]
  },
  {
   "cell_type": "markdown",
   "metadata": {},
   "source": [
    "Random Forest model importance feature also indicates certain features which appeared in logisitic regression model such as diploma, hadoop, modeling and seniority level"
   ]
  },
  {
   "cell_type": "markdown",
   "metadata": {},
   "source": [
    "### AdaBoost model with hyperparameter tune and classfication report"
   ]
  },
  {
   "cell_type": "code",
   "execution_count": 75,
   "metadata": {},
   "outputs": [
    {
     "name": "stderr",
     "output_type": "stream",
     "text": [
      "/anaconda3/lib/python3.7/site-packages/sklearn/model_selection/_search.py:841: DeprecationWarning: The default of the `iid` parameter will change from True to False in version 0.22 and will be removed in 0.24. This will change numeric results when test-set sizes are unequal.\n",
      "  DeprecationWarning)\n"
     ]
    },
    {
     "name": "stdout",
     "output_type": "stream",
     "text": [
      "CV score on train data: 0.7983762891967495\n",
      "CV score on test data: 0.7232748538011696\n"
     ]
    }
   ],
   "source": [
    "ada_params = {'n_estimators' : [50,100,150,200,250,500],'learning_rate' : [.5,.75,1.0,1.25,1.5,1.75,2.0]}\n",
    "gs_ada = GridSearchCV(Ada, param_grid=ada_params, cv=5, scoring='roc_auc', n_jobs=-1)\n",
    "gs_ada.fit(X_train,y_train)\n",
    "\n",
    "ada_c2=gs_ada.best_estimator_\n",
    "ada_c2.fit(X_train,y_train)\n",
    "\n",
    "print('CV score on train data:', np.mean(cross_val_score(ada_c2, X_train, y_train, cv=5, scoring='roc_auc')))\n",
    "print('CV score on test data:', np.mean(cross_val_score(ada_c2, X_test, y_test, cv=5, scoring='roc_auc')))"
   ]
  },
  {
   "cell_type": "code",
   "execution_count": 76,
   "metadata": {},
   "outputs": [
    {
     "data": {
      "text/html": [
       "<div>\n",
       "<style scoped>\n",
       "    .dataframe tbody tr th:only-of-type {\n",
       "        vertical-align: middle;\n",
       "    }\n",
       "\n",
       "    .dataframe tbody tr th {\n",
       "        vertical-align: top;\n",
       "    }\n",
       "\n",
       "    .dataframe thead th {\n",
       "        text-align: right;\n",
       "    }\n",
       "</style>\n",
       "<table border=\"1\" class=\"dataframe\">\n",
       "  <thead>\n",
       "    <tr style=\"text-align: right;\">\n",
       "      <th></th>\n",
       "      <th>Predicted Low Salary</th>\n",
       "      <th>Predicted High Salary</th>\n",
       "    </tr>\n",
       "  </thead>\n",
       "  <tbody>\n",
       "    <tr>\n",
       "      <th>Actual Low Salary</th>\n",
       "      <td>58</td>\n",
       "      <td>17</td>\n",
       "    </tr>\n",
       "    <tr>\n",
       "      <th>Actual High Salary</th>\n",
       "      <td>22</td>\n",
       "      <td>71</td>\n",
       "    </tr>\n",
       "  </tbody>\n",
       "</table>\n",
       "</div>"
      ],
      "text/plain": [
       "                    Predicted Low Salary  Predicted High Salary\n",
       "Actual Low Salary                     58                     17\n",
       "Actual High Salary                    22                     71"
      ]
     },
     "execution_count": 76,
     "metadata": {},
     "output_type": "execute_result"
    }
   ],
   "source": [
    "pd.DataFrame(confusion_matrix(y_test,ada_c2.predict(X_test)),\n",
    "             index=['Actual Low Salary','Actual High Salary'],\n",
    "             columns=['Predicted Low Salary','Predicted High Salary'])"
   ]
  },
  {
   "cell_type": "code",
   "execution_count": 77,
   "metadata": {},
   "outputs": [
    {
     "name": "stdout",
     "output_type": "stream",
     "text": [
      "              precision    recall  f1-score   support\n",
      "\n",
      "  Low Salary       0.72      0.77      0.75        75\n",
      " High Salary       0.81      0.76      0.78        93\n",
      "\n",
      "   micro avg       0.77      0.77      0.77       168\n",
      "   macro avg       0.77      0.77      0.77       168\n",
      "weighted avg       0.77      0.77      0.77       168\n",
      "\n"
     ]
    }
   ],
   "source": [
    "print(classification_report(y_test,ada_c2.predict(X_test),target_names=[\"Low Salary\", \"High Salary\"]))"
   ]
  },
  {
   "cell_type": "markdown",
   "metadata": {},
   "source": [
    "Adaboost test data cross val score ranked second but with the highest precision and recall score among all"
   ]
  },
  {
   "cell_type": "code",
   "execution_count": 78,
   "metadata": {},
   "outputs": [
    {
     "data": {
      "text/html": [
       "<div>\n",
       "<style scoped>\n",
       "    .dataframe tbody tr th:only-of-type {\n",
       "        vertical-align: middle;\n",
       "    }\n",
       "\n",
       "    .dataframe tbody tr th {\n",
       "        vertical-align: top;\n",
       "    }\n",
       "\n",
       "    .dataframe thead th {\n",
       "        text-align: right;\n",
       "    }\n",
       "</style>\n",
       "<table border=\"1\" class=\"dataframe\">\n",
       "  <thead>\n",
       "    <tr style=\"text-align: right;\">\n",
       "      <th></th>\n",
       "      <th>coef</th>\n",
       "    </tr>\n",
       "  </thead>\n",
       "  <tbody>\n",
       "    <tr>\n",
       "      <th>Non-executive</th>\n",
       "      <td>0.020</td>\n",
       "    </tr>\n",
       "    <tr>\n",
       "      <th>Middle Management</th>\n",
       "      <td>0.018</td>\n",
       "    </tr>\n",
       "    <tr>\n",
       "      <th>Professional</th>\n",
       "      <td>0.016</td>\n",
       "    </tr>\n",
       "    <tr>\n",
       "      <th>phd</th>\n",
       "      <td>0.014</td>\n",
       "    </tr>\n",
       "    <tr>\n",
       "      <th>sciences</th>\n",
       "      <td>0.012</td>\n",
       "    </tr>\n",
       "    <tr>\n",
       "      <th>command</th>\n",
       "      <td>0.012</td>\n",
       "    </tr>\n",
       "    <tr>\n",
       "      <th>projects</th>\n",
       "      <td>0.012</td>\n",
       "    </tr>\n",
       "    <tr>\n",
       "      <th>minimum bachelor</th>\n",
       "      <td>0.010</td>\n",
       "    </tr>\n",
       "    <tr>\n",
       "      <th>integration</th>\n",
       "      <td>0.010</td>\n",
       "    </tr>\n",
       "    <tr>\n",
       "      <th>Fresh/entry level</th>\n",
       "      <td>0.010</td>\n",
       "    </tr>\n",
       "  </tbody>\n",
       "</table>\n",
       "</div>"
      ],
      "text/plain": [
       "                    coef\n",
       "Non-executive      0.020\n",
       "Middle Management  0.018\n",
       "Professional       0.016\n",
       "phd                0.014\n",
       "sciences           0.012\n",
       "command            0.012\n",
       "projects           0.012\n",
       "minimum bachelor   0.010\n",
       "integration        0.010\n",
       "Fresh/entry level  0.010"
      ]
     },
     "execution_count": 78,
     "metadata": {},
     "output_type": "execute_result"
    }
   ],
   "source": [
    "features = np.array(X_train.columns)\n",
    "ada_coefs = pd.DataFrame({'coef':ada_c2.feature_importances_},index=features)\n",
    "ada_coefs.sort_values('coef',ascending = False).head(10)"
   ]
  },
  {
   "cell_type": "markdown",
   "metadata": {},
   "source": [
    "With no suprise that seniority play a big part as predictor, phD is being captured by Adaboost as one of the top predictor which is the same as logisitic regression model"
   ]
  },
  {
   "cell_type": "code",
   "execution_count": 79,
   "metadata": {},
   "outputs": [
    {
     "data": {
      "image/png": "[encoded data removed]",
      "text/plain": [
       "<Figure size 432x288 with 1 Axes>"
      ]
     },
     "metadata": {
      "image/png": {
       "height": 279,
       "width": 430
      },
      "needs_background": "light"
     },
     "output_type": "display_data"
    }
   ],
   "source": [
    "#ROC curve and AUC score for all 3 models\n",
    "\n",
    "y_score_lr = lr_c2.predict_proba(X_test)[:,1]\n",
    "y_score_ada = ada_c2.predict_proba(X_test)[:,1]\n",
    "y_score_rf = rfc2.predict_proba(X_test)[:,1]\n",
    "\n",
    "FPR1, TPR1, THR1 = roc_curve(y_test,y_score_lr)\n",
    "FPR2, TPR2, THR2 = roc_curve(y_test,y_score_ada)\n",
    "FPR3, TPR3, THR3 = roc_curve(y_test,y_score_rf)\n",
    "ROC_AUC1=auc(FPR1,TPR1)\n",
    "ROC_AUC2=auc(FPR2,TPR2)\n",
    "ROC_AUC3=auc(FPR3,TPR3)\n",
    "\n",
    "plt.plot(FPR1, TPR1, label='Logistic Regression ROC curve (area = %0.3f)' % ROC_AUC1, linewidth=4)\n",
    "plt.plot(FPR2, TPR2, label='AdaBoost ROC curve (area = %0.3f)' % ROC_AUC2, linewidth=4)\n",
    "plt.plot(FPR3, TPR3, label='RandomForest ROC curve (area = %0.3f)' % ROC_AUC3, linewidth=4)\n",
    "\n",
    "plt.plot([0, 1], [0, 1], 'k--', linewidth=3)\n",
    "plt.xlim([-0.01, 1.0])\n",
    "plt.ylim([0.0, 1.05])\n",
    "plt.xlabel('False Positive Rate', fontsize=12)\n",
    "plt.ylabel('True Positive Rate', fontsize=12)\n",
    "plt.title('ROC curve for High Salary detection', fontsize=18)\n",
    "plt.legend(loc=\"lower right\")\n",
    "plt.show()"
   ]
  },
  {
   "cell_type": "markdown",
   "metadata": {},
   "source": [
    "Based on AUC score, logistic regression is the highest among 3 models but Adaboost model turn out to have higher precision and recall score which is better for prediction. Logistic regression on the other hand is able to provide positive and negative coeffient which is important to determine which features contribute to higher salary."
   ]
  },
  {
   "cell_type": "code",
   "execution_count": 80,
   "metadata": {},
   "outputs": [
    {
     "data": {
      "text/html": [
       "<div>\n",
       "<style scoped>\n",
       "    .dataframe tbody tr th:only-of-type {\n",
       "        vertical-align: middle;\n",
       "    }\n",
       "\n",
       "    .dataframe tbody tr th {\n",
       "        vertical-align: top;\n",
       "    }\n",
       "\n",
       "    .dataframe thead th {\n",
       "        text-align: right;\n",
       "    }\n",
       "</style>\n",
       "<table border=\"1\" class=\"dataframe\">\n",
       "  <thead>\n",
       "    <tr style=\"text-align: right;\">\n",
       "      <th></th>\n",
       "      <th>AdaBoost model</th>\n",
       "      <th>Logistic model</th>\n",
       "      <th>Random Forest</th>\n",
       "    </tr>\n",
       "  </thead>\n",
       "  <tbody>\n",
       "    <tr>\n",
       "      <th>0</th>\n",
       "      <td>Non-executive</td>\n",
       "      <td>phd</td>\n",
       "      <td>diploma</td>\n",
       "    </tr>\n",
       "    <tr>\n",
       "      <th>1</th>\n",
       "      <td>Middle Management</td>\n",
       "      <td>diploma</td>\n",
       "      <td>Executive</td>\n",
       "    </tr>\n",
       "    <tr>\n",
       "      <th>2</th>\n",
       "      <td>Professional</td>\n",
       "      <td>Executive</td>\n",
       "      <td>hadoop</td>\n",
       "    </tr>\n",
       "    <tr>\n",
       "      <th>3</th>\n",
       "      <td>phd</td>\n",
       "      <td>Junior Executive</td>\n",
       "      <td>modeling</td>\n",
       "    </tr>\n",
       "    <tr>\n",
       "      <th>4</th>\n",
       "      <td>sciences</td>\n",
       "      <td>sciences</td>\n",
       "      <td>understanding</td>\n",
       "    </tr>\n",
       "    <tr>\n",
       "      <th>5</th>\n",
       "      <td>command</td>\n",
       "      <td>Non-executive</td>\n",
       "      <td>across</td>\n",
       "    </tr>\n",
       "    <tr>\n",
       "      <th>6</th>\n",
       "      <td>projects</td>\n",
       "      <td>Fresh/entry level</td>\n",
       "      <td>Senior Management</td>\n",
       "    </tr>\n",
       "    <tr>\n",
       "      <th>7</th>\n",
       "      <td>minimum bachelor</td>\n",
       "      <td>statistical</td>\n",
       "      <td>Junior Executive</td>\n",
       "    </tr>\n",
       "    <tr>\n",
       "      <th>8</th>\n",
       "      <td>integration</td>\n",
       "      <td>engineering</td>\n",
       "      <td>Middle Management</td>\n",
       "    </tr>\n",
       "    <tr>\n",
       "      <th>9</th>\n",
       "      <td>Fresh/entry level</td>\n",
       "      <td>work experience</td>\n",
       "      <td>salary</td>\n",
       "    </tr>\n",
       "  </tbody>\n",
       "</table>\n",
       "</div>"
      ],
      "text/plain": [
       "      AdaBoost model     Logistic model      Random Forest\n",
       "0      Non-executive                phd            diploma\n",
       "1  Middle Management            diploma          Executive\n",
       "2       Professional          Executive             hadoop\n",
       "3                phd   Junior Executive           modeling\n",
       "4           sciences           sciences      understanding\n",
       "5            command      Non-executive             across\n",
       "6           projects  Fresh/entry level  Senior Management\n",
       "7   minimum bachelor        statistical   Junior Executive\n",
       "8        integration        engineering  Middle Management\n",
       "9  Fresh/entry level    work experience             salary"
      ]
     },
     "execution_count": 80,
     "metadata": {},
     "output_type": "execute_result"
    }
   ],
   "source": [
    "#Top 10 features from all 3 models\n",
    "Ada_feat = ada_coefs.sort_values('coef',ascending = False).head(10).index\n",
    "Logit_reg = lr_coefs.sort_values('abs coef',ascending=False).head(10).index\n",
    "rf_feat = rf_coefs.sort_values('coef',ascending = False).head(10).index\n",
    "\n",
    "sal_features = pd.DataFrame({'AdaBoost model':Ada_feat, 'Logistic model':Logit_reg, 'Random Forest':rf_feat})\n",
    "sal_features"
   ]
  },
  {
   "cell_type": "code",
   "execution_count": 81,
   "metadata": {},
   "outputs": [
    {
     "data": {
      "text/plain": [
       "<matplotlib.axes._subplots.AxesSubplot at 0x1a1a3c2048>"
      ]
     },
     "execution_count": 81,
     "metadata": {},
     "output_type": "execute_result"
    },
    {
     "data": {
      "image/png": "[encoded data removed]",
      "text/plain": [
       "<Figure size 432x288 with 1 Axes>"
      ]
     },
     "metadata": {
      "image/png": {
       "height": 244,
       "width": 467
      },
      "needs_background": "light"
     },
     "output_type": "display_data"
    }
   ],
   "source": [
    "#Positive and negative coefficient chart from logistic regression model\n",
    "imp_coefs = pd.concat([lr_coefs.sort_values('coef',ascending = True).head(5),\n",
    "                     lr_coefs.sort_values('coef',ascending = True).tail(5)])\n",
    "imp_coefs['coef'].plot(kind = \"barh\")"
   ]
  },
  {
   "cell_type": "markdown",
   "metadata": {},
   "source": [
    "## Question 1 conclusion\n",
    "\n",
    "### Factos that impact salary:\n",
    "\n",
    "In conclusion, all 3 models AUC are better than baseline\n",
    "\n",
    "Logistic regression model topped the AUC score but Adaboost has better precision and recall score. Logistic regression model is able to provide better insight due to positive and negative coefficient.\n",
    "\n",
    "Top 5 job requirements which have positive coefficient for higher salary are PhD, managerial level, modeling skill, knowledge in Hadoop and work experience is a must.\n",
    "\n",
    "Top 5 job requirements which have negative coefficient on the salary are diploma, seniority level which is below management and senior executive\n",
    "\n",
    "We can conclude that in overall seniority features is one of the main factor for salary above or below median. \n",
    "Other than seniority, education level and specific skills such as modeling skill, statistical skill and Hadoop are also part of the greatest importance feature\n"
   ]
  },
  {
   "cell_type": "markdown",
   "metadata": {},
   "source": [
    "### BONUS PROBLEM\n",
    "\n",
    "Your boss would rather tell a client incorrectly that they would get a lower salary job than tell a client incorrectly that they would get a high salary job. Adjust one of your models to ease his mind, and explain what it is doing and any tradeoffs. Plot the ROC curve."
   ]
  },
  {
   "cell_type": "markdown",
   "metadata": {},
   "source": [
    "For this problem, AdaBoost model is selected for high precision and recall score. In this care, we will try to increase the recall score for low salary (means less false positive). \n",
    "\n",
    "Report below from question 1 Adaboost model, with Low Salary recall socre at 0.77\n",
    "\n",
    "Low Salary 0.72 (precision), 0.77 (recall), 0.75 (score)\n",
    "  \n",
    "High Salary 0.81 (precision), 0.76  (recall), 0.78  (score) "
   ]
  },
  {
   "cell_type": "code",
   "execution_count": 82,
   "metadata": {},
   "outputs": [
    {
     "data": {
      "text/html": [
       "<div>\n",
       "<style scoped>\n",
       "    .dataframe tbody tr th:only-of-type {\n",
       "        vertical-align: middle;\n",
       "    }\n",
       "\n",
       "    .dataframe tbody tr th {\n",
       "        vertical-align: top;\n",
       "    }\n",
       "\n",
       "    .dataframe thead th {\n",
       "        text-align: right;\n",
       "    }\n",
       "</style>\n",
       "<table border=\"1\" class=\"dataframe\">\n",
       "  <thead>\n",
       "    <tr style=\"text-align: right;\">\n",
       "      <th></th>\n",
       "      <th>Predicted Low Salary</th>\n",
       "      <th>Predicted High Salary</th>\n",
       "    </tr>\n",
       "  </thead>\n",
       "  <tbody>\n",
       "    <tr>\n",
       "      <th>Actual Low Salary</th>\n",
       "      <td>58</td>\n",
       "      <td>17</td>\n",
       "    </tr>\n",
       "    <tr>\n",
       "      <th>Actual High Salary</th>\n",
       "      <td>22</td>\n",
       "      <td>71</td>\n",
       "    </tr>\n",
       "  </tbody>\n",
       "</table>\n",
       "</div>"
      ],
      "text/plain": [
       "                    Predicted Low Salary  Predicted High Salary\n",
       "Actual Low Salary                     58                     17\n",
       "Actual High Salary                    22                     71"
      ]
     },
     "execution_count": 82,
     "metadata": {},
     "output_type": "execute_result"
    }
   ],
   "source": [
    "#confusion matrix from question 1 AdaBoost prediction\n",
    "pd.DataFrame(confusion_matrix(y_test,ada_c2.predict(X_test)),\n",
    "             index=['Actual Low Salary','Actual High Salary'],\n",
    "             columns=['Predicted Low Salary','Predicted High Salary'])"
   ]
  },
  {
   "cell_type": "markdown",
   "metadata": {},
   "source": [
    "#### Adjusting prediction threshold value to improve recall score"
   ]
  },
  {
   "cell_type": "code",
   "execution_count": 83,
   "metadata": {},
   "outputs": [],
   "source": [
    "#re-predict y based on threshold value given\n",
    "def re_predict (y, threshold):\n",
    "        if y >= threshold:\n",
    "            return 1\n",
    "        else:\n",
    "            return 0"
   ]
  },
  {
   "cell_type": "code",
   "execution_count": 84,
   "metadata": {},
   "outputs": [],
   "source": [
    "#adjusted threshold value from 0.50 to 0.51\n",
    "pred_y = ada_c2.predict_proba(X_test)\n",
    "new_pred = []\n",
    "for i in range(len(pred_y)):\n",
    "    new_pred.append(re_predict(pred_y[i,1], 0.51))"
   ]
  },
  {
   "cell_type": "code",
   "execution_count": 85,
   "metadata": {},
   "outputs": [
    {
     "data": {
      "text/html": [
       "<div>\n",
       "<style scoped>\n",
       "    .dataframe tbody tr th:only-of-type {\n",
       "        vertical-align: middle;\n",
       "    }\n",
       "\n",
       "    .dataframe tbody tr th {\n",
       "        vertical-align: top;\n",
       "    }\n",
       "\n",
       "    .dataframe thead th {\n",
       "        text-align: right;\n",
       "    }\n",
       "</style>\n",
       "<table border=\"1\" class=\"dataframe\">\n",
       "  <thead>\n",
       "    <tr style=\"text-align: right;\">\n",
       "      <th></th>\n",
       "      <th>Predicted Low Salary</th>\n",
       "      <th>Predicted High Salary</th>\n",
       "    </tr>\n",
       "  </thead>\n",
       "  <tbody>\n",
       "    <tr>\n",
       "      <th>Actual Low Salary</th>\n",
       "      <td>69</td>\n",
       "      <td>6</td>\n",
       "    </tr>\n",
       "    <tr>\n",
       "      <th>Actual High Salary</th>\n",
       "      <td>55</td>\n",
       "      <td>38</td>\n",
       "    </tr>\n",
       "  </tbody>\n",
       "</table>\n",
       "</div>"
      ],
      "text/plain": [
       "                    Predicted Low Salary  Predicted High Salary\n",
       "Actual Low Salary                     69                      6\n",
       "Actual High Salary                    55                     38"
      ]
     },
     "execution_count": 85,
     "metadata": {},
     "output_type": "execute_result"
    }
   ],
   "source": [
    "pd.DataFrame(confusion_matrix(y_test,new_pred),\n",
    "             index=['Actual Low Salary','Actual High Salary'],\n",
    "             columns=['Predicted Low Salary','Predicted High Salary'])"
   ]
  },
  {
   "cell_type": "code",
   "execution_count": 86,
   "metadata": {},
   "outputs": [
    {
     "name": "stdout",
     "output_type": "stream",
     "text": [
      "              precision    recall  f1-score   support\n",
      "\n",
      "  Low Salary       0.56      0.92      0.69        75\n",
      " High Salary       0.86      0.41      0.55        93\n",
      "\n",
      "   micro avg       0.64      0.64      0.64       168\n",
      "   macro avg       0.71      0.66      0.62       168\n",
      "weighted avg       0.73      0.64      0.62       168\n",
      "\n"
     ]
    }
   ],
   "source": [
    "print(classification_report(y_test,new_pred,target_names=[\"Low Salary\", \"High Salary\"]))"
   ]
  },
  {
   "cell_type": "markdown",
   "metadata": {},
   "source": [
    "By tuning the thresold value from 0.5 to 0.51, we managed to increase the recall score for low salary from 0.77 to 0.92 and meet the objective - lower rate of predicting low salary as high salary. Now the model became more sensitive in predicting low salary.\n",
    "\n",
    "The tradeoffs for tuning the threshold is losing the precision for low salary, more high salary jobs are now predicted as low salary."
   ]
  },
  {
   "cell_type": "code",
   "execution_count": 87,
   "metadata": {},
   "outputs": [
    {
     "data": {
      "image/png": "[encoded data removed]",
      "text/plain": [
       "<Figure size 432x288 with 1 Axes>"
      ]
     },
     "metadata": {
      "image/png": {
       "height": 279,
       "width": 430
      },
      "needs_background": "light"
     },
     "output_type": "display_data"
    }
   ],
   "source": [
    "FPR1, TPR1, THR1 = roc_curve(y_test, pred_y[:,1])\n",
    "FPR2, TPR2, THR2 = roc_curve(y_test, new_pred)\n",
    "ROC_AUC1=auc(FPR1,TPR1)\n",
    "ROC_AUC2=auc(FPR2,TPR2)\n",
    "\n",
    "plt.plot(FPR1, TPR1, label='AdaBoost 0.50 threshold (area = %0.3f)' % ROC_AUC1, linewidth=4)\n",
    "plt.plot(FPR2, TPR2, label='AdaBoost 0.51 threshold (area = %0.3f)' % ROC_AUC2, linewidth=4)\n",
    "\n",
    "plt.plot([0, 1], [0, 1], 'k--', linewidth=3)\n",
    "plt.xlim([-0.01, 1.0])\n",
    "plt.ylim([0.0, 1.05])\n",
    "plt.xlabel('False Positive Rate', fontsize=12)\n",
    "plt.ylabel('True Positive Rate', fontsize=12)\n",
    "plt.title('ROC curve for different threshold value', fontsize=18)\n",
    "plt.legend(loc=\"lower right\")\n",
    "plt.show()"
   ]
  },
  {
   "cell_type": "markdown",
   "metadata": {},
   "source": [
    "Plotting out the ROC curve with default 0.50 threshold and adjusted 0.51 threshold. AUC score falls significantly from 0.82 to 0.66 indicating both high salary and low salary distribution are overlaping more than before. The adjusted model only has 66% of chance to distinguish between high and low salary class."
   ]
  },
  {
   "cell_type": "markdown",
   "metadata": {},
   "source": [
    "### Question 2:\n",
    "Identify features in the data related to job postings that can distinguish job titles from each other. \n",
    "What components of a job posting distinguish data scientists from other data jobs?"
   ]
  },
  {
   "cell_type": "code",
   "execution_count": 88,
   "metadata": {},
   "outputs": [],
   "source": [
    "job_title = job_clean[['Job_Title','Requirements']]"
   ]
  },
  {
   "cell_type": "code",
   "execution_count": 89,
   "metadata": {},
   "outputs": [],
   "source": [
    "#job titles containing keywords below are considered as data scientists role\n",
    "title_key = ['SCIENCE','SCIENCTIST','MACHINE','DEEP','NLP','ANALYST','ANALYTIC']\n",
    "key = '|'.join(title_key)"
   ]
  },
  {
   "cell_type": "code",
   "execution_count": 90,
   "metadata": {},
   "outputs": [],
   "source": [
    "#1 for data science role, 0 for others\n",
    "job_title[\"data_science\"] = np.where(job_title['Job_Title'].str.upper().str.contains(key), 1, 0)"
   ]
  },
  {
   "cell_type": "code",
   "execution_count": 91,
   "metadata": {},
   "outputs": [
    {
     "data": {
      "text/html": [
       "<div>\n",
       "<style scoped>\n",
       "    .dataframe tbody tr th:only-of-type {\n",
       "        vertical-align: middle;\n",
       "    }\n",
       "\n",
       "    .dataframe tbody tr th {\n",
       "        vertical-align: top;\n",
       "    }\n",
       "\n",
       "    .dataframe thead th {\n",
       "        text-align: right;\n",
       "    }\n",
       "</style>\n",
       "<table border=\"1\" class=\"dataframe\">\n",
       "  <thead>\n",
       "    <tr style=\"text-align: right;\">\n",
       "      <th></th>\n",
       "      <th>Job_Title</th>\n",
       "      <th>Requirements</th>\n",
       "      <th>data_science</th>\n",
       "    </tr>\n",
       "  </thead>\n",
       "  <tbody>\n",
       "    <tr>\n",
       "      <th>0</th>\n",
       "      <td>Data Engineer (5 days, Orchard, $3500-4000)</td>\n",
       "      <td>Minimum Degree/Diploma in Computer Science, ...</td>\n",
       "      <td>0</td>\n",
       "    </tr>\n",
       "    <tr>\n",
       "      <th>1</th>\n",
       "      <td>Customer Engagement Excellence Learning Manager</td>\n",
       "      <td>A University / Bachelors degree holder in app...</td>\n",
       "      <td>0</td>\n",
       "    </tr>\n",
       "    <tr>\n",
       "      <th>2</th>\n",
       "      <td>Manager, Research</td>\n",
       "      <td>·A smart communicator, a team player with proa...</td>\n",
       "      <td>0</td>\n",
       "    </tr>\n",
       "    <tr>\n",
       "      <th>3</th>\n",
       "      <td>Head of Research &amp; Evaluation, Asia</td>\n",
       "      <td>Qualifications  10 plus years expertise and do...</td>\n",
       "      <td>0</td>\n",
       "    </tr>\n",
       "    <tr>\n",
       "      <th>4</th>\n",
       "      <td>IT Systems Adminstrator</td>\n",
       "      <td>\" Bachelors Degree in Computer Science, Comput...</td>\n",
       "      <td>0</td>\n",
       "    </tr>\n",
       "  </tbody>\n",
       "</table>\n",
       "</div>"
      ],
      "text/plain": [
       "                                         Job_Title  \\\n",
       "0      Data Engineer (5 days, Orchard, $3500-4000)   \n",
       "1  Customer Engagement Excellence Learning Manager   \n",
       "2                                Manager, Research   \n",
       "3              Head of Research & Evaluation, Asia   \n",
       "4                          IT Systems Adminstrator   \n",
       "\n",
       "                                        Requirements  data_science  \n",
       "0    Minimum Degree/Diploma in Computer Science, ...             0  \n",
       "1   A University / Bachelors degree holder in app...             0  \n",
       "2  ·A smart communicator, a team player with proa...             0  \n",
       "3  Qualifications  10 plus years expertise and do...             0  \n",
       "4  \" Bachelors Degree in Computer Science, Comput...             0  "
      ]
     },
     "execution_count": 91,
     "metadata": {},
     "output_type": "execute_result"
    }
   ],
   "source": [
    "job_title.head()"
   ]
  },
  {
   "cell_type": "code",
   "execution_count": 92,
   "metadata": {},
   "outputs": [
    {
     "data": {
      "text/plain": [
       "0    3473\n",
       "1     458\n",
       "Name: data_science, dtype: int64"
      ]
     },
     "execution_count": 92,
     "metadata": {},
     "output_type": "execute_result"
    }
   ],
   "source": [
    "job_title['data_science'].value_counts()"
   ]
  },
  {
   "cell_type": "code",
   "execution_count": 93,
   "metadata": {},
   "outputs": [
    {
     "data": {
      "text/plain": [
       "0.11650979394556092"
      ]
     },
     "execution_count": 93,
     "metadata": {},
     "output_type": "execute_result"
    }
   ],
   "source": [
    "#baseline to predict data science job is 0.11, which indicate this is a imbalance data\n",
    "job_title[job_title['data_science']==1].count().Job_Title/len(job_title['data_science'])"
   ]
  },
  {
   "cell_type": "code",
   "execution_count": 94,
   "metadata": {},
   "outputs": [
    {
     "data": {
      "text/plain": [
       "CountVectorizer(analyzer='word', binary=False, decode_error='strict',\n",
       "        dtype=<class 'numpy.int64'>, encoding='utf-8', input='content',\n",
       "        lowercase=True, max_df=0.3, max_features=1500, min_df=5,\n",
       "        ngram_range=(1, 2), preprocessor=None,\n",
       "        stop_words=['i', 'me', 'my', 'myself', 'we', 'our', 'ours', 'ourselves', 'you', \"you're\", \"you've\", \"you'll\", \"you'd\", 'your', 'yours', 'yourself', 'yourselves', 'he', 'him', 'his', 'himself', 'she', \"she's\", 'her', 'hers', 'herself', 'it', \"it's\", 'its', 'itself', 'they', 'them', 'their', 'theirs',...east', 'able', 'good', 'preferred', 'skill', 'experience', 'degree', 'hours', 'work', 'gce', 'last'],\n",
       "        strip_accents='unicode', token_pattern='(?u)\\\\b\\\\w\\\\w+\\\\b',\n",
       "        tokenizer=None, vocabulary=None)"
      ]
     },
     "execution_count": 94,
     "metadata": {},
     "output_type": "execute_result"
    }
   ],
   "source": [
    "from sklearn.feature_extraction.text import CountVectorizer, TfidfVectorizer\n",
    "from sklearn.feature_extraction import stop_words\n",
    "from nltk.corpus import stopwords\n",
    "\n",
    "#CountVectorizer job requirements columns\n",
    "stop = stopwords.words('english')\n",
    "stop += ['regret','shortlisted', 'candidates','notified','etc', 'take', 'hands',\n",
    "         'related','least','able','good','preferred','skill','experience','degree',\n",
    "         'hours', 'work', 'gce','last']\n",
    "\n",
    "cvec = CountVectorizer(lowercase=True, strip_accents='unicode',\n",
    "                       max_features=1500, min_df=5, max_df=0.3, \n",
    "                       stop_words=stop,ngram_range=(1,2))\n",
    "cvec.fit(job_title['Requirements'])"
   ]
  },
  {
   "cell_type": "code",
   "execution_count": 95,
   "metadata": {},
   "outputs": [],
   "source": [
    "nlp = pd.DataFrame(cvec.transform(job_title['Requirements']).todense(),\n",
    "                   columns=cvec.get_feature_names())"
   ]
  },
  {
   "cell_type": "code",
   "execution_count": 96,
   "metadata": {},
   "outputs": [],
   "source": [
    "X = nlp\n",
    "y = job_title['data_science'].values"
   ]
  },
  {
   "cell_type": "code",
   "execution_count": 97,
   "metadata": {},
   "outputs": [],
   "source": [
    "#Data with dummified 'seniority' and countvectorized 'requirements'\n",
    "X_train, X_test, y_train, y_test = train_test_split(X, y, test_size=0.2, random_state=42)"
   ]
  },
  {
   "cell_type": "code",
   "execution_count": 98,
   "metadata": {},
   "outputs": [
    {
     "name": "stdout",
     "output_type": "stream",
     "text": [
      "Logistic reg auc score: 0.8046378359926164\n",
      "Logistic reg f1 score: 0.4671435575034494\n",
      "RandomForest auc score: 0.8178180392950161\n",
      "RandomForest f1 score: 0.39903639658180834\n"
     ]
    }
   ],
   "source": [
    "from sklearn.utils import class_weight\n",
    "class_weights = dict({0:1.,1:15.})\n",
    "\n",
    "from sklearn.linear_model import LogisticRegression\n",
    "from sklearn.ensemble import RandomForestClassifier\n",
    "\n",
    "lr = LogisticRegression()\n",
    "lr.fit(X_train, y_train)\n",
    "\n",
    "rfc = RandomForestClassifier(class_weight=class_weights, random_state=42)\n",
    "rfc.fit(X_train, y_train)\n",
    "\n",
    "print('Logistic reg auc score:', np.mean(cross_val_score(lr, X_train, y_train, cv=5, scoring ='roc_auc')))\n",
    "print('Logistic reg f1 score:', np.mean(cross_val_score(lr, X_train, y_train, cv=5, scoring ='f1')))\n",
    "print('RandomForest auc score:', np.mean(cross_val_score(rfc, X_train, y_train, cv=5, scoring ='roc_auc')))\n",
    "print('RandomForest f1 score:', np.mean(cross_val_score(rfc, X_train, y_train, cv=5, scoring ='f1')))"
   ]
  },
  {
   "cell_type": "markdown",
   "metadata": {},
   "source": [
    "Both models gave AUC socre of more than 0.80 but due to imbalance class, f1 score will be use to train the model"
   ]
  },
  {
   "cell_type": "markdown",
   "metadata": {},
   "source": [
    "### Hyperparameter for logistic regression and random forest model\n",
    "Using f1 score for gridsearch and scoring instead of auc score due to imbalance data on DS class"
   ]
  },
  {
   "cell_type": "code",
   "execution_count": 99,
   "metadata": {},
   "outputs": [
    {
     "name": "stdout",
     "output_type": "stream",
     "text": [
      "Cross val f1 score on train data: 0.46766180036370886\n"
     ]
    }
   ],
   "source": [
    "#hyperparameter tune for logistic regression (gridsearch based on f1 score)\n",
    "lr_params = {'penalty': ['l1','l2'], 'C': [0.001,0.01,0.1,1,10,100,1000]}\n",
    "gs_lrf = GridSearchCV(lr, param_grid=lr_params, cv=5, scoring='f1', n_jobs=-1)\n",
    "gs_lrf.fit(X_train,y_train)\n",
    "\n",
    "lr_c2f=gs_lrf.best_estimator_\n",
    "lr_c2f.fit(X_train,y_train)\n",
    "\n",
    "print('Cross val f1 score on train data:', np.mean(cross_val_score(lr_c2f, X_train, y_train, cv=5, scoring='f1')))"
   ]
  },
  {
   "cell_type": "code",
   "execution_count": 100,
   "metadata": {},
   "outputs": [
    {
     "data": {
      "text/html": [
       "<div>\n",
       "<style scoped>\n",
       "    .dataframe tbody tr th:only-of-type {\n",
       "        vertical-align: middle;\n",
       "    }\n",
       "\n",
       "    .dataframe tbody tr th {\n",
       "        vertical-align: top;\n",
       "    }\n",
       "\n",
       "    .dataframe thead th {\n",
       "        text-align: right;\n",
       "    }\n",
       "</style>\n",
       "<table border=\"1\" class=\"dataframe\">\n",
       "  <thead>\n",
       "    <tr style=\"text-align: right;\">\n",
       "      <th></th>\n",
       "      <th>Predicted Other job</th>\n",
       "      <th>Predicted DS job</th>\n",
       "    </tr>\n",
       "  </thead>\n",
       "  <tbody>\n",
       "    <tr>\n",
       "      <th>Actual Other job</th>\n",
       "      <td>661</td>\n",
       "      <td>27</td>\n",
       "    </tr>\n",
       "    <tr>\n",
       "      <th>Actual DS job</th>\n",
       "      <td>66</td>\n",
       "      <td>33</td>\n",
       "    </tr>\n",
       "  </tbody>\n",
       "</table>\n",
       "</div>"
      ],
      "text/plain": [
       "                  Predicted Other job  Predicted DS job\n",
       "Actual Other job                  661                27\n",
       "Actual DS job                      66                33"
      ]
     },
     "execution_count": 100,
     "metadata": {},
     "output_type": "execute_result"
    }
   ],
   "source": [
    "pd.DataFrame(confusion_matrix(y_test,lr_c2f.predict(X_test)),\n",
    "             index=['Actual Other job','Actual DS job'],\n",
    "             columns=['Predicted Other job','Predicted DS job'])"
   ]
  },
  {
   "cell_type": "code",
   "execution_count": 101,
   "metadata": {},
   "outputs": [
    {
     "name": "stdout",
     "output_type": "stream",
     "text": [
      "              precision    recall  f1-score   support\n",
      "\n",
      "   Other job       0.91      0.96      0.93       688\n",
      "      DS job       0.55      0.33      0.42        99\n",
      "\n",
      "   micro avg       0.88      0.88      0.88       787\n",
      "   macro avg       0.73      0.65      0.67       787\n",
      "weighted avg       0.86      0.88      0.87       787\n",
      "\n"
     ]
    }
   ],
   "source": [
    "print(classification_report(y_test,lr_c2f.predict(X_test),target_names=[\"Other job\", \"DS job\"]))"
   ]
  },
  {
   "cell_type": "markdown",
   "metadata": {},
   "source": [
    "Imbalance class has caused the model to be bias toward majority class (other job), precision score is only 0.55 but still significantly better than baseline socre"
   ]
  },
  {
   "cell_type": "code",
   "execution_count": 102,
   "metadata": {},
   "outputs": [
    {
     "data": {
      "text/html": [
       "<div>\n",
       "<style scoped>\n",
       "    .dataframe tbody tr th:only-of-type {\n",
       "        vertical-align: middle;\n",
       "    }\n",
       "\n",
       "    .dataframe tbody tr th {\n",
       "        vertical-align: top;\n",
       "    }\n",
       "\n",
       "    .dataframe thead th {\n",
       "        text-align: right;\n",
       "    }\n",
       "</style>\n",
       "<table border=\"1\" class=\"dataframe\">\n",
       "  <thead>\n",
       "    <tr style=\"text-align: right;\">\n",
       "      <th></th>\n",
       "      <th>coef</th>\n",
       "    </tr>\n",
       "  </thead>\n",
       "  <tbody>\n",
       "    <tr>\n",
       "      <th>analyst</th>\n",
       "      <td>2.800448</td>\n",
       "    </tr>\n",
       "    <tr>\n",
       "      <th>java python</th>\n",
       "      <td>2.085174</td>\n",
       "    </tr>\n",
       "    <tr>\n",
       "      <th>business analysis</th>\n",
       "      <td>1.686645</td>\n",
       "    </tr>\n",
       "    <tr>\n",
       "      <th>analyzing</th>\n",
       "      <td>1.636168</td>\n",
       "    </tr>\n",
       "    <tr>\n",
       "      <th>communications skills</th>\n",
       "      <td>1.603585</td>\n",
       "    </tr>\n",
       "    <tr>\n",
       "      <th>lean</th>\n",
       "      <td>1.596380</td>\n",
       "    </tr>\n",
       "    <tr>\n",
       "      <th>possess diploma</th>\n",
       "      <td>1.533847</td>\n",
       "    </tr>\n",
       "    <tr>\n",
       "      <th>commit</th>\n",
       "      <td>1.416021</td>\n",
       "    </tr>\n",
       "    <tr>\n",
       "      <th>jira</th>\n",
       "      <td>1.175334</td>\n",
       "    </tr>\n",
       "    <tr>\n",
       "      <th>deep learning</th>\n",
       "      <td>1.169041</td>\n",
       "    </tr>\n",
       "  </tbody>\n",
       "</table>\n",
       "</div>"
      ],
      "text/plain": [
       "                           coef\n",
       "analyst                2.800448\n",
       "java python            2.085174\n",
       "business analysis      1.686645\n",
       "analyzing              1.636168\n",
       "communications skills  1.603585\n",
       "lean                   1.596380\n",
       "possess diploma        1.533847\n",
       "commit                 1.416021\n",
       "jira                   1.175334\n",
       "deep learning          1.169041"
      ]
     },
     "execution_count": 102,
     "metadata": {},
     "output_type": "execute_result"
    }
   ],
   "source": [
    "features = np.array(X_train.columns)\n",
    "lrf_coefs = pd.DataFrame({'coef':lr_c2f.coef_[0]},index=features)\n",
    "lrf_coefs = lrf_coefs.sort_values('coef',ascending=False)\n",
    "lrf_coefs.head(10)"
   ]
  },
  {
   "cell_type": "markdown",
   "metadata": {},
   "source": [
    "In the industry, keywords such as python and deep learning can be used to distinguish data scientist job"
   ]
  },
  {
   "cell_type": "code",
   "execution_count": 103,
   "metadata": {},
   "outputs": [
    {
     "name": "stdout",
     "output_type": "stream",
     "text": [
      "Random forest best parameters: RandomForestClassifier(bootstrap=True, class_weight={0: 1.0, 1: 15.0},\n",
      "            criterion='gini', max_depth=20, max_features='auto',\n",
      "            max_leaf_nodes=None, min_impurity_decrease=0.0,\n",
      "            min_impurity_split=None, min_samples_leaf=1,\n",
      "            min_samples_split=2, min_weight_fraction_leaf=0.0,\n",
      "            n_estimators=200, n_jobs=None, oob_score=False,\n",
      "            random_state=42, verbose=0, warm_start=False)\n",
      "Cross val f1 score on train data: 0.48872445384073293\n"
     ]
    }
   ],
   "source": [
    "#hyperparameter tune for random forest\n",
    "rfc_params={\n",
    "             'max_depth': [10, 20, 30, 40, 50, 60, 70, 80, 90, 100, None],\n",
    "             'n_estimators': [50,100,150,200],\n",
    "           }\n",
    "\n",
    "gs_rfc=GridSearchCV(rfc, rfc_params, cv=5, scoring='f1', n_jobs=-1)\n",
    "gs_rfc.fit(X_train,y_train)\n",
    "\n",
    "rfc2=gs_rfc.best_estimator_\n",
    "rfc2.fit(X_train,y_train)\n",
    "\n",
    "print('Random forest best parameters:', rfc2)\n",
    "print('Cross val f1 score on train data:', np.mean(cross_val_score(rfc2, X_train, y_train, cv=5, scoring='f1')))"
   ]
  },
  {
   "cell_type": "code",
   "execution_count": 104,
   "metadata": {},
   "outputs": [
    {
     "data": {
      "text/html": [
       "<div>\n",
       "<style scoped>\n",
       "    .dataframe tbody tr th:only-of-type {\n",
       "        vertical-align: middle;\n",
       "    }\n",
       "\n",
       "    .dataframe tbody tr th {\n",
       "        vertical-align: top;\n",
       "    }\n",
       "\n",
       "    .dataframe thead th {\n",
       "        text-align: right;\n",
       "    }\n",
       "</style>\n",
       "<table border=\"1\" class=\"dataframe\">\n",
       "  <thead>\n",
       "    <tr style=\"text-align: right;\">\n",
       "      <th></th>\n",
       "      <th>Predicted Other job</th>\n",
       "      <th>Predicted DS job</th>\n",
       "    </tr>\n",
       "  </thead>\n",
       "  <tbody>\n",
       "    <tr>\n",
       "      <th>Actual Other job</th>\n",
       "      <td>655</td>\n",
       "      <td>33</td>\n",
       "    </tr>\n",
       "    <tr>\n",
       "      <th>Actual DS job</th>\n",
       "      <td>61</td>\n",
       "      <td>38</td>\n",
       "    </tr>\n",
       "  </tbody>\n",
       "</table>\n",
       "</div>"
      ],
      "text/plain": [
       "                  Predicted Other job  Predicted DS job\n",
       "Actual Other job                  655                33\n",
       "Actual DS job                      61                38"
      ]
     },
     "execution_count": 104,
     "metadata": {},
     "output_type": "execute_result"
    }
   ],
   "source": [
    "pd.DataFrame(confusion_matrix(y_test,rfc2.predict(X_test)),\n",
    "             index=['Actual Other job','Actual DS job'],\n",
    "             columns=['Predicted Other job','Predicted DS job'])"
   ]
  },
  {
   "cell_type": "code",
   "execution_count": 105,
   "metadata": {},
   "outputs": [
    {
     "name": "stdout",
     "output_type": "stream",
     "text": [
      "              precision    recall  f1-score   support\n",
      "\n",
      "   Other job       0.91      0.95      0.93       688\n",
      "      DS job       0.54      0.38      0.45        99\n",
      "\n",
      "   micro avg       0.88      0.88      0.88       787\n",
      "   macro avg       0.73      0.67      0.69       787\n",
      "weighted avg       0.87      0.88      0.87       787\n",
      "\n"
     ]
    }
   ],
   "source": [
    "print(classification_report(y_test,rfc2.predict(X_test),target_names=[\"Other job\", \"DS job\"]))"
   ]
  },
  {
   "cell_type": "markdown",
   "metadata": {},
   "source": [
    "Random Forest model also showing bias toward majority class eventhough we train the model with f1 score. By looking at the overall score this model has average of 0.87 but low recall rate is still the main problem."
   ]
  },
  {
   "cell_type": "code",
   "execution_count": 106,
   "metadata": {},
   "outputs": [
    {
     "data": {
      "text/html": [
       "<div>\n",
       "<style scoped>\n",
       "    .dataframe tbody tr th:only-of-type {\n",
       "        vertical-align: middle;\n",
       "    }\n",
       "\n",
       "    .dataframe tbody tr th {\n",
       "        vertical-align: top;\n",
       "    }\n",
       "\n",
       "    .dataframe thead th {\n",
       "        text-align: right;\n",
       "    }\n",
       "</style>\n",
       "<table border=\"1\" class=\"dataframe\">\n",
       "  <thead>\n",
       "    <tr style=\"text-align: right;\">\n",
       "      <th></th>\n",
       "      <th>coef</th>\n",
       "    </tr>\n",
       "  </thead>\n",
       "  <tbody>\n",
       "    <tr>\n",
       "      <th>science</th>\n",
       "      <td>0.019085</td>\n",
       "    </tr>\n",
       "    <tr>\n",
       "      <th>analytical</th>\n",
       "      <td>0.017929</td>\n",
       "    </tr>\n",
       "    <tr>\n",
       "      <th>statistics</th>\n",
       "      <td>0.013873</td>\n",
       "    </tr>\n",
       "    <tr>\n",
       "      <th>sql</th>\n",
       "      <td>0.013515</td>\n",
       "    </tr>\n",
       "    <tr>\n",
       "      <th>business</th>\n",
       "      <td>0.011813</td>\n",
       "    </tr>\n",
       "    <tr>\n",
       "      <th>excel</th>\n",
       "      <td>0.011237</td>\n",
       "    </tr>\n",
       "    <tr>\n",
       "      <th>computer science</th>\n",
       "      <td>0.010789</td>\n",
       "    </tr>\n",
       "    <tr>\n",
       "      <th>analysis</th>\n",
       "      <td>0.010151</td>\n",
       "    </tr>\n",
       "    <tr>\n",
       "      <th>analyst</th>\n",
       "      <td>0.008492</td>\n",
       "    </tr>\n",
       "    <tr>\n",
       "      <th>python</th>\n",
       "      <td>0.007965</td>\n",
       "    </tr>\n",
       "  </tbody>\n",
       "</table>\n",
       "</div>"
      ],
      "text/plain": [
       "                      coef\n",
       "science           0.019085\n",
       "analytical        0.017929\n",
       "statistics        0.013873\n",
       "sql               0.013515\n",
       "business          0.011813\n",
       "excel             0.011237\n",
       "computer science  0.010789\n",
       "analysis          0.010151\n",
       "analyst           0.008492\n",
       "python            0.007965"
      ]
     },
     "execution_count": 106,
     "metadata": {},
     "output_type": "execute_result"
    }
   ],
   "source": [
    "features = np.array(X_train.columns)\n",
    "rf_coefs = pd.DataFrame({'coef':rfc2.feature_importances_},index=features)\n",
    "rf_coefs.sort_values('coef',ascending = False).head(10)"
   ]
  },
  {
   "cell_type": "markdown",
   "metadata": {},
   "source": [
    "Same as logistic regression model, we are still able to spot some of the data scientist job requirement keywords such as SQL, computer science and Python."
   ]
  },
  {
   "cell_type": "code",
   "execution_count": 107,
   "metadata": {},
   "outputs": [
    {
     "data": {
      "text/html": [
       "<div>\n",
       "<style scoped>\n",
       "    .dataframe tbody tr th:only-of-type {\n",
       "        vertical-align: middle;\n",
       "    }\n",
       "\n",
       "    .dataframe tbody tr th {\n",
       "        vertical-align: top;\n",
       "    }\n",
       "\n",
       "    .dataframe thead th {\n",
       "        text-align: right;\n",
       "    }\n",
       "</style>\n",
       "<table border=\"1\" class=\"dataframe\">\n",
       "  <thead>\n",
       "    <tr style=\"text-align: right;\">\n",
       "      <th></th>\n",
       "      <th>Logistic model</th>\n",
       "      <th>Random Forest</th>\n",
       "    </tr>\n",
       "  </thead>\n",
       "  <tbody>\n",
       "    <tr>\n",
       "      <th>0</th>\n",
       "      <td>analyst</td>\n",
       "      <td>science</td>\n",
       "    </tr>\n",
       "    <tr>\n",
       "      <th>1</th>\n",
       "      <td>java python</td>\n",
       "      <td>analytical</td>\n",
       "    </tr>\n",
       "    <tr>\n",
       "      <th>2</th>\n",
       "      <td>business analysis</td>\n",
       "      <td>statistics</td>\n",
       "    </tr>\n",
       "    <tr>\n",
       "      <th>3</th>\n",
       "      <td>analyzing</td>\n",
       "      <td>sql</td>\n",
       "    </tr>\n",
       "    <tr>\n",
       "      <th>4</th>\n",
       "      <td>communications skills</td>\n",
       "      <td>business</td>\n",
       "    </tr>\n",
       "    <tr>\n",
       "      <th>5</th>\n",
       "      <td>lean</td>\n",
       "      <td>excel</td>\n",
       "    </tr>\n",
       "    <tr>\n",
       "      <th>6</th>\n",
       "      <td>possess diploma</td>\n",
       "      <td>computer science</td>\n",
       "    </tr>\n",
       "    <tr>\n",
       "      <th>7</th>\n",
       "      <td>commit</td>\n",
       "      <td>analysis</td>\n",
       "    </tr>\n",
       "    <tr>\n",
       "      <th>8</th>\n",
       "      <td>jira</td>\n",
       "      <td>analyst</td>\n",
       "    </tr>\n",
       "    <tr>\n",
       "      <th>9</th>\n",
       "      <td>deep learning</td>\n",
       "      <td>python</td>\n",
       "    </tr>\n",
       "  </tbody>\n",
       "</table>\n",
       "</div>"
      ],
      "text/plain": [
       "          Logistic model     Random Forest\n",
       "0                analyst           science\n",
       "1            java python        analytical\n",
       "2      business analysis        statistics\n",
       "3              analyzing               sql\n",
       "4  communications skills          business\n",
       "5                   lean             excel\n",
       "6        possess diploma  computer science\n",
       "7                 commit          analysis\n",
       "8                   jira           analyst\n",
       "9          deep learning            python"
      ]
     },
     "execution_count": 107,
     "metadata": {},
     "output_type": "execute_result"
    }
   ],
   "source": [
    "#Top 10 features for salary high and low prediction.\n",
    "Logit_reg = lrf_coefs.sort_values('coef',ascending=False).head(10).index\n",
    "rf_feat = rf_coefs.sort_values('coef',ascending = False).head(10).index\n",
    "\n",
    "DS_features = pd.DataFrame({'Logistic model':Logit_reg, 'Random Forest':rf_feat})\n",
    "DS_features"
   ]
  },
  {
   "cell_type": "markdown",
   "metadata": {},
   "source": [
    "From the logistic regression model coefficient and random forest important features, we can conclude that specific features that distinguished data science job from other job are a computer science degree, deep learning skill, strong in analytical, Python and SQL programming."
   ]
  },
  {
   "cell_type": "markdown",
   "metadata": {},
   "source": [
    "### Latent Dirichlet Allocation as topic modeling "
   ]
  },
  {
   "cell_type": "code",
   "execution_count": 108,
   "metadata": {},
   "outputs": [],
   "source": [
    "from sklearn.feature_extraction.text import CountVectorizer\n",
    "tf_vectorizer = CountVectorizer(strip_accents = 'unicode', stop_words = stop,\n",
    "                                lowercase = True, max_df = 0.3, min_df = 5, ngram_range=(1,2))\n",
    "dtm = tf_vectorizer.fit_transform(job_title['Requirements'])"
   ]
  },
  {
   "cell_type": "code",
   "execution_count": 109,
   "metadata": {},
   "outputs": [
    {
     "data": {
      "text/plain": [
       "LatentDirichletAllocation(batch_size=128, doc_topic_prior=None,\n",
       "             evaluate_every=-1, learning_decay=0.7,\n",
       "             learning_method='batch', learning_offset=10.0,\n",
       "             max_doc_update_iter=100, max_iter=10, mean_change_tol=0.001,\n",
       "             n_components=7, n_jobs=None, n_topics=None, perp_tol=0.1,\n",
       "             random_state=42, topic_word_prior=None,\n",
       "             total_samples=1000000.0, verbose=0)"
      ]
     },
     "execution_count": 109,
     "metadata": {},
     "output_type": "execute_result"
    }
   ],
   "source": [
    "import pyLDAvis\n",
    "import pyLDAvis.sklearn\n",
    "from sklearn.decomposition import LatentDirichletAllocation\n",
    "\n",
    "lda_tf = LatentDirichletAllocation(n_components=7, random_state=42)\n",
    "lda_tf.fit(dtm)"
   ]
  },
  {
   "cell_type": "code",
   "execution_count": 110,
   "metadata": {},
   "outputs": [],
   "source": [
    "display_data = pyLDAvis.sklearn.prepare(lda_tf, dtm, tf_vectorizer)"
   ]
  },
  {
   "cell_type": "code",
   "execution_count": 111,
   "metadata": {},
   "outputs": [
    {
     "data": {
      "text/html": [
       "\n",
       "<link rel=\"stylesheet\" type=\"text/css\" href=\"https://cdn.rawgit.com/bmabey/pyLDAvis/files/ldavis.v1.0.0.css\">\n",
       "\n",
       "\n",
       "<div id=\"ldavis_el39201122547545125539534196\"></div>\n",
       "<script type=\"text/javascript\">\n",
       "\n",
       "var ldavis_el39201122547545125539534196_data = {\"mdsDat\": {\"x\": [-0.01951589590022677, -0.1260432035885531, 0.09027784356506678, -0.1915383191788021, -0.12417451587734377, 0.09272376608084423, 0.27827032489901526], \"y\": [0.1411946636407854, 0.04889457791405771, 0.17374166365773358, -0.24540289268024051, 0.06190422147924132, -0.02208246482648709, -0.15824976918509068], \"topics\": [1, 2, 3, 4, 5, 6, 7], \"cluster\": [1, 1, 1, 1, 1, 1, 1], \"Freq\": [45.70600033461107, 19.852486079820668, 9.960284442529746, 7.408713427628591, 6.4143913709998435, 6.345470228043487, 4.312654116366591]}, \"tinfo\": {\"Category\": [\"Default\", \"Default\", \"Default\", \"Default\", \"Default\", \"Default\", \"Default\", \"Default\", \"Default\", \"Default\", \"Default\", \"Default\", \"Default\", \"Default\", \"Default\", \"Default\", \"Default\", \"Default\", \"Default\", \"Default\", \"Default\", \"Default\", \"Default\", \"Default\", \"Default\", \"Default\", \"Default\", \"Default\", \"Default\", \"Default\", \"Topic1\", \"Topic1\", \"Topic1\", \"Topic1\", \"Topic1\", \"Topic1\", \"Topic1\", \"Topic1\", \"Topic1\", \"Topic1\", \"Topic1\", \"Topic1\", \"Topic1\", \"Topic1\", \"Topic1\", \"Topic1\", \"Topic1\", \"Topic1\", \"Topic1\", \"Topic1\", \"Topic1\", \"Topic1\", \"Topic1\", \"Topic1\", \"Topic1\", \"Topic1\", \"Topic1\", \"Topic1\", \"Topic1\", \"Topic1\", \"Topic1\", \"Topic1\", \"Topic1\", \"Topic1\", \"Topic1\", \"Topic1\", \"Topic1\", \"Topic1\", \"Topic1\", \"Topic1\", \"Topic1\", \"Topic1\", \"Topic1\", \"Topic1\", \"Topic1\", \"Topic1\", \"Topic1\", \"Topic1\", \"Topic1\", \"Topic1\", \"Topic1\", \"Topic1\", \"Topic1\", \"Topic1\", \"Topic1\", \"Topic1\", \"Topic1\", \"Topic1\", \"Topic1\", \"Topic1\", \"Topic1\", \"Topic1\", \"Topic1\", \"Topic1\", \"Topic1\", \"Topic1\", \"Topic1\", \"Topic1\", \"Topic1\", \"Topic1\", \"Topic1\", \"Topic1\", \"Topic1\", \"Topic1\", \"Topic1\", \"Topic1\", \"Topic1\", \"Topic1\", \"Topic1\", \"Topic1\", \"Topic1\", \"Topic1\", \"Topic1\", \"Topic1\", \"Topic1\", \"Topic1\", \"Topic1\", \"Topic1\", \"Topic1\", \"Topic2\", \"Topic2\", \"Topic2\", \"Topic2\", \"Topic2\", \"Topic2\", \"Topic2\", \"Topic2\", \"Topic2\", \"Topic2\", \"Topic2\", \"Topic2\", \"Topic2\", \"Topic2\", \"Topic2\", \"Topic2\", \"Topic2\", \"Topic2\", \"Topic2\", \"Topic2\", \"Topic2\", \"Topic2\", \"Topic2\", \"Topic2\", \"Topic2\", \"Topic2\", \"Topic2\", \"Topic2\", \"Topic2\", \"Topic2\", \"Topic2\", \"Topic2\", \"Topic2\", \"Topic2\", \"Topic2\", \"Topic2\", \"Topic2\", \"Topic2\", \"Topic2\", \"Topic2\", \"Topic2\", \"Topic2\", \"Topic2\", \"Topic2\", \"Topic2\", \"Topic2\", \"Topic2\", \"Topic2\", \"Topic2\", \"Topic2\", \"Topic2\", \"Topic2\", \"Topic2\", \"Topic2\", \"Topic2\", \"Topic2\", \"Topic2\", \"Topic2\", \"Topic2\", \"Topic2\", \"Topic2\", \"Topic2\", \"Topic2\", \"Topic2\", \"Topic2\", \"Topic2\", \"Topic2\", \"Topic2\", \"Topic2\", \"Topic2\", \"Topic2\", \"Topic2\", \"Topic2\", \"Topic2\", \"Topic2\", \"Topic2\", \"Topic2\", \"Topic2\", \"Topic2\", \"Topic2\", \"Topic3\", \"Topic3\", \"Topic3\", \"Topic3\", \"Topic3\", \"Topic3\", \"Topic3\", \"Topic3\", \"Topic3\", \"Topic3\", \"Topic3\", \"Topic3\", \"Topic3\", \"Topic3\", \"Topic3\", \"Topic3\", \"Topic3\", \"Topic3\", \"Topic3\", \"Topic3\", \"Topic3\", \"Topic3\", \"Topic3\", \"Topic3\", \"Topic3\", \"Topic3\", \"Topic3\", \"Topic3\", \"Topic3\", \"Topic3\", \"Topic3\", \"Topic3\", \"Topic3\", \"Topic3\", \"Topic3\", \"Topic3\", \"Topic3\", \"Topic3\", \"Topic3\", \"Topic3\", \"Topic3\", \"Topic3\", \"Topic3\", \"Topic3\", \"Topic3\", \"Topic3\", \"Topic3\", \"Topic3\", \"Topic3\", \"Topic3\", \"Topic3\", \"Topic3\", \"Topic3\", \"Topic3\", \"Topic3\", \"Topic3\", \"Topic3\", \"Topic3\", \"Topic3\", \"Topic3\", \"Topic3\", \"Topic3\", \"Topic3\", \"Topic3\", \"Topic3\", \"Topic3\", \"Topic3\", \"Topic3\", \"Topic3\", \"Topic3\", \"Topic3\", \"Topic3\", \"Topic3\", \"Topic3\", \"Topic3\", \"Topic3\", \"Topic4\", \"Topic4\", \"Topic4\", \"Topic4\", \"Topic4\", \"Topic4\", \"Topic4\", \"Topic4\", \"Topic4\", \"Topic4\", \"Topic4\", \"Topic4\", \"Topic4\", \"Topic4\", \"Topic4\", \"Topic4\", \"Topic4\", \"Topic4\", \"Topic4\", \"Topic4\", \"Topic4\", \"Topic4\", \"Topic4\", \"Topic4\", \"Topic4\", \"Topic4\", \"Topic4\", \"Topic4\", \"Topic4\", \"Topic4\", \"Topic4\", \"Topic4\", \"Topic4\", \"Topic4\", \"Topic4\", \"Topic4\", \"Topic4\", \"Topic4\", \"Topic4\", \"Topic4\", \"Topic4\", \"Topic4\", \"Topic4\", \"Topic4\", \"Topic4\", \"Topic4\", \"Topic4\", \"Topic4\", \"Topic4\", \"Topic4\", \"Topic4\", \"Topic4\", \"Topic4\", \"Topic4\", \"Topic4\", \"Topic4\", \"Topic4\", \"Topic4\", \"Topic4\", \"Topic4\", \"Topic4\", \"Topic4\", \"Topic4\", \"Topic5\", \"Topic5\", \"Topic5\", \"Topic5\", \"Topic5\", \"Topic5\", \"Topic5\", \"Topic5\", \"Topic5\", \"Topic5\", \"Topic5\", \"Topic5\", \"Topic5\", \"Topic5\", \"Topic5\", \"Topic5\", \"Topic5\", \"Topic5\", \"Topic5\", \"Topic5\", \"Topic5\", \"Topic5\", \"Topic5\", \"Topic5\", \"Topic5\", \"Topic5\", \"Topic5\", \"Topic5\", \"Topic5\", \"Topic5\", \"Topic5\", \"Topic5\", \"Topic5\", \"Topic5\", \"Topic5\", \"Topic5\", \"Topic5\", \"Topic5\", \"Topic5\", \"Topic5\", \"Topic5\", \"Topic5\", \"Topic5\", \"Topic5\", \"Topic5\", \"Topic5\", \"Topic5\", \"Topic5\", \"Topic5\", \"Topic5\", \"Topic5\", \"Topic5\", \"Topic5\", \"Topic5\", \"Topic5\", \"Topic5\", \"Topic5\", \"Topic5\", \"Topic5\", \"Topic5\", \"Topic5\", \"Topic5\", \"Topic5\", \"Topic5\", \"Topic5\", \"Topic5\", \"Topic5\", \"Topic5\", \"Topic5\", \"Topic5\", \"Topic5\", \"Topic5\", \"Topic5\", \"Topic5\", \"Topic5\", \"Topic5\", \"Topic5\", \"Topic6\", \"Topic6\", \"Topic6\", \"Topic6\", \"Topic6\", \"Topic6\", \"Topic6\", \"Topic6\", \"Topic6\", \"Topic6\", \"Topic6\", \"Topic6\", \"Topic6\", \"Topic6\", \"Topic6\", \"Topic6\", \"Topic6\", \"Topic6\", \"Topic6\", \"Topic6\", \"Topic6\", \"Topic6\", \"Topic6\", \"Topic6\", \"Topic6\", \"Topic6\", \"Topic6\", \"Topic6\", \"Topic6\", \"Topic6\", \"Topic6\", \"Topic6\", \"Topic6\", \"Topic6\", \"Topic6\", \"Topic6\", \"Topic6\", \"Topic6\", \"Topic6\", \"Topic6\", \"Topic6\", \"Topic6\", \"Topic6\", \"Topic6\", \"Topic6\", \"Topic6\", \"Topic6\", \"Topic6\", \"Topic6\", \"Topic6\", \"Topic6\", \"Topic6\", \"Topic6\", \"Topic6\", \"Topic6\", \"Topic6\", \"Topic6\", \"Topic6\", \"Topic6\", \"Topic6\", \"Topic6\", \"Topic6\", \"Topic6\", \"Topic6\", \"Topic6\", \"Topic6\", \"Topic6\", \"Topic6\", \"Topic7\", \"Topic7\", \"Topic7\", \"Topic7\", \"Topic7\", \"Topic7\", \"Topic7\", \"Topic7\", \"Topic7\", \"Topic7\", \"Topic7\", \"Topic7\", \"Topic7\", \"Topic7\", \"Topic7\", \"Topic7\", \"Topic7\", \"Topic7\", \"Topic7\", \"Topic7\", \"Topic7\", \"Topic7\", \"Topic7\", \"Topic7\", \"Topic7\", \"Topic7\", \"Topic7\", \"Topic7\", \"Topic7\", \"Topic7\", \"Topic7\", \"Topic7\", \"Topic7\", \"Topic7\", \"Topic7\", \"Topic7\", \"Topic7\", \"Topic7\", \"Topic7\", \"Topic7\", \"Topic7\", \"Topic7\", \"Topic7\", \"Topic7\", \"Topic7\", \"Topic7\", \"Topic7\", \"Topic7\", \"Topic7\", \"Topic7\", \"Topic7\", \"Topic7\", \"Topic7\", \"Topic7\", \"Topic7\", \"Topic7\", \"Topic7\", \"Topic7\", \"Topic7\", \"Topic7\", \"Topic7\", \"Topic7\", \"Topic7\", \"Topic7\", \"Topic7\", \"Topic7\", \"Topic7\", \"Topic7\", \"Topic7\", \"Topic7\", \"Topic7\", \"Topic7\", \"Topic7\", \"Topic7\", \"Topic7\", \"Topic7\", \"Topic7\", \"Topic7\", \"Topic7\", \"Topic7\", \"Topic7\", \"Topic7\", \"Topic7\", \"Topic7\", \"Topic7\", \"Topic7\", \"Topic7\", \"Topic7\", \"Topic7\", \"Topic7\", \"Topic7\", \"Topic7\", \"Topic7\", \"Topic7\", \"Topic7\", \"Topic7\", \"Topic7\", \"Topic7\", \"Topic7\", \"Topic7\", \"Topic7\", \"Topic7\", \"Topic7\", \"Topic7\", \"Topic7\", \"Topic7\", \"Topic7\", \"Topic7\", \"Topic7\", \"Topic7\", \"Topic7\", \"Topic7\", \"Topic7\", \"Topic7\", \"Topic7\", \"Topic7\", \"Topic7\", \"Topic7\", \"Topic7\", \"Topic7\", \"Topic7\", \"Topic7\", \"Topic7\", \"Topic7\", \"Topic7\", \"Topic7\", \"Topic7\", \"Topic7\", \"Topic7\", \"Topic7\", \"Topic7\", \"Topic7\", \"Topic7\", \"Topic7\", \"Topic7\", \"Topic7\", \"Topic7\"], \"Freq\": [592.0, 846.0, 743.0, 735.0, 1168.0, 652.0, 586.0, 348.0, 515.0, 997.0, 422.0, 620.0, 1084.0, 1281.0, 254.0, 2057.0, 760.0, 727.0, 306.0, 351.0, 659.0, 397.0, 343.0, 445.0, 644.0, 638.0, 711.0, 218.0, 659.0, 416.0, 274.0946449114572, 261.2376028865376, 134.6244231047404, 104.92832206875039, 85.14696956617495, 100.79281464492927, 76.29404833009303, 70.33133893954913, 65.41490451740486, 71.2570253541241, 146.31761499579844, 58.49241318705872, 58.4917090057662, 56.514374969713344, 56.51332515988053, 54.53638805088673, 53.547437891589375, 53.547437891589375, 53.547437891589375, 53.547437891589375, 53.547437891589375, 53.547437891589375, 53.547437891589375, 53.547437891589375, 53.547437891589375, 53.547437891589375, 53.547437891589375, 53.547437891589375, 53.547437891589375, 53.547437891589375, 159.95862893072263, 94.34265261401706, 53.547437891589375, 53.547437891589375, 159.20011771427593, 109.78646366538662, 517.7378434309923, 67.90647876036375, 224.01024673180942, 89.64275693807888, 53.547437891589375, 417.42388185978734, 358.24309369541135, 215.00000721118585, 208.69081565668367, 62.041122056439356, 433.06589519592796, 321.20465678770245, 804.1821584475493, 153.75178822443053, 674.7799294694624, 963.3031870536772, 292.9379000488234, 606.2563967642704, 180.14167109752213, 705.2039766366022, 235.1298797463722, 316.0044591761013, 919.1629067259211, 522.2668919959647, 177.1772464893462, 243.32493085477543, 472.90503519073457, 687.4477394594113, 325.75206007231156, 619.6348347461667, 1448.806125855118, 649.4329696611121, 391.7578500944156, 751.8042313774415, 630.8849222716515, 517.496681245474, 331.9512564001403, 792.6480304807902, 747.9777284388728, 438.14530543998535, 626.1462923982185, 393.33860880762916, 394.98747657045766, 505.534128550202, 717.8225285915771, 622.8599098713167, 562.6991427493803, 445.527848148897, 505.6113428911509, 430.69172687449117, 451.5206659099526, 446.6924389553804, 439.5603392773343, 93.12732381247478, 77.62863588574062, 75.59281999467301, 61.162034738432574, 59.223905357706165, 53.412012201072734, 53.394290656045165, 51.475596363162424, 38.883484199973175, 40.776116811586604, 36.94626685517085, 36.94553078562023, 39.76575275772555, 35.97790766318503, 35.00901751922843, 34.94413606026085, 31.134742556676738, 31.134266787057133, 31.13247897489597, 30.16555859010844, 29.197449107387516, 29.19720525541702, 28.228463965379902, 28.228298243428725, 28.227394163571965, 30.099886690149347, 26.291258042228588, 86.31205810026253, 33.76987410306065, 25.322626054628515, 260.1119179874949, 271.9120430084142, 191.9663296386601, 195.7346775791063, 91.37723968877901, 82.73514459948515, 67.10668316125069, 547.8319685860405, 185.63266211791912, 173.67303715619136, 62.187144446613644, 119.85161963612556, 58.861813116182645, 220.06079547888046, 209.20403687487325, 478.84372182476363, 91.446583871664, 127.1584389415908, 102.958339669755, 107.22199106122598, 263.8889535463346, 508.39428579496007, 119.19658558612686, 353.32579191532335, 426.0439751713897, 469.32770441378557, 389.9748269983127, 358.5473481968031, 409.93439610496296, 419.01961102301595, 336.7756563700012, 329.35924201071555, 245.72178696141054, 256.9687374795836, 241.0474544074064, 226.25417582662868, 381.9733389739712, 508.2485023303295, 416.37679409931394, 451.2053900369947, 300.5065217521191, 307.7340281798883, 354.4902274777098, 330.7088420473586, 287.5122292897502, 310.49019169743633, 334.5673032373489, 286.37121067680334, 285.15862138153557, 245.7516733739348, 68.97742345176894, 44.458200924314106, 43.515154885827144, 38.79986834872001, 37.85683412901329, 35.97069566606864, 35.97069566606864, 35.027519597764716, 30.31240712839292, 33.0520824477967, 28.426211240379267, 28.426184026479174, 28.425143891390313, 28.349611335249918, 25.5969376139611, 23.711003034240264, 23.71100270820165, 23.710501093268544, 22.76798934986168, 22.76798934986168, 22.76798934986168, 22.76798934986168, 22.767989349738453, 22.767989349738453, 22.767989349738453, 22.767989349738453, 22.767989349738453, 22.767979629050245, 22.767979629050245, 22.767979629050245, 41.5239557115097, 25.41390331219108, 69.70432392221659, 116.0970439899446, 39.99203476787349, 26.05314694599968, 49.58148684169418, 30.748427356886296, 110.33071974883768, 334.33766472377994, 102.16721945657744, 26.501215032850656, 58.28256988781922, 29.958687660842088, 44.74876127793215, 174.19097078008096, 40.63448622740404, 227.65154354528394, 98.0439590093745, 270.80460370096995, 78.70766541783415, 126.94490826121823, 69.5183869966803, 53.62262094217069, 126.0725921827521, 112.2091250648771, 103.5751700768385, 88.82638050334484, 81.66013348970053, 63.332782388464246, 144.99602136997242, 167.95118002328965, 112.62437613098487, 80.07548083283483, 87.78027574590818, 125.24433293504697, 118.21058211235881, 116.26286420993932, 103.29604658391285, 86.53055113139813, 123.52425911978455, 104.48151653700691, 111.13064412853385, 116.22623274941036, 84.26779414326582, 82.33559393794032, 109.52179874046668, 109.52179874046668, 108.57889916257973, 108.57874814391948, 108.57831072437122, 112.30402870662746, 105.74990665265877, 104.80693285730595, 104.80690044441441, 104.80681675157301, 103.863942918726, 103.86394291872605, 103.86394291872595, 103.86394291872602, 103.863942918726, 103.863942918726, 103.863942918726, 103.863942918726, 103.863942918726, 103.863942918726, 103.863942918726, 103.86394291872595, 103.86394291872595, 103.863942918726, 103.863942918726, 103.86394291872602, 103.86394291872593, 103.86394291872593, 94.43399960451623, 94.43399960451626, 94.43399960451626, 94.43399960451625, 141.84621436135717, 331.1880109244944, 378.7757809764481, 144.96325994768748, 156.48421502418105, 106.225014130063, 341.58690546112757, 180.04530650545686, 218.22290134322512, 162.16831191999466, 246.0125052238143, 122.9266247841924, 158.0276102521367, 187.660840823271, 134.51646481399683, 132.70199591083667, 171.16426509855265, 148.41200882223234, 121.851650255618, 115.45919548764525, 123.47975910248661, 144.00768397521765, 129.47385697629971, 146.48939194721248, 137.08262957028495, 129.254663876833, 160.3381119202344, 132.68229296407196, 126.32225225251968, 121.62784910727768, 127.96934504547201, 157.01108960641255, 42.8334029782105, 42.8334029782105, 42.8334029782105, 42.8334029782105, 34.47887196316676, 29.83712948217211, 29.836959576534376, 27.05260148533508, 27.05250823452878, 26.124380576033182, 26.1242824449976, 26.12420966506965, 25.19607388243463, 24.26784558285364, 24.26784558285364, 24.26784558285364, 24.26784558285364, 24.26784558285364, 24.26784558285364, 24.26784558285364, 24.26784558285364, 24.26784558285364, 24.26784558285364, 24.26784558285364, 24.26784558285364, 24.26784558285364, 24.26784558285364, 24.267770830180734, 22.411164273674206, 43.55079619362989, 37.16616891940006, 30.43410119883417, 30.098764625483838, 49.28826823082363, 29.828052768007378, 39.98628387183455, 30.22543493306942, 42.140751892926296, 56.363944448559195, 130.07199819845678, 43.672174713405646, 49.98858804546388, 49.3868877923876, 62.31579298345868, 186.80015416029758, 79.943811736399, 52.24476279057167, 49.95876020982049, 144.78179860803118, 85.61286226252336, 52.35550465617676, 131.14101882659963, 126.55119431681437, 105.74078001881084, 105.46090465316078, 99.50884826416619, 96.18931473578418, 120.35937836070337, 96.82737194383766, 90.52892844103144, 89.05596508546142, 69.80838867725605, 77.42994644749749, 89.97807588976036, 76.38891577841707, 81.68115280049761, 81.08531103083239, 89.57357012218571, 68.63547078063148, 77.30688628267157, 63.62688457030728, 63.6375639563754, 68.49183955340075, 67.02069837428597, 66.72821308961343, 65.74510846773445, 74.83873211122945, 74.83873211122945, 74.83873211122945, 72.03727473049359, 46.82404226363402, 42.154841801603595, 41.22125325538748, 41.22072702500198, 40.287514823666314, 40.287514823666314, 40.287514823666314, 40.2875147666196, 40.28729563022172, 40.28710710727719, 39.35369820412752, 39.353698203978965, 39.353698203978965, 39.353698203978965, 39.35369814556228, 39.35369814556228, 39.35369814556228, 39.353624178134744, 39.353533515327335, 39.35343444223863, 38.419883831011326, 38.419881524848655, 38.419881524848655, 38.419881524848655, 38.419881524848655, 38.419881524848655, 38.419881524848655, 38.419881524848655, 38.419881524848655, 198.10371453208526, 38.419881524848655, 200.34244483656815, 38.419881524848655, 39.28273271753403, 83.51415321197248, 107.94635939896982, 160.10761030417459, 51.62312811488355, 284.77366081849226, 52.502120154128896, 46.267845452407805, 242.2614536945579, 261.5716289995443, 49.94359937363348, 154.38566149446754, 137.7750817629534, 107.14903396401533, 90.78315750801424, 90.1719746862325, 107.74927764383581, 79.49828768954474, 59.70401337302334, 60.7692916985853, 73.86721964330481, 58.24065526599246, 170.6789123798162, 100.4944640498496, 117.7274683637791, 70.19996182894673, 78.58364200153223, 74.38301656224242, 68.5003731690417, 66.77600025858015, 64.84977144107927, 63.952475661767814, 41.158407789905255, 40.2469450668917, 35.687489492955464, 34.77625779703442, 34.776257797034425, 34.77607046925041, 33.864717853780355, 33.86455968999551, 33.864532285680696, 33.86440528835189, 32.95310128642358, 32.953086927320214, 32.9530737673617, 32.95307045622041, 32.95306079507453, 32.953049723233356, 32.95301963486007, 32.95296819908179, 32.952970610970866, 32.95286117873109, 32.04136254935731, 32.04136254935731, 32.04136254935731, 32.04136254935731, 32.04136254935731, 32.04136254935731, 32.04136254935731, 32.04136254935731, 32.04136254935731, 32.04136254935731, 32.04136254935731, 32.04136254935731, 32.04136254935731, 32.04136254935731, 32.04136254935731, 32.04136254935731, 32.04136254935731, 32.04136254935731, 54.83068213657574, 32.04136254935731, 32.04136254935731, 32.04136254935731, 32.04136254935731, 32.04136254935731, 32.04136254935731, 32.04136254935731, 32.04136254935731, 32.04136254935731, 32.04136254935731, 32.04136254935731, 32.04136254935731, 32.04136254935731, 32.04136254935731, 32.04136254935731, 32.04136254935731, 32.04136254935731, 32.04136254935731, 32.04136254935731, 32.04136254935731, 32.04136254935731, 32.04136254935731, 32.04136254935731, 32.04136254935731, 32.04136254935731, 32.04136254935731, 32.04136254935731, 32.04136254935731, 32.04136254935731, 32.04136254935731, 32.04136254935731, 32.04136254935731, 32.04136254935731, 32.04136254935731, 32.04136254935731, 32.04136254935731, 32.04136254935731, 32.04136254935731, 32.04136254935731, 32.04136254935731, 32.04136254935731, 32.04136254935731, 32.04136254935731, 32.04136254935731, 32.04136254935731, 32.04136254935731, 32.04136254935731, 32.04136254935731, 32.04136254935731, 32.04136254935731, 32.04136254935731, 40.24734598690538, 32.04136254935731, 119.6048251766203, 32.04136254935731, 32.04136254935731, 32.04136254935731, 32.04136254935731, 32.04136254935731, 32.04136254935731, 98.3115340593128, 32.04136254935731, 32.04136254935731, 144.31279909612735, 49.80002118482997, 32.04136254935731, 32.04136254935731, 47.100053748529795, 34.44936254937013, 115.62854808214384, 144.25017551701683, 116.65892215982181, 149.4347154000774, 78.28399912978057, 67.7054557387359, 52.428909788964276, 46.33371679958682, 91.73464295666712, 70.03619251921194, 34.77636376459192, 73.37356922133279, 77.86336597469595, 56.194195303553414, 53.53733637184141, 72.44820576598235, 75.51434272999579, 45.27451654008584, 44.76196332618685, 39.47453251118577, 58.197658273079156, 44.17792627282557, 53.91740391711703, 66.05087718143534, 54.646378934269286, 51.5082825328687, 48.86497679320605, 48.08045332891116], \"Term\": [\"marketing\", \"system\", \"please\", \"com\", \"engineering\", \"accounting\", \"manage\", \"thank\", \"security\", \"science\", \"planning\", \"office\", \"minimum\", \"relevant\", \"production\", \"business\", \"interpersonal\", \"diploma\", \"sap\", \"levels\", \"apply\", \"record\", \"digital\", \"salary\", \"financial\", \"excel\", \"microsoft\", \"transactions\", \"computer science\", \"ea\", \"machine\", \"machine learning\", \"etl\", \"salesforce\", \"minimum qualifications\", \"algorithms\", \"software engineering\", \"selection\", \"matlab\", \"equivalent practical\", \"hadoop\", \"star\", \"may include\", \"exhaustive\", \"presentations\", \"selection criteria\", \"amended\", \"policies may\", \"include additional\", \"without notice\", \"may amended\", \"time without\", \"recruitment policies\", \"policies policies\", \"criteria exhaustive\", \"criteria based\", \"amended time\", \"prevailing recruitment\", \"star may\", \"exhaustive star\", \"spark\", \"bs\", \"eligibility criteria\", \"additional selection\", \"software development\", \"cross functional\", \"solutions\", \"scala\", \"deep\", \"solve\", \"based prevailing\", \"teams\", \"complex\", \"problems\", \"statistics\", \"deep understanding\", \"python\", \"cloud\", \"technical\", \"mathematics\", \"design\", \"development\", \"large\", \"plus\", \"cross\", \"project\", \"agile\", \"demonstrated\", \"understanding\", \"sql\", \"statistical\", \"build\", \"learning\", \"technology\", \"database\", \"tools\", \"business\", \"analysis\", \"analytics\", \"science\", \"software\", \"computer science\", \"project management\", \"engineering\", \"computer\", \"projects\", \"systems\", \"proven\", \"programming\", \"problem\", \"excellent\", \"environment\", \"communication skills\", \"including\", \"analytical\", \"solving\", \"required\", \"written\", \"minimum\", \"office applications\", \"kindly\", \"microsoft excel\", \"literate\", \"working field\", \"working attitude\", \"graduate diploma\", \"computer literate\", \"ting\", \"task fast\", \"bilingual\", \"training provided\", \"finance accounting\", \"mandarin speaking\", \"proficiency ms\", \"positive working\", \"liaise mandarin\", \"associates\", \"word powerpoint\", \"pleasant\", \"nicholas\", \"level diploma\", \"kindly send\", \"date availability\", \"data entry\", \"independently minimum\", \"excellent attention\", \"english mandarin\", \"office suite\", \"ite\", \"microsoft office\", \"meticulous\", \"multi task\", \"ms office\", \"ability multi\", \"excel powerpoint\", \"short notice\", \"office\", \"mandarin\", \"powerpoint\", \"excel word\", \"candidate must\", \"certificate\", \"positive\", \"task\", \"excel\", \"proficient ms\", \"proficient microsoft\", \"speaking\", \"must possess\", \"attitude\", \"diploma\", \"customer service\", \"independently\", \"english\", \"interpersonal\", \"ms\", \"proficient\", \"possess\", \"microsoft\", \"player\", \"team player\", \"multi\", \"interpersonal skills\", \"word\", \"detail\", \"must\", \"excellent\", \"minimum\", \"relevant\", \"level\", \"advantage\", \"communication skills\", \"analytical\", \"accounting\", \"written\", \"environment\", \"equivalent\", \"required\", \"well\", \"ey\", \"audit findings\", \"accounting information\", \"liabilities\", \"tax liabilities\", \"working world\", \"better working\", \"entries\", \"provide analysis\", \"firewall\", \"arising\", \"income tax\", \"vulnerabilities\", \"network security\", \"deficiencies\", \"certified information\", \"ey offers\", \"cisa\", \"taxable income\", \"taxable\", \"income income\", \"liabilities organisation\", \"annual financial\", \"coordinate annual\", \"plan coordinate\", \"audit process\", \"financial audit\", \"deficiencies arising\", \"arising audit\", \"issues deficiencies\", \"financial statements\", \"penetration\", \"income\", \"tax\", \"react\", \"wan\", \"information security\", \"routing\", \"audit\", \"security\", \"prepare\", \"auditors\", \"os\", \"notes\", \"possible\", \"web\", \"three years\", \"financial\", \"capital\", \"information\", \"information systems\", \"provide\", \"better\", \"css\", \"network\", \"server\", \"organisation\", \"accurate\", \"analyse\", \"accounts\", \"using\", \"systems\", \"java\", \"organisations\", \"ensure\", \"application\", \"performance\", \"support\", \"develop\", \"issues\", \"must\", \"accounting\", \"system\", \"business\", \"services\", \"development\", \"www facebook\", \"facebook com\", \"visit https\", \"interest position\", \"much\", \"alternatively\", \"alternatively please\", \"faster processing\", \"applicants relevant\", \"resume expected\", \"word resume\", \"available thank\", \"machspeed com\", \"agency license\", \"machspeed\", \"jobs available\", \"12c6200 ea\", \"license 12c6200\", \"machspeedhr jobs\", \"com machspeedhr\", \"12c6200\", \"thank much\", \"much agency\", \"relevant please\", \"machspeedhr\", \"send microsoft\", \"position applicants\", \"processing alternatively\", \"registration r1437671\", \"salary apply\", \"bingcheng\", \"r1437671\", \"please visit\", \"thank\", \"please\", \"visit\", \"please send\", \"ea registration\", \"com\", \"www\", \"salary\", \"send\", \"apply\", \"microsoft word\", \"license\", \"ea\", \"https\", \"registration\", \"resume\", \"applicants\", \"agency\", \"facebook\", \"jobs\", \"sg\", \"expected salary\", \"position\", \"expected\", \"interest\", \"relevant\", \"word\", \"may\", \"com sg\", \"microsoft\", \"uf0b7\", \"bluechipcareers\", \"bluechipcareers asia\", \"www bluechipcareers\", \"asia com\", \"taiger\", \"reasons leaving\", \"employments\", \"availability current\", \"jobsbank\", \"salary reasons\", \"license number\", \"please write\", \"independent individual\", \"number 17c8690\", \"please provide\", \"write jobsbank\", \"17c8690\", \"jobsbank detailed\", \"relevant manufacturing\", \"format ea\", \"leaving previous\", \"previous employments\", \"provide availability\", \"17c8690 please\", \"individual interested\", \"manufacturing electronics\", \"industry communication\", \"apply https\", \"us https\", \"gas\", \"oil gas\", \"reasons\", \"words format\", \"resume ms\", \"electronics industry\", \"oil\", \"ms words\", \"clinical\", \"chemical\", \"research\", \"detailed resume\", \"current expected\", \"electronics\", \"asia\", \"engineering\", \"current\", \"format\", \"interested applicants\", \"science\", \"year\", \"ea license\", \"computer\", \"minimum\", \"please\", \"equivalent\", \"advantage\", \"computer science\", \"relevant\", \"diploma\", \"ms\", \"marketing\", \"interested\", \"interpersonal skills\", \"industry\", \"candidate\", \"com\", \"interpersonal\", \"excellent\", \"ea\", \"written\", \"added\", \"expected\", \"bachelor\", \"team player\", \"player\", \"technology\", \"events relating\", \"transactions events\", \"record transactions\", \"organisations accounting\", \"month end\", \"assign\", \"end closing\", \"balances\", \"records statements\", \"accurate financial\", \"system maintain\", \"transactions accounting\", \"documentation used\", \"payables\", \"compile relevant\", \"timely data\", \"enter accurate\", \"data accounting\", \"codes transactions\", \"account codes\", \"assign account\", \"purchases\", \"customer supplier\", \"accruals\", \"relating sales\", \"used banking\", \"supplier account\", \"business documentation\", \"totals compile\", \"reconcile totals\", \"account balances\", \"totals\", \"calculate customer\", \"accounting system\", \"banking processes\", \"transactions\", \"balances reconcile\", \"managements\", \"relating\", \"events\", \"media\", \"digital marketing\", \"marketing\", \"cash\", \"equal\", \"accounting\", \"system\", \"channels\", \"record\", \"digital\", \"account\", \"accurate\", \"career\", \"use\", \"organisations\", \"status\", \"content\", \"social\", \"used\", \"business\", \"process\", \"relevant\", \"activities\", \"sales\", \"financial\", \"within\", \"manage\", \"tools\", \"organisation manage\", \"workplace safety\", \"safety health\", \"management organisation\", \"make hiring\", \"hiring decisions\", \"key metrics\", \"disputes\", \"bottlenecks\", \"dynamically\", \"grievances\", \"cycle time\", \"sustainability manufacturing\", \"manage balance\", \"sales forecast\", \"inventory levels\", \"manufacturing processes\", \"manpower resources\", \"system compliance\", \"practises\", \"cut\", \"planning assumptions\", \"plan production\", \"enterprise evaluate\", \"learning plan\", \"evaluate organisations\", \"evaluate sustainability\", \"evaluate workplace\", \"reduce working\", \"balance production\", \"interviews make\", \"priorities dynamically\", \"loading performance\", \"process preparing\", \"enhance engineering\", \"processes reduce\", \"principles methodology\", \"engineering performance\", \"product cycle\", \"00\", \"use big\", \"resolve workplace\", \"innovation practises\", \"bottlenecks manage\", \"performance commitments\", \"manage manufacturing\", \"manage material\", \"performance lead\", \"programme develop\", \"manage innovation\", \"progress levels\", \"dynamically set\", \"levels product\", \"operation planning\", \"forecast production\", \"optimise inventory\", \"plans evaluate\", \"organisations approach\", \"improvement improve\", \"develop workplace\", \"develop job\", \"determine priorities\", \"assumptions progress\", \"analyse production\", \"account sales\", \"including loading\", \"production efficiencies\", \"production plan\", \"production requirement\", \"efficiencies conduct\", \"preparing rough\", \"requirements planning\", \"requirement manpower\", \"set planning\", \"material requirements\", \"workplace learning\", \"towards lean\", \"improve operation\", \"approach towards\", \"training programme\", \"quality principles\", \"disputes review\", \"capacity plans\", \"capacity resolve\", \"planning use\", \"planning taking\", \"workplace grievances\", \"practises organisation\", \"grievances disputes\", \"production capacity\", \"lean enterprise\", \"sustainability\", \"manufacturing process\", \"workplace\", \"rough\", \"delivery bottlenecks\", \"decisions determine\", \"rough cut\", \"capital optimise\", \"integrate quality\", \"evaluate\", \"identification analyse\", \"modelling integrate\", \"production\", \"forecast\", \"methodology enhance\", \"review manufacturing\", \"manpower\", \"lead change\", \"manufacturing\", \"planning\", \"sap\", \"manage\", \"plan\", \"capacity\", \"safety\", \"pm\", \"levels\", \"analyse\", \"optimise\", \"organisation\", \"develop\", \"compliance\", \"plans\", \"performance\", \"time\", \"inventory\", \"migration\", \"management system\", \"use\", \"health\", \"quality\", \"business\", \"system\", \"process\", \"job\", \"learning\"], \"Total\": [592.0, 846.0, 743.0, 735.0, 1168.0, 652.0, 586.0, 348.0, 515.0, 997.0, 422.0, 620.0, 1084.0, 1281.0, 254.0, 2057.0, 760.0, 727.0, 306.0, 351.0, 659.0, 397.0, 343.0, 445.0, 644.0, 638.0, 711.0, 218.0, 659.0, 416.0, 274.8994231353995, 262.04237118812387, 135.44890135414812, 105.77758337751645, 85.99672109463624, 101.80984245004176, 77.09864248270348, 71.16328739539611, 66.21959451077865, 72.14796938774337, 148.2400609190363, 59.29659249711884, 59.296568251342265, 57.31858410824603, 57.31853461221195, 55.34057745460775, 54.35157507080555, 54.35157507080555, 54.35157507080555, 54.35157507080555, 54.35157507080555, 54.35157507080555, 54.35157507080555, 54.35157507080555, 54.35157507080555, 54.35157507080555, 54.35157507080555, 54.35157507080555, 54.35157507080555, 54.35157507080555, 163.0024132912391, 95.85377022724089, 54.35157507080555, 54.35157507080555, 163.93927624465385, 112.65929095162657, 549.0274940238542, 69.16378376707354, 233.84670415824462, 91.86455116052004, 54.35157507080555, 442.8397753749696, 378.52567256539635, 224.89425207509487, 219.84603954533998, 63.23368099632208, 468.78281628116696, 344.7854901695495, 902.1682001815485, 161.93492949373447, 756.1850649163532, 1099.3728152294298, 318.98683767938024, 686.7108163507041, 191.4264584661407, 822.8864244158461, 255.90931102260976, 350.53413498907736, 1109.1100092489764, 613.7986132095932, 189.60078846560077, 267.7992486577398, 559.5813783893892, 849.4090639190559, 373.2407221379285, 774.638732645128, 2057.9356495329107, 823.6028064282914, 462.85189773700307, 997.373749424615, 835.5913355185725, 659.8448117079549, 392.1316456498265, 1168.8626395677384, 1096.4811650755346, 564.615330566976, 913.4906013176461, 493.66328406236215, 498.858611603213, 735.6074389886288, 1394.8007841408976, 1111.1287264560622, 1001.2873691142911, 669.7196004074698, 919.6159258519822, 641.0019091951473, 805.0463324317761, 865.1483195206044, 1084.6271737286847, 93.93466758619083, 78.4364317304629, 76.50123992545592, 61.969575042374224, 60.0322916920271, 54.22041489081481, 54.219977377705376, 52.28318117944801, 39.69089439591837, 41.62573599864078, 37.75361867960512, 37.75360186629143, 40.65594792605206, 36.78498903031798, 35.81634720449079, 35.8125422195148, 31.94179668050475, 31.941795500171885, 31.94171966522006, 30.973147526623737, 30.004518087219875, 30.004511907878832, 29.035879089895076, 29.035863468480194, 29.035839022280687, 30.97452045332042, 27.098604381551024, 89.03308969766093, 34.84057953579756, 26.129953453165722, 272.6308240423372, 288.92285568187697, 202.57057995047705, 206.81970723481743, 95.9494322258261, 87.22684650588963, 70.61408305688124, 620.711714317684, 207.5944231437103, 194.10189225035518, 65.86534683504497, 131.60580116212506, 62.8131230902069, 258.6998412717915, 249.24207562586014, 638.5280710655474, 103.14742223801608, 149.3665549510114, 118.24397067879305, 123.86566244675188, 343.4362580133623, 727.1938640661465, 141.64331124250134, 520.4128112391677, 656.7106616149978, 760.6126122337921, 608.5995456192538, 563.5712672397834, 684.2379418311982, 711.2510982787353, 610.8390804643655, 603.0662783548197, 401.94834628760975, 429.3926520501104, 410.5426190097263, 377.3213151789912, 868.6128814935886, 1394.8007841408976, 1084.6271737286847, 1281.2535189436335, 665.7363300310129, 699.852696243422, 1001.2873691142911, 919.6159258519822, 652.4689905608409, 865.1483195206044, 1111.1287264560622, 742.5890151869253, 805.0463324317761, 602.676584024532, 69.78822606296472, 45.26884736370235, 44.325794499894585, 39.61052989022969, 38.667477203245035, 36.78137265552664, 36.78137265552664, 35.838321310493306, 31.123053914212306, 33.95082409279926, 29.23694660545581, 29.236951500468837, 29.236952065233822, 29.240674103172374, 26.407791839470452, 24.52168537634252, 24.52168511343999, 24.521692698086248, 23.57863089782356, 23.57863089782356, 23.57863089782356, 23.57863089782356, 23.578630897822105, 23.578630897822105, 23.578630897822105, 23.578630897822105, 23.578630897822105, 23.578630776129465, 23.578630776129465, 23.578630776129465, 43.37249644756991, 26.41670338314762, 78.42900039996371, 138.0565279275621, 43.39474781519996, 27.34322636966034, 55.89824207379791, 33.07278928994232, 141.37850476810735, 515.2400184322532, 135.2984094779133, 28.284297260439807, 77.98621523578515, 33.11824317820732, 56.0732403715161, 393.9389351816167, 51.31663631174193, 644.1527583781555, 192.18492090728887, 912.5475059235013, 141.97332504033628, 300.0704531914792, 118.35484307736945, 80.25697221046298, 328.5556275238442, 279.8233396944409, 251.7285269464582, 197.82203128856662, 191.00233687399532, 115.22712509003388, 627.7086004646889, 913.4906013176461, 398.35869526105034, 196.0961206194025, 239.5656124853843, 566.8206026870309, 499.95674811448225, 560.670711491542, 458.7348592053246, 293.6343712330879, 868.6128814935886, 652.4689905608409, 846.0409984490334, 2057.9356495329107, 511.6312015652346, 1099.3728152294298, 110.33262112088136, 110.33262112088136, 109.38962724631968, 109.38962705259782, 109.38964118507371, 113.1628772306065, 106.56064565215189, 105.61765207980339, 105.61765295070069, 105.61765462386695, 104.67465836366003, 104.67465836366009, 104.67465836365999, 104.67465836366006, 104.67465836366003, 104.67465836366003, 104.67465836366003, 104.67465836366003, 104.67465836366003, 104.67465836366003, 104.67465836366003, 104.67465836365999, 104.67465836365999, 104.67465836366003, 104.67465836366003, 104.67465836366006, 104.67465836365996, 104.67465836365996, 95.24472183768744, 95.24472183768746, 95.24472183768746, 95.24472183768745, 144.3245383958398, 348.8179966705753, 743.6862375686375, 176.14647658633385, 199.17799640839368, 108.48499602074583, 735.9731370672222, 268.9730949817169, 445.74824722332744, 268.25439034919367, 659.5443852495528, 150.65089230037867, 275.60205126573896, 416.2812058824745, 206.81504337358962, 201.9848302556365, 461.8754503122917, 322.1466914229681, 175.0439873977417, 147.9345119335709, 189.45891334126034, 336.71164063458235, 230.67123752151448, 420.06933453256534, 318.4682542617669, 306.6666314431215, 1281.2535189436335, 410.5426190097263, 358.04558545809147, 269.25540966617325, 711.2510982787353, 157.8244032162891, 43.646161056010186, 43.646161056010186, 43.646161056010186, 43.646161056010186, 35.29165758760933, 30.650271051604662, 30.650287899770674, 27.86543402532394, 27.86543596982681, 26.937153279171564, 26.93715632593003, 26.937156779100228, 26.008876578781813, 25.080595874876984, 25.080595874876984, 25.080595874876984, 25.080595874876984, 25.080595874876984, 25.080595874876984, 25.080595874876984, 25.080595874876984, 25.080595874876984, 25.080595874876984, 25.080595874876984, 25.080595874876984, 25.080595874876984, 25.080595874876984, 25.080600359455374, 23.22404219880108, 48.37230866924827, 40.95934497872626, 33.448201686058056, 33.54479928058606, 68.17782204268435, 33.61749127601662, 52.517648958833455, 35.47657021008296, 60.3005808798892, 105.16850358921789, 464.41119854974806, 71.65670870142056, 94.5800763922171, 92.5539478905486, 145.86573604262117, 1168.8626395677384, 252.44145920286755, 111.56278689710669, 103.95596744424058, 997.373749424615, 379.47262909991133, 125.40808992752275, 1096.4811650755346, 1084.6271737286847, 743.6862375686375, 742.5890151869253, 699.852696243422, 659.8448117079549, 1281.2535189436335, 727.1938640661465, 608.5995456192538, 592.1963926944201, 303.7652244562252, 429.3926520501104, 734.3988643411233, 466.5862754937888, 735.9731370672222, 760.6126122337921, 1394.8007841408976, 416.2812058824745, 865.1483195206044, 317.0968714666261, 318.4682542617669, 563.3216025953162, 603.0662783548197, 610.8390804643655, 849.4090639190559, 75.6506912555895, 75.6506912555895, 75.6506912555895, 72.8492415030705, 47.63619640438376, 42.96712315722873, 42.03329446598208, 42.03330460372865, 41.09947627421143, 41.09947627421143, 41.09947627421143, 41.09947627633727, 41.0994844539013, 41.09948948668245, 40.16565965080655, 40.165659650806454, 40.165659650806454, 40.165659650806454, 40.16565965298332, 40.16565965298332, 40.16565965298332, 40.16566180938863, 40.16566644202123, 40.16567081384694, 39.231842974381685, 39.231843029592234, 39.231843029592234, 39.231843029592234, 39.231843029592234, 39.231843029592234, 39.231843029592234, 39.231843029592234, 39.231843029592234, 212.59073969194253, 39.231843029592234, 218.696451115027, 39.231843029592234, 40.16527554432598, 96.47438710986155, 131.00798295880543, 237.61180754463533, 57.212289606404845, 592.1963926944201, 60.02905490649445, 50.63606876942348, 652.4689905608409, 846.0409984490334, 59.145672458923585, 397.1663353791404, 343.73594705838707, 245.54442069213928, 197.82203128856662, 228.86124813023773, 386.88376033266775, 196.0961206194025, 102.15097069323213, 107.66522759798873, 172.71356801255067, 101.10396104124443, 2057.9356495329107, 619.6648749281101, 1281.2535189436335, 217.88376438671673, 523.3707244611417, 644.1527583781555, 480.96592341192815, 586.7824382796484, 774.638732645128, 64.76758767072636, 41.97395445941801, 41.06219800052193, 36.50349044597283, 35.591721937850956, 35.59172193785097, 35.59174296992493, 34.67997462957715, 34.67998372167813, 34.6799847818759, 34.67998583234829, 33.7682209354661, 33.76822200187558, 33.76822360188715, 33.76822218227218, 33.76822326625345, 33.76822563869324, 33.76822525147734, 33.76822534328677, 33.768229023825874, 33.76824085985324, 32.856474558338505, 32.856474558338505, 32.856474558338505, 32.856474558338505, 32.856474558338505, 32.856474558338505, 32.856474558338505, 32.856474558338505, 32.856474558338505, 32.856474558338505, 32.856474558338505, 32.856474558338505, 32.856474558338505, 32.856474558338505, 32.856474558338505, 32.856474558338505, 32.856474558338505, 32.856474558338505, 56.58421394678019, 32.856474558338505, 32.856474558338505, 32.856474558338505, 32.856474558338505, 32.856474558338505, 32.856474558338505, 32.856474558338505, 32.856474558338505, 32.856474558338505, 32.856474558338505, 32.856474558338505, 32.856474558338505, 32.856474558338505, 32.856474558338505, 32.856474558338505, 32.856474558338505, 32.856474558338505, 32.856474558338505, 32.856474558338505, 32.856474558338505, 32.856474558338505, 32.856474558338505, 32.856474558338505, 32.856474558338505, 32.856474558338505, 32.856474558338505, 32.856474558338505, 32.856474558338505, 32.856474558338505, 32.856474558338505, 32.856474558338505, 32.856474558338505, 32.856474558338505, 32.856474558338505, 32.856474558338505, 32.856474558338505, 32.856474558338505, 32.856474558338505, 32.856474558338505, 32.856474558338505, 32.856474558338505, 32.856474558338505, 32.856474558338505, 32.856474558338505, 32.856474558338505, 32.856474558338505, 32.856474558338505, 32.856474558338505, 32.856474558338505, 32.856474558338505, 32.856474558338505, 42.94820073078282, 32.856474558338505, 156.2249985076197, 32.856474558338505, 32.856474558338505, 32.856474558338505, 32.856474558338505, 32.856474558338505, 32.856474558338505, 137.59941250377324, 32.856474558338505, 32.856474558338505, 254.65118209464057, 60.55208023127329, 32.856474558338505, 32.856474558338505, 57.101398400760075, 36.53348405626807, 221.74783327826384, 422.33099386898726, 306.2024167949771, 586.7824382796484, 191.82941964922114, 150.81272920266386, 89.83857452908919, 70.6867957341401, 351.4164063948887, 191.00233687399532, 38.4208909628739, 251.7285269464582, 458.7348592053246, 184.19334841430216, 161.12752177865366, 499.95674811448225, 655.368514618107, 98.57554664077577, 98.61016664621299, 61.458919920121474, 386.88376033266775, 112.68979931849158, 355.4151397004902, 2057.9356495329107, 846.0409984490334, 619.6648749281101, 510.3987926163582, 559.5813783893892], \"loglift\": [30.0, 29.0, 28.0, 27.0, 26.0, 25.0, 24.0, 23.0, 22.0, 21.0, 20.0, 19.0, 18.0, 17.0, 16.0, 15.0, 14.0, 13.0, 12.0, 11.0, 10.0, 9.0, 8.0, 7.0, 6.0, 5.0, 4.0, 3.0, 2.0, 1.0, 0.78, 0.7799, 0.7768, 0.7749, 0.773, 0.7729, 0.7724, 0.7712, 0.7707, 0.7705, 0.7699, 0.7693, 0.7693, 0.7688, 0.7688, 0.7683, 0.768, 0.768, 0.768, 0.768, 0.768, 0.768, 0.768, 0.768, 0.768, 0.768, 0.768, 0.768, 0.768, 0.768, 0.7641, 0.7671, 0.768, 0.768, 0.7536, 0.7571, 0.7243, 0.7646, 0.74, 0.7585, 0.768, 0.7238, 0.7279, 0.7379, 0.7309, 0.7639, 0.7037, 0.7121, 0.668, 0.7311, 0.669, 0.6508, 0.6978, 0.6583, 0.7222, 0.6286, 0.6983, 0.6792, 0.5951, 0.6215, 0.7152, 0.6871, 0.6146, 0.5714, 0.6469, 0.5597, 0.432, 0.5454, 0.6162, 0.5003, 0.5019, 0.5399, 0.6163, 0.3945, 0.4005, 0.5293, 0.4053, 0.5558, 0.5495, 0.4079, 0.1187, 0.2041, 0.2066, 0.3753, 0.1848, 0.3853, 0.2047, 0.1219, -0.1203, 1.6082, 1.6065, 1.6049, 1.6037, 1.6033, 1.6018, 1.6015, 1.6013, 1.5963, 1.5962, 1.5952, 1.5952, 1.5947, 1.5947, 1.594, 1.5923, 1.5912, 1.5912, 1.5912, 1.5904, 1.5896, 1.5896, 1.5886, 1.5886, 1.5886, 1.5882, 1.5866, 1.5858, 1.5856, 1.5855, 1.5698, 1.5562, 1.5631, 1.5618, 1.568, 1.564, 1.5659, 1.4919, 1.505, 1.5056, 1.5594, 1.5233, 1.5519, 1.4551, 1.4417, 1.329, 1.4964, 1.4559, 1.4784, 1.4725, 1.3534, 1.2589, 1.4443, 1.2296, 1.1841, 1.134, 1.1718, 1.1646, 1.1045, 1.0877, 1.0214, 1.012, 1.1247, 1.1034, 1.0844, 1.1054, 0.7953, 0.6073, 0.6594, 0.5732, 0.8214, 0.7952, 0.5785, 0.5941, 0.7973, 0.5921, 0.4165, 0.664, 0.579, 0.7198, 2.2949, 2.2885, 2.2881, 2.2859, 2.2854, 2.2843, 2.2843, 2.2837, 2.2802, 2.2797, 2.2784, 2.2784, 2.2784, 2.2756, 2.2754, 2.2729, 2.2729, 2.2729, 2.2716, 2.2716, 2.2716, 2.2716, 2.2716, 2.2716, 2.2716, 2.2716, 2.2716, 2.2716, 2.2716, 2.2716, 2.263, 2.2679, 2.1886, 2.1333, 2.2249, 2.2582, 2.1866, 2.2337, 2.0586, 1.8741, 2.0257, 2.2414, 2.0153, 2.2063, 2.081, 1.4905, 2.0732, 1.2664, 1.6335, 1.0917, 1.7167, 1.4463, 1.7745, 1.9033, 1.3487, 1.3928, 1.4185, 1.5059, 1.4568, 1.7081, 0.8412, 0.613, 1.0433, 1.4109, 1.3026, 0.7968, 0.8645, 0.7333, 0.8157, 1.0847, 0.3561, 0.4748, 0.2767, -0.5674, 0.503, -0.2851, 2.5951, 2.5951, 2.5951, 2.5951, 2.5951, 2.5949, 2.5949, 2.5948, 2.5948, 2.5948, 2.5947, 2.5947, 2.5947, 2.5947, 2.5947, 2.5947, 2.5947, 2.5947, 2.5947, 2.5947, 2.5947, 2.5947, 2.5947, 2.5947, 2.5947, 2.5947, 2.5947, 2.5947, 2.594, 2.594, 2.594, 2.594, 2.5852, 2.5506, 1.9278, 2.4077, 2.3613, 2.5815, 1.8349, 2.2011, 1.8883, 2.0992, 1.6163, 2.3991, 2.0463, 1.8058, 2.1724, 2.1824, 1.6098, 1.8275, 2.2403, 2.3547, 2.1744, 1.7532, 2.025, 1.549, 1.7596, 1.7385, 0.5242, 1.473, 1.5607, 1.8078, 0.8873, 2.7415, 2.7278, 2.7278, 2.7278, 2.7278, 2.7233, 2.7197, 2.7197, 2.717, 2.717, 2.716, 2.716, 2.716, 2.7149, 2.7137, 2.7137, 2.7137, 2.7137, 2.7137, 2.7137, 2.7137, 2.7137, 2.7137, 2.7137, 2.7137, 2.7137, 2.7137, 2.7137, 2.7137, 2.711, 2.6416, 2.6494, 2.6522, 2.6382, 2.4222, 2.627, 2.474, 2.5864, 2.3883, 2.1229, 1.4739, 2.2515, 2.109, 2.1185, 1.8962, 0.9129, 1.5968, 1.988, 2.0139, 0.8167, 1.2577, 1.8731, 0.623, 0.5983, 0.796, 0.7948, 0.796, 0.8209, 0.3815, 0.7304, 0.8411, 0.8521, 1.2761, 1.0336, 0.6471, 0.937, 0.5483, 0.508, 0.0012, 0.9441, 0.3315, 1.1405, 1.1363, 0.6395, 0.5496, 0.5324, 0.1879, 2.7466, 2.7466, 2.7466, 2.7462, 2.7402, 2.7383, 2.7379, 2.7379, 2.7375, 2.7375, 2.7375, 2.7375, 2.7375, 2.7375, 2.737, 2.737, 2.737, 2.737, 2.737, 2.737, 2.737, 2.737, 2.737, 2.737, 2.7365, 2.7365, 2.7365, 2.7365, 2.7365, 2.7365, 2.7365, 2.7365, 2.7365, 2.6869, 2.7365, 2.6698, 2.7365, 2.7352, 2.6132, 2.5638, 2.3626, 2.6546, 2.0253, 2.6235, 2.6672, 1.7667, 1.5836, 2.5883, 1.8125, 1.8432, 1.9282, 1.9785, 1.826, 1.4791, 1.8546, 2.2204, 2.1855, 1.9081, 2.2059, 0.2678, 0.9384, 0.3702, 1.6248, 0.8613, 0.5987, 0.8085, 0.5841, 0.2771, 3.131, 3.124, 3.1236, 3.121, 3.1204, 3.1204, 3.1204, 3.1198, 3.1198, 3.1198, 3.1198, 3.1192, 3.1192, 3.1192, 3.1192, 3.1192, 3.1192, 3.1192, 3.1192, 3.1192, 3.1192, 3.1185, 3.1185, 3.1185, 3.1185, 3.1185, 3.1185, 3.1185, 3.1185, 3.1185, 3.1185, 3.1185, 3.1185, 3.1185, 3.1185, 3.1185, 3.1185, 3.1185, 3.1185, 3.1121, 3.1185, 3.1185, 3.1185, 3.1185, 3.1185, 3.1185, 3.1185, 3.1185, 3.1185, 3.1185, 3.1185, 3.1185, 3.1185, 3.1185, 3.1185, 3.1185, 3.1185, 3.1185, 3.1185, 3.1185, 3.1185, 3.1185, 3.1185, 3.1185, 3.1185, 3.1185, 3.1185, 3.1185, 3.1185, 3.1185, 3.1185, 3.1185, 3.1185, 3.1185, 3.1185, 3.1185, 3.1185, 3.1185, 3.1185, 3.1185, 3.1185, 3.1185, 3.1185, 3.1185, 3.1185, 3.1185, 3.1185, 3.1185, 3.1185, 3.1185, 3.1185, 3.0787, 3.1185, 2.8765, 3.1185, 3.1185, 3.1185, 3.1185, 3.1185, 3.1185, 2.8074, 3.1185, 3.1185, 2.5757, 2.9481, 3.1185, 3.1185, 2.9511, 3.0849, 2.4925, 2.0694, 2.1786, 1.7758, 2.2474, 2.3427, 2.6051, 2.7212, 1.8005, 2.1403, 3.044, 1.9108, 1.3701, 1.9564, 2.0418, 1.212, 0.9827, 2.3655, 2.3538, 2.7009, 1.2493, 2.2072, 1.2578, -0.2954, 0.4039, 0.6562, 0.7975, 0.6893], \"logprob\": [30.0, 29.0, 28.0, 27.0, 26.0, 25.0, 24.0, 23.0, 22.0, 21.0, 20.0, 19.0, 18.0, 17.0, 16.0, 15.0, 14.0, 13.0, 12.0, 11.0, 10.0, 9.0, 8.0, 7.0, 6.0, 5.0, 4.0, 3.0, 2.0, 1.0, -6.4354, -6.4834, -7.1464, -7.3956, -7.6045, -7.4358, -7.7143, -7.7956, -7.8681, -7.7826, -7.0631, -7.98, -7.98, -8.0144, -8.0144, -8.05, -8.0683, -8.0683, -8.0683, -8.0683, -8.0683, -8.0683, -8.0683, -8.0683, -8.0683, -8.0683, -8.0683, -8.0683, -8.0683, -8.0683, -6.9739, -7.5019, -8.0683, -8.0683, -6.9787, -7.3503, -5.7994, -7.8307, -6.6372, -7.553, -8.0683, -6.0148, -6.1677, -6.6782, -6.708, -7.9211, -5.978, -6.2768, -5.359, -7.0135, -5.5345, -5.1785, -6.3689, -5.6416, -6.8551, -5.4904, -6.5887, -6.2931, -5.2254, -5.7907, -6.8717, -6.5545, -5.89, -5.5159, -6.2627, -5.6197, -4.7704, -5.5728, -6.0782, -5.4264, -5.6017, -5.7999, -6.2439, -5.3735, -5.4315, -5.9663, -5.6093, -6.0742, -6.07, -5.8232, -5.4726, -5.6145, -5.7161, -5.9496, -5.8231, -5.9835, -5.9362, -5.947, -5.9631, -6.681, -6.863, -6.8896, -7.1014, -7.1336, -7.2369, -7.2373, -7.2739, -7.5544, -7.5069, -7.6055, -7.6055, -7.532, -7.6321, -7.6594, -7.6612, -7.7766, -7.7767, -7.7767, -7.8083, -7.8409, -7.8409, -7.8746, -7.8746, -7.8747, -7.8104, -7.9457, -6.757, -7.6954, -7.9833, -5.6538, -5.6095, -5.9576, -5.9382, -6.7, -6.7993, -7.0087, -4.909, -5.9912, -6.0578, -7.0848, -6.4287, -7.1398, -5.8211, -5.8717, -5.0436, -6.6992, -6.3695, -6.5806, -6.5401, -5.6394, -4.9837, -6.4342, -5.3476, -5.1604, -5.0637, -5.2489, -5.3329, -5.199, -5.177, -5.3955, -5.4178, -5.7108, -5.666, -5.73, -5.7933, -5.2696, -4.984, -5.1834, -5.103, -5.5095, -5.4857, -5.3443, -5.4137, -5.5537, -5.4768, -5.4021, -5.5577, -5.5619, -5.7106, -6.2915, -6.7307, -6.7521, -6.8668, -6.8914, -6.9425, -6.9425, -6.9691, -7.1137, -7.0272, -7.1779, -7.1779, -7.178, -7.1806, -7.2828, -7.3593, -7.3593, -7.3593, -7.3999, -7.3999, -7.3999, -7.3999, -7.3999, -7.3999, -7.3999, -7.3999, -7.3999, -7.3999, -7.3999, -7.3999, -6.799, -7.2899, -6.281, -5.7708, -6.8366, -7.2651, -6.6216, -7.0994, -5.8218, -4.7131, -5.8986, -7.248, -6.4599, -7.1254, -6.7242, -5.3651, -6.8206, -5.0974, -5.9398, -4.9238, -6.1595, -5.6815, -6.2836, -6.5433, -5.6884, -5.8049, -5.8849, -6.0386, -6.1227, -6.3768, -5.5485, -5.4016, -5.8012, -6.1423, -6.0504, -5.695, -5.7528, -5.7694, -5.8876, -6.0647, -5.7088, -5.8762, -5.8145, -5.7697, -6.0912, -6.1144, -5.5332, -5.5332, -5.5418, -5.5418, -5.5418, -5.5081, -5.5682, -5.5772, -5.5772, -5.5772, -5.5862, -5.5862, -5.5862, -5.5862, -5.5862, -5.5862, -5.5862, -5.5862, -5.5862, -5.5862, -5.5862, -5.5862, -5.5862, -5.5862, -5.5862, -5.5862, -5.5862, -5.5862, -5.6814, -5.6814, -5.6814, -5.6814, -5.2745, -4.4266, -4.2923, -5.2528, -5.1763, -5.5637, -4.3957, -5.0361, -4.8438, -5.1407, -4.7239, -5.4177, -5.1665, -4.9947, -5.3276, -5.3412, -5.0867, -5.2293, -5.4265, -5.4804, -5.4132, -5.2594, -5.3658, -5.2423, -5.3087, -5.3675, -5.152, -5.3413, -5.3905, -5.4283, -5.3775, -5.0289, -6.3279, -6.3279, -6.3279, -6.3279, -6.5448, -6.6894, -6.6894, -6.7874, -6.7874, -6.8223, -6.8223, -6.8223, -6.8585, -6.896, -6.896, -6.896, -6.896, -6.896, -6.896, -6.896, -6.896, -6.896, -6.896, -6.896, -6.896, -6.896, -6.896, -6.896, -6.9756, -6.3112, -6.4698, -6.6696, -6.6807, -6.1875, -6.6897, -6.3966, -6.6765, -6.3442, -6.0533, -5.2171, -6.3085, -6.1734, -6.1855, -5.953, -4.8551, -5.7039, -6.1292, -6.174, -5.1099, -5.6353, -6.1271, -5.2089, -5.2445, -5.4242, -5.4268, -5.4849, -5.5189, -5.2947, -5.5122, -5.5795, -5.5959, -5.8394, -5.7358, -5.5856, -5.7493, -5.6824, -5.6897, -5.5901, -5.8564, -5.7374, -5.9321, -5.932, -5.8585, -5.8802, -5.8845, -5.8994, -5.759, -5.759, -5.759, -5.7972, -6.228, -6.333, -6.3554, -6.3554, -6.3783, -6.3783, -6.3783, -6.3783, -6.3783, -6.3783, -6.4018, -6.4018, -6.4018, -6.4018, -6.4018, -6.4018, -6.4018, -6.4018, -6.4018, -6.4018, -6.4258, -6.4258, -6.4258, -6.4258, -6.4258, -6.4258, -6.4258, -6.4258, -6.4258, -4.7856, -6.4258, -4.7743, -6.4258, -6.4036, -5.6494, -5.3927, -4.9985, -6.1304, -4.4227, -6.1135, -6.2399, -4.5844, -4.5077, -6.1635, -5.0349, -5.1488, -5.4002, -5.5659, -5.5727, -5.3946, -5.6986, -5.985, -5.9673, -5.7721, -6.0098, -4.9346, -5.4643, -5.306, -5.823, -5.7102, -5.7651, -5.8475, -5.873, -5.9023, -5.53, -5.9708, -5.9932, -6.1134, -6.1393, -6.1393, -6.1393, -6.1658, -6.1658, -6.1658, -6.1658, -6.1931, -6.1931, -6.1931, -6.1931, -6.1931, -6.1931, -6.1931, -6.1931, -6.1931, -6.1931, -6.2212, -6.2212, -6.2212, -6.2212, -6.2212, -6.2212, -6.2212, -6.2212, -6.2212, -6.2212, -6.2212, -6.2212, -6.2212, -6.2212, -6.2212, -6.2212, -6.2212, -6.2212, -5.6839, -6.2212, -6.2212, -6.2212, -6.2212, -6.2212, -6.2212, -6.2212, -6.2212, -6.2212, -6.2212, -6.2212, -6.2212, -6.2212, -6.2212, -6.2212, -6.2212, -6.2212, -6.2212, -6.2212, -6.2212, -6.2212, -6.2212, -6.2212, -6.2212, -6.2212, -6.2212, -6.2212, -6.2212, -6.2212, -6.2212, -6.2212, -6.2212, -6.2212, -6.2212, -6.2212, -6.2212, -6.2212, -6.2212, -6.2212, -6.2212, -6.2212, -6.2212, -6.2212, -6.2212, -6.2212, -6.2212, -6.2212, -6.2212, -6.2212, -6.2212, -6.2212, -5.9931, -6.2212, -4.904, -6.2212, -6.2212, -6.2212, -6.2212, -6.2212, -6.2212, -5.1, -6.2212, -6.2212, -4.7162, -5.7802, -6.2212, -6.2212, -5.8359, -6.1487, -4.9378, -4.7166, -4.9289, -4.6813, -5.3278, -5.473, -5.7287, -5.8523, -5.1693, -5.4392, -6.1392, -5.3926, -5.3332, -5.6594, -5.7078, -5.4053, -5.3639, -5.8754, -5.8868, -6.0125, -5.6243, -5.9, -5.7007, -5.4978, -5.6873, -5.7464, -5.7991, -5.8153]}, \"token.table\": {\"Topic\": [6, 7, 4, 4, 5, 5, 1, 2, 1, 2, 3, 4, 6, 7, 6, 6, 7, 2, 3, 6, 7, 3, 6, 7, 1, 2, 3, 6, 6, 1, 2, 3, 6, 6, 1, 3, 5, 6, 7, 1, 2, 3, 4, 5, 1, 1, 2, 3, 4, 5, 7, 1, 2, 4, 6, 4, 1, 3, 5, 1, 4, 4, 1, 1, 1, 2, 3, 4, 6, 7, 7, 1, 2, 3, 4, 5, 6, 7, 1, 2, 3, 4, 5, 6, 7, 1, 2, 3, 5, 6, 7, 3, 1, 2, 4, 5, 6, 4, 1, 2, 3, 4, 5, 6, 7, 1, 2, 3, 4, 5, 6, 7, 5, 7, 3, 3, 1, 2, 3, 5, 6, 5, 6, 6, 2, 7, 1, 2, 5, 7, 1, 2, 3, 4, 3, 3, 3, 6, 5, 4, 1, 2, 3, 4, 5, 6, 7, 7, 6, 6, 6, 1, 1, 3, 5, 6, 3, 2, 4, 5, 5, 7, 7, 1, 5, 1, 3, 6, 1, 2, 3, 4, 5, 6, 7, 6, 6, 1, 2, 3, 4, 5, 6, 1, 2, 5, 1, 2, 3, 5, 7, 7, 7, 1, 2, 3, 4, 6, 7, 7, 1, 2, 3, 4, 5, 6, 7, 1, 4, 6, 2, 5, 6, 3, 1, 3, 4, 6, 1, 2, 4, 5, 3, 1, 4, 5, 1, 3, 5, 6, 1, 2, 4, 5, 6, 7, 4, 2, 4, 5, 7, 1, 2, 3, 4, 5, 6, 6, 1, 3, 5, 6, 1, 2, 3, 5, 7, 1, 2, 3, 4, 5, 7, 2, 1, 3, 4, 5, 7, 1, 2, 3, 6, 3, 1, 1, 1, 2, 3, 1, 2, 1, 3, 5, 1, 2, 3, 4, 5, 6, 2, 4, 5, 6, 1, 2, 3, 6, 7, 7, 6, 2, 1, 2, 3, 5, 6, 2, 7, 1, 3, 5, 1, 3, 3, 3, 7, 1, 2, 3, 5, 1, 2, 3, 5, 6, 1, 2, 3, 5, 6, 2, 4, 5, 7, 1, 2, 3, 4, 6, 7, 7, 7, 1, 3, 4, 5, 6, 7, 1, 2, 3, 6, 1, 2, 6, 1, 2, 3, 4, 5, 6, 7, 7, 7, 6, 7, 7, 1, 2, 3, 4, 5, 6, 1, 2, 4, 5, 6, 2, 4, 7, 1, 4, 5, 1, 5, 1, 5, 6, 1, 2, 3, 4, 5, 7, 7, 1, 2, 3, 4, 5, 6, 2, 3, 6, 7, 1, 3, 6, 6, 7, 3, 1, 2, 3, 4, 5, 6, 1, 6, 1, 2, 3, 5, 7, 1, 1, 1, 3, 6, 7, 7, 7, 7, 1, 4, 6, 6, 1, 2, 3, 4, 5, 6, 1, 2, 1, 2, 5, 1, 2, 3, 4, 5, 6, 2, 1, 1, 1, 2, 3, 4, 5, 6, 2, 4, 5, 6, 3, 3, 1, 4, 5, 6, 4, 4, 2, 1, 2, 3, 4, 5, 6, 3, 3, 6, 3, 1, 6, 7, 7, 2, 5, 6, 5, 2, 5, 6, 2, 7, 7, 1, 5, 1, 2, 5, 6, 7, 7, 1, 4, 5, 6, 7, 7, 7, 7, 1, 1, 2, 3, 5, 6, 7, 7, 2, 3, 5, 6, 3, 3, 5, 1, 2, 5, 2, 5, 1, 2, 3, 4, 5, 6, 5, 1, 2, 3, 4, 5, 6, 7, 1, 3, 1, 3, 5, 7, 7, 1, 2, 3, 4, 5, 6, 4, 1, 2, 3, 4, 5, 6, 7, 2, 4, 5, 6, 1, 2, 3, 5, 7, 1, 2, 5, 7, 7, 1, 2, 6, 7, 7, 1, 2, 3, 5, 3, 2, 1, 3, 5, 1, 2, 3, 4, 5, 6, 7, 1, 4, 5, 6, 4, 5, 5, 7, 2, 2, 1, 2, 3, 5, 6, 7, 7, 1, 2, 3, 5, 6, 7, 7, 5, 1, 2, 3, 4, 5, 6, 7, 2, 1, 2, 5, 7, 7, 3, 3, 2, 1, 2, 4, 5, 6, 4, 5, 2, 7, 1, 1, 4, 4, 4, 4, 7, 1, 2, 3, 6, 7, 7, 7, 7, 7, 7, 1, 2, 3, 6, 7, 6, 1, 2, 3, 6, 2, 2, 7, 7, 1, 2, 5, 7, 5, 7, 7, 1, 2, 5, 6, 7, 1, 2, 3, 1, 1, 2, 4, 5, 6, 7, 1, 1, 1, 2, 4, 5, 6, 7, 2, 5, 6, 1, 2, 3, 4, 5, 7, 2, 2, 3, 5, 2, 4, 1, 4, 5, 7, 1, 2, 3, 4, 5, 6, 1, 7, 6, 1, 2, 3, 4, 5, 6, 2, 5, 2, 5, 4, 4, 1, 2, 3, 4, 1, 2, 3, 1, 2, 3, 4, 5, 6, 7, 1, 2, 3, 5, 1, 2, 3, 5, 6, 3, 2, 1, 3, 5, 1, 2, 3, 5, 6, 2, 2, 1, 2, 5, 2, 5, 6, 7, 3, 7, 7, 1, 2, 3, 4, 5, 7, 7, 2, 3, 6, 7, 6, 7, 1, 2, 3, 4, 5, 6, 3, 1, 2, 3, 4, 5, 6, 7, 7, 7, 1, 2, 3, 6, 7, 3, 7, 1, 2, 3, 4, 5, 7, 7, 7, 7, 1, 3, 5, 6, 7, 7, 1, 2, 3, 4, 5, 7, 2, 1, 2, 3, 4, 5, 6, 7, 5, 2, 4, 5, 6, 2, 4, 5, 1, 2, 3, 5, 7, 1, 2, 5, 7, 1, 1, 1, 2, 3, 4, 5, 6, 7, 4, 1, 2, 5, 2, 1, 2, 3, 4, 5, 7, 1, 2, 3, 1, 2, 7, 7, 1, 3, 6, 7, 7, 1, 1, 5, 7, 7, 1, 2, 3, 4, 5, 7, 1, 2, 5, 7, 1, 2, 3, 4, 5, 6, 7, 7, 7, 4, 7, 1, 4, 6, 7, 7, 7, 7, 7, 2, 1, 2, 3, 4, 5, 7, 2, 3, 4, 7, 2, 5, 7, 1, 3, 4, 5, 7, 1, 2, 3, 4, 5, 6, 1, 2, 4, 5, 1, 2, 3, 5, 7, 1, 2, 3, 4, 5, 6, 1, 2, 3, 4, 5, 6, 3, 5, 6, 1, 2, 5, 6, 1, 2, 3, 5, 7, 7, 4, 1, 3, 5, 5, 6, 5, 6, 1, 2, 4, 5, 6, 6, 6, 1, 7, 1, 2, 4, 5, 6, 4, 1, 3, 6, 6, 1, 2, 3, 4, 5, 6, 7, 5, 4, 1, 2, 3, 5, 6, 7, 7, 7, 1, 2, 3, 4, 5, 6, 7, 7, 2, 4, 5, 6, 7, 4, 2, 5, 6, 7, 7, 7, 1, 3, 1, 2, 6, 7, 7, 2, 3, 4, 5, 6, 7, 4, 5, 1, 2, 4, 5, 6, 7, 7, 1, 1, 2, 3, 5, 7, 1, 3, 1, 2, 3, 4, 5, 6, 7, 1, 3, 4, 5, 1, 1, 1, 2, 4, 5, 6, 4, 1, 3, 5, 7, 1, 2, 3, 4, 5, 7, 7, 2, 4, 5, 6, 7, 2, 3, 1, 2, 5, 6, 7, 1, 2, 3, 5, 1, 3, 1, 1, 2, 3, 4, 5, 7, 1, 3, 1, 2, 3, 4, 5, 7, 1, 3, 5, 1, 2, 4, 1, 2, 3, 5, 6, 7, 1, 1, 1, 2, 1, 5, 6, 1, 3, 4, 6, 6, 1, 2, 3, 4, 5, 6, 7, 4, 7, 7, 1, 2, 3, 5, 6, 7, 7, 6, 1, 2, 3, 5, 6, 5, 1, 2, 3, 5, 2, 2, 3, 5, 6, 3, 3, 3, 1, 2, 3, 4, 5, 7, 1, 2, 3, 6, 1, 2, 3, 5, 7, 1, 2, 3, 4, 5, 1, 4, 6, 4, 1, 2, 3, 1, 2, 3, 4, 5, 7, 1, 6, 2, 1, 2, 3, 5, 6, 6, 6, 7, 7, 2, 3, 6, 6, 6, 5, 1, 2, 3, 4, 5, 6, 7, 5, 1, 2, 3, 4, 6, 7, 7, 1, 2, 3, 6, 6, 1, 2, 3, 4, 5, 6, 2, 4, 5, 4, 3, 3, 5, 1, 2, 3, 5, 6, 1, 2, 3, 4, 5, 6, 1, 2, 3, 5, 6, 1, 1, 2, 3, 4, 5, 6, 2, 4, 2, 5, 2, 2, 3, 1, 5, 6, 7, 7, 7, 7, 5, 1, 2, 3, 4, 5, 1, 2, 4, 5, 6, 5, 4, 1, 2, 3, 4, 5, 6, 7], \"Freq\": [0.01767277355731303, 0.9720025456522166, 0.993554711577695, 0.993554711577695, 0.9569150637302279, 0.9569150637302279, 0.0416886260523733, 0.9484162426914925, 0.11810490304872315, 0.04887099436498889, 0.16697589741371205, 0.08959682300247963, 0.4357663664211509, 0.13846781736746852, 0.9686009390722973, 0.9709787001370276, 0.9739328528135973, 0.4414002874718148, 0.1593945482537109, 0.37089885266728884, 0.027587517966988426, 0.9926500020231931, 0.9313670025651849, 0.06585423250460903, 0.07810660895138848, 0.26903387527700473, 0.5467462626597194, 0.09546363316280813, 0.9709784303304831, 0.055605535583415876, 0.0353853408258101, 0.44989933335672844, 0.46000943073553135, 0.9732484115642778, 0.3855266602192093, 0.22030094869669103, 0.04130642788062957, 0.3212722168493411, 0.02753761858708638, 0.3279754843338018, 0.3626651990229539, 0.02207527298400589, 0.08830109193602356, 0.20183106728233957, 0.993531464905156, 0.32578284148054104, 0.4400926104210818, 0.017146465341081107, 0.0728724776995947, 0.1428872111756759, 0.001428872111756759, 0.11425699504065358, 0.14282124380081698, 0.6969676697479869, 0.039989948264228754, 0.9935547115776947, 0.9182940591764462, 0.027353440060574996, 0.050799245826782136, 0.9920455387165622, 0.9897238629923066, 0.9947387175751354, 0.993531464905156, 0.993531464905156, 0.12565291290563033, 0.010471076075469194, 0.429314119094237, 0.005235538037734597, 0.06806199449054977, 0.3664876626414218, 0.9739328528135973, 0.7880012002563598, 0.02064101757220049, 0.08620660280154321, 0.0097134200339767, 0.013355952546717963, 0.07042229524633108, 0.010927597538223787, 0.5502297054405774, 0.35993287055500217, 0.019573388731087733, 0.009786694365543866, 0.05437052425302148, 0.0010874104850604296, 0.005437052425302148, 0.8469231776224415, 0.0021605183102613307, 0.023765701412874634, 0.012963109861567982, 0.038889329584703945, 0.07345762254888523, 0.975459520939549, 0.012416703652399554, 0.20487561026459264, 0.4594180351387835, 0.17693802704669365, 0.14589626791569477, 0.9941519913248879, 0.4322355236181779, 0.059983705318441015, 0.2205283283766214, 0.1640730763122063, 0.059983705318441015, 0.061747931945453985, 0.001764226627012971, 0.09855288204054054, 0.285045258824948, 0.059131729224324324, 0.372984753568815, 0.06216412559480249, 0.08945569292910603, 0.033356360075259876, 0.9569148926274411, 0.9739328528135973, 0.9576923465316659, 0.9754595259740333, 0.3564922195628306, 0.08912305489070765, 0.006855619606977512, 0.42504841563260576, 0.12340115292559521, 0.9851954664424901, 0.9774915543288818, 0.9709787001370276, 0.9705152611046296, 0.9739328528135973, 0.18344015382775578, 0.7687015969925004, 0.03494098168147729, 0.011646993893825763, 0.02829284413893684, 0.17683027586835526, 0.7780532138207631, 0.00707321103473421, 0.9719708488818352, 0.975459520939549, 0.9545932766646422, 0.0353553065431349, 0.9689423812836564, 0.9935547115776945, 0.6159891585930902, 0.23787477594084752, 0.0017751848950809518, 0.0017751848950809518, 0.12071257286550471, 0.0017751848950809518, 0.01775184895080952, 0.9739328528135973, 0.9754170029344542, 0.9686009390722973, 0.9686009390722973, 0.993531464905156, 0.16898336798035252, 0.5914417879312338, 0.2365767151724935, 0.008449168399017626, 0.9787562943111305, 0.9800385047589563, 0.9869313300131353, 0.9851954664424901, 0.9851954664424901, 0.9803926170457492, 0.9739328528135973, 0.9806604349224225, 0.010432557818323644, 0.9073961230957955, 0.08215108933377573, 0.007468280848525066, 0.704103648881771, 0.09718476865172823, 0.05636716581800238, 0.010690324551690106, 0.0165214106707938, 0.08309297719722764, 0.03207097365507032, 0.9686009390722973, 0.9686009390722973, 0.2657600673503966, 0.46936657056239395, 0.019289037146399752, 0.049294206040799364, 0.1628852025695979, 0.03429162159359956, 0.04559069544820905, 0.9118139089641809, 0.03799224620684087, 0.3514292213940244, 0.1856607207364657, 0.006630740026302346, 0.006630740026302346, 0.45089032178855953, 0.9739328528135973, 0.9739328528135973, 0.05723654045317356, 0.005203321859379414, 0.5099255422191826, 0.026016609296897072, 0.20813287437517658, 0.19252290879703832, 0.9739328528135973, 0.11360595213220291, 0.14856162971134226, 0.17477838789569677, 0.08738919394784839, 0.00873891939478484, 0.39325137276531774, 0.06991135515827872, 0.06663439906276529, 0.049975799297073964, 0.8829057875816401, 0.9392941649353939, 0.015920240083650745, 0.03184048016730149, 0.9787255497191143, 0.08453703867298962, 0.03381481546919585, 0.03381481546919585, 0.8453703867298962, 0.2567308564687812, 0.047542751197922443, 0.15213680383335182, 0.5324788134167314, 0.9787252574889758, 0.21558664626953236, 0.06633435269831765, 0.6965107033323353, 0.93101365675843, 0.029003540708985358, 0.037704602921680964, 0.9709787001370276, 0.055708555020609604, 0.2649553226589969, 0.4646908735865484, 0.11141711004121921, 0.06114353599823005, 0.04347984782096359, 0.993554711577695, 0.37882247241183037, 0.4531013885710128, 0.05942313292734594, 0.10770442843081451, 0.5622761430597222, 0.3535448572702338, 0.0029961428582223207, 0.027964000010074992, 0.052931857161927665, 0.0009987142860741068, 0.9709787001896495, 0.9457746883420431, 0.007925486215156785, 0.034343773599012736, 0.007925486215156785, 0.31488650648524963, 0.13572694245053862, 0.17915956403471098, 0.06514893237625854, 0.3040283510892065, 0.6821822606943473, 0.13862527222665882, 0.02736025109736687, 0.026448242727454642, 0.119473096458502, 0.005472050219473374, 0.9754570944135202, 0.7835175647767652, 0.015155078622374567, 0.04698074372936116, 0.14548875477479586, 0.007577539311187284, 0.29721759489038396, 0.07430439872259599, 0.05572829904194699, 0.5665710402597944, 0.975459520939549, 0.993531464905156, 0.993531464905156, 0.9403088864637706, 0.020895753032528237, 0.03134362954879236, 0.9763952805919184, 0.017752641465307608, 0.2865794630239181, 0.672838739273547, 0.0373799299596415, 0.059419716742905006, 0.33275041376026804, 0.16637520688013402, 0.09507154678864801, 0.31690515596216, 0.027729201146689003, 0.43349510345049636, 0.010573051303670644, 0.5286525651835322, 0.02114610260734129, 0.12707977413196014, 0.840138506761292, 0.028239949807102253, 0.9709785360164792, 0.9772496037610713, 0.9772501803712362, 0.9709787001896519, 0.9643255005827166, 0.8734309539770126, 0.018754652386009475, 0.03215083266173053, 0.06966013743374948, 0.005358472110288421, 0.9643246886869863, 0.9739328528135973, 0.9578924826257917, 0.021381528630039996, 0.017105222904031995, 0.9804901284112523, 0.01581435690985891, 0.9845578970801737, 0.9754595259740333, 0.9739328528135973, 0.9014813921327421, 0.04279183823414915, 0.00855836764682983, 0.04564462744975909, 0.8926386295062126, 0.003967282797805389, 0.062154097165617775, 0.031738262382443115, 0.007934565595610779, 0.373686813672621, 0.5989590063121444, 0.002650261089876745, 0.02120208871901396, 0.00530052217975349, 0.36284111384932427, 0.027910854911486482, 0.6140388080527026, 0.9739328528135973, 0.3902036141532501, 0.07629679606348466, 0.22453057127254059, 0.02833880996643716, 0.10899542294783524, 0.17003285979862295, 0.9739328528135973, 0.9739328528135973, 0.8759539863636069, 0.07458798222410774, 0.0009096095393183872, 0.01910180032568613, 0.028197895718870002, 0.0009096095393183872, 0.5003840927081858, 0.05236577714387991, 0.04654735746122659, 0.4014709581030793, 0.05243628634055145, 0.0349575242270343, 0.9088956299028917, 0.030253280572233834, 0.6985757513952175, 0.005500596467678878, 0.1045113328858987, 0.1333894643412128, 0.006875745584598599, 0.020627236753795793, 0.9803928740767524, 0.9739328528135973, 0.9732482178667102, 0.9803925870742807, 0.9739328528135973, 0.026424445409878882, 0.2858644548886897, 0.002402222309988989, 0.45161779427793, 0.16575333938924025, 0.0672622246796917, 0.055817770640199674, 0.19137521362354173, 0.24719298426374142, 0.41464629618434046, 0.08771363957745663, 0.01843572911794674, 0.9770936432511772, 0.9739328528135973, 0.4321803760040873, 0.02160901880020437, 0.529420960605007, 0.0892392586754461, 0.892392586754461, 0.993531464905156, 0.9787836283333724, 0.9754172381891614, 0.678437288656315, 0.06416493902802475, 0.009410857724110296, 0.05218748374279346, 0.15998458130987503, 0.03593236585569386, 0.9739328528135973, 0.2542976835328207, 0.6486875041016863, 0.021318368679398143, 0.00152274061995701, 0.06700058727810844, 0.00609096247982804, 0.9659330063916606, 0.011231779144089077, 0.011231779144089077, 0.9739328528135973, 0.5343003892422548, 0.36733151760405014, 0.10018132298292277, 0.9709787001896519, 0.9739328528135973, 0.9766082428016, 0.5606911109094033, 0.3014952201519263, 0.0359994292718718, 0.04859922951702693, 0.02879954341749744, 0.024299614758513464, 0.07899507400968288, 0.9084433511113532, 0.4295781293232583, 0.38513901249671434, 0.02423951826902398, 0.14139718990263989, 0.018852958653685317, 0.9840886805618345, 0.9966858250627341, 0.08720967467554368, 0.14534945779257277, 0.058139783117029116, 0.7122123431836066, 0.9739328528135973, 0.9739328528135973, 0.9739328528135973, 0.16029557532080552, 0.0076331226343240716, 0.8243772445069998, 0.9913987401200193, 0.18323391766434885, 0.750162791121565, 0.0031322037207581, 0.053247463252887706, 0.00469830558113715, 0.0062644074415162, 0.04585744137534442, 0.9515419085383968, 0.030364980920981957, 0.9413144085504407, 0.015182490460490979, 0.5147688531321261, 0.36420971781493044, 0.026527085746363043, 0.026527085746363043, 0.06452534370736956, 0.003584741317076087, 0.9594590051176597, 0.9944418705869569, 0.993531464905156, 0.043960425608050135, 0.25434246244657577, 0.025120243204600077, 0.43018416487877637, 0.20096194563680062, 0.04710045600862515, 0.21675871052339826, 0.5592374731503675, 0.16473661999778266, 0.056357264736083545, 0.9887054578195816, 0.9787255602122522, 0.0337987392843478, 0.7773710035399993, 0.08787672213930427, 0.09463646999617382, 0.9969852876012351, 0.9941519995224217, 0.9838658804058599, 0.3508484549053576, 0.1583475327448959, 0.35395330848859086, 0.00465728037484988, 0.017076694707782895, 0.11487958257963038, 0.975459520939549, 0.9683556041273984, 0.023056085812557105, 0.9719940791363317, 0.03302941851644366, 0.13211767406577463, 0.8257354629110915, 0.9739328528135973, 0.4212874320121427, 0.4661052439283281, 0.10756274859884495, 0.9569150637302279, 0.041345969523085016, 0.9096113295078703, 0.041345969523085016, 0.9774994856746839, 0.9803925573777479, 0.9739328528135973, 0.9848889638526273, 0.006745814820908406, 0.32833495332996454, 0.15973051783619896, 0.0976130942332327, 0.026621752972699825, 0.3904523769329308, 0.9833747313803975, 0.04351714388465663, 0.6527571582698494, 0.2417619104703146, 0.03868190567525033, 0.024176191047031458, 0.9739328528135973, 0.9739328528135973, 0.9739328528135973, 0.993531464905156, 0.6659503465758585, 0.09854870599553063, 0.06420597511830026, 0.07017862396651424, 0.035835893089283866, 0.06569913733035376, 0.9739328528135973, 0.07650231380486619, 0.8925269943901055, 0.012750385634144365, 0.012750385634144365, 0.9754595209394888, 0.9576921861894869, 0.9612102977333185, 0.2843896168651067, 0.6783076672525856, 0.03650947784079073, 0.9685379970679755, 0.9569150637302279, 0.518791651920404, 0.2273968658023818, 0.044934710008853886, 0.06399792031564039, 0.12254920911505605, 0.02314818394395503, 0.9569150637302279, 0.4262791772208403, 0.12163750301160224, 0.29697084068598384, 0.059175001465103794, 0.04712083449999006, 0.03068333409301678, 0.018629167127903048, 0.1073379014688635, 0.8944825122405291, 0.3873967168436314, 0.5564425569208524, 0.05634861335907366, 0.9739328528135973, 0.9739328528135973, 0.38478265289155156, 0.08478261843373171, 0.029347829457830207, 0.4206522222288996, 0.06195652885541932, 0.013043479759035647, 0.9964381718532556, 0.04279620889215183, 0.4213780567842641, 0.023044112480389442, 0.14814072308821785, 0.23044112480389445, 0.06913233744116833, 0.06584032137254127, 0.4040172106765084, 0.01923891479411945, 0.4809728698529862, 0.09619457397059725, 0.26163121252429705, 0.6166082345421875, 0.013147297111773721, 0.10649310660536714, 0.0013147297111773721, 0.21425611165154157, 0.5985197901570237, 0.17932304996922502, 0.006986612336463312, 0.9739328528135973, 0.11158954096481623, 0.030433511172222608, 0.4057801489629681, 0.4565026675833391, 0.9772501129184021, 0.6232240429875766, 0.05448953381312145, 0.29628684010884787, 0.023839171043240636, 0.9754595259740333, 0.956756392421785, 0.5773690965858737, 0.2836639474530597, 0.13806652309662196, 0.1391069121383428, 0.3095618608149037, 0.11363663245104061, 0.19984373293114038, 0.056818316225520304, 0.08228859591282252, 0.09600336189829294, 0.1530674882936974, 0.6492172779353373, 0.12667654203616338, 0.06333827101808169, 0.993554711577695, 0.9689423136690228, 0.9569150637302279, 0.9833741502790422, 0.994435854349384, 0.9643241698765863, 0.9185331975813369, 0.01567462794507401, 0.0031349255890148016, 0.06269851178029603, 0.027372149846420942, 0.9306530947783119, 0.9739328528135973, 0.8452747326249644, 0.0035741003493656, 0.0411021540177044, 0.0214446020961936, 0.0035741003493656, 0.0857784083847744, 0.9739328528135973, 0.9569150637302279, 0.3920471036751764, 0.4521309509817169, 0.04806707784523236, 0.027037731287943203, 0.03605030838392427, 0.009012577095981068, 0.03755240456658778, 0.9665213048303225, 0.369931504717279, 0.3642402507985516, 0.0028456269593636844, 0.26179768026145894, 0.9739328528135973, 0.9845866770295268, 0.9754595209394888, 0.9705152252415543, 0.021770520112039095, 0.1451368007469273, 0.5732903629503628, 0.22133362113906413, 0.03628420018673183, 0.993554711577695, 0.9652095301155486, 0.984354014987012, 0.9739328528135973, 0.9967281737984713, 0.9960221273246854, 0.993554711577695, 0.9935547115776954, 0.993554711577695, 0.993554711577695, 0.983374731380398, 0.39026389520346094, 0.12611147705264678, 0.11418201300712613, 0.11418201300712613, 0.25392716325465364, 0.9772501032051856, 0.9739328528135973, 0.9739328528135973, 0.9739328528135973, 0.9862070602065295, 0.14643928028181025, 0.09762618685454016, 0.06508412456969345, 0.032542062284846726, 0.6345702145545111, 0.9709879858028113, 0.09152461666490419, 0.8959778262985358, 0.004817085087626537, 0.004817085087626537, 0.9786600716484923, 0.15761435362466011, 0.8230971800398917, 0.9772500554661596, 0.21195246557841804, 0.10372141932560883, 0.16234656937921382, 0.5231167235552445, 0.9569150637302279, 0.9739328528135973, 0.9772500442601589, 0.18574918955435316, 0.18237193156245585, 0.1502879806394312, 0.4812592638453696, 0.9739328528135973, 0.9509992716300192, 0.030876599728247377, 0.012350639891298951, 0.9815825735601547, 0.4329057703691265, 0.14523290360770696, 0.35191049720328993, 0.008378821361983093, 0.04468704726390983, 0.016757642723966185, 0.993531464905156, 0.97813417724536, 0.10942217168696848, 0.10521362662208508, 0.029459815454183823, 0.07996235623278466, 0.6733672103813445, 0.9739328528135973, 0.9414277709461998, 0.041533578129979404, 0.017305657554158083, 0.14903316178565562, 0.5891027810206576, 0.025307518039073596, 0.17996457272230112, 0.04780308962936124, 0.007029866121964888, 0.9934479503084612, 0.9536705943405146, 0.003667963824386595, 0.04034760206825254, 0.1792223038823125, 0.8164571621305348, 0.46648334106396705, 0.020281884394085525, 0.050704710985213806, 0.4563423988669243, 0.4056693494847514, 0.3835419304219468, 0.0009219757942835259, 0.08850967625121849, 0.1170909258740078, 0.00460987897141763, 0.9884097779316564, 0.9739328528135973, 0.9866446850839414, 0.13637867559619515, 0.6408154636447725, 0.02136051545482575, 0.031219214895514557, 0.14952360818378024, 0.019717398881377614, 0.9476853179057398, 0.048351291729884685, 0.14093808872704744, 0.8456285323622845, 0.9964380431195081, 0.9935547115776954, 0.3706943973676276, 0.6120189379358147, 0.01243940930763851, 0.004975763723055404, 0.04442895904331346, 0.9478177929240205, 0.004936551004812607, 0.35228581859600094, 0.4397816428224587, 0.1427563447905363, 0.025327738591869348, 0.02878152112712426, 0.005756304225424852, 0.006907565070509822, 0.0645860995046879, 0.8638390808752006, 0.03229304975234395, 0.03229304975234395, 0.4900235653042217, 0.012174498516875073, 0.3834967032815648, 0.10043961276421935, 0.015218123146093842, 0.9575702632984863, 0.9665211057781414, 0.06038967674819336, 0.9058451512229003, 0.9569150637302279, 0.048331615640567434, 0.8828575123676984, 0.008055269273427906, 0.057997938768680916, 0.001611053854685581, 0.99004981217043, 0.9758735489765923, 0.038082435898220086, 0.19041217949110045, 0.7616487179644018, 0.048828905858694115, 0.9033347583858412, 0.024414452929347057, 0.9739328528135973, 0.07808252033766994, 0.9109627372728158, 0.9739328528135973, 0.12712107121179114, 0.04767040170442168, 0.41314348143832125, 0.04767040170442168, 0.07150560255663252, 0.28999494370189854, 0.98814858329094, 0.005099539944193349, 0.4079631955354679, 0.4028636555912745, 0.1784838980467672, 0.9883424798179304, 0.9739328528135973, 0.19234168442010793, 0.012822778961340528, 0.7437211797577507, 0.012822778961340528, 0.038468336884021584, 0.9732480986889455, 0.9463709243882642, 0.4820416984247101, 0.016001384180073363, 0.23602041665608212, 0.07000605578782097, 0.012001038135055023, 0.03800328742767424, 0.14401245762066028, 0.9739328528135973, 0.9739328528135973, 0.25022230733832534, 0.020851858944860448, 0.2189445189210347, 0.10425929472430223, 0.4066112494247787, 0.975459520939549, 0.9739328528135973, 0.3906888255783217, 0.13733304171844035, 0.028413732769332484, 0.004735622128222081, 0.09471244256444161, 0.3409647932319898, 0.9739328528135973, 0.9739328528135973, 0.9739328528135973, 0.38478839192457454, 0.1613628740328861, 0.024825057543520938, 0.09309396578820352, 0.33513827683753267, 0.9739328528135973, 0.2619347797432452, 0.5517001298342102, 0.024556385600929237, 0.03110475509451037, 0.10968518901748393, 0.021282200854138674, 0.9685809288259373, 0.0026893061871612394, 0.21514449497289914, 0.03227167424593487, 0.5096235224670549, 0.14253322791954567, 0.07798987942767593, 0.020169796403709295, 0.9569150637302279, 0.10041269799196137, 0.7832190443372986, 0.10041269799196137, 0.005020634899598068, 0.013857657348015123, 0.9838936717090737, 0.9652095138775989, 0.8824675330154039, 0.049511379740138174, 0.017474604614166413, 0.046598945637777105, 0.004368651153541603, 0.028293827428848155, 0.28293827428848156, 0.014146913714424078, 0.6507580308635076, 0.993531464905156, 0.993531464905156, 0.10712517268149083, 0.3475616713666147, 0.09522237571688073, 0.3475616713666147, 0.05951398482305046, 0.01428335635753211, 0.026186153322142202, 0.9935547115776957, 0.10436805785139097, 0.8504063973076302, 0.04252031986538151, 0.9773112387684101, 0.19729978673603657, 0.5992067597168518, 0.005845919606993676, 0.08768879410490514, 0.08622731420315673, 0.023383678427974702, 0.14267054921377104, 0.05350145595516413, 0.802521839327462, 0.10303866576531741, 0.8964363921582614, 0.9772499462946714, 0.9739328528135973, 0.12564818807256675, 0.7538891284354006, 0.05173748920635102, 0.05912855909297259, 0.9739328528135973, 0.9944427293131796, 0.993531464905156, 0.9569150637302279, 0.9739328528135973, 0.9739328528135973, 0.6878668882083204, 0.2555710968046724, 0.04757972546895497, 0.002718841455368855, 0.00543768291073771, 0.002718841455368855, 0.9560048690271059, 0.004446534274544678, 0.031125739921812747, 0.004446534274544678, 0.5793454083413218, 0.04195816327820157, 0.07261989798150273, 0.02259285714980085, 0.03873061225680145, 0.16137755107000606, 0.08391632655640315, 0.9739328528135973, 0.9739328528135973, 0.9935547115776957, 0.9739328528135973, 0.42018261654969924, 0.007853880683171948, 0.003926940341585974, 0.5654794091883802, 0.9739328528135973, 0.9739328528135973, 0.9739328528135973, 0.9739328528135973, 0.9772074131448996, 0.2005070282476302, 0.637009054344241, 0.04968315744189067, 0.03193917264121543, 0.06565274376249838, 0.01774398480067524, 0.8502572750750856, 0.006694939173819572, 0.10711902678111315, 0.03347469586909786, 0.882232420602955, 0.10664347941354402, 0.9739328528135973, 0.7918075198312482, 0.10624252797735735, 0.046105247990173945, 0.056128127988037846, 0.9739328528135973, 0.8567403460331335, 0.07169883746943954, 0.010937110800422981, 0.0024304690667606623, 0.05590078853549524, 0.0024304690667606623, 0.8466544429226606, 0.08160524751061789, 0.005100327969413618, 0.06630426360237704, 0.7757493930605261, 0.09032698412348593, 0.014168938686037007, 0.1027248054737683, 0.015940056021791636, 0.79608918201491, 0.11546331647544494, 0.00405134443773491, 0.0182310499698071, 0.05469314990942129, 0.0060770166566023655, 0.3899084323551864, 0.003332550703890482, 0.42323393939409126, 0.05332081126224771, 0.09664397041282398, 0.03332550703890482, 0.9639156903654796, 0.9569150637302279, 0.9709786480073345, 0.9236686690757344, 0.017065471945971997, 0.055462783824408994, 0.0021331839932464997, 0.7118436209926345, 0.056272223003370314, 0.05064500070303329, 0.030949722651853674, 0.15193500210909985, 0.9739328528135973, 0.9869313300131354, 0.02304426342696081, 0.9217705370784324, 0.04608852685392162, 0.8969092055105808, 0.05979394703403872, 0.9787841663615364, 0.9686009390722973, 0.5035673524773374, 0.012589183811933436, 0.05791024553489381, 0.03524971467341362, 0.3877468614075498, 0.9913987401200193, 0.9732484115642778, 0.993531464905156, 0.9739328528135973, 0.004950866848437963, 0.23764160872502224, 0.6584652908422491, 0.004950866848437963, 0.08911560327188334, 0.9869313300131356, 0.04146178192813958, 0.09328900933831406, 0.8706974204909312, 0.968600940435399, 0.2739504671092666, 0.35199903323726284, 0.06165836724111699, 0.1248777058047939, 0.09365827935359543, 0.09209730803103551, 0.0007804856612799619, 0.9569150637302279, 0.993554711577695, 0.5614583680353638, 0.3540168913497316, 0.043475758586809146, 0.03229627780734393, 0.004968658124206759, 0.0024843290621033797, 0.9739328528135973, 0.9739328528135973, 0.5706150084828607, 0.07751751058635088, 0.006459792548862574, 0.0021532641829541915, 0.27992434378404485, 0.05167834039090059, 0.010766320914770956, 0.9739328528135973, 0.4221917399336835, 0.3702296796341532, 0.11691463567394311, 0.06278748952859908, 0.028146115995578896, 0.9941519755758014, 0.11734021064784687, 0.7187087902180621, 0.1466752633098086, 0.9739328528135973, 0.9739328528135973, 0.9739328528135973, 0.06047267384877679, 0.9373264446560402, 0.11131075990928664, 0.27827689977321657, 0.022262151981857325, 0.5788159515282905, 0.9741319741211021, 0.2871576070065169, 0.002243418804738413, 0.4890652994329741, 0.10319726501796701, 0.06954598294689081, 0.049355213704245095, 0.9869313300131353, 0.9652096392867099, 0.6630099540956718, 0.09553457551810832, 0.0019106915103621663, 0.0038213830207243327, 0.15094462931861113, 0.08789180947665966, 0.9772501442887482, 0.9926488831311141, 0.28085996479114245, 0.3200497273201391, 0.006531627088166104, 0.009797440632249155, 0.38210018465771706, 0.9831735092603829, 0.014458433959711513, 0.7539801407785486, 0.01102896482521813, 0.009023698493360289, 0.06918168844909554, 0.14538180905969353, 0.005013165829644605, 0.007018432161502447, 0.29500814098737527, 0.6482415729591009, 0.042698546721856946, 0.013585901229681755, 0.9836532650756749, 0.9938457914558788, 0.0037278047852200074, 0.26467413975062054, 0.6039043752056412, 0.1006507292009402, 0.026094633496540055, 0.9935547115776947, 0.5289051305070255, 0.4002525311945058, 0.025015783199656614, 0.042884199770839904, 0.6625866424152719, 0.08404491334471, 0.16418076095245676, 0.052772387449003956, 0.033227058764187675, 0.003909065736963256, 0.9739328528135973, 0.3831171377291282, 0.4276656421162361, 0.08018730789679428, 0.023759202339790893, 0.08315720818926814, 0.9488192312294134, 0.04248444318937671, 0.17369799226092056, 0.2200174568638327, 0.15053825995946446, 0.42845504757693736, 0.028949665376820092, 0.7551538331933493, 0.15198817244937457, 0.052657319588759695, 0.04068974695495067, 0.969871306267799, 0.024399278145101864, 0.9857501708548246, 0.9434864476522808, 0.01092841445157082, 0.018214024085951366, 0.0018214024085951366, 0.00546420722578541, 0.02185682890314164, 0.9797032572742668, 0.021771183494983706, 0.6723848928019119, 0.25896958748287097, 0.056162079213152735, 0.0015600577559209093, 0.0078002887796045466, 0.0031201155118418186, 0.9815805592652507, 0.006134878495407817, 0.012269756990815634, 0.08457090828897114, 0.8710803553764028, 0.03382836331558846, 0.850441804145545, 0.016291988585163696, 0.05213436347252383, 0.05213436347252383, 0.0032583977170327393, 0.026067181736261914, 0.9781337772961939, 0.993531464905156, 0.9335404216006891, 0.06329087604072468, 0.9506652948228201, 0.03184046441990307, 0.0136459133228156, 0.39157728730863783, 0.01957886436543189, 0.009789432182715945, 0.5873659309629568, 0.9686009390722973, 0.5939315059174863, 0.0998803733675052, 0.20689505911840364, 0.05172376477960091, 0.03388798382111784, 0.01248504667093815, 0.0017835780958483072, 0.04656772497960582, 0.9313544995921164, 0.9772501495094142, 0.4030537534529921, 0.06264471827861755, 0.13119931564012355, 0.029549395414442237, 0.30967766394335466, 0.06500866991177293, 0.9772500528092011, 0.9732484115642778, 0.685283460056446, 0.03721986843757055, 0.18390993816211332, 0.04050397447617972, 0.05254569661774666, 0.96340048396982, 0.12437707366285305, 0.8385422063076222, 0.008024327333087295, 0.02808514566580553, 0.9849675691341239, 0.12313796569561605, 0.8402355306289095, 0.021730229240402833, 0.014486819493601888, 0.9827380203850222, 0.9754595209394888, 0.9754595209394888, 0.26531080536700563, 0.5455453435359053, 0.024872888003156776, 0.031505658137331916, 0.1110988997474336, 0.021556502936069206, 0.9416498318086038, 0.002258153073881544, 0.05193752069927551, 0.002258153073881544, 0.8911863661767356, 0.022168815079023272, 0.055422037697558185, 0.0243856965869256, 0.005542203769755818, 0.8087975855005326, 0.04002782810337425, 0.0412051171652382, 0.03178680467032661, 0.0777010780830206, 0.002866824560501111, 0.9489189295258676, 0.04586919296801777, 0.9935547115776954, 0.13640800533916342, 0.07794743162237909, 0.7989611741293856, 0.5889816056008244, 0.21209441237957147, 0.021362027146143887, 0.039672336128552935, 0.022887886228011307, 0.11596529022192396, 0.993531464905156, 0.9709787001896519, 0.9825931260448135, 0.8003730950593068, 0.009036470428088948, 0.05938251995601308, 0.047764200834184437, 0.08391008254654023, 0.9686009390722973, 0.9686009390722973, 0.9739328528135973, 0.9739328528135973, 0.9800389412125392, 0.08230586234128054, 0.9145095815697837, 0.9732484115139373, 0.9913987401200193, 0.9947764528204215, 0.8285922878130839, 0.08565426261397494, 0.03786820031354681, 0.010819485803870519, 0.025245466875697876, 0.0018032476339784197, 0.009016238169892098, 0.9472941795264104, 0.3670353076539041, 0.13699205144828813, 0.0568646251294781, 0.00775426706311065, 0.2791536142719834, 0.1499158298868059, 0.9739328528135973, 0.326396707509194, 0.05934485591076254, 0.02967242795538127, 0.5736669404707045, 0.9686009390722973, 0.6005971556242964, 0.05097906891240712, 0.23099890600934475, 0.0015930959035127224, 0.023896438552690837, 0.09080646650022518, 0.03973965381345066, 0.8231785432786209, 0.13625024164611657, 0.9964381700886289, 0.9576921676899178, 0.9508753520341416, 0.03657212892439006, 0.5102313634150771, 0.007615393483807122, 0.44169282206081306, 0.025384644946023736, 0.015230786967614244, 0.5160313313041224, 0.4081791237968299, 0.038163088810272715, 0.023229706232339914, 0.008296323654407111, 0.0066370589235256894, 0.49899585046995015, 0.22454813271147758, 0.12266981324052942, 0.012474896261748754, 0.14346130701011067, 0.993531464905156, 0.0024358007030113203, 0.5870279694257282, 0.009743202812045281, 0.3239614935005056, 0.05115181476323773, 0.024358007030113205, 0.9705175652691781, 0.993554711577695, 0.08943264125405692, 0.8943264125405692, 0.9774915980766212, 0.9828043930536106, 0.9787562943111305, 0.05120819380010946, 0.10881741182523261, 0.0704112664751505, 0.7681229070016419, 0.9739328528135973, 0.9739328528135973, 0.9767962187036805, 0.9569150637302279, 0.5166744128309599, 0.3583200625897037, 0.00809109818750944, 0.02658503690181673, 0.08900208006260384, 0.0037178439727139764, 0.04461412767256771, 0.6692119150885157, 0.19332788658112676, 0.08922825534513543, 0.9851954664424901, 0.9969852876012351, 0.10540944703937632, 0.46643680314924024, 0.08432755763150106, 0.10804468321536073, 0.22663031113465912, 0.002635236175984408, 0.005270472351968816], \"Term\": [\"00\", \"00\", \"12c6200\", \"12c6200 ea\", \"17c8690\", \"17c8690 please\", \"ability multi\", \"ability multi\", \"account\", \"account\", \"account\", \"account\", \"account\", \"account\", \"account balances\", \"account codes\", \"account sales\", \"accounting\", \"accounting\", \"accounting\", \"accounting\", \"accounting information\", \"accounting system\", \"accounting system\", \"accounts\", \"accounts\", \"accounts\", \"accounts\", \"accruals\", \"accurate\", \"accurate\", \"accurate\", \"accurate\", \"accurate financial\", \"activities\", \"activities\", \"activities\", \"activities\", \"activities\", \"added\", \"added\", \"added\", \"added\", \"added\", \"additional selection\", \"advantage\", \"advantage\", \"advantage\", \"advantage\", \"advantage\", \"advantage\", \"agency\", \"agency\", \"agency\", \"agency\", \"agency license\", \"agile\", \"agile\", \"agile\", \"algorithms\", \"alternatively\", \"alternatively please\", \"amended\", \"amended time\", \"analyse\", \"analyse\", \"analyse\", \"analyse\", \"analyse\", \"analyse\", \"analyse production\", \"analysis\", \"analysis\", \"analysis\", \"analysis\", \"analysis\", \"analysis\", \"analysis\", \"analytical\", \"analytical\", \"analytical\", \"analytical\", \"analytical\", \"analytical\", \"analytical\", \"analytics\", \"analytics\", \"analytics\", \"analytics\", \"analytics\", \"analytics\", \"annual financial\", \"applicants\", \"applicants\", \"applicants\", \"applicants\", \"applicants\", \"applicants relevant\", \"application\", \"application\", \"application\", \"application\", \"application\", \"application\", \"application\", \"apply\", \"apply\", \"apply\", \"apply\", \"apply\", \"apply\", \"apply\", \"apply https\", \"approach towards\", \"arising\", \"arising audit\", \"asia\", \"asia\", \"asia\", \"asia\", \"asia\", \"asia com\", \"assign\", \"assign account\", \"associates\", \"assumptions progress\", \"attitude\", \"attitude\", \"attitude\", \"attitude\", \"audit\", \"audit\", \"audit\", \"audit\", \"audit findings\", \"audit process\", \"auditors\", \"auditors\", \"availability current\", \"available thank\", \"bachelor\", \"bachelor\", \"bachelor\", \"bachelor\", \"bachelor\", \"bachelor\", \"bachelor\", \"balance production\", \"balances\", \"balances reconcile\", \"banking processes\", \"based prevailing\", \"better\", \"better\", \"better\", \"better\", \"better working\", \"bilingual\", \"bingcheng\", \"bluechipcareers\", \"bluechipcareers asia\", \"bottlenecks\", \"bottlenecks manage\", \"bs\", \"bs\", \"build\", \"build\", \"build\", \"business\", \"business\", \"business\", \"business\", \"business\", \"business\", \"business\", \"business documentation\", \"calculate customer\", \"candidate\", \"candidate\", \"candidate\", \"candidate\", \"candidate\", \"candidate\", \"candidate must\", \"candidate must\", \"candidate must\", \"capacity\", \"capacity\", \"capacity\", \"capacity\", \"capacity\", \"capacity plans\", \"capacity resolve\", \"capital\", \"capital\", \"capital\", \"capital\", \"capital\", \"capital\", \"capital optimise\", \"career\", \"career\", \"career\", \"career\", \"career\", \"career\", \"career\", \"cash\", \"cash\", \"cash\", \"certificate\", \"certificate\", \"certificate\", \"certified information\", \"channels\", \"channels\", \"channels\", \"channels\", \"chemical\", \"chemical\", \"chemical\", \"chemical\", \"cisa\", \"clinical\", \"clinical\", \"clinical\", \"cloud\", \"cloud\", \"cloud\", \"codes transactions\", \"com\", \"com\", \"com\", \"com\", \"com\", \"com\", \"com machspeedhr\", \"com sg\", \"com sg\", \"com sg\", \"com sg\", \"communication skills\", \"communication skills\", \"communication skills\", \"communication skills\", \"communication skills\", \"communication skills\", \"compile relevant\", \"complex\", \"complex\", \"complex\", \"complex\", \"compliance\", \"compliance\", \"compliance\", \"compliance\", \"compliance\", \"computer\", \"computer\", \"computer\", \"computer\", \"computer\", \"computer\", \"computer literate\", \"computer science\", \"computer science\", \"computer science\", \"computer science\", \"computer science\", \"content\", \"content\", \"content\", \"content\", \"coordinate annual\", \"criteria based\", \"criteria exhaustive\", \"cross\", \"cross\", \"cross\", \"cross functional\", \"cross functional\", \"css\", \"css\", \"css\", \"current\", \"current\", \"current\", \"current\", \"current\", \"current\", \"current expected\", \"current expected\", \"current expected\", \"current expected\", \"customer service\", \"customer service\", \"customer service\", \"customer supplier\", \"cut\", \"cycle time\", \"data accounting\", \"data entry\", \"database\", \"database\", \"database\", \"database\", \"database\", \"date availability\", \"decisions determine\", \"deep\", \"deep\", \"deep\", \"deep understanding\", \"deep understanding\", \"deficiencies\", \"deficiencies arising\", \"delivery bottlenecks\", \"demonstrated\", \"demonstrated\", \"demonstrated\", \"demonstrated\", \"design\", \"design\", \"design\", \"design\", \"design\", \"detail\", \"detail\", \"detail\", \"detail\", \"detail\", \"detailed resume\", \"detailed resume\", \"detailed resume\", \"determine priorities\", \"develop\", \"develop\", \"develop\", \"develop\", \"develop\", \"develop\", \"develop job\", \"develop workplace\", \"development\", \"development\", \"development\", \"development\", \"development\", \"development\", \"digital\", \"digital\", \"digital\", \"digital\", \"digital marketing\", \"digital marketing\", \"digital marketing\", \"diploma\", \"diploma\", \"diploma\", \"diploma\", \"diploma\", \"diploma\", \"diploma\", \"disputes\", \"disputes review\", \"documentation used\", \"dynamically\", \"dynamically set\", \"ea\", \"ea\", \"ea\", \"ea\", \"ea\", \"ea\", \"ea license\", \"ea license\", \"ea license\", \"ea license\", \"ea license\", \"ea registration\", \"ea registration\", \"efficiencies conduct\", \"electronics\", \"electronics\", \"electronics\", \"electronics industry\", \"electronics industry\", \"eligibility criteria\", \"employments\", \"end closing\", \"engineering\", \"engineering\", \"engineering\", \"engineering\", \"engineering\", \"engineering\", \"engineering performance\", \"english\", \"english\", \"english\", \"english\", \"english\", \"english\", \"english mandarin\", \"english mandarin\", \"english mandarin\", \"enhance engineering\", \"ensure\", \"ensure\", \"ensure\", \"enter accurate\", \"enterprise evaluate\", \"entries\", \"environment\", \"environment\", \"environment\", \"environment\", \"environment\", \"environment\", \"equal\", \"equal\", \"equivalent\", \"equivalent\", \"equivalent\", \"equivalent\", \"equivalent\", \"equivalent practical\", \"etl\", \"evaluate\", \"evaluate\", \"evaluate\", \"evaluate\", \"evaluate organisations\", \"evaluate sustainability\", \"evaluate workplace\", \"events\", \"events\", \"events\", \"events relating\", \"excel\", \"excel\", \"excel\", \"excel\", \"excel\", \"excel\", \"excel powerpoint\", \"excel powerpoint\", \"excel word\", \"excel word\", \"excel word\", \"excellent\", \"excellent\", \"excellent\", \"excellent\", \"excellent\", \"excellent\", \"excellent attention\", \"exhaustive\", \"exhaustive star\", \"expected\", \"expected\", \"expected\", \"expected\", \"expected\", \"expected\", \"expected salary\", \"expected salary\", \"expected salary\", \"expected salary\", \"ey\", \"ey offers\", \"facebook\", \"facebook\", \"facebook\", \"facebook\", \"facebook com\", \"faster processing\", \"finance accounting\", \"financial\", \"financial\", \"financial\", \"financial\", \"financial\", \"financial\", \"financial audit\", \"financial statements\", \"financial statements\", \"firewall\", \"forecast\", \"forecast\", \"forecast\", \"forecast production\", \"format\", \"format\", \"format\", \"format ea\", \"gas\", \"gas\", \"gas\", \"graduate diploma\", \"grievances\", \"grievances disputes\", \"hadoop\", \"hadoop\", \"health\", \"health\", \"health\", \"health\", \"health\", \"hiring decisions\", \"https\", \"https\", \"https\", \"https\", \"https\", \"identification analyse\", \"improve operation\", \"improvement improve\", \"include additional\", \"including\", \"including\", \"including\", \"including\", \"including\", \"including\", \"including loading\", \"income\", \"income\", \"income\", \"income\", \"income income\", \"income tax\", \"independent individual\", \"independently\", \"independently\", \"independently\", \"independently minimum\", \"individual interested\", \"industry\", \"industry\", \"industry\", \"industry\", \"industry\", \"industry\", \"industry communication\", \"information\", \"information\", \"information\", \"information\", \"information\", \"information\", \"information\", \"information security\", \"information security\", \"information systems\", \"information systems\", \"information systems\", \"innovation practises\", \"integrate quality\", \"interest\", \"interest\", \"interest\", \"interest\", \"interest\", \"interest\", \"interest position\", \"interested\", \"interested\", \"interested\", \"interested\", \"interested\", \"interested\", \"interested\", \"interested applicants\", \"interested applicants\", \"interested applicants\", \"interested applicants\", \"interpersonal\", \"interpersonal\", \"interpersonal\", \"interpersonal\", \"interpersonal\", \"interpersonal skills\", \"interpersonal skills\", \"interpersonal skills\", \"interpersonal skills\", \"interviews make\", \"inventory\", \"inventory\", \"inventory\", \"inventory\", \"inventory levels\", \"issues\", \"issues\", \"issues\", \"issues\", \"issues deficiencies\", \"ite\", \"java\", \"java\", \"java\", \"job\", \"job\", \"job\", \"job\", \"job\", \"job\", \"job\", \"jobs\", \"jobs\", \"jobs\", \"jobs\", \"jobs available\", \"jobsbank\", \"jobsbank detailed\", \"key metrics\", \"kindly\", \"kindly send\", \"large\", \"large\", \"large\", \"large\", \"lead change\", \"lead change\", \"lean enterprise\", \"learning\", \"learning\", \"learning\", \"learning\", \"learning\", \"learning\", \"learning plan\", \"leaving previous\", \"level\", \"level\", \"level\", \"level\", \"level\", \"level\", \"level\", \"level diploma\", \"levels\", \"levels\", \"levels\", \"levels\", \"levels product\", \"liabilities\", \"liabilities organisation\", \"liaise mandarin\", \"license\", \"license\", \"license\", \"license\", \"license\", \"license 12c6200\", \"license number\", \"literate\", \"loading performance\", \"machine\", \"machine learning\", \"machspeed\", \"machspeed com\", \"machspeedhr\", \"machspeedhr jobs\", \"make hiring\", \"manage\", \"manage\", \"manage\", \"manage\", \"manage\", \"manage balance\", \"manage innovation\", \"manage manufacturing\", \"manage material\", \"management organisation\", \"management system\", \"management system\", \"management system\", \"management system\", \"management system\", \"managements\", \"mandarin\", \"mandarin\", \"mandarin\", \"mandarin\", \"mandarin speaking\", \"manpower\", \"manpower\", \"manpower resources\", \"manufacturing\", \"manufacturing\", \"manufacturing\", \"manufacturing\", \"manufacturing electronics\", \"manufacturing process\", \"manufacturing processes\", \"marketing\", \"marketing\", \"marketing\", \"marketing\", \"material requirements\", \"mathematics\", \"mathematics\", \"mathematics\", \"matlab\", \"may\", \"may\", \"may\", \"may\", \"may\", \"may\", \"may amended\", \"may include\", \"media\", \"media\", \"media\", \"media\", \"media\", \"methodology enhance\", \"meticulous\", \"meticulous\", \"meticulous\", \"microsoft\", \"microsoft\", \"microsoft\", \"microsoft\", \"microsoft\", \"microsoft\", \"microsoft excel\", \"microsoft office\", \"microsoft office\", \"microsoft office\", \"microsoft word\", \"microsoft word\", \"migration\", \"migration\", \"migration\", \"migration\", \"minimum\", \"minimum\", \"minimum\", \"minimum\", \"minimum\", \"minimum\", \"minimum qualifications\", \"modelling integrate\", \"month end\", \"ms\", \"ms\", \"ms\", \"ms\", \"ms\", \"ms\", \"ms office\", \"ms office\", \"ms words\", \"ms words\", \"much\", \"much agency\", \"multi\", \"multi\", \"multi\", \"multi\", \"multi task\", \"multi task\", \"multi task\", \"must\", \"must\", \"must\", \"must\", \"must\", \"must\", \"must\", \"must possess\", \"must possess\", \"must possess\", \"must possess\", \"network\", \"network\", \"network\", \"network\", \"network\", \"network security\", \"nicholas\", \"notes\", \"notes\", \"number 17c8690\", \"office\", \"office\", \"office\", \"office\", \"office\", \"office applications\", \"office suite\", \"oil\", \"oil\", \"oil\", \"oil gas\", \"oil gas\", \"oil gas\", \"operation planning\", \"optimise\", \"optimise\", \"optimise inventory\", \"organisation\", \"organisation\", \"organisation\", \"organisation\", \"organisation\", \"organisation\", \"organisation manage\", \"organisations\", \"organisations\", \"organisations\", \"organisations\", \"organisations accounting\", \"organisations approach\", \"os\", \"os\", \"os\", \"os\", \"os\", \"payables\", \"penetration\", \"performance\", \"performance\", \"performance\", \"performance\", \"performance\", \"performance\", \"performance\", \"performance commitments\", \"performance lead\", \"plan\", \"plan\", \"plan\", \"plan\", \"plan\", \"plan coordinate\", \"plan production\", \"planning\", \"planning\", \"planning\", \"planning\", \"planning\", \"planning\", \"planning assumptions\", \"planning taking\", \"planning use\", \"plans\", \"plans\", \"plans\", \"plans\", \"plans\", \"plans evaluate\", \"player\", \"player\", \"player\", \"player\", \"player\", \"player\", \"pleasant\", \"please\", \"please\", \"please\", \"please\", \"please\", \"please\", \"please\", \"please provide\", \"please send\", \"please send\", \"please send\", \"please send\", \"please visit\", \"please visit\", \"please write\", \"plus\", \"plus\", \"plus\", \"plus\", \"plus\", \"pm\", \"pm\", \"pm\", \"pm\", \"policies may\", \"policies policies\", \"position\", \"position\", \"position\", \"position\", \"position\", \"position\", \"position\", \"position applicants\", \"positive\", \"positive\", \"positive\", \"positive working\", \"possess\", \"possess\", \"possess\", \"possess\", \"possess\", \"possess\", \"possible\", \"possible\", \"possible\", \"powerpoint\", \"powerpoint\", \"practises\", \"practises organisation\", \"prepare\", \"prepare\", \"prepare\", \"prepare\", \"preparing rough\", \"presentations\", \"prevailing recruitment\", \"previous employments\", \"principles methodology\", \"priorities dynamically\", \"problem\", \"problem\", \"problem\", \"problem\", \"problem\", \"problem\", \"problems\", \"problems\", \"problems\", \"problems\", \"process\", \"process\", \"process\", \"process\", \"process\", \"process\", \"process\", \"process preparing\", \"processes reduce\", \"processing alternatively\", \"product cycle\", \"production\", \"production\", \"production\", \"production\", \"production capacity\", \"production efficiencies\", \"production plan\", \"production requirement\", \"proficiency ms\", \"proficient\", \"proficient\", \"proficient\", \"proficient\", \"proficient\", \"proficient\", \"proficient microsoft\", \"proficient microsoft\", \"proficient microsoft\", \"proficient microsoft\", \"proficient ms\", \"proficient ms\", \"programme develop\", \"programming\", \"programming\", \"programming\", \"programming\", \"progress levels\", \"project\", \"project\", \"project\", \"project\", \"project\", \"project\", \"project management\", \"project management\", \"project management\", \"project management\", \"projects\", \"projects\", \"projects\", \"projects\", \"projects\", \"proven\", \"proven\", \"proven\", \"proven\", \"proven\", \"proven\", \"provide\", \"provide\", \"provide\", \"provide\", \"provide\", \"provide\", \"provide analysis\", \"provide availability\", \"purchases\", \"python\", \"python\", \"python\", \"python\", \"quality\", \"quality\", \"quality\", \"quality\", \"quality\", \"quality principles\", \"r1437671\", \"react\", \"react\", \"react\", \"reasons\", \"reasons\", \"reasons leaving\", \"reconcile totals\", \"record\", \"record\", \"record\", \"record\", \"record\", \"record transactions\", \"records statements\", \"recruitment policies\", \"reduce working\", \"registration\", \"registration\", \"registration\", \"registration\", \"registration\", \"registration r1437671\", \"relating\", \"relating\", \"relating\", \"relating sales\", \"relevant\", \"relevant\", \"relevant\", \"relevant\", \"relevant\", \"relevant\", \"relevant\", \"relevant manufacturing\", \"relevant please\", \"required\", \"required\", \"required\", \"required\", \"required\", \"required\", \"requirement manpower\", \"requirements planning\", \"research\", \"research\", \"research\", \"research\", \"research\", \"research\", \"research\", \"resolve workplace\", \"resume\", \"resume\", \"resume\", \"resume\", \"resume\", \"resume expected\", \"resume ms\", \"resume ms\", \"resume ms\", \"review manufacturing\", \"rough\", \"rough cut\", \"routing\", \"routing\", \"safety\", \"safety\", \"safety\", \"safety\", \"safety health\", \"salary\", \"salary\", \"salary\", \"salary\", \"salary\", \"salary\", \"salary apply\", \"salary reasons\", \"sales\", \"sales\", \"sales\", \"sales\", \"sales\", \"sales\", \"sales forecast\", \"salesforce\", \"sap\", \"sap\", \"sap\", \"sap\", \"sap\", \"scala\", \"scala\", \"science\", \"science\", \"science\", \"science\", \"science\", \"science\", \"science\", \"security\", \"security\", \"security\", \"security\", \"selection\", \"selection criteria\", \"send\", \"send\", \"send\", \"send\", \"send\", \"send microsoft\", \"server\", \"server\", \"server\", \"server\", \"services\", \"services\", \"services\", \"services\", \"services\", \"services\", \"set planning\", \"sg\", \"sg\", \"sg\", \"sg\", \"sg\", \"short notice\", \"short notice\", \"social\", \"social\", \"social\", \"social\", \"social\", \"software\", \"software\", \"software\", \"software\", \"software development\", \"software development\", \"software engineering\", \"solutions\", \"solutions\", \"solutions\", \"solutions\", \"solutions\", \"solutions\", \"solve\", \"solve\", \"solving\", \"solving\", \"solving\", \"solving\", \"solving\", \"solving\", \"spark\", \"spark\", \"spark\", \"speaking\", \"speaking\", \"speaking\", \"sql\", \"sql\", \"sql\", \"sql\", \"sql\", \"sql\", \"star\", \"star may\", \"statistical\", \"statistical\", \"statistics\", \"statistics\", \"statistics\", \"status\", \"status\", \"status\", \"status\", \"supplier account\", \"support\", \"support\", \"support\", \"support\", \"support\", \"support\", \"support\", \"sustainability\", \"sustainability\", \"sustainability manufacturing\", \"system\", \"system\", \"system\", \"system\", \"system\", \"system\", \"system compliance\", \"system maintain\", \"systems\", \"systems\", \"systems\", \"systems\", \"systems\", \"taiger\", \"task\", \"task\", \"task\", \"task\", \"task fast\", \"tax\", \"tax\", \"tax\", \"tax\", \"tax liabilities\", \"taxable\", \"taxable income\", \"team player\", \"team player\", \"team player\", \"team player\", \"team player\", \"team player\", \"teams\", \"teams\", \"teams\", \"teams\", \"technical\", \"technical\", \"technical\", \"technical\", \"technical\", \"technology\", \"technology\", \"technology\", \"technology\", \"technology\", \"thank\", \"thank\", \"thank\", \"thank much\", \"three years\", \"three years\", \"three years\", \"time\", \"time\", \"time\", \"time\", \"time\", \"time\", \"time without\", \"timely data\", \"ting\", \"tools\", \"tools\", \"tools\", \"tools\", \"tools\", \"totals\", \"totals compile\", \"towards lean\", \"training programme\", \"training provided\", \"transactions\", \"transactions\", \"transactions accounting\", \"transactions events\", \"uf0b7\", \"understanding\", \"understanding\", \"understanding\", \"understanding\", \"understanding\", \"understanding\", \"understanding\", \"us https\", \"use\", \"use\", \"use\", \"use\", \"use\", \"use\", \"use big\", \"used\", \"used\", \"used\", \"used\", \"used banking\", \"using\", \"using\", \"using\", \"using\", \"using\", \"using\", \"visit\", \"visit\", \"visit\", \"visit https\", \"vulnerabilities\", \"wan\", \"wan\", \"web\", \"web\", \"web\", \"web\", \"web\", \"well\", \"well\", \"well\", \"well\", \"well\", \"well\", \"within\", \"within\", \"within\", \"within\", \"within\", \"without notice\", \"word\", \"word\", \"word\", \"word\", \"word\", \"word\", \"word powerpoint\", \"word resume\", \"words format\", \"words format\", \"working attitude\", \"working field\", \"working world\", \"workplace\", \"workplace\", \"workplace\", \"workplace\", \"workplace grievances\", \"workplace learning\", \"workplace safety\", \"write jobsbank\", \"written\", \"written\", \"written\", \"written\", \"written\", \"www\", \"www\", \"www\", \"www\", \"www\", \"www bluechipcareers\", \"www facebook\", \"year\", \"year\", \"year\", \"year\", \"year\", \"year\", \"year\"]}, \"R\": 30, \"lambda.step\": 0.01, \"plot.opts\": {\"xlab\": \"PC1\", \"ylab\": \"PC2\"}, \"topic.order\": [4, 6, 7, 1, 3, 5, 2]};\n",
       "\n",
       "function LDAvis_load_lib(url, callback){\n",
       "  var s = document.createElement('script');\n",
       "  s.src = url;\n",
       "  s.async = true;\n",
       "  s.onreadystatechange = s.onload = callback;\n",
       "  s.onerror = function(){console.warn(\"failed to load library \" + url);};\n",
       "  document.getElementsByTagName(\"head\")[0].appendChild(s);\n",
       "}\n",
       "\n",
       "if(typeof(LDAvis) !== \"undefined\"){\n",
       "   // already loaded: just create the visualization\n",
       "   !function(LDAvis){\n",
       "       new LDAvis(\"#\" + \"ldavis_el39201122547545125539534196\", ldavis_el39201122547545125539534196_data);\n",
       "   }(LDAvis);\n",
       "}else if(typeof define === \"function\" && define.amd){\n",
       "   // require.js is available: use it to load d3/LDAvis\n",
       "   require.config({paths: {d3: \"https://cdnjs.cloudflare.com/ajax/libs/d3/3.5.5/d3.min\"}});\n",
       "   require([\"d3\"], function(d3){\n",
       "      window.d3 = d3;\n",
       "      LDAvis_load_lib(\"https://cdn.rawgit.com/bmabey/pyLDAvis/files/ldavis.v1.0.0.js\", function(){\n",
       "        new LDAvis(\"#\" + \"ldavis_el39201122547545125539534196\", ldavis_el39201122547545125539534196_data);\n",
       "      });\n",
       "    });\n",
       "}else{\n",
       "    // require.js not available: dynamically load d3 & LDAvis\n",
       "    LDAvis_load_lib(\"https://cdnjs.cloudflare.com/ajax/libs/d3/3.5.5/d3.min.js\", function(){\n",
       "         LDAvis_load_lib(\"https://cdn.rawgit.com/bmabey/pyLDAvis/files/ldavis.v1.0.0.js\", function(){\n",
       "                 new LDAvis(\"#\" + \"ldavis_el39201122547545125539534196\", ldavis_el39201122547545125539534196_data);\n",
       "            })\n",
       "         });\n",
       "}\n",
       "</script>"
      ],
      "text/plain": [
       "<IPython.core.display.HTML object>"
      ]
     },
     "execution_count": 111,
     "metadata": {},
     "output_type": "execute_result"
    }
   ],
   "source": [
    "#Terms under Topic 1 are relevant to Data Scientist job requirements\n",
    "pyLDAvis.display(display_data)"
   ]
  },
  {
   "cell_type": "markdown",
   "metadata": {},
   "source": [
    "Latent Dirichlet Allocation was used as topic modeling or an unsupervised method to ascertain the topics of the content in the job requirements \n",
    "Topic 1 seems to be relevant to data scientist job requirements, most of the major requirements are appeared under topic 1. \n",
    "Tools and programming:  Python, SQL, Hadoop, Spark and Scala.\n",
    "DS skill: Machine learning, programming, analytical skills.\n",
    "Education: Computer Science, statistics and mathematics"
   ]
  },
  {
   "cell_type": "code",
   "execution_count": 116,
   "metadata": {},
   "outputs": [],
   "source": [
    "topic1 = display_data.topic_info\n",
    "topic1 = topic1[topic1['Category']=='Topic1']\n",
    "title_term = list(topic1['Term'])"
   ]
  },
  {
   "cell_type": "code",
   "execution_count": 115,
   "metadata": {},
   "outputs": [
    {
     "data": {
      "text/plain": [
       "['machine',\n",
       " 'machine learning',\n",
       " 'etl',\n",
       " 'salesforce',\n",
       " 'minimum qualifications',\n",
       " 'algorithms',\n",
       " 'software engineering',\n",
       " 'selection',\n",
       " 'matlab',\n",
       " 'equivalent practical',\n",
       " 'hadoop',\n",
       " 'star',\n",
       " 'may include',\n",
       " 'exhaustive',\n",
       " 'presentations',\n",
       " 'selection criteria',\n",
       " 'amended',\n",
       " 'policies may',\n",
       " 'include additional',\n",
       " 'without notice',\n",
       " 'may amended',\n",
       " 'time without',\n",
       " 'recruitment policies',\n",
       " 'policies policies',\n",
       " 'criteria exhaustive',\n",
       " 'criteria based',\n",
       " 'amended time',\n",
       " 'prevailing recruitment',\n",
       " 'star may',\n",
       " 'exhaustive star',\n",
       " 'spark',\n",
       " 'bs',\n",
       " 'eligibility criteria',\n",
       " 'additional selection',\n",
       " 'software development',\n",
       " 'cross functional',\n",
       " 'solutions',\n",
       " 'scala',\n",
       " 'deep',\n",
       " 'solve',\n",
       " 'based prevailing',\n",
       " 'teams',\n",
       " 'complex',\n",
       " 'problems',\n",
       " 'statistics',\n",
       " 'deep understanding',\n",
       " 'python',\n",
       " 'cloud',\n",
       " 'technical',\n",
       " 'mathematics',\n",
       " 'design',\n",
       " 'development',\n",
       " 'large',\n",
       " 'plus',\n",
       " 'cross',\n",
       " 'project',\n",
       " 'agile',\n",
       " 'demonstrated',\n",
       " 'understanding',\n",
       " 'sql',\n",
       " 'statistical',\n",
       " 'build',\n",
       " 'learning',\n",
       " 'technology',\n",
       " 'database',\n",
       " 'tools',\n",
       " 'business',\n",
       " 'analysis',\n",
       " 'analytics',\n",
       " 'science',\n",
       " 'software',\n",
       " 'computer science',\n",
       " 'project management',\n",
       " 'engineering',\n",
       " 'computer',\n",
       " 'projects',\n",
       " 'systems',\n",
       " 'proven',\n",
       " 'programming',\n",
       " 'problem',\n",
       " 'excellent',\n",
       " 'environment',\n",
       " 'communication skills',\n",
       " 'including',\n",
       " 'analytical',\n",
       " 'solving',\n",
       " 'required',\n",
       " 'written',\n",
       " 'minimum']"
      ]
     },
     "execution_count": 115,
     "metadata": {},
     "output_type": "execute_result"
    }
   ],
   "source": [
    "title_term"
   ]
  },
  {
   "cell_type": "markdown",
   "metadata": {},
   "source": [
    "### Executive summary\n",
    "\n",
    "There are two objectives for this project, first is to predict the salary of data science job based on infomation present in online job advert (mycareersfuture.sg) and second is to find the components of a job posting that distinguish data scientists from other data jobs.\n",
    "Total of 3960 jobs data related jobs were scrapped though mycareerfuture.sg but only 838 are categorized as data science related job.\n",
    "\n",
    "Salaries were divided into two classes for prediction:\n",
    "LOW salaries (below median, ie SGD 6000) and HIGH salaries (above median, ie SGD 6000)\n",
    "\n",
    "Important features that determine a low vs. high paying data science job are Seniority level of the posted job, with managerial level and senior executive at the HIGH salaries range. Education level is also one of the feature with phD holder and diploma holder significantly defined the salaries range as well. Skills such as modeling skill, statistical skill and Hadoop are also the key toward HIGH salaries range.\n",
    "\n",
    "The second objective is to distinguish data scientists job from other data jobs, keyword such as computer science degree, deep learning skill, strong in analytical, Python and SQL programming are used to predict Data Scientist jobs. \n",
    "\n",
    "The terms from topic modeling also suggest that tools, skills and educations below strongly distinguished data science job from others:\n",
    "Tools: Python, SQL, Hadoop, Spark and Scala\n",
    "Skills Machine learning, programming, analytical skills.\n",
    "Educations: Computer Science, statistics and mathematics"
   ]
  },
  {
   "cell_type": "code",
   "execution_count": null,
   "metadata": {},
   "outputs": [],
   "source": []
  }
 ],
 "metadata": {
  "kernelspec": {
   "display_name": "Python 3",
   "language": "python",
   "name": "python3"
  },
  "language_info": {
   "codemirror_mode": {
    "name": "ipython",
    "version": 3
   },
   "file_extension": ".py",
   "mimetype": "text/x-python",
   "name": "python",
   "nbconvert_exporter": "python",
   "pygments_lexer": "ipython3",
   "version": "3.7.1"
  }
 },
 "nbformat": 4,
 "nbformat_minor": 2
}
