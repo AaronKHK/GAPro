{
 "cells": [
  {
   "cell_type": "code",
   "execution_count": 324,
   "metadata": {},
   "outputs": [],
   "source": [
    "import requests\n",
    "from bs4 import BeautifulSoup\n",
    "import time\n",
    "import numpy as np\n",
    "import urllib\n",
    "import os\n",
    "import pandas as pd\n",
    "from selenium import webdriver\n",
    "from time import sleep\n",
    "import re"
   ]
  },
  {
   "cell_type": "code",
   "execution_count": 325,
   "metadata": {},
   "outputs": [],
   "source": [
    "url=\"https://www.mycareersfuture.sg/search?search=data&sortBy=new_posting_date&page=0\"\n",
    "html = urllib.request.urlopen(url).read()"
   ]
  },
  {
   "cell_type": "code",
   "execution_count": 326,
   "metadata": {},
   "outputs": [],
   "source": [
    "from scrapy.selector import Selector\n",
    "from scrapy.http import HtmlResponse\n",
    "response  =  requests.get(url)"
   ]
  },
  {
   "cell_type": "code",
   "execution_count": 327,
   "metadata": {},
   "outputs": [],
   "source": [
    "chromedriver = \"../chromedriver/chromedriver\"\n",
    "os.environ[\"webdriver.chrome.driver\"] = chromedriver\n",
    "# driver = webdriver.Chrome(chromedriver)"
   ]
  },
  {
   "cell_type": "code",
   "execution_count": 328,
   "metadata": {},
   "outputs": [],
   "source": [
    "driver = webdriver.Chrome(executable_path=\"/Users/yesplum/desktop/GApro/chromedriver/chromedriver\")\n",
    "driver.get(url)\n",
    "sleep(1)\n",
    "html = driver.page_source\n",
    "driver.close()"
   ]
  },
  {
   "cell_type": "code",
   "execution_count": 329,
   "metadata": {},
   "outputs": [],
   "source": [
    "soup = BeautifulSoup(html, 'lxml', from_encoding=\"utf-8\")"
   ]
  },
  {
   "cell_type": "code",
   "execution_count": 331,
   "metadata": {},
   "outputs": [
    {
     "name": "stdout",
     "output_type": "stream",
     "text": [
      "/job/data-analyst-innospire-3822430bb55a90fd6345eac06f1a2ca5\n",
      "/job/data-centre-sales-director-asia-george-fischer-e79d4a04847259e3825af0f0b7e1148c\n",
      "/job/temp-%E2%80%93-may-july-2019-ministry-communications-information-e24cb8b4a22efb2de66d69bcc8fa8be7\n",
      "/job/data-migration-manager-standard-chartered-bank-837614da1cd234aedd117af4f4eb2973\n",
      "/job/vp-data-innovation-lead-uob-asset-management-united-overseas-bank-8639bea5214677f300e5fd4647f6fbc4\n",
      "/job/senior-hadoop-engineer-ensign-infosecurity-4c167e2d352107b933960e28c9253de0\n",
      "/job/project-manager-citibank-na-f8a366c7c32bf0649ac1710cd134cd7c\n",
      "/job/senior-executive-manager-public-service-division-6d27a363c5ffce78116c7881301f25b2\n",
      "/job/analyst-prepaid-platforms-visa-worldwide-207376ba4c12e95d7e465f7122fe0247\n",
      "/job/research-fellow-nanyang-technological-university-b264d76325b8202695af5d42dd7e83f8\n",
      "/job/research-assistant-institute-mental-health-bbf683d198f2f8acb2ac6e703af71b5f\n",
      "/job/key-account-manager-agility-project-logistics-1adbac5f36e25a759961a1b9957ba644\n",
      "/job/campaign-manager-ive-singapore-16f3fae6db1affa722e7941106c09e5c\n",
      "/job/corporate-counsel-google-cloud-google-technical-infrastructure-singapore-google-asia-pacific-4c264bccc03b7b6d801f02430eb3b7a1\n",
      "/job/test-engineer-helius-technologies-5a176052805fa653ddb0a044c746ed3a\n",
      "/job/director-visa-worldwide-dfed721defc1e2ffc5bb52d461e39672\n",
      "/job/sales-marketing-executive-pasona-singapore-784fd8c5f8b242c76c12708ea3c19200\n",
      "/job/technical-executive-housing-development-board-a8fe4ca8357e0fc7e3073b83643cfe41\n",
      "/job/senior-qa-engineer-yara-asia-9b25c301697b6f525500ab71b4072ae2\n",
      "/job/marketing-operations-manager-fwd-singapore-4d7a2dde065d9d38abf9dfbc83269f1b\n"
     ]
    }
   ],
   "source": [
    "for entry in soup.find_all(\"a\", attrs={'class': re.compile(r'JobCard')}):\n",
    "    print(entry.get('href'))"
   ]
  },
  {
   "cell_type": "code",
   "execution_count": 143,
   "metadata": {},
   "outputs": [
    {
     "name": "stdout",
     "output_type": "stream",
     "text": [
      "Job Id: []\n",
      "Posted date: []\n",
      "Title: []\n",
      "Company: []\n",
      "Salary: ['']\n",
      "Requirements [\"RequirementsThe Profile  You possess a Bachelor's degree and 5 years of experience in Data Science, Statistical Analysis, Mathematics, Quantitative Research or related fields. Ideally, 2 years of experience within a corporate organisation or other commercial environment is an advantage. You possess strong experience in leadership roles, managing data and analytics teams and evangelizing the value of data analytics to multiple stakeholders across a business. You have strong expertise in Data Modelling/ Statistical Modelling, Machine Learning, Optimisation and Visualisation would be highly valuable. You have experience working with cloud environments, popular analytics tools and programming languages commonly used in data science. You are able to understand the business context and deliver impactful insights from data to drive commercial outcomes. You are a strong mentor and coach who can build high performing teams. You possess strong analytical skills and are comfortable dealing with numerical data. You pay strong attention to detail and deliver work that is of a high standard. You have excellent presentation, interpersonal and communication skills, and are adept at leading and working with multiple stakeholders to drive desired outcomes.  \\xa0 Apply this role using the following link:\\xa0https://snaphunt.com/jobs/54868890\"]\n"
     ]
    }
   ],
   "source": [
    "#extract data from individual job page\n",
    "\n",
    "title = []\n",
    "company = []\n",
    "job_id = []\n",
    "seniority = []\n",
    "job_cat = []\n",
    "salary = []\n",
    "requirements = []\n",
    "post_date = []\n",
    "\n",
    "for entry in soup.find_all('h1', {'id': \"job_title\"}):\n",
    "    title.append(entry.renderContents())\n",
    "\n",
    "for entry in soup.find_all('p', {'name': \"company\"}):\n",
    "    company.append(entry.renderContents())\n",
    "\n",
    "for entry in soup.find_all('span', {'class': \"black-60 db f6 fw4 mv1\"}):\n",
    "    job_id.append(entry.renderContents())\n",
    "    \n",
    "for entry in soup.find_all('p', {'id': \"seniority\"}):\n",
    "    seniority.append(entry.renderContents())\n",
    "    \n",
    "for entry in soup.find_all('p', {'id': \"job-categories\"}):\n",
    "    job_cat.append(entry.renderContents()) \n",
    "    \n",
    "for entry in soup.find_all('span', {'id': \"last_posted_date\"}):\n",
    "    post_date.append(entry.renderContents())     \n",
    "\n",
    "salary_all = soup.find_all(\"span\", attrs={'class': 'dib'})\n",
    "list_of_inner_text = [x.text for x in salary_all]\n",
    "salary_text = '/ '.join(list_of_inner_text)\n",
    "salary.append(salary_text)\n",
    "\n",
    "requirement_all = soup.find_all(\"div\", attrs={'id': 'requirements'})\n",
    "list_of_inner_text = [x.text for x in requirement_all]\n",
    "requirements_text = ', '.join(list_of_inner_text)\n",
    "requirements.append(requirement_text)\n",
    " \n",
    "\n",
    "print('Job Id:', job_id)  \n",
    "print('Posted date:', post_date)\n",
    "print('Title:', title)\n",
    "print('Company:', company)\n",
    "print('Salary:', salary)\n",
    "print('Requirements', requirements)"
   ]
  },
  {
   "cell_type": "code",
   "execution_count": 92,
   "metadata": {},
   "outputs": [],
   "source": [
    "data = pd.DataFrame(columns = ['Job_Id','Job_Title','Company','Date_Posted','Salary',\n",
    "                                   'Seniority','Category','Requirements'])\n",
    "\n",
    "data = data.append({'Job_Id':job_id,'Job_Title':title,'Company':company,\n",
    "                    'Date_Posted':post_date,'Salary':salary,'Seniority':seniority,\n",
    "                    'Category':job_cat,'Requirements':requirements},ignore_index=True)    "
   ]
  },
  {
   "cell_type": "code",
   "execution_count": 96,
   "metadata": {},
   "outputs": [
    {
     "data": {
      "text/html": [
       "<div>\n",
       "<style scoped>\n",
       "    .dataframe tbody tr th:only-of-type {\n",
       "        vertical-align: middle;\n",
       "    }\n",
       "\n",
       "    .dataframe tbody tr th {\n",
       "        vertical-align: top;\n",
       "    }\n",
       "\n",
       "    .dataframe thead th {\n",
       "        text-align: right;\n",
       "    }\n",
       "</style>\n",
       "<table border=\"1\" class=\"dataframe\">\n",
       "  <thead>\n",
       "    <tr style=\"text-align: right;\">\n",
       "      <th></th>\n",
       "      <th>Job_Id</th>\n",
       "      <th>Job_Title</th>\n",
       "      <th>Company</th>\n",
       "      <th>Date_Posted</th>\n",
       "      <th>Salary</th>\n",
       "      <th>Seniority</th>\n",
       "      <th>Category</th>\n",
       "      <th>Requirements</th>\n",
       "    </tr>\n",
       "  </thead>\n",
       "  <tbody>\n",
       "    <tr>\n",
       "      <th>0</th>\n",
       "      <td>[b' JOB-2019-0087114 ']</td>\n",
       "      <td>[b'Head Of Data Analytics']</td>\n",
       "      <td>[b'SNAPHUNT PTE. LTD.']</td>\n",
       "      <td>[b'Posted 24 Apr 2019']</td>\n",
       "      <td>[Recruiter/ / Salary undisclosed/ / Closing on...</td>\n",
       "      <td>[b'Senior Management, Middle Management, Manag...</td>\n",
       "      <td>[b'Advertising / Media ']</td>\n",
       "      <td>[RequirementsThe Profile  You possess a Bachel...</td>\n",
       "    </tr>\n",
       "  </tbody>\n",
       "</table>\n",
       "</div>"
      ],
      "text/plain": [
       "                    Job_Id                    Job_Title  \\\n",
       "0  [b' JOB-2019-0087114 ']  [b'Head Of Data Analytics']   \n",
       "\n",
       "                   Company              Date_Posted  \\\n",
       "0  [b'SNAPHUNT PTE. LTD.']  [b'Posted 24 Apr 2019']   \n",
       "\n",
       "                                              Salary  \\\n",
       "0  [Recruiter/ / Salary undisclosed/ / Closing on...   \n",
       "\n",
       "                                           Seniority  \\\n",
       "0  [b'Senior Management, Middle Management, Manag...   \n",
       "\n",
       "                    Category  \\\n",
       "0  [b'Advertising / Media ']   \n",
       "\n",
       "                                        Requirements  \n",
       "0  [RequirementsThe Profile  You possess a Bachel...  "
      ]
     },
     "execution_count": 96,
     "metadata": {},
     "output_type": "execute_result"
    }
   ],
   "source": [
    "data.head()"
   ]
  },
  {
   "cell_type": "code",
   "execution_count": null,
   "metadata": {},
   "outputs": [],
   "source": []
  },
  {
   "cell_type": "code",
   "execution_count": null,
   "metadata": {},
   "outputs": [],
   "source": []
  },
  {
   "cell_type": "code",
   "execution_count": null,
   "metadata": {},
   "outputs": [],
   "source": []
  }
 ],
 "metadata": {
  "kernelspec": {
   "display_name": "Python 3",
   "language": "python",
   "name": "python3"
  },
  "language_info": {
   "codemirror_mode": {
    "name": "ipython",
    "version": 3
   },
   "file_extension": ".py",
   "mimetype": "text/x-python",
   "name": "python",
   "nbconvert_exporter": "python",
   "pygments_lexer": "ipython3",
   "version": "3.7.1"
  }
 },
 "nbformat": 4,
 "nbformat_minor": 2
}
