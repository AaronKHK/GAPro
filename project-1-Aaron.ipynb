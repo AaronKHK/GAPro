{
 "cells": [
  {
   "cell_type": "markdown",
   "metadata": {},
   "source": [
    "<img src=\"http://imgur.com/1ZcRyrc.png\" style=\"float: left; margin: 15px; height: 80px\">\n",
    "\n",
    "# Project 1\n",
    "\n",
    "### Building \"Pokemon Stay\"\n",
    "\n",
    "---\n",
    "You are an analyst at a \"scrappy\" online gaming company that specializes in remakes of last year's fads.\n",
    "\n",
    "Your boss, who runs the product development team, is convinced that Pokemon Go's fatal flaw was that you had to actually move around outside. She has design mock-ups for a new game called Pokemon Stay: in this version players still need to move, but just from website to website. Pokemon gyms are now popular online destinations, and catching Pokemon in the \"wild\" simply requires browsing the internet for hours in the comfort of your home.\n",
    "\n",
    "She wants you to program a prototype version of the game, and analyze the planned content to help the team calibrate the design."
   ]
  },
  {
   "cell_type": "markdown",
   "metadata": {},
   "source": [
    "#### Package imports\n",
    "\n",
    "The pprint package below is the only package imported here, and it's not even strictly required to do any of the project. Printing python variables and objects with pprint can help to format them in a \"prettier\" way."
   ]
  },
  {
   "cell_type": "code",
   "execution_count": 17,
   "metadata": {},
   "outputs": [],
   "source": [
    "from pprint import pprint"
   ]
  },
  {
   "cell_type": "markdown",
   "metadata": {},
   "source": [
    "<img src=\"http://imgur.com/l5NasQj.png\" style=\"float: left; margin: 25px 15px 0px 0px; height: 25px\">\n",
    "\n",
    "## 1. Defining a player\n",
    "\n",
    "---\n",
    "\n",
    "The player variables are:\n",
    "\n",
    "    player_id : id code unique to each player (integer)\n",
    "    player_name : entered name of the player (string)\n",
    "    time_played : number of time played the game in minutes (float)\n",
    "    player_pokemon: the player's captured pokemon (dictionary)\n",
    "    gyms_visited: ids of the gyms that a player has visited (list)\n",
    "    \n",
    "Create the components for a player object by defining each of these variables. The dictionary and list variables should just be defined as empty; you can use any (correctly typed) values for the others."
   ]
  },
  {
   "cell_type": "code",
   "execution_count": 18,
   "metadata": {},
   "outputs": [],
   "source": [
    "player_id=1\n",
    "player_name='John'\n",
    "time_played=380.0\n",
    "player_pokemon={}\n",
    "gyms_visited=[]"
   ]
  },
  {
   "cell_type": "markdown",
   "metadata": {},
   "source": [
    "<img src=\"http://imgur.com/l5NasQj.png\" style=\"float: left; margin: 25px 15px 0px 0px; height: 25px\">\n",
    "\n",
    "## 2. Defining \"gym\" locations\n",
    "\n",
    "---\n",
    "\n",
    "As the sole programmer, Pokemon Stay will have to start small. To begin, there will be 10 different gym location websites on the internet. The gym locations are:\n",
    "\n",
    "    1. 'reddit.com'\n",
    "    2. 'amazon.com'\n",
    "    3. 'twitter.com'\n",
    "    4. 'linkedin.com'\n",
    "    5. 'ebay.com'\n",
    "    6. 'netflix.com'\n",
    "    7. 'sporcle.com'\n",
    "    8. 'stackoverflow.com'\n",
    "    9. 'github.com'\n",
    "    10. 'quora.com'\n",
    "\n",
    "1. Set up a list of all the gym locations. This will be a list of strings.\n",
    "2. Append two of these locations to your player's list of visited gyms.\n",
    "3. Print the list."
   ]
  },
  {
   "cell_type": "code",
   "execution_count": 19,
   "metadata": {},
   "outputs": [
    {
     "name": "stdout",
     "output_type": "stream",
     "text": [
      "['netflix.com', 'github.com']\n"
     ]
    }
   ],
   "source": [
    "import numpy as np\n",
    "\n",
    "pokemon_gyms = ['reddit.com','amazon.com','twitter.com','linkedin.com','ebay.com','netflix.com','sporcle.com','stackoverflow.com','github.com','quora.com']\n",
    "np.random.seed(1)\n",
    "gyms_visited=[]\n",
    "for i in range(2):\n",
    "    random_gyms = int(np.random.randint(0,10))\n",
    "    gyms_visited.append(pokemon_gyms[random_gyms])\n",
    "\n",
    "print(gyms_visited)"
   ]
  },
  {
   "cell_type": "markdown",
   "metadata": {},
   "source": [
    "<img src=\"http://imgur.com/l5NasQj.png\" style=\"float: left; margin: 25px 15px 0px 0px; height: 25px\">\n",
    "\n",
    "## 3. Create a pokedex\n",
    "\n",
    "---\n",
    "\n",
    "We also need to create some pokemon to catch. Each pokemon will be defined by these variables:\n",
    "\n",
    "    pokemon_id : unique identifier for each pokemon (integer)\n",
    "    name : the name of the pokemon (string)\n",
    "    type : the category of pokemon (string)\n",
    "    hp : base hitpoints (integer)\n",
    "    attack : base attack (integer)\n",
    "    defense : base defense (integer)\n",
    "    special_attack : base special attack (integer)\n",
    "    special_defense : base sepecial defense (integer)\n",
    "    speed : base speed (integer)\n",
    "\n",
    "We are only going to create 3 different pokemon with these `pokemon_id` and `pokemon_name` values:\n",
    "\n",
    "    1 : 'charmander'\n",
    "    2 : 'squirtle'\n",
    "    3 : 'bulbasaur'\n",
    "\n",
    "Create a dictionary that will contain the pokemon. The keys of the dictionary will be the `pokemon_id` and the values will themselves dictionaries that contain the other pokemon variables. The structure of the pokedex dictionary will start like so:\n",
    "     \n",
    "     {\n",
    "         1: {\n",
    "                 'name':'charmander',\n",
    "                 'type':'fire',\n",
    "                 ...\n",
    "                 \n",
    "The `type` of charmander, squirtle, and bulbasaur should be `'fire'`, `'water'`, and `'poison'` respectively. The other values are up to you, make them anything you like!\n",
    "\n",
    "Print (or pretty print) the pokedex dictionary with the 3 pokemon."
   ]
  },
  {
   "cell_type": "code",
   "execution_count": 4,
   "metadata": {},
   "outputs": [
    {
     "name": "stdout",
     "output_type": "stream",
     "text": [
      "{1: {'attack': 700,\n",
      "     'defense': 800,\n",
      "     'hp': 480,\n",
      "     'name': 'charmander',\n",
      "     'special_attack': 500,\n",
      "     'special_defense': 700,\n",
      "     'speed': 50,\n",
      "     'type': 'fire'},\n",
      " 2: {'attack': 400,\n",
      "     'defense': 500,\n",
      "     'hp': 480,\n",
      "     'name': 'squirtle',\n",
      "     'special_attack': 200,\n",
      "     'special_defense': 800,\n",
      "     'speed': 40,\n",
      "     'type': 'water'},\n",
      " 3: {'attack': 500,\n",
      "     'defense': 300,\n",
      "     'hp': 380,\n",
      "     'name': 'bulbasaur',\n",
      "     'special_attack': 400,\n",
      "     'special_defense': 400,\n",
      "     'speed': 60,\n",
      "     'type': 'poison'}}\n"
     ]
    }
   ],
   "source": [
    "from pprint import pprint\n",
    "pokedex = {\n",
    "            1:{\n",
    "                'name':'charmander',\n",
    "                'type':'fire',\n",
    "                'hp':480,\n",
    "                'attack':700,\n",
    "                'defense':800,\n",
    "                'special_attack':500,\n",
    "                'special_defense':700,\n",
    "                'speed':50,\n",
    "            },\n",
    "    \n",
    "            2:{\n",
    "                'name':'squirtle',\n",
    "                'type':'water',\n",
    "                'hp':480,\n",
    "                'attack':400,\n",
    "                'defense':500,\n",
    "                'special_attack':200,\n",
    "                'special_defense':800,\n",
    "                'speed':40,\n",
    "            },\n",
    "    \n",
    "            3:{\n",
    "                'name':'bulbasaur',\n",
    "                'type':'poison',\n",
    "                'hp':380,\n",
    "                'attack':500,\n",
    "                'defense':300,\n",
    "                'special_attack':400,\n",
    "                'special_defense':400,\n",
    "                'speed':60,\n",
    "            }\n",
    "}\n",
    "pprint(pokedex)"
   ]
  },
  {
   "cell_type": "markdown",
   "metadata": {},
   "source": [
    "<img src=\"http://imgur.com/l5NasQj.png\" style=\"float: left; margin: 25px 15px 0px 0px; height: 25px\">\n",
    "\n",
    "## 4. Create a data structure for players\n",
    "\n",
    "---\n",
    "\n",
    "### 4.1 \n",
    "\n",
    "In order to maintain a database of multiple players, create a dictionary that keeps track of players indexed by `player_id`. \n",
    "\n",
    "The keys of the dictionary will be `player_id` and values will be dictionaries containing each player's variables (from question 1). \n",
    "\n",
    "Construct the `players` dictionary and insert the player that you defined in question 1, then print `players`."
   ]
  },
  {
   "cell_type": "code",
   "execution_count": 21,
   "metadata": {},
   "outputs": [
    {
     "name": "stdout",
     "output_type": "stream",
     "text": [
      "{1: {'gyms visited': ['netflix.com', 'github.com'],\n",
      "     'name': 'John',\n",
      "     'player pokemon': {},\n",
      "     'time played': 380.0}}\n"
     ]
    }
   ],
   "source": [
    "players = {\n",
    "            player_id:{\n",
    "                'name':player_name,\n",
    "                'time played':time_played,\n",
    "                'player pokemon':player_pokemon,\n",
    "                'gyms visited':gyms_visited\n",
    "                }\n",
    "            }\n",
    "pprint(players)"
   ]
  },
  {
   "cell_type": "markdown",
   "metadata": {},
   "source": [
    "---\n",
    "\n",
    "### 4.2\n",
    "\n",
    "Create a new player with `player_id = 2` in the `players` dictionary. Leave the `'player_pokemon'` dictionary empty. Append `'alcatraz'` and `'pacific_beach'` to the `'gyms_visited'` list for player 2.\n",
    "\n",
    "The `'player_name'` and `'time_played'` values are up to you, but must be a string and float, respectively.\n",
    "\n",
    "Remember, the player_id is the key for the player in the players dictionary.\n",
    "\n",
    "Print the `players` dictionary with the new player inserted."
   ]
  },
  {
   "cell_type": "code",
   "execution_count": 22,
   "metadata": {},
   "outputs": [
    {
     "name": "stdout",
     "output_type": "stream",
     "text": [
      "{1: {'gyms visited': ['netflix.com', 'github.com'],\n",
      "     'name': 'John',\n",
      "     'player pokemon': {},\n",
      "     'time played': 380.0},\n",
      " 2: {'gyms visited': ['netflix.com', 'github.com', 'alcatraz', 'pacific_beach'],\n",
      "     'name': 'Michael',\n",
      "     'player pokemon': {},\n",
      "     'time played': 412.3}}\n"
     ]
    }
   ],
   "source": [
    "player2_gym_list = list(gyms_visited)\n",
    "player2_gym_list.append('alcatraz')\n",
    "player2_gym_list.append('pacific_beach')\n",
    "players.update({2:{'name':'Michael', 'time played':412.3, 'gyms visited':player2_gym_list, 'player pokemon':{}}})\n",
    "pprint(players)"
   ]
  },
  {
   "cell_type": "markdown",
   "metadata": {},
   "source": [
    "<img src=\"http://imgur.com/l5NasQj.png\" style=\"float: left; margin: 25px 15px 0px 0px; height: 25px\">\n",
    "\n",
    "## 5. Add captured pokemon for each player\n",
    "\n",
    "---\n",
    "\n",
    "The `'player_pokemon'` keyed dictionaries for each player keep track of which of the pokemon each player has.\n",
    "\n",
    "The keys of the `'player_pokemon'` dictionaries are the pokemon ids that correspond to the ids in the `pokedex` dictionary you created earlier. The values are integers specifying the stats for the pokemon.\n",
    "\n",
    "Give player 1 a squirtle. Give player 2 charmander and a bulbasaur.\n",
    "\n",
    "Print the players dictionary after adding the pokemon for each player.\n"
   ]
  },
  {
   "cell_type": "code",
   "execution_count": 23,
   "metadata": {},
   "outputs": [],
   "source": [
    "def add_pokemon(player_name, pokemon_name):\n",
    "    for x,i in enumerate(players):\n",
    "        if player_name == players[i]['name']:\n",
    "            #print(player_name, 'found')\n",
    "            for y,j in enumerate(pokedex):\n",
    "                if pokemon_name == pokedex[j]['name']:\n",
    "                    #print(pokemon_name, 'found')\n",
    "                    player_pokemon = {j:pokedex[j]}\n",
    "                    players[i]['player pokemon'].update(player_pokemon)                "
   ]
  },
  {
   "cell_type": "code",
   "execution_count": 24,
   "metadata": {},
   "outputs": [
    {
     "name": "stdout",
     "output_type": "stream",
     "text": [
      "{1: {'gyms visited': ['netflix.com', 'github.com'],\n",
      "     'name': 'John',\n",
      "     'player pokemon': {1: {'attack': 700,\n",
      "                            'defense': 800,\n",
      "                            'hp': 480,\n",
      "                            'name': 'charmander',\n",
      "                            'special_attack': 500,\n",
      "                            'special_defense': 700,\n",
      "                            'speed': 50,\n",
      "                            'type': 'fire'}},\n",
      "     'time played': 380.0},\n",
      " 2: {'gyms visited': ['netflix.com', 'github.com', 'alcatraz', 'pacific_beach'],\n",
      "     'name': 'Michael',\n",
      "     'player pokemon': {2: {'attack': 400,\n",
      "                            'defense': 500,\n",
      "                            'hp': 480,\n",
      "                            'name': 'squirtle',\n",
      "                            'special_attack': 200,\n",
      "                            'special_defense': 800,\n",
      "                            'speed': 40,\n",
      "                            'type': 'water'},\n",
      "                        3: {'attack': 500,\n",
      "                            'defense': 300,\n",
      "                            'hp': 380,\n",
      "                            'name': 'bulbasaur',\n",
      "                            'special_attack': 400,\n",
      "                            'special_defense': 400,\n",
      "                            'speed': 60,\n",
      "                            'type': 'poison'}},\n",
      "     'time played': 412.3}}\n"
     ]
    }
   ],
   "source": [
    "#Enter player name and pokemon name to add pokemon into player's pokemon list\n",
    "add_pokemon('John', 'charmander')\n",
    "add_pokemon('Michael', 'squirtle')\n",
    "add_pokemon('Michael', 'bulbasaur')\n",
    "pprint(players)"
   ]
  },
  {
   "cell_type": "markdown",
   "metadata": {},
   "source": [
    "\n",
    "\n",
    "## 6. What gyms have players visited?\n",
    "\n",
    "---\n",
    "<img src=\"http://imgur.com/l5NasQj.png\" style=\"float: left; margin: 25px 15px 0px 0px; height: 25px\">\n",
    "### 6.1\n",
    "\n",
    "Write a for-loop that:\n",
    "\n",
    "1. Iterates through the `pokemon_gyms` list of gym locations you defined before.\n",
    "2. For each gym, iterate through each player in the `players` dictionary with a second, internal for-loop.\n",
    "3. If the player has visited the gym, print out \"[player] has visited [gym location].\", filling in [player] and [gym location] with the current player's name and current gym location."
   ]
  },
  {
   "cell_type": "code",
   "execution_count": 26,
   "metadata": {
    "scrolled": false
   },
   "outputs": [
    {
     "name": "stdout",
     "output_type": "stream",
     "text": [
      "['netflix.com']\n",
      "['netflix.com', 'github.com']\n",
      "John has visited ['netflix.com', 'github.com']\n",
      "['netflix.com']\n",
      "['netflix.com', 'github.com']\n",
      "Michael has visited ['netflix.com', 'github.com']\n"
     ]
    }
   ],
   "source": [
    "for x,i in enumerate(players):\n",
    "    visited_list =[]\n",
    "    for gym in pokemon_gyms:\n",
    "        for visited in players[i]['gyms visited']:\n",
    "            if gym == visited:\n",
    "                visited_list.append(gym)\n",
    "                print(visited_list)\n",
    "                \n",
    "    print(players[i]['name'], 'has visited', visited_list)"
   ]
  },
  {
   "cell_type": "markdown",
   "metadata": {},
   "source": [
    "<img src=\"http://imgur.com/xDpSobf.png\" style=\"float: left; margin: 25px 15px 0px 0px; height: 25px\">\n",
    "### 6.2\n",
    "\n",
    "How many times did that loop run? If you have N gyms and also N players, how many times would it run as a function of N?\n",
    "\n",
    "Can you think of a more efficient way to accomplish the same thing? \n",
    "\n",
    "(You can write your answer as Markdown text.)"
   ]
  },
  {
   "cell_type": "markdown",
   "metadata": {},
   "source": [
    "the loop run 4 times (2 visited gyms * 2 players). The function will run N*N times if we have N gyms and N players"
   ]
  },
  {
   "cell_type": "markdown",
   "metadata": {},
   "source": [
    "<img src=\"http://imgur.com/l5NasQj.png\" style=\"float: left; margin: 25px 15px 0px 0px; height: 25px\">\n",
    "\n",
    "## 7. Calculate player \"power\".\n",
    "\n",
    "---\n",
    "\n",
    "Define a function that will calculate a player's \"power\". Player power is defined as the sum of the base statistics all of their pokemon.\n",
    "\n",
    "Your function will:\n",
    "\n",
    "1. Accept the `players` dictionary, `pokedex` dictionary, and a player_id as arguments.\n",
    "2. For the specified player_id, look up that player's pokemon and their level(s).\n",
    "3. Find and aggregate the attack and defense values for each of the player's pokemon from the `pokedex` dictionary.\n",
    "4. Print \"[player name]'s power is [player power].\", where the player power is the sum of the base statistics for all of their pokemon.\n",
    "5. Return the player's power value.\n",
    "\n",
    "Print out the pokemon power for each of your players."
   ]
  },
  {
   "cell_type": "code",
   "execution_count": 27,
   "metadata": {},
   "outputs": [
    {
     "name": "stdout",
     "output_type": "stream",
     "text": [
      "Michael attack power is 900\n",
      "Michael defense power is 800\n",
      "Michael total power (attack + defense) is 1700\n"
     ]
    }
   ],
   "source": [
    "def player_power (playdict, pokedict, player_id):\n",
    "    \n",
    "    play_poke_key = players[player_id].get('player pokemon')\n",
    "    play_att_list = []\n",
    "    play_def_list = []\n",
    "    play_total_att = []\n",
    "    play_total_def = []\n",
    "    \n",
    "    for key in play_poke_key:\n",
    "        att_pow = pokedict[key].get('attack')\n",
    "        play_att_list.append(att_pow)\n",
    "        play_total_att = sum(play_att_list)\n",
    "    print(playdict[player_id]['name'],'attack power is',play_total_att)\n",
    "\n",
    "    for key in play_poke_key:\n",
    "        def_pow = pokedict[key].get('defense')\n",
    "        play_def_list.append(def_pow)\n",
    "        play_total_def = sum(play_def_list)\n",
    "    print(playdict[player_id]['name'],'defense power is',play_total_def)\n",
    "    \n",
    "    total_power = play_total_att + play_total_def\n",
    "    print(playdict[player_id]['name'],'total power (attack + defense) is',total_power)\n",
    "    \n",
    "    \n",
    "    \n",
    "player_power(players, pokedex, 2)"
   ]
  },
  {
   "cell_type": "markdown",
   "metadata": {
    "collapsed": true
   },
   "source": [
    "<img src=\"http://imgur.com/l5NasQj.png\" style=\"float: left; margin: 25px 15px 0px 0px; height: 25px\">\n",
    "\n",
    "## 8. Load a pokedex file containing all the pokemon\n",
    "\n",
    "---\n",
    "\n",
    "### 8.1\n",
    "\n",
    "While you were putting together the prototype code, your colleagues were preparing a dataset of Pokemon and their attributes. (This was a rush job, so they may have picked some crazy values for some...)\n",
    "\n",
    "The code below loads information from a comma separated value (csv) file. You need to parse this string into a more useable format. The format of the string is:\n",
    "\n",
    "- Rows are separated by newline characters: \\n\n",
    "- Columns are separated by commas: ,\n",
    "- All cells in the csv are double quoted. Ex: \"PokedexNumber\" is the first cell of the first row.\n",
    "\n",
    "\n",
    "Using for-loops, create a list of lists where each list within the overall list is a row of the csv/matrix, and each element in that list is a cell in that row. Additional criteria:\n",
    "\n",
    "1. Quotes are removed from each cell item.\n",
    "2. Numeric column values are converted to floats.\n",
    "3. There are some cells that are empty and have no information. For these cells put a -1 value in place.\n",
    "\n",
    "Your end result is effectively a matrix. Each list in the outer list is a row, and the *j*th elements of list together form the *j*th column, which represents a data attribute. The first three lists in your pokedex list should look like this:\n",
    "\n",
    "    ['PokedexNumber', 'Name', 'Type', 'Total', 'HP', 'Attack', 'Defense', 'SpecialAttack', 'SpecialDefense', 'Speed']\n",
    "    [1.0, 'Bulbasaur', 'GrassPoison', 318.0, 45.0, 49.0, 49.0, 65.0, 65.0, 45.0]\n",
    "    [2.0, 'Ivysaur', 'GrassPoison', 405.0, 60.0, 62.0, 63.0, 80.0, 80.0, 60.0]"
   ]
  },
  {
   "cell_type": "code",
   "execution_count": 28,
   "metadata": {},
   "outputs": [],
   "source": [
    "# Code to read in pokedex info\n",
    "raw_pd = ''\n",
    "pokedex_file = 'pokedex_basic.csv'\n",
    "with open(pokedex_file, 'r') as f:\n",
    "    raw_pd = f.read()\n",
    "\n",
    "# the pokedex string is assigned to the raw_pd variable"
   ]
  },
  {
   "cell_type": "code",
   "execution_count": 29,
   "metadata": {},
   "outputs": [],
   "source": [
    "new_pokedex = []\n",
    "clean1 = raw_pd.replace('\"', '')\n",
    "clean2 = clean1.split(sep = '\\n')\n",
    "for i in range(len(clean2)):\n",
    "    new_pokedex.append(clean2[i].split(sep = ','))\n",
    "for i in range(len(new_pokedex)):   \n",
    "    for j in range(len(new_pokedex[0])):\n",
    "        try: \n",
    "            new_pokedex[i][j] = (float(new_pokedex[i][j]))\n",
    "        except ValueError:\n",
    "            new_pokedex[i][j] = new_pokedex[i][j]\n",
    "            \n",
    "new_pokedex = [[col if col != '' else '-1' for col in row] for row in new_pokedex] #to replace empty cell with value -1           "
   ]
  },
  {
   "cell_type": "code",
   "execution_count": 13,
   "metadata": {},
   "outputs": [
    {
     "name": "stdout",
     "output_type": "stream",
     "text": [
      "['PokedexNumber', 'Name', 'Type', 'Total', 'HP', 'Attack', 'Defense', 'SpecialAttack', 'SpecialDefense', 'Speed']\n",
      "[1.0, 'Bulbasaur', 'GrassPoison', 318.0, 45.0, 49.0, 49.0, 65.0, 65.0, 45.0]\n",
      "[2.0, 'Ivysaur', 'GrassPoison', 405.0, 60.0, 62.0, 63.0, 80.0, 80.0, 60.0]\n"
     ]
    }
   ],
   "source": [
    "print(new_pokedex[0])\n",
    "print(new_pokedex[1])\n",
    "print(new_pokedex[2])"
   ]
  },
  {
   "cell_type": "markdown",
   "metadata": {},
   "source": [
    "<img src=\"http://imgur.com/xDpSobf.png\" style=\"float: left; margin: 25px 15px 0px 0px; height: 25px\">\n",
    "\n",
    "### 8.2 Parse the raw pokedex with list comprehensions\n",
    "\n",
    "---\n",
    "\n",
    "Perform the same parsing as above, but **using only a single list comprehension** instead of for loops. You may have nested list comprehensions within the main list comprehension! The output should be exactly the same."
   ]
  },
  {
   "cell_type": "code",
   "execution_count": 37,
   "metadata": {},
   "outputs": [],
   "source": [
    "new_pokedex = []\n",
    "clean1 = raw_pd.replace('\"', '')\n",
    "clean2 = clean1.split(sep = '\\n')\n",
    "for i in range(len(clean2)):\n",
    "    new_pokedex.append(clean2[i].split(sep = ','))\n",
    "for i in range(len(new_pokedex)):   \n",
    "    for j in range(len(new_pokedex[0])):\n",
    "        try: \n",
    "            new_pokedex[i][j] = (float(new_pokedex[i][j]))\n",
    "        except ValueError:\n",
    "            new_pokedex[i][j] = new_pokedex[i][j]\n",
    "            \n",
    "new_pokedex = [[col if col != '' else '-1' for col in row] for row in new_pokedex] #to replace empty cell with value -1           "
   ]
  },
  {
   "cell_type": "markdown",
   "metadata": {},
   "source": [
    "<img src=\"http://imgur.com/l5NasQj.png\" style=\"float: left; margin: 25px 15px 0px 0px; height: 25px\">\n",
    "\n",
    "## 9. Write a function to generate the full pokedex\n",
    "\n",
    "---\n",
    "\n",
    "Write a function that recreates the pokedex you made before, but with the data read in from the full pokemon file. The `PokedexNumber` should be used as the `pokemon_id` key values for the dictionary of pokemon.\n",
    "\n",
    "Your function should:\n",
    "\n",
    "1. Take the parsed pokedex information you created above as an argument.\n",
    "2. Return a dictionary in the same format as your original pokedex you created before containing the information from the parsed full pokedex file.\n",
    "\n",
    "To test the function, print out the pokemon with id = 100."
   ]
  },
  {
   "cell_type": "code",
   "execution_count": 92,
   "metadata": {
    "scrolled": true
   },
   "outputs": [],
   "source": [
    "def pokemon_generator(poke_file):\n",
    "    \n",
    "    new_pd_dict = {}\n",
    "\n",
    "    for i in range(1, len(poke_file)):\n",
    "        \n",
    "        new_pokemon = {\n",
    "\n",
    "                        'attack': poke_file[i][5],\n",
    "                        'defense': poke_file[i][6],\n",
    "                        'hp': poke_file[i][4],\n",
    "                        'name': poke_file[i][1],\n",
    "                        'PokedexNumber': i,      #re-assign pokedexnumber based on num of pokemon        \n",
    "                        'special_attack': poke_file[i][7],\n",
    "                        'special_defense': poke_file[i][8],\n",
    "                        'speed': poke_file[i][9],\n",
    "                        'type': poke_file[i][2], \n",
    "                        'Total': poke_file[i][3]\n",
    "\n",
    "                        }\n",
    "\n",
    "        key_num = i #generate new index for pokemon_id based on num of pokemon (800 pokemons) inside the file \n",
    "        new_pd_dict.update({key_num : new_pokemon})\n",
    "    \n",
    "\n",
    "    pprint(new_pd_dict[100])  #print out pokemon number 100 for function check\n",
    "    return(new_pd_dict)"
   ]
  },
  {
   "cell_type": "code",
   "execution_count": 94,
   "metadata": {
    "scrolled": true
   },
   "outputs": [
    {
     "name": "stdout",
     "output_type": "stream",
     "text": [
      "{'PokedexNumber': 100,\n",
      " 'Total': 310.0,\n",
      " 'attack': 35.0,\n",
      " 'defense': 30.0,\n",
      " 'hp': 30.0,\n",
      " 'name': 'Gastly',\n",
      " 'special_attack': 100.0,\n",
      " 'special_defense': 35.0,\n",
      " 'speed': 80.0,\n",
      " 'type': 'GhostPoison'}\n"
     ]
    }
   ],
   "source": [
    "new_pd_dict = pokemon_generator(new_pokedex)"
   ]
  },
  {
   "cell_type": "markdown",
   "metadata": {},
   "source": [
    "<img src=\"http://i.imgur.com/GCAf1UX.png\" style=\"float: left; margin: 25px 15px 0px 0px; height: 25px\">\n",
    "\n",
    "## 10. Write a function to generate a \"filtered\" pokedex\n",
    "---\n",
    "Your function should:\n",
    "1. Take the parsed pokedex information you created above as an argument.\n",
    "1. Take a dictionary as a parameter with keys matching the features of the Pokedex, filtering by exact match for string type values, and/or filter continuous variables specified value that is greater than or equal to the dictionary key parameter.\n",
    "1. Return multiple elements from the Pokedex\n",
    "\n",
    "Example:\n",
    "\n",
    "```python\n",
    "\n",
    "# Only filter based on parameters passed\n",
    "filter_options = {\n",
    "    'Attack':   25,\n",
    "    'Defense':  30,\n",
    "    'Type':     'Electric'\n",
    "}\n",
    "\n",
    "# Return records with attack >= 24, defense >= 30, and type == \"Electric\"\n",
    "# Also anticipate that other paramters can also be passed such as \"SpecialAttack\", \"Speed\", etc.\n",
    "filtered_pokedex(pokedex_data, filter=filter_options)\n",
    "\n",
    "# Example output:\n",
    "# [{'Attack': 30.0,\n",
    "#  'Defense': 50.0,\n",
    "#  'HP': 40.0,\n",
    "#  'Name': 'Voltorb',\n",
    "#  'SpecialAttack': 55.0,\n",
    "#  'SpecialDefense': 55.0,\n",
    "#  'Speed': 100.0,\n",
    "#  'Total': 330.0,\n",
    "#  'Type': 'Electric'},\n",
    "#  {'Attack': 30.0,\n",
    "#  'Defense': 33.0,\n",
    "#  'HP': 32.0,\n",
    "#  'Name': 'Pikachu',\n",
    "#  'SpecialAttack': 55.0,\n",
    "#  'SpecialDefense': 55.0,\n",
    "#  'Speed': 100.0,\n",
    "#  'Total': 330.0,\n",
    "#  'Type': 'Electric'},\n",
    "#  ... etc\n",
    "#  ]\n",
    "\n",
    "```\n",
    "\n"
   ]
  },
  {
   "cell_type": "code",
   "execution_count": null,
   "metadata": {},
   "outputs": [],
   "source": []
  },
  {
   "cell_type": "markdown",
   "metadata": {
    "collapsed": true
   },
   "source": [
    "\n",
    "## 9. Descriptive statistics on the prototype pokedex\n",
    "\n",
    "<img src=\"http://imgur.com/l5NasQj.png\" style=\"float: left; margin: 25px 15px 0px 0px; height: 25px\">\n",
    "### 9.1\n",
    "\n",
    "What is the population mean and standard deviation of the \"Total\" attribute for all characters in the Pokedex?\n",
    "\n"
   ]
  },
  {
   "cell_type": "code",
   "execution_count": 133,
   "metadata": {},
   "outputs": [
    {
     "name": "stdout",
     "output_type": "stream",
     "text": [
      "check number of pokemon: 800\n",
      "mean of the \"total\" attribute for all pokemon: 435.1275\n",
      "standard deviation of the \"total\" attribute for all pokemon: 119.96202000529168\n",
      "Max value of total 800.0\n"
     ]
    }
   ],
   "source": [
    "#total 348,102\n",
    "#average 435.1275\n",
    "import numpy as np\n",
    "total_list = [new_pd_dict[row].get('Total') for row in new_pd_dict]\n",
    "print('check number of pokemon:', len(total_list))\n",
    "print('mean of the \"total\" attribute for all pokemon:', np.mean(total_list))\n",
    "print('standard deviation of the \"total\" attribute for all pokemon:',np.std(total_list))\n",
    "print('Max value of total', np.max(total_list))\n"
   ]
  },
  {
   "cell_type": "markdown",
   "metadata": {},
   "source": [
    "<img src=\"http://imgur.com/l5NasQj.png\" style=\"float: left; margin: 25px 15px 0px 0px; height: 25px\">\n",
    "### 9.2\n",
    "\n",
    "The game is no fun if the characters are wildly unbalanced! Are any characters \"overpowered\", which we'll define as having a \"Total\" more than three standard deviations from the population mean?"
   ]
  },
  {
   "cell_type": "code",
   "execution_count": 143,
   "metadata": {},
   "outputs": [
    {
     "name": "stdout",
     "output_type": "stream",
     "text": [
      "yes\n",
      "None\n"
     ]
    }
   ],
   "source": [
    "overpower_mon = ((np.std(total_list))*3)+(np.mean(total_list)) #3 signma above mean\n",
    "\n",
    "for row in new_pd_dict:\n",
    "    #print(new_pd_dict[row].get('Total'))\n",
    "    if ((new_pd_dict[row].get('Total'))>=800):\n",
    "        print('yes')\n",
    "        print(new_pd_dict[row].get('Name'))"
   ]
  },
  {
   "cell_type": "markdown",
   "metadata": {},
   "source": [
    "<img src=\"http://imgur.com/xDpSobf.png\" style=\"float: left; margin: 25px 15px 0px 0px; height: 25px\">\n",
    "\n",
    "## 10. Calibrate the frequency of Pokemon\n",
    "\n",
    "The design team wants you to make the powerful Pokemon rare, and the weaklings more common. How would you set the probability $p_i$ of finding Pokemon *i* each time a player visits a gym?\n",
    "\n",
    "Write a function that takes in a Pokedex number and returns a value $p_i$ for that character.\n",
    "\n",
    "Hint: there are many ways you could do this. What do _you_ think makes sense? Start with simplifying assumptions: for example, you could assume that the probabilities of encountering any two Pokemon on one visit to a gym are independent of each other."
   ]
  },
  {
   "cell_type": "code",
   "execution_count": null,
   "metadata": {},
   "outputs": [],
   "source": []
  }
 ],
 "metadata": {
  "anaconda-cloud": {},
  "kernelspec": {
   "display_name": "Python 3",
   "language": "python",
   "name": "python3"
  },
  "language_info": {
   "codemirror_mode": {
    "name": "ipython",
    "version": 3
   },
   "file_extension": ".py",
   "mimetype": "text/x-python",
   "name": "python",
   "nbconvert_exporter": "python",
   "pygments_lexer": "ipython3",
   "version": "3.7.1"
  }
 },
 "nbformat": 4,
 "nbformat_minor": 1
}
