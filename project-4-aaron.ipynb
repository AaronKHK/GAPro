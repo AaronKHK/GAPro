{
 "cells": [
  {
   "cell_type": "code",
   "execution_count": 233,
   "metadata": {},
   "outputs": [],
   "source": [
    "import pandas as pd\n",
    "import numpy as np\n",
    "import matplotlib.pyplot as plt\n",
    "import seaborn as sns\n",
    "import scipy.stats as stats\n",
    "plt.style.use('fivethirtyeight')\n",
    "sns.set_style('whitegrid')\n",
    "\n",
    "%config InlineBackend.figure_format = 'retina'\n",
    "%matplotlib inline"
   ]
  },
  {
   "cell_type": "code",
   "execution_count": 234,
   "metadata": {},
   "outputs": [],
   "source": [
    "import statsmodels.formula.api as sm\n",
    "import patsy\n",
    "import itertools\n",
    "from sklearn.linear_model import LogisticRegression\n",
    "from sklearn.metrics import classification_report, confusion_matrix, accuracy_score, roc_curve, roc_auc_score, auc\n",
    "from sklearn.model_selection import cross_val_score, cross_val_predict, KFold, GridSearchCV\n",
    "\n",
    "\n",
    "from sklearn.model_selection import train_test_split, GridSearchCV, StratifiedKFold, StratifiedShuffleSplit, cross_val_score\n",
    "from sklearn.neighbors import KNeighborsClassifier\n",
    "from sklearn.ensemble import RandomForestClassifier\n",
    "from sklearn.naive_bayes import  BernoulliNB\n",
    "from sklearn.svm import LinearSVC\n",
    "from sklearn.metrics import classification_report, roc_auc_score, confusion_matrix\n",
    "from sklearn.linear_model import LogisticRegression, LogisticRegressionCV\n",
    "from sklearn.preprocessing import StandardScaler\n",
    "from sklearn.pipeline import Pipeline"
   ]
  },
  {
   "cell_type": "code",
   "execution_count": 235,
   "metadata": {},
   "outputs": [],
   "source": [
    "from sklearn.feature_extraction.text import CountVectorizer, TfidfTransformer, TfidfVectorizer \n",
    "from sklearn.feature_extraction.text import TfidfTransformer\n",
    "from sklearn.feature_extraction.text import TfidfVectorizer\n",
    "from sklearn.model_selection import learning_curve\n",
    "from sklearn.model_selection import train_test_split, cross_val_score, ShuffleSplit\n",
    "from sklearn.metrics import classification_report\n",
    "from sklearn.naive_bayes import MultinomialNB, BernoulliNB, GaussianNB\n",
    "from sklearn.linear_model import LogisticRegression\n",
    "\n",
    "from sklearn.pipeline import Pipeline"
   ]
  },
  {
   "cell_type": "code",
   "execution_count": 236,
   "metadata": {},
   "outputs": [],
   "source": [
    "job = pd.read_csv('data_job.csv')"
   ]
  },
  {
   "cell_type": "markdown",
   "metadata": {},
   "source": [
    "# EDA and Features Engineering"
   ]
  },
  {
   "cell_type": "code",
   "execution_count": 237,
   "metadata": {},
   "outputs": [
    {
     "name": "stdout",
     "output_type": "stream",
     "text": [
      "<class 'pandas.core.frame.DataFrame'>\n",
      "RangeIndex: 3960 entries, 0 to 3959\n",
      "Data columns (total 9 columns):\n",
      "Unnamed: 0      3960 non-null int64\n",
      "Job_Id          3960 non-null object\n",
      "Job_Title       3960 non-null object\n",
      "Company         3960 non-null object\n",
      "Date_Posted     3960 non-null object\n",
      "Salary          3960 non-null object\n",
      "Seniority       3960 non-null object\n",
      "Category        3960 non-null object\n",
      "Requirements    3960 non-null object\n",
      "dtypes: int64(1), object(8)\n",
      "memory usage: 278.5+ KB\n"
     ]
    }
   ],
   "source": [
    "job.info()"
   ]
  },
  {
   "cell_type": "code",
   "execution_count": 238,
   "metadata": {
    "scrolled": true
   },
   "outputs": [
    {
     "data": {
      "text/html": [
       "<div>\n",
       "<style scoped>\n",
       "    .dataframe tbody tr th:only-of-type {\n",
       "        vertical-align: middle;\n",
       "    }\n",
       "\n",
       "    .dataframe tbody tr th {\n",
       "        vertical-align: top;\n",
       "    }\n",
       "\n",
       "    .dataframe thead th {\n",
       "        text-align: right;\n",
       "    }\n",
       "</style>\n",
       "<table border=\"1\" class=\"dataframe\">\n",
       "  <thead>\n",
       "    <tr style=\"text-align: right;\">\n",
       "      <th></th>\n",
       "      <th>Unnamed: 0</th>\n",
       "      <th>Job_Id</th>\n",
       "      <th>Job_Title</th>\n",
       "      <th>Company</th>\n",
       "      <th>Date_Posted</th>\n",
       "      <th>Salary</th>\n",
       "      <th>Seniority</th>\n",
       "      <th>Category</th>\n",
       "      <th>Requirements</th>\n",
       "    </tr>\n",
       "  </thead>\n",
       "  <tbody>\n",
       "    <tr>\n",
       "      <th>0</th>\n",
       "      <td>0</td>\n",
       "      <td>[b' JOB-2019-0090219 ']</td>\n",
       "      <td>[b'Data Engineer (5 days, Orchard, $3500-4000)']</td>\n",
       "      <td>[b'MACHSPEED HUMAN RESOURCES PTE. LTD.']</td>\n",
       "      <td>[b'Posted 27 Apr 2019']</td>\n",
       "      <td>['/ $3,500to$4,000/ $3,500/ to$4,000/ Monthly/...</td>\n",
       "      <td>[b'Executive']</td>\n",
       "      <td>[b'Information Technology']</td>\n",
       "      <td>['RequirementsRequirements  Minimum Degree/Dip...</td>\n",
       "    </tr>\n",
       "    <tr>\n",
       "      <th>1</th>\n",
       "      <td>1</td>\n",
       "      <td>[b' JOB-2019-0090314 ']</td>\n",
       "      <td>[b'Customer Engagement Excellence Learning Man...</td>\n",
       "      <td>[b'BAYER (SOUTH EAST ASIA) PTE LTD']</td>\n",
       "      <td>[b'Posted 27 Apr 2019']</td>\n",
       "      <td>['/ $10,400to$15,400/ $10,400/ to$15,400/ Mont...</td>\n",
       "      <td>[b'Manager']</td>\n",
       "      <td>[b'Healthcare / Pharmaceutical']</td>\n",
       "      <td>['Requirements A University / Bachelors degree...</td>\n",
       "    </tr>\n",
       "    <tr>\n",
       "      <th>2</th>\n",
       "      <td>2</td>\n",
       "      <td>[b' JOB-2019-0090256 ']</td>\n",
       "      <td>[b'Manager, Research']</td>\n",
       "      <td>[b'GROUP ONE HOLDINGS PTE. LTD.']</td>\n",
       "      <td>[b'Posted 27 Apr 2019']</td>\n",
       "      <td>['/ $5,000to$8,000/ $5,000/ to$8,000/ Monthly/...</td>\n",
       "      <td>[b'Manager']</td>\n",
       "      <td>[b'Others']</td>\n",
       "      <td>['Requirements·\\xa0\\xa0\\xa0\\xa0\\xa0\\xa0\\xa0A s...</td>\n",
       "    </tr>\n",
       "    <tr>\n",
       "      <th>3</th>\n",
       "      <td>3</td>\n",
       "      <td>[b' JOB-2019-0090319 ']</td>\n",
       "      <td>[b'Head of Research &amp;amp; Evaluation, Asia']</td>\n",
       "      <td>[b'SAVE THE CHILDREN ASIA REGIONAL OFFICE LIMI...</td>\n",
       "      <td>[b'Posted 27 Apr 2019']</td>\n",
       "      <td>['/ $80,000to$140,000/ $80,000/ to$140,000/ An...</td>\n",
       "      <td>[b'Middle Management']</td>\n",
       "      <td>[b'General Management']</td>\n",
       "      <td>['RequirementsQualifications  10 plus years ex...</td>\n",
       "    </tr>\n",
       "    <tr>\n",
       "      <th>4</th>\n",
       "      <td>4</td>\n",
       "      <td>[b' JOB-2019-0090300 ']</td>\n",
       "      <td>[b'IT Systems Adminstrator']</td>\n",
       "      <td>[b'ELIXIR TECHNOLOGY PTE LTD']</td>\n",
       "      <td>[b'Posted 27 Apr 2019']</td>\n",
       "      <td>['/ $2,800to$3,500/ $2,800/ to$3,500/ Monthly/...</td>\n",
       "      <td>[b'Professional']</td>\n",
       "      <td>[b'Information Technology']</td>\n",
       "      <td>[\"Requirements Bachelor's Degree in Computer S...</td>\n",
       "    </tr>\n",
       "  </tbody>\n",
       "</table>\n",
       "</div>"
      ],
      "text/plain": [
       "   Unnamed: 0                   Job_Id  \\\n",
       "0           0  [b' JOB-2019-0090219 ']   \n",
       "1           1  [b' JOB-2019-0090314 ']   \n",
       "2           2  [b' JOB-2019-0090256 ']   \n",
       "3           3  [b' JOB-2019-0090319 ']   \n",
       "4           4  [b' JOB-2019-0090300 ']   \n",
       "\n",
       "                                           Job_Title  \\\n",
       "0   [b'Data Engineer (5 days, Orchard, $3500-4000)']   \n",
       "1  [b'Customer Engagement Excellence Learning Man...   \n",
       "2                             [b'Manager, Research']   \n",
       "3       [b'Head of Research &amp; Evaluation, Asia']   \n",
       "4                       [b'IT Systems Adminstrator']   \n",
       "\n",
       "                                             Company              Date_Posted  \\\n",
       "0           [b'MACHSPEED HUMAN RESOURCES PTE. LTD.']  [b'Posted 27 Apr 2019']   \n",
       "1               [b'BAYER (SOUTH EAST ASIA) PTE LTD']  [b'Posted 27 Apr 2019']   \n",
       "2                  [b'GROUP ONE HOLDINGS PTE. LTD.']  [b'Posted 27 Apr 2019']   \n",
       "3  [b'SAVE THE CHILDREN ASIA REGIONAL OFFICE LIMI...  [b'Posted 27 Apr 2019']   \n",
       "4                     [b'ELIXIR TECHNOLOGY PTE LTD']  [b'Posted 27 Apr 2019']   \n",
       "\n",
       "                                              Salary               Seniority  \\\n",
       "0  ['/ $3,500to$4,000/ $3,500/ to$4,000/ Monthly/...          [b'Executive']   \n",
       "1  ['/ $10,400to$15,400/ $10,400/ to$15,400/ Mont...            [b'Manager']   \n",
       "2  ['/ $5,000to$8,000/ $5,000/ to$8,000/ Monthly/...            [b'Manager']   \n",
       "3  ['/ $80,000to$140,000/ $80,000/ to$140,000/ An...  [b'Middle Management']   \n",
       "4  ['/ $2,800to$3,500/ $2,800/ to$3,500/ Monthly/...       [b'Professional']   \n",
       "\n",
       "                           Category  \\\n",
       "0       [b'Information Technology']   \n",
       "1  [b'Healthcare / Pharmaceutical']   \n",
       "2                       [b'Others']   \n",
       "3           [b'General Management']   \n",
       "4       [b'Information Technology']   \n",
       "\n",
       "                                        Requirements  \n",
       "0  ['RequirementsRequirements  Minimum Degree/Dip...  \n",
       "1  ['Requirements A University / Bachelors degree...  \n",
       "2  ['Requirements·\\xa0\\xa0\\xa0\\xa0\\xa0\\xa0\\xa0A s...  \n",
       "3  ['RequirementsQualifications  10 plus years ex...  \n",
       "4  [\"Requirements Bachelor's Degree in Computer S...  "
      ]
     },
     "execution_count": 238,
     "metadata": {},
     "output_type": "execute_result"
    }
   ],
   "source": [
    "job.head()"
   ]
  },
  {
   "cell_type": "code",
   "execution_count": 239,
   "metadata": {},
   "outputs": [
    {
     "data": {
      "text/plain": [
       "(3932, 7)"
      ]
     },
     "execution_count": 239,
     "metadata": {},
     "output_type": "execute_result"
    }
   ],
   "source": [
    "job_clean = job.drop_duplicates(subset='Job_Id', keep='first') #remove duplicate based on Job ID\n",
    "\n",
    "#drop job Id as it is only use to remove duplicates\n",
    "job_clean = job_clean.drop(columns=['Job_Id','Unnamed: 0'])\n",
    "job_clean.shape"
   ]
  },
  {
   "cell_type": "code",
   "execution_count": 240,
   "metadata": {},
   "outputs": [
    {
     "data": {
      "text/html": [
       "<div>\n",
       "<style scoped>\n",
       "    .dataframe tbody tr th:only-of-type {\n",
       "        vertical-align: middle;\n",
       "    }\n",
       "\n",
       "    .dataframe tbody tr th {\n",
       "        vertical-align: top;\n",
       "    }\n",
       "\n",
       "    .dataframe thead th {\n",
       "        text-align: right;\n",
       "    }\n",
       "</style>\n",
       "<table border=\"1\" class=\"dataframe\">\n",
       "  <thead>\n",
       "    <tr style=\"text-align: right;\">\n",
       "      <th></th>\n",
       "      <th>Job_Title</th>\n",
       "      <th>Company</th>\n",
       "      <th>Date_Posted</th>\n",
       "      <th>Salary</th>\n",
       "      <th>Seniority</th>\n",
       "      <th>Category</th>\n",
       "      <th>Requirements</th>\n",
       "    </tr>\n",
       "  </thead>\n",
       "  <tbody>\n",
       "    <tr>\n",
       "      <th>0</th>\n",
       "      <td>Data Engineer (5 days, Orchard, $3500-4000)</td>\n",
       "      <td>MACHSPEED HUMAN RESOURCES PTE. LTD.</td>\n",
       "      <td>Posted 27 Apr 2019</td>\n",
       "      <td>/ $3,500to$4,000/ $3,500/ to$4,000/ Monthly/ C...</td>\n",
       "      <td>Executive</td>\n",
       "      <td>Information Technology</td>\n",
       "      <td>Minimum Degree/Diploma in Computer Science, ...</td>\n",
       "    </tr>\n",
       "    <tr>\n",
       "      <th>1</th>\n",
       "      <td>Customer Engagement Excellence Learning Manager</td>\n",
       "      <td>BAYER (SOUTH EAST ASIA) PTE LTD</td>\n",
       "      <td>Posted 27 Apr 2019</td>\n",
       "      <td>/ $10,400to$15,400/ $10,400/ to$15,400/ Monthl...</td>\n",
       "      <td>Manager</td>\n",
       "      <td>Healthcare / Pharmaceutical</td>\n",
       "      <td>A University / Bachelors degree holder in app...</td>\n",
       "    </tr>\n",
       "    <tr>\n",
       "      <th>2</th>\n",
       "      <td>Manager, Research</td>\n",
       "      <td>GROUP ONE HOLDINGS PTE. LTD.</td>\n",
       "      <td>Posted 27 Apr 2019</td>\n",
       "      <td>/ $5,000to$8,000/ $5,000/ to$8,000/ Monthly/ C...</td>\n",
       "      <td>Manager</td>\n",
       "      <td>Others</td>\n",
       "      <td>·A smart communicator, a team player with proa...</td>\n",
       "    </tr>\n",
       "    <tr>\n",
       "      <th>3</th>\n",
       "      <td>Head of Research &amp; Evaluation, Asia</td>\n",
       "      <td>SAVE THE CHILDREN ASIA REGIONAL OFFICE LIMITED</td>\n",
       "      <td>Posted 27 Apr 2019</td>\n",
       "      <td>/ $80,000to$140,000/ $80,000/ to$140,000/ Annu...</td>\n",
       "      <td>Middle Management</td>\n",
       "      <td>General Management</td>\n",
       "      <td>Qualifications  10 plus years expertise and do...</td>\n",
       "    </tr>\n",
       "    <tr>\n",
       "      <th>4</th>\n",
       "      <td>IT Systems Adminstrator</td>\n",
       "      <td>ELIXIR TECHNOLOGY PTE LTD</td>\n",
       "      <td>Posted 27 Apr 2019</td>\n",
       "      <td>/ $2,800to$3,500/ $2,800/ to$3,500/ Monthly/ C...</td>\n",
       "      <td>Professional</td>\n",
       "      <td>Information Technology</td>\n",
       "      <td>\" Bachelors Degree in Computer Science, Comput...</td>\n",
       "    </tr>\n",
       "  </tbody>\n",
       "</table>\n",
       "</div>"
      ],
      "text/plain": [
       "                                         Job_Title  \\\n",
       "0      Data Engineer (5 days, Orchard, $3500-4000)   \n",
       "1  Customer Engagement Excellence Learning Manager   \n",
       "2                                Manager, Research   \n",
       "3              Head of Research & Evaluation, Asia   \n",
       "4                          IT Systems Adminstrator   \n",
       "\n",
       "                                          Company         Date_Posted  \\\n",
       "0             MACHSPEED HUMAN RESOURCES PTE. LTD.  Posted 27 Apr 2019   \n",
       "1                 BAYER (SOUTH EAST ASIA) PTE LTD  Posted 27 Apr 2019   \n",
       "2                    GROUP ONE HOLDINGS PTE. LTD.  Posted 27 Apr 2019   \n",
       "3  SAVE THE CHILDREN ASIA REGIONAL OFFICE LIMITED  Posted 27 Apr 2019   \n",
       "4                       ELIXIR TECHNOLOGY PTE LTD  Posted 27 Apr 2019   \n",
       "\n",
       "                                              Salary          Seniority  \\\n",
       "0  / $3,500to$4,000/ $3,500/ to$4,000/ Monthly/ C...          Executive   \n",
       "1  / $10,400to$15,400/ $10,400/ to$15,400/ Monthl...            Manager   \n",
       "2  / $5,000to$8,000/ $5,000/ to$8,000/ Monthly/ C...            Manager   \n",
       "3  / $80,000to$140,000/ $80,000/ to$140,000/ Annu...  Middle Management   \n",
       "4  / $2,800to$3,500/ $2,800/ to$3,500/ Monthly/ C...       Professional   \n",
       "\n",
       "                      Category  \\\n",
       "0       Information Technology   \n",
       "1  Healthcare / Pharmaceutical   \n",
       "2                       Others   \n",
       "3           General Management   \n",
       "4       Information Technology   \n",
       "\n",
       "                                        Requirements  \n",
       "0    Minimum Degree/Diploma in Computer Science, ...  \n",
       "1   A University / Bachelors degree holder in app...  \n",
       "2  ·A smart communicator, a team player with proa...  \n",
       "3  Qualifications  10 plus years expertise and do...  \n",
       "4  \" Bachelors Degree in Computer Science, Comput...  "
      ]
     },
     "execution_count": 240,
     "metadata": {},
     "output_type": "execute_result"
    }
   ],
   "source": [
    "for col in job_clean.columns:\n",
    "    job_clean[col]=job_clean[col].str.replace(\"(\\[|\\]|b'|Requirements|'|amp;|xa0|\\\\\\|\\|xe2x80x93)\", \"\")\n",
    "job_clean.head()"
   ]
  },
  {
   "cell_type": "code",
   "execution_count": 241,
   "metadata": {},
   "outputs": [
    {
     "data": {
      "text/html": [
       "<div>\n",
       "<style scoped>\n",
       "    .dataframe tbody tr th:only-of-type {\n",
       "        vertical-align: middle;\n",
       "    }\n",
       "\n",
       "    .dataframe tbody tr th {\n",
       "        vertical-align: top;\n",
       "    }\n",
       "\n",
       "    .dataframe thead th {\n",
       "        text-align: right;\n",
       "    }\n",
       "</style>\n",
       "<table border=\"1\" class=\"dataframe\">\n",
       "  <thead>\n",
       "    <tr style=\"text-align: right;\">\n",
       "      <th></th>\n",
       "      <th>Job_Title</th>\n",
       "      <th>Company</th>\n",
       "      <th>Date_Posted</th>\n",
       "      <th>Salary</th>\n",
       "      <th>Seniority</th>\n",
       "      <th>Category</th>\n",
       "      <th>Requirements</th>\n",
       "    </tr>\n",
       "  </thead>\n",
       "  <tbody>\n",
       "    <tr>\n",
       "      <th>27</th>\n",
       "      <td></td>\n",
       "      <td></td>\n",
       "      <td></td>\n",
       "      <td></td>\n",
       "      <td></td>\n",
       "      <td></td>\n",
       "      <td></td>\n",
       "    </tr>\n",
       "  </tbody>\n",
       "</table>\n",
       "</div>"
      ],
      "text/plain": [
       "   Job_Title Company Date_Posted Salary Seniority Category Requirements\n",
       "27                                                                     "
      ]
     },
     "execution_count": 241,
     "metadata": {},
     "output_type": "execute_result"
    }
   ],
   "source": [
    "#check for row with missing job title\n",
    "job_clean[job_clean['Job_Title'] == '']"
   ]
  },
  {
   "cell_type": "code",
   "execution_count": 242,
   "metadata": {},
   "outputs": [],
   "source": [
    "empty = job_clean['Job_Title'] == ''"
   ]
  },
  {
   "cell_type": "code",
   "execution_count": 243,
   "metadata": {},
   "outputs": [],
   "source": [
    "#remove row without job title\n",
    "job_clean = job_clean[~empty]"
   ]
  },
  {
   "cell_type": "code",
   "execution_count": 244,
   "metadata": {},
   "outputs": [],
   "source": [
    "#remove row without salary\n",
    "no_salary = job_clean['Salary'].str.contains('Salary undisclosed')"
   ]
  },
  {
   "cell_type": "code",
   "execution_count": 245,
   "metadata": {},
   "outputs": [],
   "source": [
    "job_clean_df = job_clean[~no_salary]"
   ]
  },
  {
   "cell_type": "code",
   "execution_count": 246,
   "metadata": {},
   "outputs": [],
   "source": [
    "#extract salary into min/max/type category\n",
    "salary_range = job_clean_df[\"Salary\"].str.split(\"/\", n = 5, expand = True) "
   ]
  },
  {
   "cell_type": "code",
   "execution_count": 247,
   "metadata": {},
   "outputs": [
    {
     "data": {
      "text/html": [
       "<div>\n",
       "<style scoped>\n",
       "    .dataframe tbody tr th:only-of-type {\n",
       "        vertical-align: middle;\n",
       "    }\n",
       "\n",
       "    .dataframe tbody tr th {\n",
       "        vertical-align: top;\n",
       "    }\n",
       "\n",
       "    .dataframe thead th {\n",
       "        text-align: right;\n",
       "    }\n",
       "</style>\n",
       "<table border=\"1\" class=\"dataframe\">\n",
       "  <thead>\n",
       "    <tr style=\"text-align: right;\">\n",
       "      <th></th>\n",
       "      <th>0</th>\n",
       "      <th>1</th>\n",
       "      <th>2</th>\n",
       "      <th>3</th>\n",
       "      <th>4</th>\n",
       "      <th>5</th>\n",
       "    </tr>\n",
       "  </thead>\n",
       "  <tbody>\n",
       "    <tr>\n",
       "      <th>0</th>\n",
       "      <td></td>\n",
       "      <td>$3,500to$4,000</td>\n",
       "      <td>$3,500</td>\n",
       "      <td>to$4,000</td>\n",
       "      <td>Monthly</td>\n",
       "      <td>Closing on 27 May 2019</td>\n",
       "    </tr>\n",
       "    <tr>\n",
       "      <th>1</th>\n",
       "      <td></td>\n",
       "      <td>$10,400to$15,400</td>\n",
       "      <td>$10,400</td>\n",
       "      <td>to$15,400</td>\n",
       "      <td>Monthly</td>\n",
       "      <td>Closing on 12 May 2019</td>\n",
       "    </tr>\n",
       "    <tr>\n",
       "      <th>2</th>\n",
       "      <td></td>\n",
       "      <td>$5,000to$8,000</td>\n",
       "      <td>$5,000</td>\n",
       "      <td>to$8,000</td>\n",
       "      <td>Monthly</td>\n",
       "      <td>Closing on 27 May 2019</td>\n",
       "    </tr>\n",
       "    <tr>\n",
       "      <th>3</th>\n",
       "      <td></td>\n",
       "      <td>$80,000to$140,000</td>\n",
       "      <td>$80,000</td>\n",
       "      <td>to$140,000</td>\n",
       "      <td>Annually</td>\n",
       "      <td>Closing on 11 May 2019</td>\n",
       "    </tr>\n",
       "    <tr>\n",
       "      <th>4</th>\n",
       "      <td></td>\n",
       "      <td>$2,800to$3,500</td>\n",
       "      <td>$2,800</td>\n",
       "      <td>to$3,500</td>\n",
       "      <td>Monthly</td>\n",
       "      <td>Closing on 27 May 2019</td>\n",
       "    </tr>\n",
       "  </tbody>\n",
       "</table>\n",
       "</div>"
      ],
      "text/plain": [
       "  0                   1         2            3          4  \\\n",
       "0        $3,500to$4,000    $3,500     to$4,000    Monthly   \n",
       "1      $10,400to$15,400   $10,400    to$15,400    Monthly   \n",
       "2        $5,000to$8,000    $5,000     to$8,000    Monthly   \n",
       "3     $80,000to$140,000   $80,000   to$140,000   Annually   \n",
       "4        $2,800to$3,500    $2,800     to$3,500    Monthly   \n",
       "\n",
       "                         5  \n",
       "0   Closing on 27 May 2019  \n",
       "1   Closing on 12 May 2019  \n",
       "2   Closing on 27 May 2019  \n",
       "3   Closing on 11 May 2019  \n",
       "4   Closing on 27 May 2019  "
      ]
     },
     "execution_count": 247,
     "metadata": {},
     "output_type": "execute_result"
    }
   ],
   "source": [
    "salary_range.head()"
   ]
  },
  {
   "cell_type": "code",
   "execution_count": 248,
   "metadata": {},
   "outputs": [],
   "source": [
    "salary_range = salary_range.rename({0:'recruiter',1:'range', 2:'min', 3:'max', 4:'type'}, axis='columns')"
   ]
  },
  {
   "cell_type": "code",
   "execution_count": 249,
   "metadata": {},
   "outputs": [],
   "source": [
    "min_max = salary_range['range'].str.split('to', n=2, expand = True)"
   ]
  },
  {
   "cell_type": "code",
   "execution_count": 250,
   "metadata": {},
   "outputs": [],
   "source": [
    "min_max = min_max.rename({0:'sal_min', 1:'sal_max'}, axis='columns')"
   ]
  },
  {
   "cell_type": "code",
   "execution_count": 251,
   "metadata": {},
   "outputs": [],
   "source": [
    "salary_range = pd.concat([salary_range, min_max], axis=1)"
   ]
  },
  {
   "cell_type": "code",
   "execution_count": 252,
   "metadata": {},
   "outputs": [
    {
     "data": {
      "text/plain": [
       "(3472, 8)"
      ]
     },
     "execution_count": 252,
     "metadata": {},
     "output_type": "execute_result"
    }
   ],
   "source": [
    "salary_range.shape"
   ]
  },
  {
   "cell_type": "code",
   "execution_count": 253,
   "metadata": {},
   "outputs": [
    {
     "data": {
      "text/html": [
       "<div>\n",
       "<style scoped>\n",
       "    .dataframe tbody tr th:only-of-type {\n",
       "        vertical-align: middle;\n",
       "    }\n",
       "\n",
       "    .dataframe tbody tr th {\n",
       "        vertical-align: top;\n",
       "    }\n",
       "\n",
       "    .dataframe thead th {\n",
       "        text-align: right;\n",
       "    }\n",
       "</style>\n",
       "<table border=\"1\" class=\"dataframe\">\n",
       "  <thead>\n",
       "    <tr style=\"text-align: right;\">\n",
       "      <th></th>\n",
       "      <th>recruiter</th>\n",
       "      <th>range</th>\n",
       "      <th>min</th>\n",
       "      <th>max</th>\n",
       "      <th>type</th>\n",
       "      <th>5</th>\n",
       "      <th>sal_min</th>\n",
       "      <th>sal_max</th>\n",
       "    </tr>\n",
       "  </thead>\n",
       "  <tbody>\n",
       "    <tr>\n",
       "      <th>0</th>\n",
       "      <td></td>\n",
       "      <td>35004000</td>\n",
       "      <td>3500</td>\n",
       "      <td>4000</td>\n",
       "      <td>Monthly</td>\n",
       "      <td>Closing on 27 May 2019</td>\n",
       "      <td>3500</td>\n",
       "      <td>4000</td>\n",
       "    </tr>\n",
       "    <tr>\n",
       "      <th>1</th>\n",
       "      <td></td>\n",
       "      <td>1040015400</td>\n",
       "      <td>10400</td>\n",
       "      <td>15400</td>\n",
       "      <td>Monthly</td>\n",
       "      <td>Closing on 12 May 2019</td>\n",
       "      <td>10400</td>\n",
       "      <td>15400</td>\n",
       "    </tr>\n",
       "    <tr>\n",
       "      <th>2</th>\n",
       "      <td></td>\n",
       "      <td>50008000</td>\n",
       "      <td>5000</td>\n",
       "      <td>8000</td>\n",
       "      <td>Monthly</td>\n",
       "      <td>Closing on 27 May 2019</td>\n",
       "      <td>5000</td>\n",
       "      <td>8000</td>\n",
       "    </tr>\n",
       "    <tr>\n",
       "      <th>3</th>\n",
       "      <td></td>\n",
       "      <td>80000140000</td>\n",
       "      <td>80000</td>\n",
       "      <td>140000</td>\n",
       "      <td>Annually</td>\n",
       "      <td>Closing on 11 May 2019</td>\n",
       "      <td>80000</td>\n",
       "      <td>140000</td>\n",
       "    </tr>\n",
       "    <tr>\n",
       "      <th>4</th>\n",
       "      <td></td>\n",
       "      <td>28003500</td>\n",
       "      <td>2800</td>\n",
       "      <td>3500</td>\n",
       "      <td>Monthly</td>\n",
       "      <td>Closing on 27 May 2019</td>\n",
       "      <td>2800</td>\n",
       "      <td>3500</td>\n",
       "    </tr>\n",
       "  </tbody>\n",
       "</table>\n",
       "</div>"
      ],
      "text/plain": [
       "  recruiter         range     min      max       type  \\\n",
       "0                35004000    3500     4000    Monthly   \n",
       "1              1040015400   10400    15400    Monthly   \n",
       "2                50008000    5000     8000    Monthly   \n",
       "3             80000140000   80000   140000   Annually   \n",
       "4                28003500    2800     3500    Monthly   \n",
       "\n",
       "                         5 sal_min sal_max  \n",
       "0   Closing on 27 May 2019    3500    4000  \n",
       "1   Closing on 12 May 2019   10400   15400  \n",
       "2   Closing on 27 May 2019    5000    8000  \n",
       "3   Closing on 11 May 2019   80000  140000  \n",
       "4   Closing on 27 May 2019    2800    3500  "
      ]
     },
     "execution_count": 253,
     "metadata": {},
     "output_type": "execute_result"
    }
   ],
   "source": [
    "#removed $ and 'to' from salary \n",
    "for col in salary_range.columns:\n",
    "    salary_range[col]=salary_range[col].str.replace('(\\$|,|to)', '')\n",
    "salary_range.head()"
   ]
  },
  {
   "cell_type": "code",
   "execution_count": 254,
   "metadata": {},
   "outputs": [
    {
     "data": {
      "text/html": [
       "<div>\n",
       "<style scoped>\n",
       "    .dataframe tbody tr th:only-of-type {\n",
       "        vertical-align: middle;\n",
       "    }\n",
       "\n",
       "    .dataframe tbody tr th {\n",
       "        vertical-align: top;\n",
       "    }\n",
       "\n",
       "    .dataframe thead th {\n",
       "        text-align: right;\n",
       "    }\n",
       "</style>\n",
       "<table border=\"1\" class=\"dataframe\">\n",
       "  <thead>\n",
       "    <tr style=\"text-align: right;\">\n",
       "      <th></th>\n",
       "      <th>recruiter</th>\n",
       "      <th>range</th>\n",
       "      <th>min</th>\n",
       "      <th>max</th>\n",
       "      <th>type</th>\n",
       "      <th>5</th>\n",
       "      <th>sal_min</th>\n",
       "      <th>sal_max</th>\n",
       "    </tr>\n",
       "  </thead>\n",
       "  <tbody>\n",
       "    <tr>\n",
       "      <th>53</th>\n",
       "      <td>via Recruiter</td>\n",
       "      <td></td>\n",
       "      <td>25003200</td>\n",
       "      <td>2500</td>\n",
       "      <td>3200</td>\n",
       "      <td>Monthly/ Closing on 26 May 2019</td>\n",
       "      <td></td>\n",
       "      <td>None</td>\n",
       "    </tr>\n",
       "    <tr>\n",
       "      <th>72</th>\n",
       "      <td>Recruiter</td>\n",
       "      <td></td>\n",
       "      <td>30005000</td>\n",
       "      <td>3000</td>\n",
       "      <td>5000</td>\n",
       "      <td>Monthly/ Closing on 26 May 2019</td>\n",
       "      <td></td>\n",
       "      <td>None</td>\n",
       "    </tr>\n",
       "    <tr>\n",
       "      <th>96</th>\n",
       "      <td>via Recruiter</td>\n",
       "      <td></td>\n",
       "      <td>18002600</td>\n",
       "      <td>1800</td>\n",
       "      <td>2600</td>\n",
       "      <td>Monthly/ Closing on 26 May 2019</td>\n",
       "      <td></td>\n",
       "      <td>None</td>\n",
       "    </tr>\n",
       "    <tr>\n",
       "      <th>99</th>\n",
       "      <td>via Recruiter</td>\n",
       "      <td></td>\n",
       "      <td>63006800</td>\n",
       "      <td>6300</td>\n",
       "      <td>6800</td>\n",
       "      <td>Monthly/ Closing on 26 May 2019</td>\n",
       "      <td></td>\n",
       "      <td>None</td>\n",
       "    </tr>\n",
       "    <tr>\n",
       "      <th>103</th>\n",
       "      <td>via Recruiter</td>\n",
       "      <td></td>\n",
       "      <td>780012200</td>\n",
       "      <td>7800</td>\n",
       "      <td>12200</td>\n",
       "      <td>Monthly/ Closing on 10 May 2019</td>\n",
       "      <td></td>\n",
       "      <td>None</td>\n",
       "    </tr>\n",
       "  </tbody>\n",
       "</table>\n",
       "</div>"
      ],
      "text/plain": [
       "         recruiter range         min    max    type  \\\n",
       "53   via Recruiter          25003200   2500    3200   \n",
       "72       Recruiter          30005000   3000    5000   \n",
       "96   via Recruiter          18002600   1800    2600   \n",
       "99   via Recruiter          63006800   6300    6800   \n",
       "103  via Recruiter         780012200   7800   12200   \n",
       "\n",
       "                                    5 sal_min sal_max  \n",
       "53    Monthly/ Closing on 26 May 2019            None  \n",
       "72    Monthly/ Closing on 26 May 2019            None  \n",
       "96    Monthly/ Closing on 26 May 2019            None  \n",
       "99    Monthly/ Closing on 26 May 2019            None  \n",
       "103   Monthly/ Closing on 10 May 2019            None  "
      ]
     },
     "execution_count": 254,
     "metadata": {},
     "output_type": "execute_result"
    }
   ],
   "source": [
    "#data from job posted by recruiter are shifted to the right\n",
    "#salary min falls under max and salary max falls under type\n",
    "salary_range[salary_range['recruiter'].str.contains('Recruiter')].head()"
   ]
  },
  {
   "cell_type": "code",
   "execution_count": 255,
   "metadata": {},
   "outputs": [],
   "source": [
    "#adjust salary min and max for recruiter data\n",
    "salary_range.loc[salary_range['recruiter'].str.contains('Recruiter'), 'sal_min'] = salary_range['max']\n",
    "salary_range.loc[salary_range['recruiter'].str.contains('Recruiter'), 'sal_max'] = salary_range['type']"
   ]
  },
  {
   "cell_type": "code",
   "execution_count": 256,
   "metadata": {},
   "outputs": [],
   "source": [
    "#convert from ojbect to float \n",
    "salary_range['sal_min'] = salary_range['sal_min'].astype('float64')\n",
    "salary_range['sal_max'] = salary_range['sal_max'].astype('float64')"
   ]
  },
  {
   "cell_type": "code",
   "execution_count": 257,
   "metadata": {},
   "outputs": [
    {
     "data": {
      "text/html": [
       "<div>\n",
       "<style scoped>\n",
       "    .dataframe tbody tr th:only-of-type {\n",
       "        vertical-align: middle;\n",
       "    }\n",
       "\n",
       "    .dataframe tbody tr th {\n",
       "        vertical-align: top;\n",
       "    }\n",
       "\n",
       "    .dataframe thead th {\n",
       "        text-align: right;\n",
       "    }\n",
       "</style>\n",
       "<table border=\"1\" class=\"dataframe\">\n",
       "  <thead>\n",
       "    <tr style=\"text-align: right;\">\n",
       "      <th></th>\n",
       "      <th>sal_min</th>\n",
       "      <th>sal_max</th>\n",
       "    </tr>\n",
       "  </thead>\n",
       "  <tbody>\n",
       "    <tr>\n",
       "      <th>count</th>\n",
       "      <td>3472.000000</td>\n",
       "      <td>3472.000000</td>\n",
       "    </tr>\n",
       "    <tr>\n",
       "      <th>mean</th>\n",
       "      <td>7215.020449</td>\n",
       "      <td>11079.663882</td>\n",
       "    </tr>\n",
       "    <tr>\n",
       "      <th>std</th>\n",
       "      <td>15684.739939</td>\n",
       "      <td>23760.781468</td>\n",
       "    </tr>\n",
       "    <tr>\n",
       "      <th>min</th>\n",
       "      <td>1.000000</td>\n",
       "      <td>2.000000</td>\n",
       "    </tr>\n",
       "    <tr>\n",
       "      <th>25%</th>\n",
       "      <td>2800.000000</td>\n",
       "      <td>4000.000000</td>\n",
       "    </tr>\n",
       "    <tr>\n",
       "      <th>50%</th>\n",
       "      <td>4100.000000</td>\n",
       "      <td>6800.000000</td>\n",
       "    </tr>\n",
       "    <tr>\n",
       "      <th>75%</th>\n",
       "      <td>6500.000000</td>\n",
       "      <td>10000.000000</td>\n",
       "    </tr>\n",
       "    <tr>\n",
       "      <th>max</th>\n",
       "      <td>280000.000000</td>\n",
       "      <td>405000.000000</td>\n",
       "    </tr>\n",
       "  </tbody>\n",
       "</table>\n",
       "</div>"
      ],
      "text/plain": [
       "             sal_min        sal_max\n",
       "count    3472.000000    3472.000000\n",
       "mean     7215.020449   11079.663882\n",
       "std     15684.739939   23760.781468\n",
       "min         1.000000       2.000000\n",
       "25%      2800.000000    4000.000000\n",
       "50%      4100.000000    6800.000000\n",
       "75%      6500.000000   10000.000000\n",
       "max    280000.000000  405000.000000"
      ]
     },
     "execution_count": 257,
     "metadata": {},
     "output_type": "execute_result"
    }
   ],
   "source": [
    "salary_range.describe()"
   ]
  },
  {
   "cell_type": "code",
   "execution_count": 258,
   "metadata": {},
   "outputs": [],
   "source": [
    "abovemean = 3*np.mean(salary_range['sal_min'])"
   ]
  },
  {
   "cell_type": "code",
   "execution_count": 259,
   "metadata": {},
   "outputs": [
    {
     "data": {
      "text/html": [
       "<div>\n",
       "<style scoped>\n",
       "    .dataframe tbody tr th:only-of-type {\n",
       "        vertical-align: middle;\n",
       "    }\n",
       "\n",
       "    .dataframe tbody tr th {\n",
       "        vertical-align: top;\n",
       "    }\n",
       "\n",
       "    .dataframe thead th {\n",
       "        text-align: right;\n",
       "    }\n",
       "</style>\n",
       "<table border=\"1\" class=\"dataframe\">\n",
       "  <thead>\n",
       "    <tr style=\"text-align: right;\">\n",
       "      <th></th>\n",
       "      <th>recruiter</th>\n",
       "      <th>range</th>\n",
       "      <th>min</th>\n",
       "      <th>max</th>\n",
       "      <th>type</th>\n",
       "      <th>5</th>\n",
       "      <th>sal_min</th>\n",
       "      <th>sal_max</th>\n",
       "    </tr>\n",
       "  </thead>\n",
       "  <tbody>\n",
       "    <tr>\n",
       "      <th>428</th>\n",
       "      <td>Recruiter</td>\n",
       "      <td></td>\n",
       "      <td>110000180000</td>\n",
       "      <td>110000</td>\n",
       "      <td>180000</td>\n",
       "      <td>Annually/ Closing on 24 May 2019</td>\n",
       "      <td>110000.0</td>\n",
       "      <td>180000.0</td>\n",
       "    </tr>\n",
       "    <tr>\n",
       "      <th>1859</th>\n",
       "      <td>Recruiter</td>\n",
       "      <td></td>\n",
       "      <td>7000080000</td>\n",
       "      <td>70000</td>\n",
       "      <td>80000</td>\n",
       "      <td>Annually/ Closing on 15 May 2019</td>\n",
       "      <td>70000.0</td>\n",
       "      <td>80000.0</td>\n",
       "    </tr>\n",
       "  </tbody>\n",
       "</table>\n",
       "</div>"
      ],
      "text/plain": [
       "      recruiter range            min      max     type  \\\n",
       "428   Recruiter         110000180000   110000   180000   \n",
       "1859  Recruiter           7000080000    70000    80000   \n",
       "\n",
       "                                      5   sal_min   sal_max  \n",
       "428    Annually/ Closing on 24 May 2019  110000.0  180000.0  \n",
       "1859   Annually/ Closing on 15 May 2019   70000.0   80000.0  "
      ]
     },
     "execution_count": 259,
     "metadata": {},
     "output_type": "execute_result"
    }
   ],
   "source": [
    "salary_range[((salary_range['recruiter'].str.contains('Recruiter')) & (salary_range['sal_min'] > abovemean))]"
   ]
  },
  {
   "cell_type": "code",
   "execution_count": 260,
   "metadata": {},
   "outputs": [],
   "source": [
    "#assume sal_min 3x above mean is Annually type of salary the rest are Monthly type\n",
    "salary_range.loc[((salary_range['recruiter'].str.contains('Recruiter')) & (salary_range['sal_min'] > abovemean)), 'type'] = ' Annually'\n",
    "salary_range.loc[((salary_range['recruiter'].str.contains('Recruiter')) & (salary_range['sal_min'] < abovemean)), 'type'] = ' Monthly'"
   ]
  },
  {
   "cell_type": "code",
   "execution_count": 261,
   "metadata": {},
   "outputs": [],
   "source": [
    "#only keep relevent columns before merge back\n",
    "salary_range = salary_range.drop(columns=['range','min','max',5])"
   ]
  },
  {
   "cell_type": "code",
   "execution_count": 262,
   "metadata": {},
   "outputs": [],
   "source": [
    "job_df = pd.concat([job_clean_df, salary_range], axis=1)"
   ]
  },
  {
   "cell_type": "code",
   "execution_count": 263,
   "metadata": {},
   "outputs": [],
   "source": [
    "#drop original salary columns and job date due to feature not useful for prediction\n",
    "job_df = job_df.drop(columns=['Date_Posted','Salary','recruiter'])"
   ]
  },
  {
   "cell_type": "code",
   "execution_count": 264,
   "metadata": {},
   "outputs": [],
   "source": [
    "#assuming typo for sal_max 10 times more than sal_min. To correct value by sal_max divided by 10\n",
    "job_df.loc[(job_df['sal_max']>10*job_df['sal_min']), 'sal_max'] = job_df['sal_max']/10"
   ]
  },
  {
   "cell_type": "code",
   "execution_count": 265,
   "metadata": {},
   "outputs": [],
   "source": [
    "#standardize all salary type to Monthly\n",
    "job_df.loc[job_df['type'].str.contains(' Annually'), 'sal_min'] = round(job_df['sal_min']/12)\n",
    "job_df.loc[job_df['type'].str.contains(' Annually'), 'sal_max'] = round(job_df['sal_max']/12)\n",
    "job_df = job_df.drop(columns='type')"
   ]
  },
  {
   "cell_type": "code",
   "execution_count": 266,
   "metadata": {},
   "outputs": [],
   "source": [
    "col = job_df.columns"
   ]
  },
  {
   "cell_type": "code",
   "execution_count": 267,
   "metadata": {},
   "outputs": [],
   "source": [
    "#further remove job with same data from all columns\n",
    "job_df = job_df.drop_duplicates(subset=col, keep='first')"
   ]
  },
  {
   "cell_type": "code",
   "execution_count": 268,
   "metadata": {},
   "outputs": [],
   "source": [
    "#further filter on job title with specific data job keywords\n",
    "title_key = ['DATA', 'MACHINE','ANALYST','MACHINE LEARNING','ANALYTICS','DEEP LEARNING','RESEARCH','NLP']\n",
    "key = '|'.join(title_key)\n",
    "data_job = job_df['Job_Title'].str.upper().str.contains(key)\n",
    "job_df = job_df[data_job]"
   ]
  },
  {
   "cell_type": "code",
   "execution_count": 269,
   "metadata": {},
   "outputs": [],
   "source": [
    "#to drop job with max salary less than 2000, assuming data entry/admin/operator job\n",
    "mask_low = job_df['sal_max']<=2000\n",
    "job_df = job_df[~mask_low]"
   ]
  },
  {
   "cell_type": "code",
   "execution_count": 270,
   "metadata": {},
   "outputs": [
    {
     "data": {
      "text/plain": [
       "<matplotlib.axes._subplots.AxesSubplot at 0x1a2f5a3e10>"
      ]
     },
     "execution_count": 270,
     "metadata": {},
     "output_type": "execute_result"
    },
    {
     "data": {
      "image/png": "[encoded data removed]",
      "text/plain": [
       "<Figure size 432x288 with 1 Axes>"
      ]
     },
     "metadata": {
      "image/png": {
       "height": 260,
       "width": 390
      },
      "needs_background": "light"
     },
     "output_type": "display_data"
    }
   ],
   "source": [
    "sns.boxplot(job_df['sal_max'])"
   ]
  },
  {
   "cell_type": "code",
   "execution_count": 271,
   "metadata": {},
   "outputs": [
    {
     "name": "stderr",
     "output_type": "stream",
     "text": [
      "/anaconda3/lib/python3.7/site-packages/scipy/stats/stats.py:1713: FutureWarning: Using a non-tuple sequence for multidimensional indexing is deprecated; use `arr[tuple(seq)]` instead of `arr[seq]`. In the future this will be interpreted as an array index, `arr[np.array(seq)]`, which will result either in an error or a different result.\n",
      "  return np.add.reduce(sorted[indexer] * weights, axis=axis) / sumval\n"
     ]
    },
    {
     "data": {
      "image/png": "[encoded data removed]",
      "text/plain": [
       "<Figure size 432x288 with 1 Axes>"
      ]
     },
     "metadata": {
      "image/png": {
       "height": 260,
       "width": 429
      },
      "needs_background": "light"
     },
     "output_type": "display_data"
    }
   ],
   "source": [
    "sns.distplot(job_df['sal_max'], bins=15);"
   ]
  },
  {
   "cell_type": "code",
   "execution_count": 272,
   "metadata": {},
   "outputs": [],
   "source": [
    "#create new feature for average salary\n",
    "job_df['Avg Salary'] = (job_df['sal_min'] + job_df['sal_max']) / 2"
   ]
  },
  {
   "cell_type": "code",
   "execution_count": 273,
   "metadata": {},
   "outputs": [
    {
     "data": {
      "image/png": "[encoded data removed]",
      "text/plain": [
       "<Figure size 432x288 with 1 Axes>"
      ]
     },
     "metadata": {
      "image/png": {
       "height": 264,
       "width": 440
      },
      "needs_background": "light"
     },
     "output_type": "display_data"
    }
   ],
   "source": [
    "sns.distplot(job_df['Avg Salary'], bins=15);"
   ]
  },
  {
   "cell_type": "markdown",
   "metadata": {},
   "source": [
    "### create label for high and low salary according to median salary."
   ]
  },
  {
   "cell_type": "code",
   "execution_count": 274,
   "metadata": {},
   "outputs": [
    {
     "data": {
      "text/plain": [
       "1    450\n",
       "0    388\n",
       "Name: sal_high, dtype: int64"
      ]
     },
     "execution_count": 274,
     "metadata": {},
     "output_type": "execute_result"
    }
   ],
   "source": [
    "job_df[\"sal_high\"] = job_df['Avg Salary'].map(lambda x: 1 if x >= np.median(job_df['Avg Salary']) else 0)\n",
    "job_df[\"sal_high\"].value_counts()"
   ]
  },
  {
   "cell_type": "code",
   "execution_count": 275,
   "metadata": {},
   "outputs": [
    {
     "data": {
      "text/plain": [
       "0.5369928400954654"
      ]
     },
     "execution_count": 275,
     "metadata": {},
     "output_type": "execute_result"
    }
   ],
   "source": [
    "#baseline model at 53% due to salary cut-off at median\n",
    "baseline = np.mean(job_df[\"sal_high\"])\n",
    "baseline"
   ]
  },
  {
   "cell_type": "code",
   "execution_count": 276,
   "metadata": {},
   "outputs": [],
   "source": [
    "job_df = job_df.reset_index(drop=True)"
   ]
  },
  {
   "cell_type": "code",
   "execution_count": 277,
   "metadata": {},
   "outputs": [
    {
     "data": {
      "text/html": [
       "<div>\n",
       "<style scoped>\n",
       "    .dataframe tbody tr th:only-of-type {\n",
       "        vertical-align: middle;\n",
       "    }\n",
       "\n",
       "    .dataframe tbody tr th {\n",
       "        vertical-align: top;\n",
       "    }\n",
       "\n",
       "    .dataframe thead th {\n",
       "        text-align: right;\n",
       "    }\n",
       "</style>\n",
       "<table border=\"1\" class=\"dataframe\">\n",
       "  <thead>\n",
       "    <tr style=\"text-align: right;\">\n",
       "      <th></th>\n",
       "      <th>Job_Title</th>\n",
       "      <th>Company</th>\n",
       "      <th>Seniority</th>\n",
       "      <th>Category</th>\n",
       "      <th>Requirements</th>\n",
       "      <th>sal_min</th>\n",
       "      <th>sal_max</th>\n",
       "      <th>Avg Salary</th>\n",
       "      <th>sal_high</th>\n",
       "    </tr>\n",
       "  </thead>\n",
       "  <tbody>\n",
       "    <tr>\n",
       "      <th>54</th>\n",
       "      <td>Senior / Reporting Analyst</td>\n",
       "      <td>SIVANTOS PTE. LTD.</td>\n",
       "      <td>Executive, Junior Executive, Senior Executive</td>\n",
       "      <td>Logistics / Supply Chain</td>\n",
       "      <td>The successful candidate will be an individual...</td>\n",
       "      <td>3500.0</td>\n",
       "      <td>5500.0</td>\n",
       "      <td>4500.0</td>\n",
       "      <td>0</td>\n",
       "    </tr>\n",
       "    <tr>\n",
       "      <th>63</th>\n",
       "      <td>Data Migration Lead</td>\n",
       "      <td>Company Undisclosed</td>\n",
       "      <td>Manager, Professional, Senior Executive</td>\n",
       "      <td>Information Technology</td>\n",
       "      <td>\"The Successful Applicant  Must have relevant ...</td>\n",
       "      <td>7000.0</td>\n",
       "      <td>10000.0</td>\n",
       "      <td>8500.0</td>\n",
       "      <td>1</td>\n",
       "    </tr>\n",
       "    <tr>\n",
       "      <th>70</th>\n",
       "      <td>Data Engineer</td>\n",
       "      <td>FRIARTUCK PTE LTD</td>\n",
       "      <td>Professional, Executive, Senior Executive</td>\n",
       "      <td>Consulting , Information Technology</td>\n",
       "      <td>\"Responsibilities  Build the infrastructure an...</td>\n",
       "      <td>6000.0</td>\n",
       "      <td>8000.0</td>\n",
       "      <td>7000.0</td>\n",
       "      <td>1</td>\n",
       "    </tr>\n",
       "    <tr>\n",
       "      <th>84</th>\n",
       "      <td>Analyst</td>\n",
       "      <td>AON HEWITT SINGAPORE PTE. LTD.</td>\n",
       "      <td>Executive, Junior Executive, Senior Executive</td>\n",
       "      <td>Consulting</td>\n",
       "      <td>Bachelor’s Degree in Business Administration,...</td>\n",
       "      <td>3000.0</td>\n",
       "      <td>4000.0</td>\n",
       "      <td>3500.0</td>\n",
       "      <td>0</td>\n",
       "    </tr>\n",
       "    <tr>\n",
       "      <th>139</th>\n",
       "      <td>Project Analyst</td>\n",
       "      <td>INDEPENDENT PROJECT ANALYSIS PRIVATE LIMITED</td>\n",
       "      <td>Manager, Professional, Senior Executive</td>\n",
       "      <td>Consulting , Professional Services</td>\n",
       "      <td>*Strong quantitative analytical skill/ Underst...</td>\n",
       "      <td>6000.0</td>\n",
       "      <td>10000.0</td>\n",
       "      <td>8000.0</td>\n",
       "      <td>1</td>\n",
       "    </tr>\n",
       "    <tr>\n",
       "      <th>167</th>\n",
       "      <td>Senior Data Analyst</td>\n",
       "      <td>99 PTE. LTD.</td>\n",
       "      <td>Professional, Executive, Senior Executive</td>\n",
       "      <td>Engineering</td>\n",
       "      <td>What you are/have/will be:  4-6years of workin...</td>\n",
       "      <td>5500.0</td>\n",
       "      <td>7500.0</td>\n",
       "      <td>6500.0</td>\n",
       "      <td>1</td>\n",
       "    </tr>\n",
       "    <tr>\n",
       "      <th>220</th>\n",
       "      <td>Data Scientist</td>\n",
       "      <td>PROPERTYGURU PTE. LTD.</td>\n",
       "      <td>Fresh/entry level, Junior Executive, Senior Ex...</td>\n",
       "      <td>Information Technology</td>\n",
       "      <td>:  PhD in Machine Learning related field, or M...</td>\n",
       "      <td>5000.0</td>\n",
       "      <td>7000.0</td>\n",
       "      <td>6000.0</td>\n",
       "      <td>1</td>\n",
       "    </tr>\n",
       "    <tr>\n",
       "      <th>230</th>\n",
       "      <td>Big Data Developer</td>\n",
       "      <td>ASIACLOUD SOLUTIONS PRIVATE LIMITED</td>\n",
       "      <td>Manager, Professional, Senior Executive</td>\n",
       "      <td>Information Technology</td>\n",
       "      <td>Minimum 8 years of experience in Software Eng...</td>\n",
       "      <td>6500.0</td>\n",
       "      <td>8500.0</td>\n",
       "      <td>7500.0</td>\n",
       "      <td>1</td>\n",
       "    </tr>\n",
       "    <tr>\n",
       "      <th>275</th>\n",
       "      <td>Analyst, IBA, General M&amp;A and Transactions Group</td>\n",
       "      <td>Company Undisclosed</td>\n",
       "      <td>Fresh/entry level, Executive, Junior Executive</td>\n",
       "      <td>Banking and Finance</td>\n",
       "      <td>\"Competencies (Technical / Behavioral):  Stron...</td>\n",
       "      <td>6667.0</td>\n",
       "      <td>10417.0</td>\n",
       "      <td>8542.0</td>\n",
       "      <td>1</td>\n",
       "    </tr>\n",
       "    <tr>\n",
       "      <th>300</th>\n",
       "      <td>Product Analyst</td>\n",
       "      <td>SEACO ASIA PTE. LTD.</td>\n",
       "      <td>Executive, Junior Executive, Senior Executive</td>\n",
       "      <td>Logistics / Supply Chain</td>\n",
       "      <td>Bachelor’s Degree in Business or Economics or...</td>\n",
       "      <td>3500.0</td>\n",
       "      <td>4500.0</td>\n",
       "      <td>4000.0</td>\n",
       "      <td>0</td>\n",
       "    </tr>\n",
       "    <tr>\n",
       "      <th>422</th>\n",
       "      <td>Sales Analyst  /  Controller</td>\n",
       "      <td>SYSMEX ASIA PACIFIC PTE. LTD.</td>\n",
       "      <td>Professional, Executive, Senior Executive</td>\n",
       "      <td>Accounting / Auditing / Taxation, Consulting ,...</td>\n",
       "      <td>:   Graduate of Business administration majori...</td>\n",
       "      <td>4000.0</td>\n",
       "      <td>6000.0</td>\n",
       "      <td>5000.0</td>\n",
       "      <td>0</td>\n",
       "    </tr>\n",
       "    <tr>\n",
       "      <th>423</th>\n",
       "      <td>Machinist ( Tool Room)  Sembawang, Shift Work,...</td>\n",
       "      <td>THE SUPREME HR ADVISORY PTE. LTD.</td>\n",
       "      <td>Non-executive, Junior Executive, Senior Executive</td>\n",
       "      <td>Manufacturing</td>\n",
       "      <td>Working Days: 5.5 Day A Week ( Alternate Sat) ...</td>\n",
       "      <td>1699.0</td>\n",
       "      <td>2500.0</td>\n",
       "      <td>2099.5</td>\n",
       "      <td>0</td>\n",
       "    </tr>\n",
       "    <tr>\n",
       "      <th>495</th>\n",
       "      <td>Senior / Data Engineer (Data Science Team)</td>\n",
       "      <td>M1 LIMITED</td>\n",
       "      <td>Fresh/entry level, Executive, Senior Executive</td>\n",
       "      <td>Engineering, Information Technology, Others, T...</td>\n",
       "      <td>Bachelor’s degree in Computer Science/Enginee...</td>\n",
       "      <td>3500.0</td>\n",
       "      <td>5800.0</td>\n",
       "      <td>4650.0</td>\n",
       "      <td>0</td>\n",
       "    </tr>\n",
       "    <tr>\n",
       "      <th>579</th>\n",
       "      <td>Data Scientist</td>\n",
       "      <td>CLARIANT (SINGAPORE) PTE. LTD.</td>\n",
       "      <td>Middle Management, Manager, Professional</td>\n",
       "      <td>Manufacturing, Others</td>\n",
       "      <td>Master/ PhD Chemical engineering, Computation...</td>\n",
       "      <td>5000.0</td>\n",
       "      <td>8000.0</td>\n",
       "      <td>6500.0</td>\n",
       "      <td>1</td>\n",
       "    </tr>\n",
       "    <tr>\n",
       "      <th>609</th>\n",
       "      <td>Data Scientist</td>\n",
       "      <td>SINGAPORE TECHNOLOGIES ENGINEERING LTD</td>\n",
       "      <td>Senior Management, Middle Management, Manager,...</td>\n",
       "      <td>Sciences / Laboratory / R&amp;D</td>\n",
       "      <td>\": - Prefer a Masters Degree or PHD in Science...</td>\n",
       "      <td>5000.0</td>\n",
       "      <td>12000.0</td>\n",
       "      <td>8500.0</td>\n",
       "      <td>1</td>\n",
       "    </tr>\n",
       "    <tr>\n",
       "      <th>684</th>\n",
       "      <td>Data Analytics xe2x80x93 IT Supply Chain</td>\n",
       "      <td>INFINEON TECHNOLOGIES ASIA PACIFIC PTE LTD</td>\n",
       "      <td>Fresh/entry level, Professional, Executive, Ju...</td>\n",
       "      <td>Information Technology, Logistics / Supply Chain</td>\n",
       "      <td>You are best equipped for this task if you hav...</td>\n",
       "      <td>4000.0</td>\n",
       "      <td>7000.0</td>\n",
       "      <td>5500.0</td>\n",
       "      <td>0</td>\n",
       "    </tr>\n",
       "    <tr>\n",
       "      <th>722</th>\n",
       "      <td>SAP Receivable Management (FSCM) Analyst</td>\n",
       "      <td>SPENCER OGDEN PTE. LTD.</td>\n",
       "      <td>Middle Management, Professional, Executive, Se...</td>\n",
       "      <td>Consulting</td>\n",
       "      <td>10 years of SAP ERP or 2 years of S/4HANA rel...</td>\n",
       "      <td>8000.0</td>\n",
       "      <td>17000.0</td>\n",
       "      <td>12500.0</td>\n",
       "      <td>1</td>\n",
       "    </tr>\n",
       "    <tr>\n",
       "      <th>723</th>\n",
       "      <td>System Analyst</td>\n",
       "      <td>SINGAPORE EPSON INDUSTRIAL PTE. LTD.</td>\n",
       "      <td>Executive, Junior Executive, Senior Executive</td>\n",
       "      <td>Information Technology, Manufacturing, Others</td>\n",
       "      <td>Degree or above in Information Systems or any...</td>\n",
       "      <td>3500.0</td>\n",
       "      <td>4000.0</td>\n",
       "      <td>3750.0</td>\n",
       "      <td>0</td>\n",
       "    </tr>\n",
       "    <tr>\n",
       "      <th>763</th>\n",
       "      <td>Database Administrator (Ref 22974)</td>\n",
       "      <td>Company Undisclosed</td>\n",
       "      <td>Manager, Professional, Senior Executive</td>\n",
       "      <td>Information Technology</td>\n",
       "      <td>- Degree in Computing or related majors - 10+...</td>\n",
       "      <td>4500.0</td>\n",
       "      <td>9000.0</td>\n",
       "      <td>6750.0</td>\n",
       "      <td>1</td>\n",
       "    </tr>\n",
       "    <tr>\n",
       "      <th>785</th>\n",
       "      <td>Data Entry cum Admin Assistant</td>\n",
       "      <td>PACIFIC CONFERENCES PTE LTD</td>\n",
       "      <td>Fresh/entry level, Non-executive, Junior Execu...</td>\n",
       "      <td>Admin / Secretarial, Information Technology</td>\n",
       "      <td>1. Diploma or above 2. Good Excel skills</td>\n",
       "      <td>1800.0</td>\n",
       "      <td>2200.0</td>\n",
       "      <td>2000.0</td>\n",
       "      <td>0</td>\n",
       "    </tr>\n",
       "    <tr>\n",
       "      <th>818</th>\n",
       "      <td>Enterprise Data Management - Data Steward</td>\n",
       "      <td>EASTSPRING INVESTMENTS (SINGAPORE) LIMITED</td>\n",
       "      <td>Manager, Executive, Senior Executive</td>\n",
       "      <td>Banking and Finance</td>\n",
       "      <td>EXPERIENCE / QUALIFICATIONS  An excellent unde...</td>\n",
       "      <td>8000.0</td>\n",
       "      <td>10000.0</td>\n",
       "      <td>9000.0</td>\n",
       "      <td>1</td>\n",
       "    </tr>\n",
       "  </tbody>\n",
       "</table>\n",
       "</div>"
      ],
      "text/plain": [
       "                                             Job_Title  \\\n",
       "54                          Senior / Reporting Analyst   \n",
       "63                                 Data Migration Lead   \n",
       "70                                       Data Engineer   \n",
       "84                                             Analyst   \n",
       "139                                    Project Analyst   \n",
       "167                                Senior Data Analyst   \n",
       "220                                     Data Scientist   \n",
       "230                                 Big Data Developer   \n",
       "275   Analyst, IBA, General M&A and Transactions Group   \n",
       "300                                    Product Analyst   \n",
       "422                       Sales Analyst  /  Controller   \n",
       "423  Machinist ( Tool Room)  Sembawang, Shift Work,...   \n",
       "495         Senior / Data Engineer (Data Science Team)   \n",
       "579                                     Data Scientist   \n",
       "609                                     Data Scientist   \n",
       "684           Data Analytics xe2x80x93 IT Supply Chain   \n",
       "722           SAP Receivable Management (FSCM) Analyst   \n",
       "723                                     System Analyst   \n",
       "763                 Database Administrator (Ref 22974)   \n",
       "785                     Data Entry cum Admin Assistant   \n",
       "818          Enterprise Data Management - Data Steward   \n",
       "\n",
       "                                          Company  \\\n",
       "54                             SIVANTOS PTE. LTD.   \n",
       "63                            Company Undisclosed   \n",
       "70                              FRIARTUCK PTE LTD   \n",
       "84                 AON HEWITT SINGAPORE PTE. LTD.   \n",
       "139  INDEPENDENT PROJECT ANALYSIS PRIVATE LIMITED   \n",
       "167                                  99 PTE. LTD.   \n",
       "220                        PROPERTYGURU PTE. LTD.   \n",
       "230           ASIACLOUD SOLUTIONS PRIVATE LIMITED   \n",
       "275                           Company Undisclosed   \n",
       "300                          SEACO ASIA PTE. LTD.   \n",
       "422                 SYSMEX ASIA PACIFIC PTE. LTD.   \n",
       "423             THE SUPREME HR ADVISORY PTE. LTD.   \n",
       "495                                    M1 LIMITED   \n",
       "579                CLARIANT (SINGAPORE) PTE. LTD.   \n",
       "609        SINGAPORE TECHNOLOGIES ENGINEERING LTD   \n",
       "684    INFINEON TECHNOLOGIES ASIA PACIFIC PTE LTD   \n",
       "722                       SPENCER OGDEN PTE. LTD.   \n",
       "723          SINGAPORE EPSON INDUSTRIAL PTE. LTD.   \n",
       "763                           Company Undisclosed   \n",
       "785                   PACIFIC CONFERENCES PTE LTD   \n",
       "818    EASTSPRING INVESTMENTS (SINGAPORE) LIMITED   \n",
       "\n",
       "                                             Seniority  \\\n",
       "54       Executive, Junior Executive, Senior Executive   \n",
       "63             Manager, Professional, Senior Executive   \n",
       "70           Professional, Executive, Senior Executive   \n",
       "84       Executive, Junior Executive, Senior Executive   \n",
       "139            Manager, Professional, Senior Executive   \n",
       "167          Professional, Executive, Senior Executive   \n",
       "220  Fresh/entry level, Junior Executive, Senior Ex...   \n",
       "230            Manager, Professional, Senior Executive   \n",
       "275     Fresh/entry level, Executive, Junior Executive   \n",
       "300      Executive, Junior Executive, Senior Executive   \n",
       "422          Professional, Executive, Senior Executive   \n",
       "423  Non-executive, Junior Executive, Senior Executive   \n",
       "495     Fresh/entry level, Executive, Senior Executive   \n",
       "579           Middle Management, Manager, Professional   \n",
       "609  Senior Management, Middle Management, Manager,...   \n",
       "684  Fresh/entry level, Professional, Executive, Ju...   \n",
       "722  Middle Management, Professional, Executive, Se...   \n",
       "723      Executive, Junior Executive, Senior Executive   \n",
       "763            Manager, Professional, Senior Executive   \n",
       "785  Fresh/entry level, Non-executive, Junior Execu...   \n",
       "818               Manager, Executive, Senior Executive   \n",
       "\n",
       "                                              Category  \\\n",
       "54                            Logistics / Supply Chain   \n",
       "63                              Information Technology   \n",
       "70                 Consulting , Information Technology   \n",
       "84                                         Consulting    \n",
       "139                 Consulting , Professional Services   \n",
       "167                                        Engineering   \n",
       "220                             Information Technology   \n",
       "230                             Information Technology   \n",
       "275                                Banking and Finance   \n",
       "300                           Logistics / Supply Chain   \n",
       "422  Accounting / Auditing / Taxation, Consulting ,...   \n",
       "423                                      Manufacturing   \n",
       "495  Engineering, Information Technology, Others, T...   \n",
       "579                              Manufacturing, Others   \n",
       "609                        Sciences / Laboratory / R&D   \n",
       "684   Information Technology, Logistics / Supply Chain   \n",
       "722                                        Consulting    \n",
       "723      Information Technology, Manufacturing, Others   \n",
       "763                             Information Technology   \n",
       "785        Admin / Secretarial, Information Technology   \n",
       "818                                Banking and Finance   \n",
       "\n",
       "                                          Requirements  sal_min  sal_max  \\\n",
       "54   The successful candidate will be an individual...   3500.0   5500.0   \n",
       "63   \"The Successful Applicant  Must have relevant ...   7000.0  10000.0   \n",
       "70   \"Responsibilities  Build the infrastructure an...   6000.0   8000.0   \n",
       "84    Bachelor’s Degree in Business Administration,...   3000.0   4000.0   \n",
       "139  *Strong quantitative analytical skill/ Underst...   6000.0  10000.0   \n",
       "167  What you are/have/will be:  4-6years of workin...   5500.0   7500.0   \n",
       "220  :  PhD in Machine Learning related field, or M...   5000.0   7000.0   \n",
       "230   Minimum 8 years of experience in Software Eng...   6500.0   8500.0   \n",
       "275  \"Competencies (Technical / Behavioral):  Stron...   6667.0  10417.0   \n",
       "300   Bachelor’s Degree in Business or Economics or...   3500.0   4500.0   \n",
       "422  :   Graduate of Business administration majori...   4000.0   6000.0   \n",
       "423  Working Days: 5.5 Day A Week ( Alternate Sat) ...   1699.0   2500.0   \n",
       "495   Bachelor’s degree in Computer Science/Enginee...   3500.0   5800.0   \n",
       "579   Master/ PhD Chemical engineering, Computation...   5000.0   8000.0   \n",
       "609  \": - Prefer a Masters Degree or PHD in Science...   5000.0  12000.0   \n",
       "684  You are best equipped for this task if you hav...   4000.0   7000.0   \n",
       "722   10 years of SAP ERP or 2 years of S/4HANA rel...   8000.0  17000.0   \n",
       "723   Degree or above in Information Systems or any...   3500.0   4000.0   \n",
       "763   - Degree in Computing or related majors - 10+...   4500.0   9000.0   \n",
       "785           1. Diploma or above 2. Good Excel skills   1800.0   2200.0   \n",
       "818  EXPERIENCE / QUALIFICATIONS  An excellent unde...   8000.0  10000.0   \n",
       "\n",
       "     Avg Salary  sal_high  \n",
       "54       4500.0         0  \n",
       "63       8500.0         1  \n",
       "70       7000.0         1  \n",
       "84       3500.0         0  \n",
       "139      8000.0         1  \n",
       "167      6500.0         1  \n",
       "220      6000.0         1  \n",
       "230      7500.0         1  \n",
       "275      8542.0         1  \n",
       "300      4000.0         0  \n",
       "422      5000.0         0  \n",
       "423      2099.5         0  \n",
       "495      4650.0         0  \n",
       "579      6500.0         1  \n",
       "609      8500.0         1  \n",
       "684      5500.0         0  \n",
       "722     12500.0         1  \n",
       "723      3750.0         0  \n",
       "763      6750.0         1  \n",
       "785      2000.0         0  \n",
       "818      9000.0         1  "
      ]
     },
     "execution_count": 277,
     "metadata": {},
     "output_type": "execute_result"
    }
   ],
   "source": [
    "#check seniority with multiple rank\n",
    "job_df[job_df['Seniority'].str.count(',')>=2]"
   ]
  },
  {
   "cell_type": "code",
   "execution_count": 278,
   "metadata": {},
   "outputs": [],
   "source": [
    "job_df['Seniority'] = job_df['Seniority'].str.split(', ')"
   ]
  },
  {
   "cell_type": "code",
   "execution_count": 279,
   "metadata": {},
   "outputs": [],
   "source": [
    "#job posted with more than 2 seniority classify under multiple,\n",
    "#second seniority is taken as value for job with 2 seniority \n",
    "job_df['Seniority'] = job_df['Seniority'].map(lambda x: x[0] if len(x)>2 else (x[1] if len(x)>1 else x[0]))"
   ]
  },
  {
   "cell_type": "code",
   "execution_count": 280,
   "metadata": {},
   "outputs": [
    {
     "data": {
      "text/plain": [
       "Professional         233\n",
       "Executive            198\n",
       "Senior Executive     109\n",
       "Non-executive         79\n",
       "Manager               60\n",
       "Junior Executive      54\n",
       "Fresh/entry level     41\n",
       "Middle Management     38\n",
       "Senior Management     26\n",
       "Name: Seniority, dtype: int64"
      ]
     },
     "execution_count": 280,
     "metadata": {},
     "output_type": "execute_result"
    }
   ],
   "source": [
    "job_df['Seniority'].value_counts()"
   ]
  },
  {
   "cell_type": "code",
   "execution_count": 281,
   "metadata": {},
   "outputs": [
    {
     "data": {
      "image/png": "[encoded data removed]",
      "text/plain": [
       "<Figure size 1080x360 with 1 Axes>"
      ]
     },
     "metadata": {
      "image/png": {
       "height": 424,
       "width": 1074
      },
      "needs_background": "light"
     },
     "output_type": "display_data"
    }
   ],
   "source": [
    "senior_order = ('Senior Management', 'Middle Management', 'Manager','Senior Executive',\n",
    "                'Professional','Executive', 'Junior Executive','Non-executive','Fresh/entry level')\n",
    "\n",
    "sns.catplot(x='Seniority', y='sal_high',data=job_df, kind='bar', aspect=3, \n",
    "               order=senior_order).set_xticklabels(rotation=55, horizontalalignment='right')\n",
    "plt.show();"
   ]
  },
  {
   "cell_type": "code",
   "execution_count": 282,
   "metadata": {},
   "outputs": [
    {
     "data": {
      "text/html": [
       "<div>\n",
       "<style scoped>\n",
       "    .dataframe tbody tr th:only-of-type {\n",
       "        vertical-align: middle;\n",
       "    }\n",
       "\n",
       "    .dataframe tbody tr th {\n",
       "        vertical-align: top;\n",
       "    }\n",
       "\n",
       "    .dataframe thead th {\n",
       "        text-align: right;\n",
       "    }\n",
       "</style>\n",
       "<table border=\"1\" class=\"dataframe\">\n",
       "  <thead>\n",
       "    <tr style=\"text-align: right;\">\n",
       "      <th></th>\n",
       "      <th>Executive</th>\n",
       "      <th>Fresh/entry level</th>\n",
       "      <th>Junior Executive</th>\n",
       "      <th>Manager</th>\n",
       "      <th>Middle Management</th>\n",
       "      <th>Non-executive</th>\n",
       "      <th>Professional</th>\n",
       "      <th>Senior Executive</th>\n",
       "      <th>Senior Management</th>\n",
       "    </tr>\n",
       "  </thead>\n",
       "  <tbody>\n",
       "    <tr>\n",
       "      <th>0</th>\n",
       "      <td>1</td>\n",
       "      <td>0</td>\n",
       "      <td>0</td>\n",
       "      <td>0</td>\n",
       "      <td>0</td>\n",
       "      <td>0</td>\n",
       "      <td>0</td>\n",
       "      <td>0</td>\n",
       "      <td>0</td>\n",
       "    </tr>\n",
       "    <tr>\n",
       "      <th>1</th>\n",
       "      <td>0</td>\n",
       "      <td>0</td>\n",
       "      <td>0</td>\n",
       "      <td>1</td>\n",
       "      <td>0</td>\n",
       "      <td>0</td>\n",
       "      <td>0</td>\n",
       "      <td>0</td>\n",
       "      <td>0</td>\n",
       "    </tr>\n",
       "    <tr>\n",
       "      <th>2</th>\n",
       "      <td>0</td>\n",
       "      <td>0</td>\n",
       "      <td>0</td>\n",
       "      <td>0</td>\n",
       "      <td>1</td>\n",
       "      <td>0</td>\n",
       "      <td>0</td>\n",
       "      <td>0</td>\n",
       "      <td>0</td>\n",
       "    </tr>\n",
       "    <tr>\n",
       "      <th>3</th>\n",
       "      <td>0</td>\n",
       "      <td>0</td>\n",
       "      <td>0</td>\n",
       "      <td>0</td>\n",
       "      <td>0</td>\n",
       "      <td>0</td>\n",
       "      <td>0</td>\n",
       "      <td>1</td>\n",
       "      <td>0</td>\n",
       "    </tr>\n",
       "    <tr>\n",
       "      <th>4</th>\n",
       "      <td>0</td>\n",
       "      <td>0</td>\n",
       "      <td>0</td>\n",
       "      <td>0</td>\n",
       "      <td>0</td>\n",
       "      <td>0</td>\n",
       "      <td>1</td>\n",
       "      <td>0</td>\n",
       "      <td>0</td>\n",
       "    </tr>\n",
       "  </tbody>\n",
       "</table>\n",
       "</div>"
      ],
      "text/plain": [
       "   Executive  Fresh/entry level  Junior Executive  Manager  Middle Management  \\\n",
       "0          1                  0                 0        0                  0   \n",
       "1          0                  0                 0        1                  0   \n",
       "2          0                  0                 0        0                  1   \n",
       "3          0                  0                 0        0                  0   \n",
       "4          0                  0                 0        0                  0   \n",
       "\n",
       "   Non-executive  Professional  Senior Executive  Senior Management  \n",
       "0              0             0                 0                  0  \n",
       "1              0             0                 0                  0  \n",
       "2              0             0                 0                  0  \n",
       "3              0             0                 1                  0  \n",
       "4              0             1                 0                  0  "
      ]
     },
     "execution_count": 282,
     "metadata": {},
     "output_type": "execute_result"
    }
   ],
   "source": [
    "seniority_cat=job_df['Seniority'].str.get_dummies()\n",
    "seniority_cat.head()"
   ]
  },
  {
   "cell_type": "code",
   "execution_count": 283,
   "metadata": {},
   "outputs": [],
   "source": [
    "job_df = pd.concat([job_df, seniority_cat], axis=1)"
   ]
  },
  {
   "cell_type": "code",
   "execution_count": 284,
   "metadata": {},
   "outputs": [
    {
     "data": {
      "text/plain": [
       "(670, 18)"
      ]
     },
     "execution_count": 284,
     "metadata": {},
     "output_type": "execute_result"
    }
   ],
   "source": [
    "training_size = int(job_df.shape[0] *0.8)\n",
    "job_train = job_df.sample(n=training_size, replace=True)\n",
    "job_train.shape"
   ]
  },
  {
   "cell_type": "code",
   "execution_count": 285,
   "metadata": {},
   "outputs": [],
   "source": [
    "mask = job_df.index.isin(job_train.index)\n",
    "job_test = job_df[~mask]"
   ]
  },
  {
   "cell_type": "code",
   "execution_count": 286,
   "metadata": {},
   "outputs": [
    {
     "data": {
      "text/plain": [
       "(670, 9)"
      ]
     },
     "execution_count": 286,
     "metadata": {},
     "output_type": "execute_result"
    }
   ],
   "source": [
    "job_train_senior = pd.DataFrame(job_train, columns=seniority_cat.columns)\n",
    "job_train_senior.shape"
   ]
  },
  {
   "cell_type": "code",
   "execution_count": 287,
   "metadata": {},
   "outputs": [
    {
     "data": {
      "text/plain": [
       "(366, 9)"
      ]
     },
     "execution_count": 287,
     "metadata": {},
     "output_type": "execute_result"
    }
   ],
   "source": [
    "job_test_senior = pd.DataFrame(job_test, columns=seniority_cat.columns)\n",
    "job_test_senior.shape"
   ]
  },
  {
   "cell_type": "code",
   "execution_count": 323,
   "metadata": {},
   "outputs": [
    {
     "name": "stdout",
     "output_type": "stream",
     "text": [
      "Model score on test data: 0.7185792349726776\n",
      "Cross val score on train data: 0.6791570135953482\n"
     ]
    }
   ],
   "source": [
    "lr = LogisticRegression(solver='lbfgs')\n",
    "\n",
    "lr.fit(job_train_senior, job_train[\"sal_high\"])\n",
    "predicted = lr.predict(job_train_senior)\n",
    "print('Model score on test data:',lr.score(job_test_senior, job_test[\"sal_high\"]))\n",
    "print('Cross val score on train data:', np.mean(cross_val_score(lr, job_train_senior, job_train[\"sal_high\"], cv=5)))"
   ]
  },
  {
   "cell_type": "code",
   "execution_count": 289,
   "metadata": {},
   "outputs": [],
   "source": [
    "from sklearn.feature_extraction.text import CountVectorizer, TfidfVectorizer\n",
    "from sklearn.feature_extraction import stop_words\n",
    "from nltk.corpus import stopwords"
   ]
  },
  {
   "cell_type": "code",
   "execution_count": 290,
   "metadata": {},
   "outputs": [],
   "source": [
    "stop = stopwords.words('english')\n",
    "stop += ['regret', 'shortlisted', 'candidates', 'notified','least','skills',\n",
    "         'related','good','years','added','able','advantage','work','etc',\n",
    "         'working','ability','excellent','year','knowledge']"
   ]
  },
  {
   "cell_type": "code",
   "execution_count": 291,
   "metadata": {},
   "outputs": [
    {
     "data": {
      "text/plain": [
       "CountVectorizer(analyzer='word', binary=False, decode_error='strict',\n",
       "        dtype=<class 'numpy.int64'>, encoding='utf-8', input='content',\n",
       "        lowercase=True, max_df=1.0, max_features=None, min_df=1,\n",
       "        ngram_range=(1, 1), preprocessor=None,\n",
       "        stop_words=['i', 'me', 'my', 'myself', 'we', 'our', 'ours', 'ourselves', 'you', \"you're\", \"you've\", \"you'll\", \"you'd\", 'your', 'yours', 'yourself', 'yourselves', 'he', 'him', 'his', 'himself', 'she', \"she's\", 'her', 'hers', 'herself', 'it', \"it's\", 'its', 'itself', 'they', 'them', 'their', 'theirs',...'added', 'able', 'advantage', 'work', 'etc', 'working', 'ability', 'excellent', 'year', 'knowledge'],\n",
       "        strip_accents='unicode', token_pattern='(?u)\\\\b\\\\w\\\\w+\\\\b',\n",
       "        tokenizer=None, vocabulary=None)"
      ]
     },
     "execution_count": 291,
     "metadata": {},
     "output_type": "execute_result"
    }
   ],
   "source": [
    "cvec = CountVectorizer(lowercase=True, strip_accents='unicode', stop_words=stop)\n",
    "cvec.fit(job_df['Requirements'])"
   ]
  },
  {
   "cell_type": "code",
   "execution_count": 304,
   "metadata": {},
   "outputs": [],
   "source": [
    "model_data = job_df.drop(columns=['Job_Title','Company','Seniority','Category','sal_min','sal_max','Avg Salary'])"
   ]
  },
  {
   "cell_type": "code",
   "execution_count": 305,
   "metadata": {},
   "outputs": [],
   "source": [
    "nlp = pd.DataFrame(cvec.transform(model_data['Requirements']).todense(),\n",
    "                       columns=cvec.get_feature_names())"
   ]
  },
  {
   "cell_type": "code",
   "execution_count": 310,
   "metadata": {},
   "outputs": [
    {
     "data": {
      "text/plain": [
       "(838, 6388)"
      ]
     },
     "execution_count": 310,
     "metadata": {},
     "output_type": "execute_result"
    }
   ],
   "source": [
    "senior_nlp = pd.concat([model_data, nlp], axis=1)\n",
    "senior_nlp.shape"
   ]
  },
  {
   "cell_type": "code",
   "execution_count": 320,
   "metadata": {},
   "outputs": [],
   "source": [
    "X = senior_nlp.drop(columns=['sal_high','Requirements'])\n",
    "y = senior_nlp['sal_high'].values"
   ]
  },
  {
   "cell_type": "code",
   "execution_count": 321,
   "metadata": {},
   "outputs": [],
   "source": [
    "X_train, X_test, y_train, y_test = train_test_split(X, y, test_size=0.2, random_state=42)"
   ]
  },
  {
   "cell_type": "code",
   "execution_count": 324,
   "metadata": {},
   "outputs": [
    {
     "name": "stdout",
     "output_type": "stream",
     "text": [
      "Model score on test data: 0.7440476190476191\n",
      "Cross val score on train data: 0.7388501103505032\n"
     ]
    }
   ],
   "source": [
    "lr = LogisticRegression(solver='lbfgs')\n",
    "\n",
    "lr.fit(X_train, y_train)\n",
    "predicted = lr.predict(X_test)\n",
    "print('Model score on test data:',lr.score(X_test, y_test))\n",
    "print('Cross val score on train data:', np.mean(cross_val_score(lr, X_train, y_train, cv=5)))"
   ]
  },
  {
   "cell_type": "code",
   "execution_count": null,
   "metadata": {},
   "outputs": [],
   "source": [
    "def get_freq_words(sparse_counts, columns):\n",
    "    # X_all is a sparse matrix, so sum() returns a 'matrix' datatype ...\n",
    "    #   which we then convert into a 1-D ndarray for sorting\n",
    "    word_counts = np.asarray(X_all.sum(axis=0)).reshape(-1)\n",
    "\n",
    "    # argsort() returns smallest first, so we reverse the result\n",
    "    largest_count_indices = word_counts.argsort()[::-1]\n",
    "    freq_words = pd.Series(word_counts[largest_count_indices], \n",
    "                           index=columns[largest_count_indices])\n",
    "\n",
    "    return freq_words"
   ]
  },
  {
   "cell_type": "code",
   "execution_count": null,
   "metadata": {},
   "outputs": [],
   "source": [
    "#most common words for requirements\n",
    "cvt      =  CountVectorizer(strip_accents='unicode', ngram_range=(1,2), stop_words=stop, min_df=5)\n",
    "X_all    =  cvt.fit_transform(job_df['Requirements'])\n",
    "columns  =  np.array(cvt.get_feature_names()) \n",
    "\n",
    "freq_words = get_freq_words(X_all, columns)\n",
    "freq_words_percent = freq_words/len(job_df['Requirements'])\n",
    "freq_words[:20]"
   ]
  },
  {
   "cell_type": "code",
   "execution_count": null,
   "metadata": {},
   "outputs": [],
   "source": [
    "#most common ngrams for requirements\n",
    "cvt = CountVectorizer(stop_words=stop, ngram_range=(2,2))\n",
    "X_all = cvt.fit_transform(job_df['Requirements'])\n",
    "columns  =  np.array(cvt.get_feature_names())\n",
    "\n",
    "freq_words = get_freq_words(X_all, columns)\n",
    "freq_words[:20]"
   ]
  },
  {
   "cell_type": "code",
   "execution_count": null,
   "metadata": {},
   "outputs": [],
   "source": [
    "# MultinomialNB\n",
    "pipeline = Pipeline([\n",
    "    ('vect', CountVectorizer(lowercase=True, strip_accents='unicode', stop_words=stop)),\n",
    "   # ('tfidf', TfidfTransformer()),\n",
    "    ('cls', MultinomialNB())\n",
    "    ]) \n",
    "\n",
    "pipeline.fit(job_train[\"Requirements\"], job_train[\"sal_high\"])\n",
    "predicted = pipeline.predict(job_test[\"Requirements\"])\n",
    "print('Model score:',pipeline.score(job_test[\"Requirements\"], job_test[\"sal_high\"]))\n",
    "print('Cross val score:', np.mean(cross_val_score(pipeline, job_test[\"Requirements\"], job_test[\"sal_high\"], cv=5)))"
   ]
  },
  {
   "cell_type": "code",
   "execution_count": null,
   "metadata": {},
   "outputs": [],
   "source": [
    "#logistic regression\n",
    "pipeline = Pipeline([\n",
    "    ('vect', CountVectorizer(lowercase=True, strip_accents='unicode', stop_words=stop)),\n",
    "    ('tfidf', TfidfTransformer()),\n",
    "    ('cls', LogisticRegression(solver='lbfgs'))\n",
    "]) \n",
    "\n",
    "pipeline.fit(job_train[\"Requirements\"], job_train[\"sal_high\"])\n",
    "predicted = pipeline.predict(job_test[\"Requirements\"])\n",
    "print('Model score:',pipeline.score(job_test[\"Requirements\"], job_test[\"sal_high\"]))\n",
    "print('Cross val score:', np.mean(cross_val_score(pipeline, job_test[\"Requirements\"], job_test[\"sal_high\"], cv=5)))"
   ]
  },
  {
   "cell_type": "code",
   "execution_count": null,
   "metadata": {},
   "outputs": [],
   "source": []
  }
 ],
 "metadata": {
  "kernelspec": {
   "display_name": "Python 3",
   "language": "python",
   "name": "python3"
  },
  "language_info": {
   "codemirror_mode": {
    "name": "ipython",
    "version": 3
   },
   "file_extension": ".py",
   "mimetype": "text/x-python",
   "name": "python",
   "nbconvert_exporter": "python",
   "pygments_lexer": "ipython3",
   "version": "3.7.1"
  }
 },
 "nbformat": 4,
 "nbformat_minor": 2
}
