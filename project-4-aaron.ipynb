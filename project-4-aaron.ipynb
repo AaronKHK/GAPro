{
 "cells": [
  {
   "cell_type": "code",
   "execution_count": 1,
   "metadata": {},
   "outputs": [],
   "source": [
    "import pandas as pd\n",
    "import numpy as np\n",
    "import matplotlib.pyplot as plt\n",
    "import seaborn as sns\n",
    "import scipy.stats as stats\n",
    "plt.style.use('fivethirtyeight')\n",
    "sns.set_style('whitegrid')\n",
    "\n",
    "%config InlineBackend.figure_format = 'retina'\n",
    "%matplotlib inline"
   ]
  },
  {
   "cell_type": "code",
   "execution_count": 2,
   "metadata": {},
   "outputs": [],
   "source": [
    "import statsmodels.formula.api as sm\n",
    "import patsy\n",
    "import itertools\n",
    "from sklearn.metrics import classification_report, confusion_matrix, accuracy_score, roc_curve, roc_auc_score, auc\n",
    "from sklearn.model_selection import cross_val_score, cross_val_predict, KFold, GridSearchCV,learning_curve\n",
    "from sklearn.model_selection import train_test_split, GridSearchCV, StratifiedKFold, StratifiedShuffleSplit, cross_val_score\n",
    "from sklearn.linear_model import LogisticRegression, LogisticRegressionCV\n",
    "from sklearn.naive_bayes import MultinomialNB, BernoulliNB, GaussianNB\n",
    "from sklearn.preprocessing import StandardScaler\n",
    "from sklearn.feature_extraction.text import CountVectorizer, TfidfTransformer, TfidfVectorizer \n",
    "from sklearn.pipeline import Pipeline"
   ]
  },
  {
   "cell_type": "code",
   "execution_count": 3,
   "metadata": {},
   "outputs": [],
   "source": [
    "job = pd.read_csv('data_job.csv')"
   ]
  },
  {
   "cell_type": "markdown",
   "metadata": {},
   "source": [
    "# EDA and Features Engineering"
   ]
  },
  {
   "cell_type": "code",
   "execution_count": 4,
   "metadata": {},
   "outputs": [
    {
     "name": "stdout",
     "output_type": "stream",
     "text": [
      "<class 'pandas.core.frame.DataFrame'>\n",
      "RangeIndex: 3960 entries, 0 to 3959\n",
      "Data columns (total 9 columns):\n",
      "Unnamed: 0      3960 non-null int64\n",
      "Job_Id          3960 non-null object\n",
      "Job_Title       3960 non-null object\n",
      "Company         3960 non-null object\n",
      "Date_Posted     3960 non-null object\n",
      "Salary          3960 non-null object\n",
      "Seniority       3960 non-null object\n",
      "Category        3960 non-null object\n",
      "Requirements    3960 non-null object\n",
      "dtypes: int64(1), object(8)\n",
      "memory usage: 278.5+ KB\n"
     ]
    }
   ],
   "source": [
    "job.info()"
   ]
  },
  {
   "cell_type": "code",
   "execution_count": 5,
   "metadata": {
    "scrolled": true
   },
   "outputs": [
    {
     "data": {
      "text/html": [
       "<div>\n",
       "<style scoped>\n",
       "    .dataframe tbody tr th:only-of-type {\n",
       "        vertical-align: middle;\n",
       "    }\n",
       "\n",
       "    .dataframe tbody tr th {\n",
       "        vertical-align: top;\n",
       "    }\n",
       "\n",
       "    .dataframe thead th {\n",
       "        text-align: right;\n",
       "    }\n",
       "</style>\n",
       "<table border=\"1\" class=\"dataframe\">\n",
       "  <thead>\n",
       "    <tr style=\"text-align: right;\">\n",
       "      <th></th>\n",
       "      <th>Unnamed: 0</th>\n",
       "      <th>Job_Id</th>\n",
       "      <th>Job_Title</th>\n",
       "      <th>Company</th>\n",
       "      <th>Date_Posted</th>\n",
       "      <th>Salary</th>\n",
       "      <th>Seniority</th>\n",
       "      <th>Category</th>\n",
       "      <th>Requirements</th>\n",
       "    </tr>\n",
       "  </thead>\n",
       "  <tbody>\n",
       "    <tr>\n",
       "      <th>0</th>\n",
       "      <td>0</td>\n",
       "      <td>[b' JOB-2019-0090219 ']</td>\n",
       "      <td>[b'Data Engineer (5 days, Orchard, $3500-4000)']</td>\n",
       "      <td>[b'MACHSPEED HUMAN RESOURCES PTE. LTD.']</td>\n",
       "      <td>[b'Posted 27 Apr 2019']</td>\n",
       "      <td>['/ $3,500to$4,000/ $3,500/ to$4,000/ Monthly/...</td>\n",
       "      <td>[b'Executive']</td>\n",
       "      <td>[b'Information Technology']</td>\n",
       "      <td>['RequirementsRequirements  Minimum Degree/Dip...</td>\n",
       "    </tr>\n",
       "    <tr>\n",
       "      <th>1</th>\n",
       "      <td>1</td>\n",
       "      <td>[b' JOB-2019-0090314 ']</td>\n",
       "      <td>[b'Customer Engagement Excellence Learning Man...</td>\n",
       "      <td>[b'BAYER (SOUTH EAST ASIA) PTE LTD']</td>\n",
       "      <td>[b'Posted 27 Apr 2019']</td>\n",
       "      <td>['/ $10,400to$15,400/ $10,400/ to$15,400/ Mont...</td>\n",
       "      <td>[b'Manager']</td>\n",
       "      <td>[b'Healthcare / Pharmaceutical']</td>\n",
       "      <td>['Requirements A University / Bachelors degree...</td>\n",
       "    </tr>\n",
       "    <tr>\n",
       "      <th>2</th>\n",
       "      <td>2</td>\n",
       "      <td>[b' JOB-2019-0090256 ']</td>\n",
       "      <td>[b'Manager, Research']</td>\n",
       "      <td>[b'GROUP ONE HOLDINGS PTE. LTD.']</td>\n",
       "      <td>[b'Posted 27 Apr 2019']</td>\n",
       "      <td>['/ $5,000to$8,000/ $5,000/ to$8,000/ Monthly/...</td>\n",
       "      <td>[b'Manager']</td>\n",
       "      <td>[b'Others']</td>\n",
       "      <td>['Requirements·\\xa0\\xa0\\xa0\\xa0\\xa0\\xa0\\xa0A s...</td>\n",
       "    </tr>\n",
       "    <tr>\n",
       "      <th>3</th>\n",
       "      <td>3</td>\n",
       "      <td>[b' JOB-2019-0090319 ']</td>\n",
       "      <td>[b'Head of Research &amp;amp; Evaluation, Asia']</td>\n",
       "      <td>[b'SAVE THE CHILDREN ASIA REGIONAL OFFICE LIMI...</td>\n",
       "      <td>[b'Posted 27 Apr 2019']</td>\n",
       "      <td>['/ $80,000to$140,000/ $80,000/ to$140,000/ An...</td>\n",
       "      <td>[b'Middle Management']</td>\n",
       "      <td>[b'General Management']</td>\n",
       "      <td>['RequirementsQualifications  10 plus years ex...</td>\n",
       "    </tr>\n",
       "    <tr>\n",
       "      <th>4</th>\n",
       "      <td>4</td>\n",
       "      <td>[b' JOB-2019-0090300 ']</td>\n",
       "      <td>[b'IT Systems Adminstrator']</td>\n",
       "      <td>[b'ELIXIR TECHNOLOGY PTE LTD']</td>\n",
       "      <td>[b'Posted 27 Apr 2019']</td>\n",
       "      <td>['/ $2,800to$3,500/ $2,800/ to$3,500/ Monthly/...</td>\n",
       "      <td>[b'Professional']</td>\n",
       "      <td>[b'Information Technology']</td>\n",
       "      <td>[\"Requirements Bachelor's Degree in Computer S...</td>\n",
       "    </tr>\n",
       "  </tbody>\n",
       "</table>\n",
       "</div>"
      ],
      "text/plain": [
       "   Unnamed: 0                   Job_Id  \\\n",
       "0           0  [b' JOB-2019-0090219 ']   \n",
       "1           1  [b' JOB-2019-0090314 ']   \n",
       "2           2  [b' JOB-2019-0090256 ']   \n",
       "3           3  [b' JOB-2019-0090319 ']   \n",
       "4           4  [b' JOB-2019-0090300 ']   \n",
       "\n",
       "                                           Job_Title  \\\n",
       "0   [b'Data Engineer (5 days, Orchard, $3500-4000)']   \n",
       "1  [b'Customer Engagement Excellence Learning Man...   \n",
       "2                             [b'Manager, Research']   \n",
       "3       [b'Head of Research &amp; Evaluation, Asia']   \n",
       "4                       [b'IT Systems Adminstrator']   \n",
       "\n",
       "                                             Company              Date_Posted  \\\n",
       "0           [b'MACHSPEED HUMAN RESOURCES PTE. LTD.']  [b'Posted 27 Apr 2019']   \n",
       "1               [b'BAYER (SOUTH EAST ASIA) PTE LTD']  [b'Posted 27 Apr 2019']   \n",
       "2                  [b'GROUP ONE HOLDINGS PTE. LTD.']  [b'Posted 27 Apr 2019']   \n",
       "3  [b'SAVE THE CHILDREN ASIA REGIONAL OFFICE LIMI...  [b'Posted 27 Apr 2019']   \n",
       "4                     [b'ELIXIR TECHNOLOGY PTE LTD']  [b'Posted 27 Apr 2019']   \n",
       "\n",
       "                                              Salary               Seniority  \\\n",
       "0  ['/ $3,500to$4,000/ $3,500/ to$4,000/ Monthly/...          [b'Executive']   \n",
       "1  ['/ $10,400to$15,400/ $10,400/ to$15,400/ Mont...            [b'Manager']   \n",
       "2  ['/ $5,000to$8,000/ $5,000/ to$8,000/ Monthly/...            [b'Manager']   \n",
       "3  ['/ $80,000to$140,000/ $80,000/ to$140,000/ An...  [b'Middle Management']   \n",
       "4  ['/ $2,800to$3,500/ $2,800/ to$3,500/ Monthly/...       [b'Professional']   \n",
       "\n",
       "                           Category  \\\n",
       "0       [b'Information Technology']   \n",
       "1  [b'Healthcare / Pharmaceutical']   \n",
       "2                       [b'Others']   \n",
       "3           [b'General Management']   \n",
       "4       [b'Information Technology']   \n",
       "\n",
       "                                        Requirements  \n",
       "0  ['RequirementsRequirements  Minimum Degree/Dip...  \n",
       "1  ['Requirements A University / Bachelors degree...  \n",
       "2  ['Requirements·\\xa0\\xa0\\xa0\\xa0\\xa0\\xa0\\xa0A s...  \n",
       "3  ['RequirementsQualifications  10 plus years ex...  \n",
       "4  [\"Requirements Bachelor's Degree in Computer S...  "
      ]
     },
     "execution_count": 5,
     "metadata": {},
     "output_type": "execute_result"
    }
   ],
   "source": [
    "job.head()"
   ]
  },
  {
   "cell_type": "code",
   "execution_count": 6,
   "metadata": {},
   "outputs": [
    {
     "data": {
      "text/plain": [
       "(3932, 7)"
      ]
     },
     "execution_count": 6,
     "metadata": {},
     "output_type": "execute_result"
    }
   ],
   "source": [
    "job_clean = job.drop_duplicates(subset='Job_Id', keep='first') #remove duplicate based on Job ID\n",
    "\n",
    "#drop job Id as it is only use to remove duplicates\n",
    "job_clean = job_clean.drop(columns=['Job_Id','Unnamed: 0'])\n",
    "job_clean.shape"
   ]
  },
  {
   "cell_type": "code",
   "execution_count": 7,
   "metadata": {},
   "outputs": [
    {
     "data": {
      "text/html": [
       "<div>\n",
       "<style scoped>\n",
       "    .dataframe tbody tr th:only-of-type {\n",
       "        vertical-align: middle;\n",
       "    }\n",
       "\n",
       "    .dataframe tbody tr th {\n",
       "        vertical-align: top;\n",
       "    }\n",
       "\n",
       "    .dataframe thead th {\n",
       "        text-align: right;\n",
       "    }\n",
       "</style>\n",
       "<table border=\"1\" class=\"dataframe\">\n",
       "  <thead>\n",
       "    <tr style=\"text-align: right;\">\n",
       "      <th></th>\n",
       "      <th>Job_Title</th>\n",
       "      <th>Company</th>\n",
       "      <th>Date_Posted</th>\n",
       "      <th>Salary</th>\n",
       "      <th>Seniority</th>\n",
       "      <th>Category</th>\n",
       "      <th>Requirements</th>\n",
       "    </tr>\n",
       "  </thead>\n",
       "  <tbody>\n",
       "    <tr>\n",
       "      <th>0</th>\n",
       "      <td>Data Engineer (5 days, Orchard, $3500-4000)</td>\n",
       "      <td>MACHSPEED HUMAN RESOURCES PTE. LTD.</td>\n",
       "      <td>Posted 27 Apr 2019</td>\n",
       "      <td>/ $3,500to$4,000/ $3,500/ to$4,000/ Monthly/ C...</td>\n",
       "      <td>Executive</td>\n",
       "      <td>Information Technology</td>\n",
       "      <td>Minimum Degree/Diploma in Computer Science, ...</td>\n",
       "    </tr>\n",
       "    <tr>\n",
       "      <th>1</th>\n",
       "      <td>Customer Engagement Excellence Learning Manager</td>\n",
       "      <td>BAYER (SOUTH EAST ASIA) PTE LTD</td>\n",
       "      <td>Posted 27 Apr 2019</td>\n",
       "      <td>/ $10,400to$15,400/ $10,400/ to$15,400/ Monthl...</td>\n",
       "      <td>Manager</td>\n",
       "      <td>Healthcare / Pharmaceutical</td>\n",
       "      <td>A University / Bachelors degree holder in app...</td>\n",
       "    </tr>\n",
       "    <tr>\n",
       "      <th>2</th>\n",
       "      <td>Manager, Research</td>\n",
       "      <td>GROUP ONE HOLDINGS PTE. LTD.</td>\n",
       "      <td>Posted 27 Apr 2019</td>\n",
       "      <td>/ $5,000to$8,000/ $5,000/ to$8,000/ Monthly/ C...</td>\n",
       "      <td>Manager</td>\n",
       "      <td>Others</td>\n",
       "      <td>·A smart communicator, a team player with proa...</td>\n",
       "    </tr>\n",
       "    <tr>\n",
       "      <th>3</th>\n",
       "      <td>Head of Research &amp; Evaluation, Asia</td>\n",
       "      <td>SAVE THE CHILDREN ASIA REGIONAL OFFICE LIMITED</td>\n",
       "      <td>Posted 27 Apr 2019</td>\n",
       "      <td>/ $80,000to$140,000/ $80,000/ to$140,000/ Annu...</td>\n",
       "      <td>Middle Management</td>\n",
       "      <td>General Management</td>\n",
       "      <td>Qualifications  10 plus years expertise and do...</td>\n",
       "    </tr>\n",
       "    <tr>\n",
       "      <th>4</th>\n",
       "      <td>IT Systems Adminstrator</td>\n",
       "      <td>ELIXIR TECHNOLOGY PTE LTD</td>\n",
       "      <td>Posted 27 Apr 2019</td>\n",
       "      <td>/ $2,800to$3,500/ $2,800/ to$3,500/ Monthly/ C...</td>\n",
       "      <td>Professional</td>\n",
       "      <td>Information Technology</td>\n",
       "      <td>\" Bachelors Degree in Computer Science, Comput...</td>\n",
       "    </tr>\n",
       "  </tbody>\n",
       "</table>\n",
       "</div>"
      ],
      "text/plain": [
       "                                         Job_Title  \\\n",
       "0      Data Engineer (5 days, Orchard, $3500-4000)   \n",
       "1  Customer Engagement Excellence Learning Manager   \n",
       "2                                Manager, Research   \n",
       "3              Head of Research & Evaluation, Asia   \n",
       "4                          IT Systems Adminstrator   \n",
       "\n",
       "                                          Company         Date_Posted  \\\n",
       "0             MACHSPEED HUMAN RESOURCES PTE. LTD.  Posted 27 Apr 2019   \n",
       "1                 BAYER (SOUTH EAST ASIA) PTE LTD  Posted 27 Apr 2019   \n",
       "2                    GROUP ONE HOLDINGS PTE. LTD.  Posted 27 Apr 2019   \n",
       "3  SAVE THE CHILDREN ASIA REGIONAL OFFICE LIMITED  Posted 27 Apr 2019   \n",
       "4                       ELIXIR TECHNOLOGY PTE LTD  Posted 27 Apr 2019   \n",
       "\n",
       "                                              Salary          Seniority  \\\n",
       "0  / $3,500to$4,000/ $3,500/ to$4,000/ Monthly/ C...          Executive   \n",
       "1  / $10,400to$15,400/ $10,400/ to$15,400/ Monthl...            Manager   \n",
       "2  / $5,000to$8,000/ $5,000/ to$8,000/ Monthly/ C...            Manager   \n",
       "3  / $80,000to$140,000/ $80,000/ to$140,000/ Annu...  Middle Management   \n",
       "4  / $2,800to$3,500/ $2,800/ to$3,500/ Monthly/ C...       Professional   \n",
       "\n",
       "                      Category  \\\n",
       "0       Information Technology   \n",
       "1  Healthcare / Pharmaceutical   \n",
       "2                       Others   \n",
       "3           General Management   \n",
       "4       Information Technology   \n",
       "\n",
       "                                        Requirements  \n",
       "0    Minimum Degree/Diploma in Computer Science, ...  \n",
       "1   A University / Bachelors degree holder in app...  \n",
       "2  ·A smart communicator, a team player with proa...  \n",
       "3  Qualifications  10 plus years expertise and do...  \n",
       "4  \" Bachelors Degree in Computer Science, Comput...  "
      ]
     },
     "execution_count": 7,
     "metadata": {},
     "output_type": "execute_result"
    }
   ],
   "source": [
    "for col in job_clean.columns:\n",
    "    job_clean[col]=job_clean[col].str.replace(\"(\\[|\\]|b'|Requirements|'|amp;|xa0|\\\\\\|\\|xe2x80x93)\", \"\")\n",
    "job_clean.head()"
   ]
  },
  {
   "cell_type": "code",
   "execution_count": 8,
   "metadata": {},
   "outputs": [
    {
     "data": {
      "text/html": [
       "<div>\n",
       "<style scoped>\n",
       "    .dataframe tbody tr th:only-of-type {\n",
       "        vertical-align: middle;\n",
       "    }\n",
       "\n",
       "    .dataframe tbody tr th {\n",
       "        vertical-align: top;\n",
       "    }\n",
       "\n",
       "    .dataframe thead th {\n",
       "        text-align: right;\n",
       "    }\n",
       "</style>\n",
       "<table border=\"1\" class=\"dataframe\">\n",
       "  <thead>\n",
       "    <tr style=\"text-align: right;\">\n",
       "      <th></th>\n",
       "      <th>Job_Title</th>\n",
       "      <th>Company</th>\n",
       "      <th>Date_Posted</th>\n",
       "      <th>Salary</th>\n",
       "      <th>Seniority</th>\n",
       "      <th>Category</th>\n",
       "      <th>Requirements</th>\n",
       "    </tr>\n",
       "  </thead>\n",
       "  <tbody>\n",
       "    <tr>\n",
       "      <th>27</th>\n",
       "      <td></td>\n",
       "      <td></td>\n",
       "      <td></td>\n",
       "      <td></td>\n",
       "      <td></td>\n",
       "      <td></td>\n",
       "      <td></td>\n",
       "    </tr>\n",
       "  </tbody>\n",
       "</table>\n",
       "</div>"
      ],
      "text/plain": [
       "   Job_Title Company Date_Posted Salary Seniority Category Requirements\n",
       "27                                                                     "
      ]
     },
     "execution_count": 8,
     "metadata": {},
     "output_type": "execute_result"
    }
   ],
   "source": [
    "#check for row with missing job title\n",
    "job_clean[job_clean['Job_Title'] == '']"
   ]
  },
  {
   "cell_type": "code",
   "execution_count": 9,
   "metadata": {},
   "outputs": [],
   "source": [
    "empty = job_clean['Job_Title'] == ''"
   ]
  },
  {
   "cell_type": "code",
   "execution_count": 10,
   "metadata": {},
   "outputs": [],
   "source": [
    "#remove row without job title\n",
    "job_clean = job_clean[~empty]"
   ]
  },
  {
   "cell_type": "code",
   "execution_count": 11,
   "metadata": {},
   "outputs": [],
   "source": [
    "#remove row without salary\n",
    "no_salary = job_clean['Salary'].str.contains('Salary undisclosed')"
   ]
  },
  {
   "cell_type": "code",
   "execution_count": 12,
   "metadata": {},
   "outputs": [],
   "source": [
    "job_clean_df = job_clean[~no_salary]"
   ]
  },
  {
   "cell_type": "code",
   "execution_count": 13,
   "metadata": {},
   "outputs": [],
   "source": [
    "#extract salary into min/max/type category\n",
    "salary_range = job_clean_df[\"Salary\"].str.split(\"/\", n = 5, expand = True) "
   ]
  },
  {
   "cell_type": "code",
   "execution_count": 14,
   "metadata": {},
   "outputs": [
    {
     "data": {
      "text/html": [
       "<div>\n",
       "<style scoped>\n",
       "    .dataframe tbody tr th:only-of-type {\n",
       "        vertical-align: middle;\n",
       "    }\n",
       "\n",
       "    .dataframe tbody tr th {\n",
       "        vertical-align: top;\n",
       "    }\n",
       "\n",
       "    .dataframe thead th {\n",
       "        text-align: right;\n",
       "    }\n",
       "</style>\n",
       "<table border=\"1\" class=\"dataframe\">\n",
       "  <thead>\n",
       "    <tr style=\"text-align: right;\">\n",
       "      <th></th>\n",
       "      <th>0</th>\n",
       "      <th>1</th>\n",
       "      <th>2</th>\n",
       "      <th>3</th>\n",
       "      <th>4</th>\n",
       "      <th>5</th>\n",
       "    </tr>\n",
       "  </thead>\n",
       "  <tbody>\n",
       "    <tr>\n",
       "      <th>0</th>\n",
       "      <td></td>\n",
       "      <td>$3,500to$4,000</td>\n",
       "      <td>$3,500</td>\n",
       "      <td>to$4,000</td>\n",
       "      <td>Monthly</td>\n",
       "      <td>Closing on 27 May 2019</td>\n",
       "    </tr>\n",
       "    <tr>\n",
       "      <th>1</th>\n",
       "      <td></td>\n",
       "      <td>$10,400to$15,400</td>\n",
       "      <td>$10,400</td>\n",
       "      <td>to$15,400</td>\n",
       "      <td>Monthly</td>\n",
       "      <td>Closing on 12 May 2019</td>\n",
       "    </tr>\n",
       "    <tr>\n",
       "      <th>2</th>\n",
       "      <td></td>\n",
       "      <td>$5,000to$8,000</td>\n",
       "      <td>$5,000</td>\n",
       "      <td>to$8,000</td>\n",
       "      <td>Monthly</td>\n",
       "      <td>Closing on 27 May 2019</td>\n",
       "    </tr>\n",
       "    <tr>\n",
       "      <th>3</th>\n",
       "      <td></td>\n",
       "      <td>$80,000to$140,000</td>\n",
       "      <td>$80,000</td>\n",
       "      <td>to$140,000</td>\n",
       "      <td>Annually</td>\n",
       "      <td>Closing on 11 May 2019</td>\n",
       "    </tr>\n",
       "    <tr>\n",
       "      <th>4</th>\n",
       "      <td></td>\n",
       "      <td>$2,800to$3,500</td>\n",
       "      <td>$2,800</td>\n",
       "      <td>to$3,500</td>\n",
       "      <td>Monthly</td>\n",
       "      <td>Closing on 27 May 2019</td>\n",
       "    </tr>\n",
       "  </tbody>\n",
       "</table>\n",
       "</div>"
      ],
      "text/plain": [
       "  0                   1         2            3          4  \\\n",
       "0        $3,500to$4,000    $3,500     to$4,000    Monthly   \n",
       "1      $10,400to$15,400   $10,400    to$15,400    Monthly   \n",
       "2        $5,000to$8,000    $5,000     to$8,000    Monthly   \n",
       "3     $80,000to$140,000   $80,000   to$140,000   Annually   \n",
       "4        $2,800to$3,500    $2,800     to$3,500    Monthly   \n",
       "\n",
       "                         5  \n",
       "0   Closing on 27 May 2019  \n",
       "1   Closing on 12 May 2019  \n",
       "2   Closing on 27 May 2019  \n",
       "3   Closing on 11 May 2019  \n",
       "4   Closing on 27 May 2019  "
      ]
     },
     "execution_count": 14,
     "metadata": {},
     "output_type": "execute_result"
    }
   ],
   "source": [
    "salary_range.head()"
   ]
  },
  {
   "cell_type": "code",
   "execution_count": 15,
   "metadata": {},
   "outputs": [],
   "source": [
    "salary_range = salary_range.rename({0:'recruiter',1:'range', 2:'min', 3:'max', 4:'type'}, axis='columns')"
   ]
  },
  {
   "cell_type": "code",
   "execution_count": 16,
   "metadata": {},
   "outputs": [],
   "source": [
    "min_max = salary_range['range'].str.split('to', n=2, expand = True)"
   ]
  },
  {
   "cell_type": "code",
   "execution_count": 17,
   "metadata": {},
   "outputs": [],
   "source": [
    "min_max = min_max.rename({0:'sal_min', 1:'sal_max'}, axis='columns')"
   ]
  },
  {
   "cell_type": "code",
   "execution_count": 18,
   "metadata": {},
   "outputs": [],
   "source": [
    "salary_range = pd.concat([salary_range, min_max], axis=1)"
   ]
  },
  {
   "cell_type": "code",
   "execution_count": 19,
   "metadata": {},
   "outputs": [
    {
     "data": {
      "text/plain": [
       "(3472, 8)"
      ]
     },
     "execution_count": 19,
     "metadata": {},
     "output_type": "execute_result"
    }
   ],
   "source": [
    "salary_range.shape"
   ]
  },
  {
   "cell_type": "code",
   "execution_count": 20,
   "metadata": {},
   "outputs": [
    {
     "data": {
      "text/html": [
       "<div>\n",
       "<style scoped>\n",
       "    .dataframe tbody tr th:only-of-type {\n",
       "        vertical-align: middle;\n",
       "    }\n",
       "\n",
       "    .dataframe tbody tr th {\n",
       "        vertical-align: top;\n",
       "    }\n",
       "\n",
       "    .dataframe thead th {\n",
       "        text-align: right;\n",
       "    }\n",
       "</style>\n",
       "<table border=\"1\" class=\"dataframe\">\n",
       "  <thead>\n",
       "    <tr style=\"text-align: right;\">\n",
       "      <th></th>\n",
       "      <th>recruiter</th>\n",
       "      <th>range</th>\n",
       "      <th>min</th>\n",
       "      <th>max</th>\n",
       "      <th>type</th>\n",
       "      <th>5</th>\n",
       "      <th>sal_min</th>\n",
       "      <th>sal_max</th>\n",
       "    </tr>\n",
       "  </thead>\n",
       "  <tbody>\n",
       "    <tr>\n",
       "      <th>0</th>\n",
       "      <td></td>\n",
       "      <td>35004000</td>\n",
       "      <td>3500</td>\n",
       "      <td>4000</td>\n",
       "      <td>Monthly</td>\n",
       "      <td>Closing on 27 May 2019</td>\n",
       "      <td>3500</td>\n",
       "      <td>4000</td>\n",
       "    </tr>\n",
       "    <tr>\n",
       "      <th>1</th>\n",
       "      <td></td>\n",
       "      <td>1040015400</td>\n",
       "      <td>10400</td>\n",
       "      <td>15400</td>\n",
       "      <td>Monthly</td>\n",
       "      <td>Closing on 12 May 2019</td>\n",
       "      <td>10400</td>\n",
       "      <td>15400</td>\n",
       "    </tr>\n",
       "    <tr>\n",
       "      <th>2</th>\n",
       "      <td></td>\n",
       "      <td>50008000</td>\n",
       "      <td>5000</td>\n",
       "      <td>8000</td>\n",
       "      <td>Monthly</td>\n",
       "      <td>Closing on 27 May 2019</td>\n",
       "      <td>5000</td>\n",
       "      <td>8000</td>\n",
       "    </tr>\n",
       "    <tr>\n",
       "      <th>3</th>\n",
       "      <td></td>\n",
       "      <td>80000140000</td>\n",
       "      <td>80000</td>\n",
       "      <td>140000</td>\n",
       "      <td>Annually</td>\n",
       "      <td>Closing on 11 May 2019</td>\n",
       "      <td>80000</td>\n",
       "      <td>140000</td>\n",
       "    </tr>\n",
       "    <tr>\n",
       "      <th>4</th>\n",
       "      <td></td>\n",
       "      <td>28003500</td>\n",
       "      <td>2800</td>\n",
       "      <td>3500</td>\n",
       "      <td>Monthly</td>\n",
       "      <td>Closing on 27 May 2019</td>\n",
       "      <td>2800</td>\n",
       "      <td>3500</td>\n",
       "    </tr>\n",
       "  </tbody>\n",
       "</table>\n",
       "</div>"
      ],
      "text/plain": [
       "  recruiter         range     min      max       type  \\\n",
       "0                35004000    3500     4000    Monthly   \n",
       "1              1040015400   10400    15400    Monthly   \n",
       "2                50008000    5000     8000    Monthly   \n",
       "3             80000140000   80000   140000   Annually   \n",
       "4                28003500    2800     3500    Monthly   \n",
       "\n",
       "                         5 sal_min sal_max  \n",
       "0   Closing on 27 May 2019    3500    4000  \n",
       "1   Closing on 12 May 2019   10400   15400  \n",
       "2   Closing on 27 May 2019    5000    8000  \n",
       "3   Closing on 11 May 2019   80000  140000  \n",
       "4   Closing on 27 May 2019    2800    3500  "
      ]
     },
     "execution_count": 20,
     "metadata": {},
     "output_type": "execute_result"
    }
   ],
   "source": [
    "#removed $ and 'to' from salary \n",
    "for col in salary_range.columns:\n",
    "    salary_range[col]=salary_range[col].str.replace('(\\$|,|to)', '')\n",
    "salary_range.head()"
   ]
  },
  {
   "cell_type": "code",
   "execution_count": 21,
   "metadata": {},
   "outputs": [
    {
     "data": {
      "text/html": [
       "<div>\n",
       "<style scoped>\n",
       "    .dataframe tbody tr th:only-of-type {\n",
       "        vertical-align: middle;\n",
       "    }\n",
       "\n",
       "    .dataframe tbody tr th {\n",
       "        vertical-align: top;\n",
       "    }\n",
       "\n",
       "    .dataframe thead th {\n",
       "        text-align: right;\n",
       "    }\n",
       "</style>\n",
       "<table border=\"1\" class=\"dataframe\">\n",
       "  <thead>\n",
       "    <tr style=\"text-align: right;\">\n",
       "      <th></th>\n",
       "      <th>recruiter</th>\n",
       "      <th>range</th>\n",
       "      <th>min</th>\n",
       "      <th>max</th>\n",
       "      <th>type</th>\n",
       "      <th>5</th>\n",
       "      <th>sal_min</th>\n",
       "      <th>sal_max</th>\n",
       "    </tr>\n",
       "  </thead>\n",
       "  <tbody>\n",
       "    <tr>\n",
       "      <th>53</th>\n",
       "      <td>via Recruiter</td>\n",
       "      <td></td>\n",
       "      <td>25003200</td>\n",
       "      <td>2500</td>\n",
       "      <td>3200</td>\n",
       "      <td>Monthly/ Closing on 26 May 2019</td>\n",
       "      <td></td>\n",
       "      <td>None</td>\n",
       "    </tr>\n",
       "    <tr>\n",
       "      <th>72</th>\n",
       "      <td>Recruiter</td>\n",
       "      <td></td>\n",
       "      <td>30005000</td>\n",
       "      <td>3000</td>\n",
       "      <td>5000</td>\n",
       "      <td>Monthly/ Closing on 26 May 2019</td>\n",
       "      <td></td>\n",
       "      <td>None</td>\n",
       "    </tr>\n",
       "    <tr>\n",
       "      <th>96</th>\n",
       "      <td>via Recruiter</td>\n",
       "      <td></td>\n",
       "      <td>18002600</td>\n",
       "      <td>1800</td>\n",
       "      <td>2600</td>\n",
       "      <td>Monthly/ Closing on 26 May 2019</td>\n",
       "      <td></td>\n",
       "      <td>None</td>\n",
       "    </tr>\n",
       "    <tr>\n",
       "      <th>99</th>\n",
       "      <td>via Recruiter</td>\n",
       "      <td></td>\n",
       "      <td>63006800</td>\n",
       "      <td>6300</td>\n",
       "      <td>6800</td>\n",
       "      <td>Monthly/ Closing on 26 May 2019</td>\n",
       "      <td></td>\n",
       "      <td>None</td>\n",
       "    </tr>\n",
       "    <tr>\n",
       "      <th>103</th>\n",
       "      <td>via Recruiter</td>\n",
       "      <td></td>\n",
       "      <td>780012200</td>\n",
       "      <td>7800</td>\n",
       "      <td>12200</td>\n",
       "      <td>Monthly/ Closing on 10 May 2019</td>\n",
       "      <td></td>\n",
       "      <td>None</td>\n",
       "    </tr>\n",
       "  </tbody>\n",
       "</table>\n",
       "</div>"
      ],
      "text/plain": [
       "         recruiter range         min    max    type  \\\n",
       "53   via Recruiter          25003200   2500    3200   \n",
       "72       Recruiter          30005000   3000    5000   \n",
       "96   via Recruiter          18002600   1800    2600   \n",
       "99   via Recruiter          63006800   6300    6800   \n",
       "103  via Recruiter         780012200   7800   12200   \n",
       "\n",
       "                                    5 sal_min sal_max  \n",
       "53    Monthly/ Closing on 26 May 2019            None  \n",
       "72    Monthly/ Closing on 26 May 2019            None  \n",
       "96    Monthly/ Closing on 26 May 2019            None  \n",
       "99    Monthly/ Closing on 26 May 2019            None  \n",
       "103   Monthly/ Closing on 10 May 2019            None  "
      ]
     },
     "execution_count": 21,
     "metadata": {},
     "output_type": "execute_result"
    }
   ],
   "source": [
    "#data from job posted by recruiter are shifted to the right\n",
    "#salary min falls under max and salary max falls under type\n",
    "salary_range[salary_range['recruiter'].str.contains('Recruiter')].head()"
   ]
  },
  {
   "cell_type": "code",
   "execution_count": 22,
   "metadata": {},
   "outputs": [],
   "source": [
    "#adjust salary min and max for recruiter data\n",
    "salary_range.loc[salary_range['recruiter'].str.contains('Recruiter'), 'sal_min'] = salary_range['max']\n",
    "salary_range.loc[salary_range['recruiter'].str.contains('Recruiter'), 'sal_max'] = salary_range['type']"
   ]
  },
  {
   "cell_type": "code",
   "execution_count": 23,
   "metadata": {},
   "outputs": [],
   "source": [
    "#convert from ojbect to float \n",
    "salary_range['sal_min'] = salary_range['sal_min'].astype('float64')\n",
    "salary_range['sal_max'] = salary_range['sal_max'].astype('float64')"
   ]
  },
  {
   "cell_type": "code",
   "execution_count": 24,
   "metadata": {},
   "outputs": [
    {
     "data": {
      "text/html": [
       "<div>\n",
       "<style scoped>\n",
       "    .dataframe tbody tr th:only-of-type {\n",
       "        vertical-align: middle;\n",
       "    }\n",
       "\n",
       "    .dataframe tbody tr th {\n",
       "        vertical-align: top;\n",
       "    }\n",
       "\n",
       "    .dataframe thead th {\n",
       "        text-align: right;\n",
       "    }\n",
       "</style>\n",
       "<table border=\"1\" class=\"dataframe\">\n",
       "  <thead>\n",
       "    <tr style=\"text-align: right;\">\n",
       "      <th></th>\n",
       "      <th>sal_min</th>\n",
       "      <th>sal_max</th>\n",
       "    </tr>\n",
       "  </thead>\n",
       "  <tbody>\n",
       "    <tr>\n",
       "      <th>count</th>\n",
       "      <td>3472.000000</td>\n",
       "      <td>3472.000000</td>\n",
       "    </tr>\n",
       "    <tr>\n",
       "      <th>mean</th>\n",
       "      <td>7215.020449</td>\n",
       "      <td>11079.663882</td>\n",
       "    </tr>\n",
       "    <tr>\n",
       "      <th>std</th>\n",
       "      <td>15684.739939</td>\n",
       "      <td>23760.781468</td>\n",
       "    </tr>\n",
       "    <tr>\n",
       "      <th>min</th>\n",
       "      <td>1.000000</td>\n",
       "      <td>2.000000</td>\n",
       "    </tr>\n",
       "    <tr>\n",
       "      <th>25%</th>\n",
       "      <td>2800.000000</td>\n",
       "      <td>4000.000000</td>\n",
       "    </tr>\n",
       "    <tr>\n",
       "      <th>50%</th>\n",
       "      <td>4100.000000</td>\n",
       "      <td>6800.000000</td>\n",
       "    </tr>\n",
       "    <tr>\n",
       "      <th>75%</th>\n",
       "      <td>6500.000000</td>\n",
       "      <td>10000.000000</td>\n",
       "    </tr>\n",
       "    <tr>\n",
       "      <th>max</th>\n",
       "      <td>280000.000000</td>\n",
       "      <td>405000.000000</td>\n",
       "    </tr>\n",
       "  </tbody>\n",
       "</table>\n",
       "</div>"
      ],
      "text/plain": [
       "             sal_min        sal_max\n",
       "count    3472.000000    3472.000000\n",
       "mean     7215.020449   11079.663882\n",
       "std     15684.739939   23760.781468\n",
       "min         1.000000       2.000000\n",
       "25%      2800.000000    4000.000000\n",
       "50%      4100.000000    6800.000000\n",
       "75%      6500.000000   10000.000000\n",
       "max    280000.000000  405000.000000"
      ]
     },
     "execution_count": 24,
     "metadata": {},
     "output_type": "execute_result"
    }
   ],
   "source": [
    "salary_range.describe()"
   ]
  },
  {
   "cell_type": "code",
   "execution_count": 25,
   "metadata": {},
   "outputs": [],
   "source": [
    "abovemean = 3*np.mean(salary_range['sal_min'])"
   ]
  },
  {
   "cell_type": "code",
   "execution_count": 26,
   "metadata": {},
   "outputs": [
    {
     "data": {
      "text/html": [
       "<div>\n",
       "<style scoped>\n",
       "    .dataframe tbody tr th:only-of-type {\n",
       "        vertical-align: middle;\n",
       "    }\n",
       "\n",
       "    .dataframe tbody tr th {\n",
       "        vertical-align: top;\n",
       "    }\n",
       "\n",
       "    .dataframe thead th {\n",
       "        text-align: right;\n",
       "    }\n",
       "</style>\n",
       "<table border=\"1\" class=\"dataframe\">\n",
       "  <thead>\n",
       "    <tr style=\"text-align: right;\">\n",
       "      <th></th>\n",
       "      <th>recruiter</th>\n",
       "      <th>range</th>\n",
       "      <th>min</th>\n",
       "      <th>max</th>\n",
       "      <th>type</th>\n",
       "      <th>5</th>\n",
       "      <th>sal_min</th>\n",
       "      <th>sal_max</th>\n",
       "    </tr>\n",
       "  </thead>\n",
       "  <tbody>\n",
       "    <tr>\n",
       "      <th>428</th>\n",
       "      <td>Recruiter</td>\n",
       "      <td></td>\n",
       "      <td>110000180000</td>\n",
       "      <td>110000</td>\n",
       "      <td>180000</td>\n",
       "      <td>Annually/ Closing on 24 May 2019</td>\n",
       "      <td>110000.0</td>\n",
       "      <td>180000.0</td>\n",
       "    </tr>\n",
       "    <tr>\n",
       "      <th>1859</th>\n",
       "      <td>Recruiter</td>\n",
       "      <td></td>\n",
       "      <td>7000080000</td>\n",
       "      <td>70000</td>\n",
       "      <td>80000</td>\n",
       "      <td>Annually/ Closing on 15 May 2019</td>\n",
       "      <td>70000.0</td>\n",
       "      <td>80000.0</td>\n",
       "    </tr>\n",
       "  </tbody>\n",
       "</table>\n",
       "</div>"
      ],
      "text/plain": [
       "      recruiter range            min      max     type  \\\n",
       "428   Recruiter         110000180000   110000   180000   \n",
       "1859  Recruiter           7000080000    70000    80000   \n",
       "\n",
       "                                      5   sal_min   sal_max  \n",
       "428    Annually/ Closing on 24 May 2019  110000.0  180000.0  \n",
       "1859   Annually/ Closing on 15 May 2019   70000.0   80000.0  "
      ]
     },
     "execution_count": 26,
     "metadata": {},
     "output_type": "execute_result"
    }
   ],
   "source": [
    "salary_range[((salary_range['recruiter'].str.contains('Recruiter')) & (salary_range['sal_min'] > abovemean))]"
   ]
  },
  {
   "cell_type": "code",
   "execution_count": 27,
   "metadata": {},
   "outputs": [],
   "source": [
    "#assume sal_min 3x above mean is Annually type of salary the rest are Monthly type\n",
    "salary_range.loc[((salary_range['recruiter'].str.contains('Recruiter')) & (salary_range['sal_min'] > abovemean)), 'type'] = ' Annually'\n",
    "salary_range.loc[((salary_range['recruiter'].str.contains('Recruiter')) & (salary_range['sal_min'] < abovemean)), 'type'] = ' Monthly'"
   ]
  },
  {
   "cell_type": "code",
   "execution_count": 28,
   "metadata": {},
   "outputs": [],
   "source": [
    "#only keep relevent columns before merge back\n",
    "salary_range = salary_range.drop(columns=['range','min','max',5])"
   ]
  },
  {
   "cell_type": "code",
   "execution_count": 29,
   "metadata": {},
   "outputs": [],
   "source": [
    "job_df = pd.concat([job_clean_df, salary_range], axis=1)"
   ]
  },
  {
   "cell_type": "code",
   "execution_count": 30,
   "metadata": {},
   "outputs": [],
   "source": [
    "#drop original salary columns and job date due to feature not useful for prediction\n",
    "job_df = job_df.drop(columns=['Date_Posted','Salary','recruiter'])"
   ]
  },
  {
   "cell_type": "code",
   "execution_count": 31,
   "metadata": {},
   "outputs": [],
   "source": [
    "#assuming typo for sal_max 10 times more than sal_min. To correct value by sal_max divided by 10\n",
    "job_df.loc[(job_df['sal_max']>10*job_df['sal_min']), 'sal_max'] = job_df['sal_max']/10"
   ]
  },
  {
   "cell_type": "code",
   "execution_count": 32,
   "metadata": {},
   "outputs": [],
   "source": [
    "#standardize all salary type to Monthly\n",
    "job_df.loc[job_df['type'].str.contains(' Annually'), 'sal_min'] = round(job_df['sal_min']/12)\n",
    "job_df.loc[job_df['type'].str.contains(' Annually'), 'sal_max'] = round(job_df['sal_max']/12)\n",
    "job_df = job_df.drop(columns='type')"
   ]
  },
  {
   "cell_type": "code",
   "execution_count": 33,
   "metadata": {},
   "outputs": [],
   "source": [
    "col = job_df.columns"
   ]
  },
  {
   "cell_type": "code",
   "execution_count": 34,
   "metadata": {},
   "outputs": [],
   "source": [
    "#further remove job with same data from all columns\n",
    "job_df = job_df.drop_duplicates(subset=col, keep='first')"
   ]
  },
  {
   "cell_type": "code",
   "execution_count": 35,
   "metadata": {},
   "outputs": [],
   "source": [
    "#further filter on job title with specific data job keywords\n",
    "title_key = ['DATA', 'MACHINE','ANALYST','MACHINE LEARNING','ANALYTICS','DEEP LEARNING','RESEARCH','NLP']\n",
    "key = '|'.join(title_key)\n",
    "data_job = job_df['Job_Title'].str.upper().str.contains(key)\n",
    "job_df = job_df[data_job]"
   ]
  },
  {
   "cell_type": "code",
   "execution_count": 36,
   "metadata": {},
   "outputs": [],
   "source": [
    "#to drop job with max salary less than 2000, assuming data entry/admin/operator job\n",
    "mask_low = job_df['sal_max']<=2000\n",
    "job_df = job_df[~mask_low]"
   ]
  },
  {
   "cell_type": "code",
   "execution_count": 37,
   "metadata": {},
   "outputs": [
    {
     "data": {
      "text/plain": [
       "<matplotlib.axes._subplots.AxesSubplot at 0x1a173cbc18>"
      ]
     },
     "execution_count": 37,
     "metadata": {},
     "output_type": "execute_result"
    },
    {
     "data": {
      "image/png": "[encoded data removed]",
      "text/plain": [
       "<Figure size 432x288 with 1 Axes>"
      ]
     },
     "metadata": {
      "image/png": {
       "height": 260,
       "width": 390
      },
      "needs_background": "light"
     },
     "output_type": "display_data"
    }
   ],
   "source": [
    "sns.boxplot(job_df['sal_max'])"
   ]
  },
  {
   "cell_type": "code",
   "execution_count": 38,
   "metadata": {},
   "outputs": [
    {
     "name": "stderr",
     "output_type": "stream",
     "text": [
      "/anaconda3/lib/python3.7/site-packages/scipy/stats/stats.py:1713: FutureWarning: Using a non-tuple sequence for multidimensional indexing is deprecated; use `arr[tuple(seq)]` instead of `arr[seq]`. In the future this will be interpreted as an array index, `arr[np.array(seq)]`, which will result either in an error or a different result.\n",
      "  return np.add.reduce(sorted[indexer] * weights, axis=axis) / sumval\n"
     ]
    },
    {
     "data": {
      "image/png": "[encoded data removed]",
      "text/plain": [
       "<Figure size 432x288 with 1 Axes>"
      ]
     },
     "metadata": {
      "image/png": {
       "height": 260,
       "width": 429
      },
      "needs_background": "light"
     },
     "output_type": "display_data"
    }
   ],
   "source": [
    "sns.distplot(job_df['sal_max'], bins=15);"
   ]
  },
  {
   "cell_type": "code",
   "execution_count": 39,
   "metadata": {},
   "outputs": [],
   "source": [
    "#create new feature for average salary\n",
    "job_df['Avg Salary'] = (job_df['sal_min'] + job_df['sal_max']) / 2"
   ]
  },
  {
   "cell_type": "code",
   "execution_count": 40,
   "metadata": {},
   "outputs": [
    {
     "data": {
      "image/png": "[encoded data removed]",
      "text/plain": [
       "<Figure size 432x288 with 1 Axes>"
      ]
     },
     "metadata": {
      "image/png": {
       "height": 264,
       "width": 440
      },
      "needs_background": "light"
     },
     "output_type": "display_data"
    }
   ],
   "source": [
    "sns.distplot(job_df['Avg Salary'], bins=15);"
   ]
  },
  {
   "cell_type": "markdown",
   "metadata": {},
   "source": [
    "### create label for high and low salary according to median salary."
   ]
  },
  {
   "cell_type": "code",
   "execution_count": 41,
   "metadata": {},
   "outputs": [
    {
     "data": {
      "text/plain": [
       "1    450\n",
       "0    388\n",
       "Name: sal_high, dtype: int64"
      ]
     },
     "execution_count": 41,
     "metadata": {},
     "output_type": "execute_result"
    }
   ],
   "source": [
    "job_df[\"sal_high\"] = job_df['Avg Salary'].map(lambda x: 1 if x >= np.median(job_df['Avg Salary']) else 0)\n",
    "job_df[\"sal_high\"].value_counts()"
   ]
  },
  {
   "cell_type": "code",
   "execution_count": 42,
   "metadata": {},
   "outputs": [
    {
     "data": {
      "text/plain": [
       "0.5369928400954654"
      ]
     },
     "execution_count": 42,
     "metadata": {},
     "output_type": "execute_result"
    }
   ],
   "source": [
    "#baseline model at 53% due to salary cut-off at median\n",
    "baseline = np.mean(job_df[\"sal_high\"])\n",
    "baseline"
   ]
  },
  {
   "cell_type": "code",
   "execution_count": 43,
   "metadata": {},
   "outputs": [],
   "source": [
    "job_df = job_df.reset_index(drop=True)"
   ]
  },
  {
   "cell_type": "code",
   "execution_count": 72,
   "metadata": {},
   "outputs": [
    {
     "data": {
      "text/html": [
       "<div>\n",
       "<style scoped>\n",
       "    .dataframe tbody tr th:only-of-type {\n",
       "        vertical-align: middle;\n",
       "    }\n",
       "\n",
       "    .dataframe tbody tr th {\n",
       "        vertical-align: top;\n",
       "    }\n",
       "\n",
       "    .dataframe thead th {\n",
       "        text-align: right;\n",
       "    }\n",
       "</style>\n",
       "<table border=\"1\" class=\"dataframe\">\n",
       "  <thead>\n",
       "    <tr style=\"text-align: right;\">\n",
       "      <th></th>\n",
       "      <th>Job_Title</th>\n",
       "      <th>Company</th>\n",
       "      <th>Seniority</th>\n",
       "      <th>Category</th>\n",
       "      <th>Requirements</th>\n",
       "      <th>sal_min</th>\n",
       "      <th>sal_max</th>\n",
       "      <th>Avg Salary</th>\n",
       "      <th>sal_high</th>\n",
       "      <th>Executive</th>\n",
       "      <th>Fresh/entry level</th>\n",
       "      <th>Junior Executive</th>\n",
       "      <th>Manager</th>\n",
       "      <th>Middle Management</th>\n",
       "      <th>Non-executive</th>\n",
       "      <th>Professional</th>\n",
       "      <th>Senior Executive</th>\n",
       "      <th>Senior Management</th>\n",
       "    </tr>\n",
       "  </thead>\n",
       "  <tbody>\n",
       "  </tbody>\n",
       "</table>\n",
       "</div>"
      ],
      "text/plain": [
       "Empty DataFrame\n",
       "Columns: [Job_Title, Company, Seniority, Category, Requirements, sal_min, sal_max, Avg Salary, sal_high, Executive, Fresh/entry level, Junior Executive, Manager, Middle Management, Non-executive, Professional, Senior Executive, Senior Management]\n",
       "Index: []"
      ]
     },
     "execution_count": 72,
     "metadata": {},
     "output_type": "execute_result"
    }
   ],
   "source": [
    "#check seniority with multiple rank\n",
    "job_df[job_df['Seniority'].str.count(',')>=2].head()"
   ]
  },
  {
   "cell_type": "code",
   "execution_count": 45,
   "metadata": {},
   "outputs": [],
   "source": [
    "job_df['Seniority'] = job_df['Seniority'].str.split(', ')"
   ]
  },
  {
   "cell_type": "code",
   "execution_count": 46,
   "metadata": {},
   "outputs": [],
   "source": [
    "#job posted with more than 2 seniority classify under multiple,\n",
    "#second seniority is taken as value for job with 2 seniority \n",
    "job_df['Seniority'] = job_df['Seniority'].map(lambda x: x[0] if len(x)>2 else (x[1] if len(x)>1 else x[0]))"
   ]
  },
  {
   "cell_type": "code",
   "execution_count": 47,
   "metadata": {},
   "outputs": [
    {
     "data": {
      "text/plain": [
       "Professional         233\n",
       "Executive            198\n",
       "Senior Executive     109\n",
       "Non-executive         79\n",
       "Manager               60\n",
       "Junior Executive      54\n",
       "Fresh/entry level     41\n",
       "Middle Management     38\n",
       "Senior Management     26\n",
       "Name: Seniority, dtype: int64"
      ]
     },
     "execution_count": 47,
     "metadata": {},
     "output_type": "execute_result"
    }
   ],
   "source": [
    "job_df['Seniority'].value_counts()"
   ]
  },
  {
   "cell_type": "code",
   "execution_count": 48,
   "metadata": {},
   "outputs": [
    {
     "data": {
      "image/png": "[encoded data removed]",
      "text/plain": [
       "<Figure size 1080x360 with 1 Axes>"
      ]
     },
     "metadata": {
      "image/png": {
       "height": 424,
       "width": 1074
      },
      "needs_background": "light"
     },
     "output_type": "display_data"
    }
   ],
   "source": [
    "senior_order = ('Senior Management', 'Middle Management', 'Manager','Senior Executive',\n",
    "                'Professional','Executive', 'Junior Executive','Non-executive','Fresh/entry level')\n",
    "\n",
    "sns.catplot(x='Seniority', y='sal_high',data=job_df, kind='bar', aspect=3, \n",
    "               order=senior_order).set_xticklabels(rotation=55, horizontalalignment='right')\n",
    "plt.show();"
   ]
  },
  {
   "cell_type": "code",
   "execution_count": 49,
   "metadata": {},
   "outputs": [
    {
     "data": {
      "text/html": [
       "<div>\n",
       "<style scoped>\n",
       "    .dataframe tbody tr th:only-of-type {\n",
       "        vertical-align: middle;\n",
       "    }\n",
       "\n",
       "    .dataframe tbody tr th {\n",
       "        vertical-align: top;\n",
       "    }\n",
       "\n",
       "    .dataframe thead th {\n",
       "        text-align: right;\n",
       "    }\n",
       "</style>\n",
       "<table border=\"1\" class=\"dataframe\">\n",
       "  <thead>\n",
       "    <tr style=\"text-align: right;\">\n",
       "      <th></th>\n",
       "      <th>Executive</th>\n",
       "      <th>Fresh/entry level</th>\n",
       "      <th>Junior Executive</th>\n",
       "      <th>Manager</th>\n",
       "      <th>Middle Management</th>\n",
       "      <th>Non-executive</th>\n",
       "      <th>Professional</th>\n",
       "      <th>Senior Executive</th>\n",
       "      <th>Senior Management</th>\n",
       "    </tr>\n",
       "  </thead>\n",
       "  <tbody>\n",
       "    <tr>\n",
       "      <th>0</th>\n",
       "      <td>1</td>\n",
       "      <td>0</td>\n",
       "      <td>0</td>\n",
       "      <td>0</td>\n",
       "      <td>0</td>\n",
       "      <td>0</td>\n",
       "      <td>0</td>\n",
       "      <td>0</td>\n",
       "      <td>0</td>\n",
       "    </tr>\n",
       "    <tr>\n",
       "      <th>1</th>\n",
       "      <td>0</td>\n",
       "      <td>0</td>\n",
       "      <td>0</td>\n",
       "      <td>1</td>\n",
       "      <td>0</td>\n",
       "      <td>0</td>\n",
       "      <td>0</td>\n",
       "      <td>0</td>\n",
       "      <td>0</td>\n",
       "    </tr>\n",
       "    <tr>\n",
       "      <th>2</th>\n",
       "      <td>0</td>\n",
       "      <td>0</td>\n",
       "      <td>0</td>\n",
       "      <td>0</td>\n",
       "      <td>1</td>\n",
       "      <td>0</td>\n",
       "      <td>0</td>\n",
       "      <td>0</td>\n",
       "      <td>0</td>\n",
       "    </tr>\n",
       "    <tr>\n",
       "      <th>3</th>\n",
       "      <td>0</td>\n",
       "      <td>0</td>\n",
       "      <td>0</td>\n",
       "      <td>0</td>\n",
       "      <td>0</td>\n",
       "      <td>0</td>\n",
       "      <td>0</td>\n",
       "      <td>1</td>\n",
       "      <td>0</td>\n",
       "    </tr>\n",
       "    <tr>\n",
       "      <th>4</th>\n",
       "      <td>0</td>\n",
       "      <td>0</td>\n",
       "      <td>0</td>\n",
       "      <td>0</td>\n",
       "      <td>0</td>\n",
       "      <td>0</td>\n",
       "      <td>1</td>\n",
       "      <td>0</td>\n",
       "      <td>0</td>\n",
       "    </tr>\n",
       "  </tbody>\n",
       "</table>\n",
       "</div>"
      ],
      "text/plain": [
       "   Executive  Fresh/entry level  Junior Executive  Manager  Middle Management  \\\n",
       "0          1                  0                 0        0                  0   \n",
       "1          0                  0                 0        1                  0   \n",
       "2          0                  0                 0        0                  1   \n",
       "3          0                  0                 0        0                  0   \n",
       "4          0                  0                 0        0                  0   \n",
       "\n",
       "   Non-executive  Professional  Senior Executive  Senior Management  \n",
       "0              0             0                 0                  0  \n",
       "1              0             0                 0                  0  \n",
       "2              0             0                 0                  0  \n",
       "3              0             0                 1                  0  \n",
       "4              0             1                 0                  0  "
      ]
     },
     "execution_count": 49,
     "metadata": {},
     "output_type": "execute_result"
    }
   ],
   "source": [
    "seniority_cat=job_df['Seniority'].str.get_dummies()\n",
    "seniority_cat.head()"
   ]
  },
  {
   "cell_type": "code",
   "execution_count": 50,
   "metadata": {},
   "outputs": [],
   "source": [
    "job_df = pd.concat([job_df, seniority_cat], axis=1)"
   ]
  },
  {
   "cell_type": "code",
   "execution_count": 51,
   "metadata": {},
   "outputs": [],
   "source": [
    "from sklearn.feature_extraction.text import CountVectorizer, TfidfVectorizer\n",
    "from sklearn.feature_extraction import stop_words\n",
    "from nltk.corpus import stopwords"
   ]
  },
  {
   "cell_type": "code",
   "execution_count": 52,
   "metadata": {},
   "outputs": [],
   "source": [
    "stop = stopwords.words('english')\n",
    "stop += ['regret','shortlisted', 'candidates','notified','etc']\n",
    "#stop += ['regret', 'shortlisted', 'candidates', 'notified','least','skills',\n",
    "#         'related','good','years','added','able','advantage','work','etc',\n",
    "#         'working','ability','excellent','year','knowledge']"
   ]
  },
  {
   "cell_type": "code",
   "execution_count": 53,
   "metadata": {},
   "outputs": [],
   "source": [
    "def get_freq_words(sparse_counts, columns):\n",
    "    # X_all is a sparse matrix, so sum() returns a 'matrix' datatype ...\n",
    "    #   which we then convert into a 1-D ndarray for sorting\n",
    "    word_counts = np.asarray(X_all.sum(axis=0)).reshape(-1)\n",
    "\n",
    "    # argsort() returns smallest first, so we reverse the result\n",
    "    largest_count_indices = word_counts.argsort()[::-1]\n",
    "    freq_words = pd.Series(word_counts[largest_count_indices], \n",
    "                           index=columns[largest_count_indices])\n",
    "\n",
    "    return freq_words"
   ]
  },
  {
   "cell_type": "code",
   "execution_count": 54,
   "metadata": {},
   "outputs": [
    {
     "data": {
      "text/plain": [
       "experience       2255\n",
       "data             1637\n",
       "skills           1268\n",
       "knowledge         719\n",
       "ability           692\n",
       "strong            681\n",
       "years             593\n",
       "work              567\n",
       "business          522\n",
       "management        511\n",
       "working           496\n",
       "good              486\n",
       "degree            477\n",
       "science           442\n",
       "computer          422\n",
       "communication     417\n",
       "team              410\n",
       "excellent         364\n",
       "sql               328\n",
       "related           318\n",
       "dtype: int64"
      ]
     },
     "execution_count": 54,
     "metadata": {},
     "output_type": "execute_result"
    }
   ],
   "source": [
    "#most common words for requirements\n",
    "cvt      =  CountVectorizer(strip_accents='unicode', ngram_range=(1,2), stop_words=stop, min_df=5)\n",
    "X_all    =  cvt.fit_transform(job_df['Requirements'])\n",
    "columns  =  np.array(cvt.get_feature_names()) \n",
    "\n",
    "freq_words = get_freq_words(X_all, columns)\n",
    "freq_words_percent = freq_words/len(job_df['Requirements'])\n",
    "freq_words[:20]"
   ]
  },
  {
   "cell_type": "code",
   "execution_count": 55,
   "metadata": {},
   "outputs": [
    {
     "data": {
      "text/plain": [
       "computer science        291\n",
       "communication skills    267\n",
       "machine learning        201\n",
       "years experience        196\n",
       "problem solving         168\n",
       "ability work            157\n",
       "big data                149\n",
       "experience working      143\n",
       "skills ability          142\n",
       "team player             130\n",
       "dtype: int64"
      ]
     },
     "execution_count": 55,
     "metadata": {},
     "output_type": "execute_result"
    }
   ],
   "source": [
    "#most common ngrams for requirements\n",
    "cvt = CountVectorizer(stop_words=stop, ngram_range=(2,2))\n",
    "X_all = cvt.fit_transform(job_df['Requirements'])\n",
    "columns  =  np.array(cvt.get_feature_names())\n",
    "\n",
    "freq_words = get_freq_words(X_all, columns)\n",
    "freq_words[:10]"
   ]
  },
  {
   "cell_type": "code",
   "execution_count": 56,
   "metadata": {},
   "outputs": [
    {
     "data": {
      "text/plain": [
       "computer science        12.177185\n",
       "communication skills    11.285294\n",
       "machine learning        10.443771\n",
       "years experience         9.049228\n",
       "least years              7.604022\n",
       "ability work             7.488082\n",
       "problem solving          7.331416\n",
       "experience working       7.250896\n",
       "big data                 7.199579\n",
       "team player              7.186408\n",
       "dtype: float64"
      ]
     },
     "execution_count": 56,
     "metadata": {},
     "output_type": "execute_result"
    }
   ],
   "source": [
    "tfid = TfidfVectorizer(stop_words=stop, ngram_range=(2,2))\n",
    "X_all = tfid.fit_transform(job_df['Requirements'])\n",
    "columns  =  np.array(tfid.get_feature_names())\n",
    "\n",
    "freq_words = get_freq_words(X_all, columns)\n",
    "freq_words[:10]"
   ]
  },
  {
   "cell_type": "code",
   "execution_count": 57,
   "metadata": {},
   "outputs": [
    {
     "data": {
      "text/plain": [
       "CountVectorizer(analyzer='word', binary=False, decode_error='strict',\n",
       "        dtype=<class 'numpy.int64'>, encoding='utf-8', input='content',\n",
       "        lowercase=True, max_df=1.0, max_features=None, min_df=1,\n",
       "        ngram_range=(1, 3), preprocessor=None,\n",
       "        stop_words=['i', 'me', 'my', 'myself', 'we', 'our', 'ours', 'ourselves', 'you', \"you're\", \"you've\", \"you'll\", \"you'd\", 'your', 'yours', 'yourself', 'yourselves', 'he', 'him', 'his', 'himself', 'she', \"she's\", 'her', 'hers', 'herself', 'it', \"it's\", 'its', 'itself', 'they', 'them', 'their', 'theirs',...'t\", 'won', \"won't\", 'wouldn', \"wouldn't\", 'regret', 'shortlisted', 'candidates', 'notified', 'etc'],\n",
       "        strip_accents='unicode', token_pattern='(?u)\\\\b\\\\w\\\\w+\\\\b',\n",
       "        tokenizer=None, vocabulary=None)"
      ]
     },
     "execution_count": 57,
     "metadata": {},
     "output_type": "execute_result"
    }
   ],
   "source": [
    "cvec = CountVectorizer(lowercase=True, strip_accents='unicode', stop_words=stop,ngram_range=(1,3))\n",
    "cvec.fit(job_df['Requirements'])"
   ]
  },
  {
   "cell_type": "code",
   "execution_count": 58,
   "metadata": {},
   "outputs": [],
   "source": [
    "model_data = job_df.drop(columns=['Job_Title','Company','Seniority','Category','sal_min','sal_max','Avg Salary'])"
   ]
  },
  {
   "cell_type": "code",
   "execution_count": 59,
   "metadata": {},
   "outputs": [],
   "source": [
    "nlp = pd.DataFrame(cvec.transform(model_data['Requirements']).todense(),\n",
    "                       columns=cvec.get_feature_names())"
   ]
  },
  {
   "cell_type": "code",
   "execution_count": 60,
   "metadata": {},
   "outputs": [
    {
     "data": {
      "text/plain": [
       "(838, 94069)"
      ]
     },
     "execution_count": 60,
     "metadata": {},
     "output_type": "execute_result"
    }
   ],
   "source": [
    "senior_nlp = pd.concat([model_data, nlp], axis=1)\n",
    "senior_nlp.shape"
   ]
  },
  {
   "cell_type": "code",
   "execution_count": 61,
   "metadata": {},
   "outputs": [],
   "source": [
    "X = senior_nlp.drop(columns=['sal_high','Requirements'])\n",
    "y = senior_nlp['sal_high'].values"
   ]
  },
  {
   "cell_type": "code",
   "execution_count": 62,
   "metadata": {},
   "outputs": [],
   "source": [
    "X_train, X_test, y_train, y_test = train_test_split(X, y, test_size=0.2, random_state=42)"
   ]
  },
  {
   "cell_type": "code",
   "execution_count": 63,
   "metadata": {},
   "outputs": [
    {
     "name": "stdout",
     "output_type": "stream",
     "text": [
      "AUC score on test data 0.8358422939068101\n",
      "AUC score on train data 0.9998075907679366\n"
     ]
    }
   ],
   "source": [
    "lr = LogisticRegression(penalty='l2',solver='lbfgs') #with ridge regularization \n",
    "lr.fit(X_train, y_train)\n",
    "predicted = lr.predict(X_test)\n",
    "\n",
    "#print('Cross val score on train data:', np.mean(cross_val_score(lr, X_train, y_train, cv=5)))\n",
    "#print('Accuracy on test data:',accuracy_score(y_test,predicted))\n",
    "print('AUC score on test data',roc_auc_score(y_test,lr.predict_proba(X_test)[:,1]))\n",
    "print('AUC score on train data',roc_auc_score(y_train,lr.predict_proba(X_train)[:,1]))"
   ]
  },
  {
   "cell_type": "code",
   "execution_count": 64,
   "metadata": {},
   "outputs": [
    {
     "data": {
      "text/html": [
       "<div>\n",
       "<style scoped>\n",
       "    .dataframe tbody tr th:only-of-type {\n",
       "        vertical-align: middle;\n",
       "    }\n",
       "\n",
       "    .dataframe tbody tr th {\n",
       "        vertical-align: top;\n",
       "    }\n",
       "\n",
       "    .dataframe thead th {\n",
       "        text-align: right;\n",
       "    }\n",
       "</style>\n",
       "<table border=\"1\" class=\"dataframe\">\n",
       "  <thead>\n",
       "    <tr style=\"text-align: right;\">\n",
       "      <th></th>\n",
       "      <th>Predicted Low Salary</th>\n",
       "      <th>Predicted High Salary</th>\n",
       "    </tr>\n",
       "  </thead>\n",
       "  <tbody>\n",
       "    <tr>\n",
       "      <th>Actual Low Salary</th>\n",
       "      <td>55</td>\n",
       "      <td>20</td>\n",
       "    </tr>\n",
       "    <tr>\n",
       "      <th>Actual High Salary</th>\n",
       "      <td>26</td>\n",
       "      <td>67</td>\n",
       "    </tr>\n",
       "  </tbody>\n",
       "</table>\n",
       "</div>"
      ],
      "text/plain": [
       "                    Predicted Low Salary  Predicted High Salary\n",
       "Actual Low Salary                     55                     20\n",
       "Actual High Salary                    26                     67"
      ]
     },
     "execution_count": 64,
     "metadata": {},
     "output_type": "execute_result"
    }
   ],
   "source": [
    "pd.DataFrame(confusion_matrix(y_test,lr.predict(X_test)),\n",
    "             index=['Actual Low Salary','Actual High Salary'],\n",
    "             columns=['Predicted Low Salary','Predicted High Salary'])"
   ]
  },
  {
   "cell_type": "code",
   "execution_count": 65,
   "metadata": {},
   "outputs": [
    {
     "data": {
      "text/html": [
       "<div>\n",
       "<style scoped>\n",
       "    .dataframe tbody tr th:only-of-type {\n",
       "        vertical-align: middle;\n",
       "    }\n",
       "\n",
       "    .dataframe tbody tr th {\n",
       "        vertical-align: top;\n",
       "    }\n",
       "\n",
       "    .dataframe thead th {\n",
       "        text-align: right;\n",
       "    }\n",
       "</style>\n",
       "<table border=\"1\" class=\"dataframe\">\n",
       "  <thead>\n",
       "    <tr style=\"text-align: right;\">\n",
       "      <th></th>\n",
       "      <th>coef</th>\n",
       "      <th>abs coef</th>\n",
       "    </tr>\n",
       "  </thead>\n",
       "  <tbody>\n",
       "    <tr>\n",
       "      <th>Middle Management</th>\n",
       "      <td>0.980247</td>\n",
       "      <td>0.980247</td>\n",
       "    </tr>\n",
       "    <tr>\n",
       "      <th>Non-executive</th>\n",
       "      <td>-0.882289</td>\n",
       "      <td>0.882289</td>\n",
       "    </tr>\n",
       "    <tr>\n",
       "      <th>phd</th>\n",
       "      <td>0.609741</td>\n",
       "      <td>0.609741</td>\n",
       "    </tr>\n",
       "    <tr>\n",
       "      <th>diploma</th>\n",
       "      <td>-0.514388</td>\n",
       "      <td>0.514388</td>\n",
       "    </tr>\n",
       "    <tr>\n",
       "      <th>Executive</th>\n",
       "      <td>-0.503971</td>\n",
       "      <td>0.503971</td>\n",
       "    </tr>\n",
       "    <tr>\n",
       "      <th>engineering</th>\n",
       "      <td>-0.492144</td>\n",
       "      <td>0.492144</td>\n",
       "    </tr>\n",
       "    <tr>\n",
       "      <th>Fresh/entry level</th>\n",
       "      <td>-0.463113</td>\n",
       "      <td>0.463113</td>\n",
       "    </tr>\n",
       "    <tr>\n",
       "      <th>Professional</th>\n",
       "      <td>0.453173</td>\n",
       "      <td>0.453173</td>\n",
       "    </tr>\n",
       "    <tr>\n",
       "      <th>fresh</th>\n",
       "      <td>-0.431829</td>\n",
       "      <td>0.431829</td>\n",
       "    </tr>\n",
       "    <tr>\n",
       "      <th>Junior Executive</th>\n",
       "      <td>-0.421649</td>\n",
       "      <td>0.421649</td>\n",
       "    </tr>\n",
       "  </tbody>\n",
       "</table>\n",
       "</div>"
      ],
      "text/plain": [
       "                       coef  abs coef\n",
       "Middle Management  0.980247  0.980247\n",
       "Non-executive     -0.882289  0.882289\n",
       "phd                0.609741  0.609741\n",
       "diploma           -0.514388  0.514388\n",
       "Executive         -0.503971  0.503971\n",
       "engineering       -0.492144  0.492144\n",
       "Fresh/entry level -0.463113  0.463113\n",
       "Professional       0.453173  0.453173\n",
       "fresh             -0.431829  0.431829\n",
       "Junior Executive  -0.421649  0.421649"
      ]
     },
     "execution_count": 65,
     "metadata": {},
     "output_type": "execute_result"
    }
   ],
   "source": [
    "features = np.array(X_train.columns)\n",
    "lr_coefs = pd.DataFrame({'coef':lr.coef_[0], 'abs coef':abs(lr.coef_[0])},index=features)\n",
    "lr_coefs = lr_coefs.sort_values('abs coef',ascending=False)\n",
    "lr_coefs.head(10)"
   ]
  },
  {
   "cell_type": "code",
   "execution_count": 66,
   "metadata": {},
   "outputs": [
    {
     "data": {
      "text/plain": [
       "<matplotlib.axes._subplots.AxesSubplot at 0x1a1a802c88>"
      ]
     },
     "execution_count": 66,
     "metadata": {},
     "output_type": "execute_result"
    },
    {
     "data": {
      "image/png": "[encoded data removed]",
      "text/plain": [
       "<Figure size 432x288 with 1 Axes>"
      ]
     },
     "metadata": {
      "image/png": {
       "height": 244,
       "width": 484
      },
      "needs_background": "light"
     },
     "output_type": "display_data"
    }
   ],
   "source": [
    "imp_coefs = pd.concat([lr_coefs.sort_values('coef',ascending = True).head(5),\n",
    "                     lr_coefs.sort_values('coef',ascending = True).tail(5)])\n",
    "imp_coefs['coef'].plot(kind = \"barh\")"
   ]
  },
  {
   "cell_type": "code",
   "execution_count": 67,
   "metadata": {},
   "outputs": [
    {
     "name": "stdout",
     "output_type": "stream",
     "text": [
      "AUC score on test data: 0.7969175627240143\n",
      "AUC score on train data: 0.9597461987990084\n"
     ]
    }
   ],
   "source": [
    "from sklearn.ensemble import AdaBoostClassifier\n",
    "\n",
    "Ada = AdaBoostClassifier() #with ridge regularization \n",
    "\n",
    "Ada.fit(X_train, y_train)\n",
    "predicted = Ada.predict(X_test)\n",
    "#print('Model score on test data:',Ada.score(X_test, y_test))\n",
    "print('AUC score on test data:',roc_auc_score(y_test,Ada.predict_proba(X_test)[:,1]))\n",
    "print('AUC score on train data:',roc_auc_score(y_train,Ada.predict_proba(X_train)[:,1]))"
   ]
  },
  {
   "cell_type": "code",
   "execution_count": 68,
   "metadata": {},
   "outputs": [
    {
     "data": {
      "text/html": [
       "<div>\n",
       "<style scoped>\n",
       "    .dataframe tbody tr th:only-of-type {\n",
       "        vertical-align: middle;\n",
       "    }\n",
       "\n",
       "    .dataframe tbody tr th {\n",
       "        vertical-align: top;\n",
       "    }\n",
       "\n",
       "    .dataframe thead th {\n",
       "        text-align: right;\n",
       "    }\n",
       "</style>\n",
       "<table border=\"1\" class=\"dataframe\">\n",
       "  <thead>\n",
       "    <tr style=\"text-align: right;\">\n",
       "      <th></th>\n",
       "      <th>Predicted Low Salary</th>\n",
       "      <th>Predicted High Salary</th>\n",
       "    </tr>\n",
       "  </thead>\n",
       "  <tbody>\n",
       "    <tr>\n",
       "      <th>Actual Low Salary</th>\n",
       "      <td>48</td>\n",
       "      <td>27</td>\n",
       "    </tr>\n",
       "    <tr>\n",
       "      <th>Actual High Salary</th>\n",
       "      <td>20</td>\n",
       "      <td>73</td>\n",
       "    </tr>\n",
       "  </tbody>\n",
       "</table>\n",
       "</div>"
      ],
      "text/plain": [
       "                    Predicted Low Salary  Predicted High Salary\n",
       "Actual Low Salary                     48                     27\n",
       "Actual High Salary                    20                     73"
      ]
     },
     "execution_count": 68,
     "metadata": {},
     "output_type": "execute_result"
    }
   ],
   "source": [
    "pd.DataFrame(confusion_matrix(y_test,Ada.predict(X_test)),\n",
    "             index=['Actual Low Salary','Actual High Salary'],\n",
    "             columns=['Predicted Low Salary','Predicted High Salary'])"
   ]
  },
  {
   "cell_type": "code",
   "execution_count": 69,
   "metadata": {},
   "outputs": [
    {
     "data": {
      "text/html": [
       "<div>\n",
       "<style scoped>\n",
       "    .dataframe tbody tr th:only-of-type {\n",
       "        vertical-align: middle;\n",
       "    }\n",
       "\n",
       "    .dataframe tbody tr th {\n",
       "        vertical-align: top;\n",
       "    }\n",
       "\n",
       "    .dataframe thead th {\n",
       "        text-align: right;\n",
       "    }\n",
       "</style>\n",
       "<table border=\"1\" class=\"dataframe\">\n",
       "  <thead>\n",
       "    <tr style=\"text-align: right;\">\n",
       "      <th></th>\n",
       "      <th>coef</th>\n",
       "    </tr>\n",
       "  </thead>\n",
       "  <tbody>\n",
       "    <tr>\n",
       "      <th>Executive</th>\n",
       "      <td>0.02</td>\n",
       "    </tr>\n",
       "    <tr>\n",
       "      <th>Fresh/entry level</th>\n",
       "      <td>0.02</td>\n",
       "    </tr>\n",
       "    <tr>\n",
       "      <th>Junior Executive</th>\n",
       "      <td>0.02</td>\n",
       "    </tr>\n",
       "    <tr>\n",
       "      <th>Manager</th>\n",
       "      <td>0.02</td>\n",
       "    </tr>\n",
       "    <tr>\n",
       "      <th>Middle Management</th>\n",
       "      <td>0.02</td>\n",
       "    </tr>\n",
       "    <tr>\n",
       "      <th>Non-executive</th>\n",
       "      <td>0.02</td>\n",
       "    </tr>\n",
       "    <tr>\n",
       "      <th>Professional</th>\n",
       "      <td>0.00</td>\n",
       "    </tr>\n",
       "    <tr>\n",
       "      <th>Senior Executive</th>\n",
       "      <td>0.00</td>\n",
       "    </tr>\n",
       "    <tr>\n",
       "      <th>Senior Management</th>\n",
       "      <td>0.02</td>\n",
       "    </tr>\n",
       "    <tr>\n",
       "      <th>00</th>\n",
       "      <td>0.00</td>\n",
       "    </tr>\n",
       "  </tbody>\n",
       "</table>\n",
       "</div>"
      ],
      "text/plain": [
       "                   coef\n",
       "Executive          0.02\n",
       "Fresh/entry level  0.02\n",
       "Junior Executive   0.02\n",
       "Manager            0.02\n",
       "Middle Management  0.02\n",
       "Non-executive      0.02\n",
       "Professional       0.00\n",
       "Senior Executive   0.00\n",
       "Senior Management  0.02\n",
       "00                 0.00"
      ]
     },
     "execution_count": 69,
     "metadata": {},
     "output_type": "execute_result"
    }
   ],
   "source": [
    "features = np.array(X_train.columns)\n",
    "Ada_coefs = pd.DataFrame({'coef':Ada.feature_importances_},index=features)\n",
    "Ada_coefs.head(10)"
   ]
  },
  {
   "cell_type": "code",
   "execution_count": 78,
   "metadata": {},
   "outputs": [
    {
     "data": {
      "text/html": [
       "<div>\n",
       "<style scoped>\n",
       "    .dataframe tbody tr th:only-of-type {\n",
       "        vertical-align: middle;\n",
       "    }\n",
       "\n",
       "    .dataframe tbody tr th {\n",
       "        vertical-align: top;\n",
       "    }\n",
       "\n",
       "    .dataframe thead th {\n",
       "        text-align: right;\n",
       "    }\n",
       "</style>\n",
       "<table border=\"1\" class=\"dataframe\">\n",
       "  <thead>\n",
       "    <tr style=\"text-align: right;\">\n",
       "      <th></th>\n",
       "      <th>AdaBoost model</th>\n",
       "      <th>Logistic model</th>\n",
       "    </tr>\n",
       "  </thead>\n",
       "  <tbody>\n",
       "    <tr>\n",
       "      <th>0</th>\n",
       "      <td>Executive</td>\n",
       "      <td>Middle Management</td>\n",
       "    </tr>\n",
       "    <tr>\n",
       "      <th>1</th>\n",
       "      <td>Fresh/entry level</td>\n",
       "      <td>Non-executive</td>\n",
       "    </tr>\n",
       "    <tr>\n",
       "      <th>2</th>\n",
       "      <td>Junior Executive</td>\n",
       "      <td>phd</td>\n",
       "    </tr>\n",
       "    <tr>\n",
       "      <th>3</th>\n",
       "      <td>Manager</td>\n",
       "      <td>diploma</td>\n",
       "    </tr>\n",
       "    <tr>\n",
       "      <th>4</th>\n",
       "      <td>Middle Management</td>\n",
       "      <td>Executive</td>\n",
       "    </tr>\n",
       "    <tr>\n",
       "      <th>5</th>\n",
       "      <td>Non-executive</td>\n",
       "      <td>engineering</td>\n",
       "    </tr>\n",
       "    <tr>\n",
       "      <th>6</th>\n",
       "      <td>Professional</td>\n",
       "      <td>Fresh/entry level</td>\n",
       "    </tr>\n",
       "    <tr>\n",
       "      <th>7</th>\n",
       "      <td>Senior Executive</td>\n",
       "      <td>Professional</td>\n",
       "    </tr>\n",
       "    <tr>\n",
       "      <th>8</th>\n",
       "      <td>Senior Management</td>\n",
       "      <td>fresh</td>\n",
       "    </tr>\n",
       "    <tr>\n",
       "      <th>9</th>\n",
       "      <td>00</td>\n",
       "      <td>Junior Executive</td>\n",
       "    </tr>\n",
       "  </tbody>\n",
       "</table>\n",
       "</div>"
      ],
      "text/plain": [
       "      AdaBoost model     Logistic model\n",
       "0          Executive  Middle Management\n",
       "1  Fresh/entry level      Non-executive\n",
       "2   Junior Executive                phd\n",
       "3            Manager            diploma\n",
       "4  Middle Management          Executive\n",
       "5      Non-executive        engineering\n",
       "6       Professional  Fresh/entry level\n",
       "7   Senior Executive       Professional\n",
       "8  Senior Management              fresh\n",
       "9                 00   Junior Executive"
      ]
     },
     "execution_count": 78,
     "metadata": {},
     "output_type": "execute_result"
    }
   ],
   "source": [
    "#logistic regression model and ada boost model top 10 features\n",
    "Ada_feat = Ada_coefs.head(10).index\n",
    "Logit_reg = lr_coefs.head(10).index\n",
    "sal_features = pd.DataFrame({'AdaBoost model':Ada_feat, 'Logistic model':Logit_reg})\n",
    "sal_features"
   ]
  },
  {
   "cell_type": "code",
   "execution_count": 79,
   "metadata": {},
   "outputs": [
    {
     "data": {
      "image/png": "[encoded data removed]",
      "text/plain": [
       "<Figure size 432x288 with 1 Axes>"
      ]
     },
     "metadata": {
      "image/png": {
       "height": 279,
       "width": 430
      },
      "needs_background": "light"
     },
     "output_type": "display_data"
    }
   ],
   "source": [
    "#logistic regression model and ada boost model ROC curve\n",
    "\n",
    "y_score_lr = lr.predict_proba(X_test)[:,1]\n",
    "y_score_ada = Ada.predict_proba(X_test)[:,1]\n",
    "FPR1, TPR1, THR1 = roc_curve(y_test,y_score_lr)\n",
    "FPR2, TPR2, THR2 = roc_curve(y_test,y_score_ada)\n",
    "ROC_AUC1=auc(FPR1,TPR1)\n",
    "ROC_AUC2=auc(FPR2,TPR2)\n",
    "\n",
    "plt.plot(FPR1, TPR1, label='Linear Regression ROC curve (area = %0.3f)' % ROC_AUC1, linewidth=4)\n",
    "plt.plot(FPR2, TPR2, label='AdaBoost ROC curve (area = %0.3f)' % ROC_AUC2, linewidth=4)\n",
    "plt.plot([0, 1], [0, 1], 'k--', linewidth=3)\n",
    "plt.xlim([-0.01, 1.0])\n",
    "plt.ylim([0.0, 1.05])\n",
    "plt.xlabel('False Positive Rate', fontsize=12)\n",
    "plt.ylabel('True Positive Rate', fontsize=12)\n",
    "plt.title('ROC curve for High Salary detection', fontsize=18)\n",
    "plt.legend(loc=\"lower right\")\n",
    "plt.show()"
   ]
  },
  {
   "cell_type": "code",
   "execution_count": null,
   "metadata": {},
   "outputs": [],
   "source": []
  }
 ],
 "metadata": {
  "kernelspec": {
   "display_name": "Python 3",
   "language": "python",
   "name": "python3"
  },
  "language_info": {
   "codemirror_mode": {
    "name": "ipython",
    "version": 3
   },
   "file_extension": ".py",
   "mimetype": "text/x-python",
   "name": "python",
   "nbconvert_exporter": "python",
   "pygments_lexer": "ipython3",
   "version": "3.7.1"
  }
 },
 "nbformat": 4,
 "nbformat_minor": 2
}
