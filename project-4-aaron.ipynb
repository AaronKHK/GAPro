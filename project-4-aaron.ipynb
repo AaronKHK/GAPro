{
 "cells": [
  {
   "cell_type": "code",
   "execution_count": 1,
   "metadata": {},
   "outputs": [],
   "source": [
    "import pandas as pd\n",
    "import numpy as np\n",
    "import matplotlib.pyplot as plt\n",
    "import seaborn as sns\n",
    "import scipy.stats as stats\n",
    "import warnings\n",
    "warnings.filterwarnings('ignore')\n",
    "\n",
    "plt.style.use('fivethirtyeight')\n",
    "sns.set_style('whitegrid')\n",
    "\n",
    "%config InlineBackend.figure_format = 'retina'\n",
    "%matplotlib inline"
   ]
  },
  {
   "cell_type": "code",
   "execution_count": 2,
   "metadata": {},
   "outputs": [],
   "source": [
    "import statsmodels.formula.api as sm\n",
    "import patsy\n",
    "import itertools\n",
    "from sklearn.metrics import classification_report, confusion_matrix, accuracy_score, roc_curve, roc_auc_score, auc\n",
    "from sklearn.model_selection import cross_val_score, cross_val_predict, KFold, GridSearchCV,learning_curve\n",
    "from sklearn.model_selection import train_test_split, GridSearchCV, StratifiedKFold, StratifiedShuffleSplit\n",
    "from sklearn.linear_model import LogisticRegression, LogisticRegressionCV\n",
    "from sklearn.naive_bayes import MultinomialNB, BernoulliNB, GaussianNB\n",
    "from sklearn.preprocessing import StandardScaler\n",
    "from sklearn.feature_extraction.text import CountVectorizer, TfidfTransformer, TfidfVectorizer \n",
    "from sklearn.pipeline import Pipeline"
   ]
  },
  {
   "cell_type": "code",
   "execution_count": 3,
   "metadata": {},
   "outputs": [
    {
     "data": {
      "text/plain": [
       "(3960, 9)"
      ]
     },
     "execution_count": 3,
     "metadata": {},
     "output_type": "execute_result"
    }
   ],
   "source": [
    "job = pd.read_csv('data_job.csv')\n",
    "job.shape"
   ]
  },
  {
   "cell_type": "markdown",
   "metadata": {},
   "source": [
    "# EDA and Features Engineering"
   ]
  },
  {
   "cell_type": "code",
   "execution_count": 4,
   "metadata": {},
   "outputs": [
    {
     "name": "stdout",
     "output_type": "stream",
     "text": [
      "<class 'pandas.core.frame.DataFrame'>\n",
      "RangeIndex: 3960 entries, 0 to 3959\n",
      "Data columns (total 9 columns):\n",
      "Unnamed: 0      3960 non-null int64\n",
      "Job_Id          3960 non-null object\n",
      "Job_Title       3960 non-null object\n",
      "Company         3960 non-null object\n",
      "Date_Posted     3960 non-null object\n",
      "Salary          3960 non-null object\n",
      "Seniority       3960 non-null object\n",
      "Category        3960 non-null object\n",
      "Requirements    3960 non-null object\n",
      "dtypes: int64(1), object(8)\n",
      "memory usage: 278.5+ KB\n"
     ]
    }
   ],
   "source": [
    "job.info()"
   ]
  },
  {
   "cell_type": "code",
   "execution_count": 5,
   "metadata": {
    "scrolled": true
   },
   "outputs": [
    {
     "data": {
      "text/html": [
       "<div>\n",
       "<style scoped>\n",
       "    .dataframe tbody tr th:only-of-type {\n",
       "        vertical-align: middle;\n",
       "    }\n",
       "\n",
       "    .dataframe tbody tr th {\n",
       "        vertical-align: top;\n",
       "    }\n",
       "\n",
       "    .dataframe thead th {\n",
       "        text-align: right;\n",
       "    }\n",
       "</style>\n",
       "<table border=\"1\" class=\"dataframe\">\n",
       "  <thead>\n",
       "    <tr style=\"text-align: right;\">\n",
       "      <th></th>\n",
       "      <th>Unnamed: 0</th>\n",
       "      <th>Job_Id</th>\n",
       "      <th>Job_Title</th>\n",
       "      <th>Company</th>\n",
       "      <th>Date_Posted</th>\n",
       "      <th>Salary</th>\n",
       "      <th>Seniority</th>\n",
       "      <th>Category</th>\n",
       "      <th>Requirements</th>\n",
       "    </tr>\n",
       "  </thead>\n",
       "  <tbody>\n",
       "    <tr>\n",
       "      <th>0</th>\n",
       "      <td>0</td>\n",
       "      <td>[b' JOB-2019-0090219 ']</td>\n",
       "      <td>[b'Data Engineer (5 days, Orchard, $3500-4000)']</td>\n",
       "      <td>[b'MACHSPEED HUMAN RESOURCES PTE. LTD.']</td>\n",
       "      <td>[b'Posted 27 Apr 2019']</td>\n",
       "      <td>['/ $3,500to$4,000/ $3,500/ to$4,000/ Monthly/...</td>\n",
       "      <td>[b'Executive']</td>\n",
       "      <td>[b'Information Technology']</td>\n",
       "      <td>['RequirementsRequirements  Minimum Degree/Dip...</td>\n",
       "    </tr>\n",
       "    <tr>\n",
       "      <th>1</th>\n",
       "      <td>1</td>\n",
       "      <td>[b' JOB-2019-0090314 ']</td>\n",
       "      <td>[b'Customer Engagement Excellence Learning Man...</td>\n",
       "      <td>[b'BAYER (SOUTH EAST ASIA) PTE LTD']</td>\n",
       "      <td>[b'Posted 27 Apr 2019']</td>\n",
       "      <td>['/ $10,400to$15,400/ $10,400/ to$15,400/ Mont...</td>\n",
       "      <td>[b'Manager']</td>\n",
       "      <td>[b'Healthcare / Pharmaceutical']</td>\n",
       "      <td>['Requirements A University / Bachelors degree...</td>\n",
       "    </tr>\n",
       "    <tr>\n",
       "      <th>2</th>\n",
       "      <td>2</td>\n",
       "      <td>[b' JOB-2019-0090256 ']</td>\n",
       "      <td>[b'Manager, Research']</td>\n",
       "      <td>[b'GROUP ONE HOLDINGS PTE. LTD.']</td>\n",
       "      <td>[b'Posted 27 Apr 2019']</td>\n",
       "      <td>['/ $5,000to$8,000/ $5,000/ to$8,000/ Monthly/...</td>\n",
       "      <td>[b'Manager']</td>\n",
       "      <td>[b'Others']</td>\n",
       "      <td>['Requirements·\\xa0\\xa0\\xa0\\xa0\\xa0\\xa0\\xa0A s...</td>\n",
       "    </tr>\n",
       "    <tr>\n",
       "      <th>3</th>\n",
       "      <td>3</td>\n",
       "      <td>[b' JOB-2019-0090319 ']</td>\n",
       "      <td>[b'Head of Research &amp;amp; Evaluation, Asia']</td>\n",
       "      <td>[b'SAVE THE CHILDREN ASIA REGIONAL OFFICE LIMI...</td>\n",
       "      <td>[b'Posted 27 Apr 2019']</td>\n",
       "      <td>['/ $80,000to$140,000/ $80,000/ to$140,000/ An...</td>\n",
       "      <td>[b'Middle Management']</td>\n",
       "      <td>[b'General Management']</td>\n",
       "      <td>['RequirementsQualifications  10 plus years ex...</td>\n",
       "    </tr>\n",
       "    <tr>\n",
       "      <th>4</th>\n",
       "      <td>4</td>\n",
       "      <td>[b' JOB-2019-0090300 ']</td>\n",
       "      <td>[b'IT Systems Adminstrator']</td>\n",
       "      <td>[b'ELIXIR TECHNOLOGY PTE LTD']</td>\n",
       "      <td>[b'Posted 27 Apr 2019']</td>\n",
       "      <td>['/ $2,800to$3,500/ $2,800/ to$3,500/ Monthly/...</td>\n",
       "      <td>[b'Professional']</td>\n",
       "      <td>[b'Information Technology']</td>\n",
       "      <td>[\"Requirements Bachelor's Degree in Computer S...</td>\n",
       "    </tr>\n",
       "  </tbody>\n",
       "</table>\n",
       "</div>"
      ],
      "text/plain": [
       "   Unnamed: 0                   Job_Id  \\\n",
       "0           0  [b' JOB-2019-0090219 ']   \n",
       "1           1  [b' JOB-2019-0090314 ']   \n",
       "2           2  [b' JOB-2019-0090256 ']   \n",
       "3           3  [b' JOB-2019-0090319 ']   \n",
       "4           4  [b' JOB-2019-0090300 ']   \n",
       "\n",
       "                                           Job_Title  \\\n",
       "0   [b'Data Engineer (5 days, Orchard, $3500-4000)']   \n",
       "1  [b'Customer Engagement Excellence Learning Man...   \n",
       "2                             [b'Manager, Research']   \n",
       "3       [b'Head of Research &amp; Evaluation, Asia']   \n",
       "4                       [b'IT Systems Adminstrator']   \n",
       "\n",
       "                                             Company              Date_Posted  \\\n",
       "0           [b'MACHSPEED HUMAN RESOURCES PTE. LTD.']  [b'Posted 27 Apr 2019']   \n",
       "1               [b'BAYER (SOUTH EAST ASIA) PTE LTD']  [b'Posted 27 Apr 2019']   \n",
       "2                  [b'GROUP ONE HOLDINGS PTE. LTD.']  [b'Posted 27 Apr 2019']   \n",
       "3  [b'SAVE THE CHILDREN ASIA REGIONAL OFFICE LIMI...  [b'Posted 27 Apr 2019']   \n",
       "4                     [b'ELIXIR TECHNOLOGY PTE LTD']  [b'Posted 27 Apr 2019']   \n",
       "\n",
       "                                              Salary               Seniority  \\\n",
       "0  ['/ $3,500to$4,000/ $3,500/ to$4,000/ Monthly/...          [b'Executive']   \n",
       "1  ['/ $10,400to$15,400/ $10,400/ to$15,400/ Mont...            [b'Manager']   \n",
       "2  ['/ $5,000to$8,000/ $5,000/ to$8,000/ Monthly/...            [b'Manager']   \n",
       "3  ['/ $80,000to$140,000/ $80,000/ to$140,000/ An...  [b'Middle Management']   \n",
       "4  ['/ $2,800to$3,500/ $2,800/ to$3,500/ Monthly/...       [b'Professional']   \n",
       "\n",
       "                           Category  \\\n",
       "0       [b'Information Technology']   \n",
       "1  [b'Healthcare / Pharmaceutical']   \n",
       "2                       [b'Others']   \n",
       "3           [b'General Management']   \n",
       "4       [b'Information Technology']   \n",
       "\n",
       "                                        Requirements  \n",
       "0  ['RequirementsRequirements  Minimum Degree/Dip...  \n",
       "1  ['Requirements A University / Bachelors degree...  \n",
       "2  ['Requirements·\\xa0\\xa0\\xa0\\xa0\\xa0\\xa0\\xa0A s...  \n",
       "3  ['RequirementsQualifications  10 plus years ex...  \n",
       "4  [\"Requirements Bachelor's Degree in Computer S...  "
      ]
     },
     "execution_count": 5,
     "metadata": {},
     "output_type": "execute_result"
    }
   ],
   "source": [
    "job.head()"
   ]
  },
  {
   "cell_type": "code",
   "execution_count": 6,
   "metadata": {},
   "outputs": [
    {
     "data": {
      "text/plain": [
       "(3932, 7)"
      ]
     },
     "execution_count": 6,
     "metadata": {},
     "output_type": "execute_result"
    }
   ],
   "source": [
    "job_clean = job.drop_duplicates(subset='Job_Id', keep='first') #remove duplicate based on Job ID\n",
    "\n",
    "#drop job Id as it is only use to remove duplicates\n",
    "job_clean = job_clean.drop(columns=['Job_Id','Unnamed: 0'])\n",
    "job_clean.shape"
   ]
  },
  {
   "cell_type": "code",
   "execution_count": 7,
   "metadata": {},
   "outputs": [
    {
     "data": {
      "text/html": [
       "<div>\n",
       "<style scoped>\n",
       "    .dataframe tbody tr th:only-of-type {\n",
       "        vertical-align: middle;\n",
       "    }\n",
       "\n",
       "    .dataframe tbody tr th {\n",
       "        vertical-align: top;\n",
       "    }\n",
       "\n",
       "    .dataframe thead th {\n",
       "        text-align: right;\n",
       "    }\n",
       "</style>\n",
       "<table border=\"1\" class=\"dataframe\">\n",
       "  <thead>\n",
       "    <tr style=\"text-align: right;\">\n",
       "      <th></th>\n",
       "      <th>Job_Title</th>\n",
       "      <th>Company</th>\n",
       "      <th>Date_Posted</th>\n",
       "      <th>Salary</th>\n",
       "      <th>Seniority</th>\n",
       "      <th>Category</th>\n",
       "      <th>Requirements</th>\n",
       "    </tr>\n",
       "  </thead>\n",
       "  <tbody>\n",
       "    <tr>\n",
       "      <th>0</th>\n",
       "      <td>Data Engineer (5 days, Orchard, $3500-4000)</td>\n",
       "      <td>MACHSPEED HUMAN RESOURCES PTE. LTD.</td>\n",
       "      <td>Posted 27 Apr 2019</td>\n",
       "      <td>/ $3,500to$4,000/ $3,500/ to$4,000/ Monthly/ C...</td>\n",
       "      <td>Executive</td>\n",
       "      <td>Information Technology</td>\n",
       "      <td>Minimum Degree/Diploma in Computer Science, ...</td>\n",
       "    </tr>\n",
       "    <tr>\n",
       "      <th>1</th>\n",
       "      <td>Customer Engagement Excellence Learning Manager</td>\n",
       "      <td>BAYER (SOUTH EAST ASIA) PTE LTD</td>\n",
       "      <td>Posted 27 Apr 2019</td>\n",
       "      <td>/ $10,400to$15,400/ $10,400/ to$15,400/ Monthl...</td>\n",
       "      <td>Manager</td>\n",
       "      <td>Healthcare / Pharmaceutical</td>\n",
       "      <td>A University / Bachelors degree holder in app...</td>\n",
       "    </tr>\n",
       "    <tr>\n",
       "      <th>2</th>\n",
       "      <td>Manager, Research</td>\n",
       "      <td>GROUP ONE HOLDINGS PTE. LTD.</td>\n",
       "      <td>Posted 27 Apr 2019</td>\n",
       "      <td>/ $5,000to$8,000/ $5,000/ to$8,000/ Monthly/ C...</td>\n",
       "      <td>Manager</td>\n",
       "      <td>Others</td>\n",
       "      <td>·A smart communicator, a team player with proa...</td>\n",
       "    </tr>\n",
       "    <tr>\n",
       "      <th>3</th>\n",
       "      <td>Head of Research &amp; Evaluation, Asia</td>\n",
       "      <td>SAVE THE CHILDREN ASIA REGIONAL OFFICE LIMITED</td>\n",
       "      <td>Posted 27 Apr 2019</td>\n",
       "      <td>/ $80,000to$140,000/ $80,000/ to$140,000/ Annu...</td>\n",
       "      <td>Middle Management</td>\n",
       "      <td>General Management</td>\n",
       "      <td>Qualifications  10 plus years expertise and do...</td>\n",
       "    </tr>\n",
       "    <tr>\n",
       "      <th>4</th>\n",
       "      <td>IT Systems Adminstrator</td>\n",
       "      <td>ELIXIR TECHNOLOGY PTE LTD</td>\n",
       "      <td>Posted 27 Apr 2019</td>\n",
       "      <td>/ $2,800to$3,500/ $2,800/ to$3,500/ Monthly/ C...</td>\n",
       "      <td>Professional</td>\n",
       "      <td>Information Technology</td>\n",
       "      <td>\" Bachelors Degree in Computer Science, Comput...</td>\n",
       "    </tr>\n",
       "  </tbody>\n",
       "</table>\n",
       "</div>"
      ],
      "text/plain": [
       "                                         Job_Title  \\\n",
       "0      Data Engineer (5 days, Orchard, $3500-4000)   \n",
       "1  Customer Engagement Excellence Learning Manager   \n",
       "2                                Manager, Research   \n",
       "3              Head of Research & Evaluation, Asia   \n",
       "4                          IT Systems Adminstrator   \n",
       "\n",
       "                                          Company         Date_Posted  \\\n",
       "0             MACHSPEED HUMAN RESOURCES PTE. LTD.  Posted 27 Apr 2019   \n",
       "1                 BAYER (SOUTH EAST ASIA) PTE LTD  Posted 27 Apr 2019   \n",
       "2                    GROUP ONE HOLDINGS PTE. LTD.  Posted 27 Apr 2019   \n",
       "3  SAVE THE CHILDREN ASIA REGIONAL OFFICE LIMITED  Posted 27 Apr 2019   \n",
       "4                       ELIXIR TECHNOLOGY PTE LTD  Posted 27 Apr 2019   \n",
       "\n",
       "                                              Salary          Seniority  \\\n",
       "0  / $3,500to$4,000/ $3,500/ to$4,000/ Monthly/ C...          Executive   \n",
       "1  / $10,400to$15,400/ $10,400/ to$15,400/ Monthl...            Manager   \n",
       "2  / $5,000to$8,000/ $5,000/ to$8,000/ Monthly/ C...            Manager   \n",
       "3  / $80,000to$140,000/ $80,000/ to$140,000/ Annu...  Middle Management   \n",
       "4  / $2,800to$3,500/ $2,800/ to$3,500/ Monthly/ C...       Professional   \n",
       "\n",
       "                      Category  \\\n",
       "0       Information Technology   \n",
       "1  Healthcare / Pharmaceutical   \n",
       "2                       Others   \n",
       "3           General Management   \n",
       "4       Information Technology   \n",
       "\n",
       "                                        Requirements  \n",
       "0    Minimum Degree/Diploma in Computer Science, ...  \n",
       "1   A University / Bachelors degree holder in app...  \n",
       "2  ·A smart communicator, a team player with proa...  \n",
       "3  Qualifications  10 plus years expertise and do...  \n",
       "4  \" Bachelors Degree in Computer Science, Comput...  "
      ]
     },
     "execution_count": 7,
     "metadata": {},
     "output_type": "execute_result"
    }
   ],
   "source": [
    "#perform data cleaning on every row and columms\n",
    "for col in job_clean.columns:\n",
    "    job_clean[col]=job_clean[col].str.replace(\"(\\[|\\]|b'|Requirements|'|amp;|xa0|\\\\\\|\\|xe2x80x93)\", \"\")\n",
    "job_clean.head()"
   ]
  },
  {
   "cell_type": "code",
   "execution_count": 8,
   "metadata": {},
   "outputs": [
    {
     "data": {
      "text/html": [
       "<div>\n",
       "<style scoped>\n",
       "    .dataframe tbody tr th:only-of-type {\n",
       "        vertical-align: middle;\n",
       "    }\n",
       "\n",
       "    .dataframe tbody tr th {\n",
       "        vertical-align: top;\n",
       "    }\n",
       "\n",
       "    .dataframe thead th {\n",
       "        text-align: right;\n",
       "    }\n",
       "</style>\n",
       "<table border=\"1\" class=\"dataframe\">\n",
       "  <thead>\n",
       "    <tr style=\"text-align: right;\">\n",
       "      <th></th>\n",
       "      <th>Job_Title</th>\n",
       "      <th>Company</th>\n",
       "      <th>Date_Posted</th>\n",
       "      <th>Salary</th>\n",
       "      <th>Seniority</th>\n",
       "      <th>Category</th>\n",
       "      <th>Requirements</th>\n",
       "    </tr>\n",
       "  </thead>\n",
       "  <tbody>\n",
       "    <tr>\n",
       "      <th>27</th>\n",
       "      <td></td>\n",
       "      <td></td>\n",
       "      <td></td>\n",
       "      <td></td>\n",
       "      <td></td>\n",
       "      <td></td>\n",
       "      <td></td>\n",
       "    </tr>\n",
       "  </tbody>\n",
       "</table>\n",
       "</div>"
      ],
      "text/plain": [
       "   Job_Title Company Date_Posted Salary Seniority Category Requirements\n",
       "27                                                                     "
      ]
     },
     "execution_count": 8,
     "metadata": {},
     "output_type": "execute_result"
    }
   ],
   "source": [
    "#check for row with missing job title\n",
    "job_clean[job_clean['Job_Title'] == '']"
   ]
  },
  {
   "cell_type": "code",
   "execution_count": 9,
   "metadata": {},
   "outputs": [],
   "source": [
    "empty = job_clean['Job_Title'] == ''"
   ]
  },
  {
   "cell_type": "code",
   "execution_count": 10,
   "metadata": {},
   "outputs": [],
   "source": [
    "#remove row without job title\n",
    "job_clean = job_clean[~empty]"
   ]
  },
  {
   "cell_type": "code",
   "execution_count": 11,
   "metadata": {},
   "outputs": [],
   "source": [
    "#remove row without salary\n",
    "no_salary = job_clean['Salary'].str.contains('Salary undisclosed')"
   ]
  },
  {
   "cell_type": "code",
   "execution_count": 12,
   "metadata": {},
   "outputs": [],
   "source": [
    "job_clean_df = job_clean[~no_salary]"
   ]
  },
  {
   "cell_type": "code",
   "execution_count": 13,
   "metadata": {},
   "outputs": [],
   "source": [
    "#extract salary columns due to contain multiple information\n",
    "salary_range = job_clean_df[\"Salary\"].str.split(\"/\", n = 5, expand = True) "
   ]
  },
  {
   "cell_type": "code",
   "execution_count": 14,
   "metadata": {},
   "outputs": [
    {
     "data": {
      "text/html": [
       "<div>\n",
       "<style scoped>\n",
       "    .dataframe tbody tr th:only-of-type {\n",
       "        vertical-align: middle;\n",
       "    }\n",
       "\n",
       "    .dataframe tbody tr th {\n",
       "        vertical-align: top;\n",
       "    }\n",
       "\n",
       "    .dataframe thead th {\n",
       "        text-align: right;\n",
       "    }\n",
       "</style>\n",
       "<table border=\"1\" class=\"dataframe\">\n",
       "  <thead>\n",
       "    <tr style=\"text-align: right;\">\n",
       "      <th></th>\n",
       "      <th>0</th>\n",
       "      <th>1</th>\n",
       "      <th>2</th>\n",
       "      <th>3</th>\n",
       "      <th>4</th>\n",
       "      <th>5</th>\n",
       "    </tr>\n",
       "  </thead>\n",
       "  <tbody>\n",
       "    <tr>\n",
       "      <th>0</th>\n",
       "      <td></td>\n",
       "      <td>$3,500to$4,000</td>\n",
       "      <td>$3,500</td>\n",
       "      <td>to$4,000</td>\n",
       "      <td>Monthly</td>\n",
       "      <td>Closing on 27 May 2019</td>\n",
       "    </tr>\n",
       "    <tr>\n",
       "      <th>1</th>\n",
       "      <td></td>\n",
       "      <td>$10,400to$15,400</td>\n",
       "      <td>$10,400</td>\n",
       "      <td>to$15,400</td>\n",
       "      <td>Monthly</td>\n",
       "      <td>Closing on 12 May 2019</td>\n",
       "    </tr>\n",
       "    <tr>\n",
       "      <th>2</th>\n",
       "      <td></td>\n",
       "      <td>$5,000to$8,000</td>\n",
       "      <td>$5,000</td>\n",
       "      <td>to$8,000</td>\n",
       "      <td>Monthly</td>\n",
       "      <td>Closing on 27 May 2019</td>\n",
       "    </tr>\n",
       "    <tr>\n",
       "      <th>3</th>\n",
       "      <td></td>\n",
       "      <td>$80,000to$140,000</td>\n",
       "      <td>$80,000</td>\n",
       "      <td>to$140,000</td>\n",
       "      <td>Annually</td>\n",
       "      <td>Closing on 11 May 2019</td>\n",
       "    </tr>\n",
       "    <tr>\n",
       "      <th>4</th>\n",
       "      <td></td>\n",
       "      <td>$2,800to$3,500</td>\n",
       "      <td>$2,800</td>\n",
       "      <td>to$3,500</td>\n",
       "      <td>Monthly</td>\n",
       "      <td>Closing on 27 May 2019</td>\n",
       "    </tr>\n",
       "  </tbody>\n",
       "</table>\n",
       "</div>"
      ],
      "text/plain": [
       "  0                   1         2            3          4  \\\n",
       "0        $3,500to$4,000    $3,500     to$4,000    Monthly   \n",
       "1      $10,400to$15,400   $10,400    to$15,400    Monthly   \n",
       "2        $5,000to$8,000    $5,000     to$8,000    Monthly   \n",
       "3     $80,000to$140,000   $80,000   to$140,000   Annually   \n",
       "4        $2,800to$3,500    $2,800     to$3,500    Monthly   \n",
       "\n",
       "                         5  \n",
       "0   Closing on 27 May 2019  \n",
       "1   Closing on 12 May 2019  \n",
       "2   Closing on 27 May 2019  \n",
       "3   Closing on 11 May 2019  \n",
       "4   Closing on 27 May 2019  "
      ]
     },
     "execution_count": 14,
     "metadata": {},
     "output_type": "execute_result"
    }
   ],
   "source": [
    "salary_range.head()"
   ]
  },
  {
   "cell_type": "code",
   "execution_count": 15,
   "metadata": {},
   "outputs": [],
   "source": [
    "#Give columns name to the dataframe\n",
    "salary_range = salary_range.rename({0:'recruiter',1:'range', 2:'min', 3:'max', 4:'type'}, axis='columns')"
   ]
  },
  {
   "cell_type": "code",
   "execution_count": 16,
   "metadata": {},
   "outputs": [],
   "source": [
    "#split the range column which contain min and max salary\n",
    "min_max = salary_range['range'].str.split('to', n=2, expand = True)\n",
    "min_max = min_max.rename({0:'sal_min', 1:'sal_max'}, axis='columns')"
   ]
  },
  {
   "cell_type": "code",
   "execution_count": 17,
   "metadata": {},
   "outputs": [],
   "source": [
    "#concat min_max salary dataframe with salary range dataframe\n",
    "salary_range = pd.concat([salary_range, min_max], axis=1)"
   ]
  },
  {
   "cell_type": "code",
   "execution_count": 18,
   "metadata": {},
   "outputs": [
    {
     "data": {
      "text/plain": [
       "(3472, 8)"
      ]
     },
     "execution_count": 18,
     "metadata": {},
     "output_type": "execute_result"
    }
   ],
   "source": [
    "salary_range.shape"
   ]
  },
  {
   "cell_type": "code",
   "execution_count": 19,
   "metadata": {},
   "outputs": [
    {
     "data": {
      "text/html": [
       "<div>\n",
       "<style scoped>\n",
       "    .dataframe tbody tr th:only-of-type {\n",
       "        vertical-align: middle;\n",
       "    }\n",
       "\n",
       "    .dataframe tbody tr th {\n",
       "        vertical-align: top;\n",
       "    }\n",
       "\n",
       "    .dataframe thead th {\n",
       "        text-align: right;\n",
       "    }\n",
       "</style>\n",
       "<table border=\"1\" class=\"dataframe\">\n",
       "  <thead>\n",
       "    <tr style=\"text-align: right;\">\n",
       "      <th></th>\n",
       "      <th>recruiter</th>\n",
       "      <th>range</th>\n",
       "      <th>min</th>\n",
       "      <th>max</th>\n",
       "      <th>type</th>\n",
       "      <th>5</th>\n",
       "      <th>sal_min</th>\n",
       "      <th>sal_max</th>\n",
       "    </tr>\n",
       "  </thead>\n",
       "  <tbody>\n",
       "    <tr>\n",
       "      <th>0</th>\n",
       "      <td></td>\n",
       "      <td>35004000</td>\n",
       "      <td>3500</td>\n",
       "      <td>4000</td>\n",
       "      <td>Monthly</td>\n",
       "      <td>Closing on 27 May 2019</td>\n",
       "      <td>3500</td>\n",
       "      <td>4000</td>\n",
       "    </tr>\n",
       "    <tr>\n",
       "      <th>1</th>\n",
       "      <td></td>\n",
       "      <td>1040015400</td>\n",
       "      <td>10400</td>\n",
       "      <td>15400</td>\n",
       "      <td>Monthly</td>\n",
       "      <td>Closing on 12 May 2019</td>\n",
       "      <td>10400</td>\n",
       "      <td>15400</td>\n",
       "    </tr>\n",
       "    <tr>\n",
       "      <th>2</th>\n",
       "      <td></td>\n",
       "      <td>50008000</td>\n",
       "      <td>5000</td>\n",
       "      <td>8000</td>\n",
       "      <td>Monthly</td>\n",
       "      <td>Closing on 27 May 2019</td>\n",
       "      <td>5000</td>\n",
       "      <td>8000</td>\n",
       "    </tr>\n",
       "    <tr>\n",
       "      <th>3</th>\n",
       "      <td></td>\n",
       "      <td>80000140000</td>\n",
       "      <td>80000</td>\n",
       "      <td>140000</td>\n",
       "      <td>Annually</td>\n",
       "      <td>Closing on 11 May 2019</td>\n",
       "      <td>80000</td>\n",
       "      <td>140000</td>\n",
       "    </tr>\n",
       "    <tr>\n",
       "      <th>4</th>\n",
       "      <td></td>\n",
       "      <td>28003500</td>\n",
       "      <td>2800</td>\n",
       "      <td>3500</td>\n",
       "      <td>Monthly</td>\n",
       "      <td>Closing on 27 May 2019</td>\n",
       "      <td>2800</td>\n",
       "      <td>3500</td>\n",
       "    </tr>\n",
       "  </tbody>\n",
       "</table>\n",
       "</div>"
      ],
      "text/plain": [
       "  recruiter         range     min      max       type  \\\n",
       "0                35004000    3500     4000    Monthly   \n",
       "1              1040015400   10400    15400    Monthly   \n",
       "2                50008000    5000     8000    Monthly   \n",
       "3             80000140000   80000   140000   Annually   \n",
       "4                28003500    2800     3500    Monthly   \n",
       "\n",
       "                         5 sal_min sal_max  \n",
       "0   Closing on 27 May 2019    3500    4000  \n",
       "1   Closing on 12 May 2019   10400   15400  \n",
       "2   Closing on 27 May 2019    5000    8000  \n",
       "3   Closing on 11 May 2019   80000  140000  \n",
       "4   Closing on 27 May 2019    2800    3500  "
      ]
     },
     "execution_count": 19,
     "metadata": {},
     "output_type": "execute_result"
    }
   ],
   "source": [
    "#removed $ and 'to' from salary \n",
    "for col in salary_range.columns:\n",
    "    salary_range[col]=salary_range[col].str.replace('(\\$|,|to)', '')\n",
    "salary_range.head()"
   ]
  },
  {
   "cell_type": "code",
   "execution_count": 20,
   "metadata": {},
   "outputs": [
    {
     "data": {
      "text/html": [
       "<div>\n",
       "<style scoped>\n",
       "    .dataframe tbody tr th:only-of-type {\n",
       "        vertical-align: middle;\n",
       "    }\n",
       "\n",
       "    .dataframe tbody tr th {\n",
       "        vertical-align: top;\n",
       "    }\n",
       "\n",
       "    .dataframe thead th {\n",
       "        text-align: right;\n",
       "    }\n",
       "</style>\n",
       "<table border=\"1\" class=\"dataframe\">\n",
       "  <thead>\n",
       "    <tr style=\"text-align: right;\">\n",
       "      <th></th>\n",
       "      <th>recruiter</th>\n",
       "      <th>range</th>\n",
       "      <th>min</th>\n",
       "      <th>max</th>\n",
       "      <th>type</th>\n",
       "      <th>5</th>\n",
       "      <th>sal_min</th>\n",
       "      <th>sal_max</th>\n",
       "    </tr>\n",
       "  </thead>\n",
       "  <tbody>\n",
       "    <tr>\n",
       "      <th>53</th>\n",
       "      <td>via Recruiter</td>\n",
       "      <td></td>\n",
       "      <td>25003200</td>\n",
       "      <td>2500</td>\n",
       "      <td>3200</td>\n",
       "      <td>Monthly/ Closing on 26 May 2019</td>\n",
       "      <td></td>\n",
       "      <td>None</td>\n",
       "    </tr>\n",
       "    <tr>\n",
       "      <th>72</th>\n",
       "      <td>Recruiter</td>\n",
       "      <td></td>\n",
       "      <td>30005000</td>\n",
       "      <td>3000</td>\n",
       "      <td>5000</td>\n",
       "      <td>Monthly/ Closing on 26 May 2019</td>\n",
       "      <td></td>\n",
       "      <td>None</td>\n",
       "    </tr>\n",
       "    <tr>\n",
       "      <th>96</th>\n",
       "      <td>via Recruiter</td>\n",
       "      <td></td>\n",
       "      <td>18002600</td>\n",
       "      <td>1800</td>\n",
       "      <td>2600</td>\n",
       "      <td>Monthly/ Closing on 26 May 2019</td>\n",
       "      <td></td>\n",
       "      <td>None</td>\n",
       "    </tr>\n",
       "    <tr>\n",
       "      <th>99</th>\n",
       "      <td>via Recruiter</td>\n",
       "      <td></td>\n",
       "      <td>63006800</td>\n",
       "      <td>6300</td>\n",
       "      <td>6800</td>\n",
       "      <td>Monthly/ Closing on 26 May 2019</td>\n",
       "      <td></td>\n",
       "      <td>None</td>\n",
       "    </tr>\n",
       "    <tr>\n",
       "      <th>103</th>\n",
       "      <td>via Recruiter</td>\n",
       "      <td></td>\n",
       "      <td>780012200</td>\n",
       "      <td>7800</td>\n",
       "      <td>12200</td>\n",
       "      <td>Monthly/ Closing on 10 May 2019</td>\n",
       "      <td></td>\n",
       "      <td>None</td>\n",
       "    </tr>\n",
       "  </tbody>\n",
       "</table>\n",
       "</div>"
      ],
      "text/plain": [
       "         recruiter range         min    max    type  \\\n",
       "53   via Recruiter          25003200   2500    3200   \n",
       "72       Recruiter          30005000   3000    5000   \n",
       "96   via Recruiter          18002600   1800    2600   \n",
       "99   via Recruiter          63006800   6300    6800   \n",
       "103  via Recruiter         780012200   7800   12200   \n",
       "\n",
       "                                    5 sal_min sal_max  \n",
       "53    Monthly/ Closing on 26 May 2019            None  \n",
       "72    Monthly/ Closing on 26 May 2019            None  \n",
       "96    Monthly/ Closing on 26 May 2019            None  \n",
       "99    Monthly/ Closing on 26 May 2019            None  \n",
       "103   Monthly/ Closing on 10 May 2019            None  "
      ]
     },
     "execution_count": 20,
     "metadata": {},
     "output_type": "execute_result"
    }
   ],
   "source": [
    "#data from job posted by recruiter are shifted to the right\n",
    "#salary min falls under max and salary max falls under type\n",
    "salary_range[salary_range['recruiter'].str.contains('Recruiter')].head()"
   ]
  },
  {
   "cell_type": "code",
   "execution_count": 21,
   "metadata": {},
   "outputs": [],
   "source": [
    "#adjust salary min and max location for recruiter data\n",
    "salary_range.loc[salary_range['recruiter'].str.contains('Recruiter'), 'sal_min'] = salary_range['max']\n",
    "salary_range.loc[salary_range['recruiter'].str.contains('Recruiter'), 'sal_max'] = salary_range['type']"
   ]
  },
  {
   "cell_type": "code",
   "execution_count": 22,
   "metadata": {},
   "outputs": [],
   "source": [
    "#convert from ojbect to float for statistical infomation\n",
    "salary_range['sal_min'] = salary_range['sal_min'].astype('float64')\n",
    "salary_range['sal_max'] = salary_range['sal_max'].astype('float64')"
   ]
  },
  {
   "cell_type": "code",
   "execution_count": 23,
   "metadata": {},
   "outputs": [
    {
     "data": {
      "text/html": [
       "<div>\n",
       "<style scoped>\n",
       "    .dataframe tbody tr th:only-of-type {\n",
       "        vertical-align: middle;\n",
       "    }\n",
       "\n",
       "    .dataframe tbody tr th {\n",
       "        vertical-align: top;\n",
       "    }\n",
       "\n",
       "    .dataframe thead th {\n",
       "        text-align: right;\n",
       "    }\n",
       "</style>\n",
       "<table border=\"1\" class=\"dataframe\">\n",
       "  <thead>\n",
       "    <tr style=\"text-align: right;\">\n",
       "      <th></th>\n",
       "      <th>sal_min</th>\n",
       "      <th>sal_max</th>\n",
       "    </tr>\n",
       "  </thead>\n",
       "  <tbody>\n",
       "    <tr>\n",
       "      <th>count</th>\n",
       "      <td>3472.000000</td>\n",
       "      <td>3472.000000</td>\n",
       "    </tr>\n",
       "    <tr>\n",
       "      <th>mean</th>\n",
       "      <td>7215.020449</td>\n",
       "      <td>11079.663882</td>\n",
       "    </tr>\n",
       "    <tr>\n",
       "      <th>std</th>\n",
       "      <td>15684.739939</td>\n",
       "      <td>23760.781468</td>\n",
       "    </tr>\n",
       "    <tr>\n",
       "      <th>min</th>\n",
       "      <td>1.000000</td>\n",
       "      <td>2.000000</td>\n",
       "    </tr>\n",
       "    <tr>\n",
       "      <th>25%</th>\n",
       "      <td>2800.000000</td>\n",
       "      <td>4000.000000</td>\n",
       "    </tr>\n",
       "    <tr>\n",
       "      <th>50%</th>\n",
       "      <td>4100.000000</td>\n",
       "      <td>6800.000000</td>\n",
       "    </tr>\n",
       "    <tr>\n",
       "      <th>75%</th>\n",
       "      <td>6500.000000</td>\n",
       "      <td>10000.000000</td>\n",
       "    </tr>\n",
       "    <tr>\n",
       "      <th>max</th>\n",
       "      <td>280000.000000</td>\n",
       "      <td>405000.000000</td>\n",
       "    </tr>\n",
       "  </tbody>\n",
       "</table>\n",
       "</div>"
      ],
      "text/plain": [
       "             sal_min        sal_max\n",
       "count    3472.000000    3472.000000\n",
       "mean     7215.020449   11079.663882\n",
       "std     15684.739939   23760.781468\n",
       "min         1.000000       2.000000\n",
       "25%      2800.000000    4000.000000\n",
       "50%      4100.000000    6800.000000\n",
       "75%      6500.000000   10000.000000\n",
       "max    280000.000000  405000.000000"
      ]
     },
     "execution_count": 23,
     "metadata": {},
     "output_type": "execute_result"
    }
   ],
   "source": [
    "#from the min and max value, extream outliers were observed\n",
    "salary_range.describe()"
   ]
  },
  {
   "cell_type": "code",
   "execution_count": 31,
   "metadata": {},
   "outputs": [
    {
     "data": {
      "text/plain": [
       "<matplotlib.axes._subplots.AxesSubplot at 0x1a1e870160>"
      ]
     },
     "execution_count": 31,
     "metadata": {},
     "output_type": "execute_result"
    },
    {
     "data": {
      "image/png": "[encoded data removed]",
      "text/plain": [
       "<Figure size 432x288 with 1 Axes>"
      ]
     },
     "metadata": {
      "image/png": {
       "height": 260,
       "width": 429
      },
      "needs_background": "light"
     },
     "output_type": "display_data"
    }
   ],
   "source": [
    "sns.distplot(salary_range['sal_max'],bins=15)"
   ]
  },
  {
   "cell_type": "markdown",
   "metadata": {},
   "source": [
    "From the plot, outliers caused the salary distribution to be heavily skewed"
   ]
  },
  {
   "cell_type": "code",
   "execution_count": 32,
   "metadata": {},
   "outputs": [],
   "source": [
    "#create a condition to check for high outliers\n",
    "abovemean = 3*np.mean(salary_range['sal_min'])"
   ]
  },
  {
   "cell_type": "code",
   "execution_count": 33,
   "metadata": {},
   "outputs": [
    {
     "data": {
      "text/html": [
       "<div>\n",
       "<style scoped>\n",
       "    .dataframe tbody tr th:only-of-type {\n",
       "        vertical-align: middle;\n",
       "    }\n",
       "\n",
       "    .dataframe tbody tr th {\n",
       "        vertical-align: top;\n",
       "    }\n",
       "\n",
       "    .dataframe thead th {\n",
       "        text-align: right;\n",
       "    }\n",
       "</style>\n",
       "<table border=\"1\" class=\"dataframe\">\n",
       "  <thead>\n",
       "    <tr style=\"text-align: right;\">\n",
       "      <th></th>\n",
       "      <th>recruiter</th>\n",
       "      <th>type</th>\n",
       "      <th>sal_min</th>\n",
       "      <th>sal_max</th>\n",
       "    </tr>\n",
       "  </thead>\n",
       "  <tbody>\n",
       "    <tr>\n",
       "      <th>428</th>\n",
       "      <td>Recruiter</td>\n",
       "      <td>180000</td>\n",
       "      <td>110000.0</td>\n",
       "      <td>180000.0</td>\n",
       "    </tr>\n",
       "    <tr>\n",
       "      <th>1859</th>\n",
       "      <td>Recruiter</td>\n",
       "      <td>80000</td>\n",
       "      <td>70000.0</td>\n",
       "      <td>80000.0</td>\n",
       "    </tr>\n",
       "  </tbody>\n",
       "</table>\n",
       "</div>"
      ],
      "text/plain": [
       "      recruiter     type   sal_min   sal_max\n",
       "428   Recruiter   180000  110000.0  180000.0\n",
       "1859  Recruiter    80000   70000.0   80000.0"
      ]
     },
     "execution_count": 33,
     "metadata": {},
     "output_type": "execute_result"
    }
   ],
   "source": [
    "#found salary which is 3 times higher than mean are actually Annual salary\n",
    "salary_range[((salary_range['recruiter'].str.contains('Recruiter')) & (salary_range['sal_min'] > abovemean))]"
   ]
  },
  {
   "cell_type": "code",
   "execution_count": 34,
   "metadata": {},
   "outputs": [],
   "source": [
    "#Rename salary type accordingly based on salary\n",
    "salary_range.loc[((salary_range['recruiter'].str.contains('Recruiter')) & (salary_range['sal_min'] > abovemean)), 'type'] = ' Annually'\n",
    "salary_range.loc[((salary_range['recruiter'].str.contains('Recruiter')) & (salary_range['sal_min'] < abovemean)), 'type'] = ' Monthly'"
   ]
  },
  {
   "cell_type": "code",
   "execution_count": 35,
   "metadata": {},
   "outputs": [
    {
     "ename": "KeyError",
     "evalue": "\"['range' 'min' 'max' 5] not found in axis\"",
     "output_type": "error",
     "traceback": [
      "\u001b[0;31m---------------------------------------------------------------------------\u001b[0m",
      "\u001b[0;31mKeyError\u001b[0m                                  Traceback (most recent call last)",
      "\u001b[0;32m<ipython-input-35-a8534875c578>\u001b[0m in \u001b[0;36m<module>\u001b[0;34m\u001b[0m\n\u001b[1;32m      1\u001b[0m \u001b[0;31m#only keep relevent columns before merge back\u001b[0m\u001b[0;34m\u001b[0m\u001b[0;34m\u001b[0m\u001b[0;34m\u001b[0m\u001b[0m\n\u001b[0;32m----> 2\u001b[0;31m \u001b[0msalary_range\u001b[0m \u001b[0;34m=\u001b[0m \u001b[0msalary_range\u001b[0m\u001b[0;34m.\u001b[0m\u001b[0mdrop\u001b[0m\u001b[0;34m(\u001b[0m\u001b[0mcolumns\u001b[0m\u001b[0;34m=\u001b[0m\u001b[0;34m[\u001b[0m\u001b[0;34m'range'\u001b[0m\u001b[0;34m,\u001b[0m\u001b[0;34m'min'\u001b[0m\u001b[0;34m,\u001b[0m\u001b[0;34m'max'\u001b[0m\u001b[0;34m,\u001b[0m\u001b[0;36m5\u001b[0m\u001b[0;34m]\u001b[0m\u001b[0;34m)\u001b[0m\u001b[0;34m\u001b[0m\u001b[0;34m\u001b[0m\u001b[0m\n\u001b[0m",
      "\u001b[0;32m/anaconda3/lib/python3.7/site-packages/pandas/core/frame.py\u001b[0m in \u001b[0;36mdrop\u001b[0;34m(self, labels, axis, index, columns, level, inplace, errors)\u001b[0m\n\u001b[1;32m   3695\u001b[0m                                            \u001b[0mindex\u001b[0m\u001b[0;34m=\u001b[0m\u001b[0mindex\u001b[0m\u001b[0;34m,\u001b[0m \u001b[0mcolumns\u001b[0m\u001b[0;34m=\u001b[0m\u001b[0mcolumns\u001b[0m\u001b[0;34m,\u001b[0m\u001b[0;34m\u001b[0m\u001b[0;34m\u001b[0m\u001b[0m\n\u001b[1;32m   3696\u001b[0m                                            \u001b[0mlevel\u001b[0m\u001b[0;34m=\u001b[0m\u001b[0mlevel\u001b[0m\u001b[0;34m,\u001b[0m \u001b[0minplace\u001b[0m\u001b[0;34m=\u001b[0m\u001b[0minplace\u001b[0m\u001b[0;34m,\u001b[0m\u001b[0;34m\u001b[0m\u001b[0;34m\u001b[0m\u001b[0m\n\u001b[0;32m-> 3697\u001b[0;31m                                            errors=errors)\n\u001b[0m\u001b[1;32m   3698\u001b[0m \u001b[0;34m\u001b[0m\u001b[0m\n\u001b[1;32m   3699\u001b[0m     @rewrite_axis_style_signature('mapper', [('copy', True),\n",
      "\u001b[0;32m/anaconda3/lib/python3.7/site-packages/pandas/core/generic.py\u001b[0m in \u001b[0;36mdrop\u001b[0;34m(self, labels, axis, index, columns, level, inplace, errors)\u001b[0m\n\u001b[1;32m   3109\u001b[0m         \u001b[0;32mfor\u001b[0m \u001b[0maxis\u001b[0m\u001b[0;34m,\u001b[0m \u001b[0mlabels\u001b[0m \u001b[0;32min\u001b[0m \u001b[0maxes\u001b[0m\u001b[0;34m.\u001b[0m\u001b[0mitems\u001b[0m\u001b[0;34m(\u001b[0m\u001b[0;34m)\u001b[0m\u001b[0;34m:\u001b[0m\u001b[0;34m\u001b[0m\u001b[0;34m\u001b[0m\u001b[0m\n\u001b[1;32m   3110\u001b[0m             \u001b[0;32mif\u001b[0m \u001b[0mlabels\u001b[0m \u001b[0;32mis\u001b[0m \u001b[0;32mnot\u001b[0m \u001b[0;32mNone\u001b[0m\u001b[0;34m:\u001b[0m\u001b[0;34m\u001b[0m\u001b[0;34m\u001b[0m\u001b[0m\n\u001b[0;32m-> 3111\u001b[0;31m                 \u001b[0mobj\u001b[0m \u001b[0;34m=\u001b[0m \u001b[0mobj\u001b[0m\u001b[0;34m.\u001b[0m\u001b[0m_drop_axis\u001b[0m\u001b[0;34m(\u001b[0m\u001b[0mlabels\u001b[0m\u001b[0;34m,\u001b[0m \u001b[0maxis\u001b[0m\u001b[0;34m,\u001b[0m \u001b[0mlevel\u001b[0m\u001b[0;34m=\u001b[0m\u001b[0mlevel\u001b[0m\u001b[0;34m,\u001b[0m \u001b[0merrors\u001b[0m\u001b[0;34m=\u001b[0m\u001b[0merrors\u001b[0m\u001b[0;34m)\u001b[0m\u001b[0;34m\u001b[0m\u001b[0;34m\u001b[0m\u001b[0m\n\u001b[0m\u001b[1;32m   3112\u001b[0m \u001b[0;34m\u001b[0m\u001b[0m\n\u001b[1;32m   3113\u001b[0m         \u001b[0;32mif\u001b[0m \u001b[0minplace\u001b[0m\u001b[0;34m:\u001b[0m\u001b[0;34m\u001b[0m\u001b[0;34m\u001b[0m\u001b[0m\n",
      "\u001b[0;32m/anaconda3/lib/python3.7/site-packages/pandas/core/generic.py\u001b[0m in \u001b[0;36m_drop_axis\u001b[0;34m(self, labels, axis, level, errors)\u001b[0m\n\u001b[1;32m   3141\u001b[0m                 \u001b[0mnew_axis\u001b[0m \u001b[0;34m=\u001b[0m \u001b[0maxis\u001b[0m\u001b[0;34m.\u001b[0m\u001b[0mdrop\u001b[0m\u001b[0;34m(\u001b[0m\u001b[0mlabels\u001b[0m\u001b[0;34m,\u001b[0m \u001b[0mlevel\u001b[0m\u001b[0;34m=\u001b[0m\u001b[0mlevel\u001b[0m\u001b[0;34m,\u001b[0m \u001b[0merrors\u001b[0m\u001b[0;34m=\u001b[0m\u001b[0merrors\u001b[0m\u001b[0;34m)\u001b[0m\u001b[0;34m\u001b[0m\u001b[0;34m\u001b[0m\u001b[0m\n\u001b[1;32m   3142\u001b[0m             \u001b[0;32melse\u001b[0m\u001b[0;34m:\u001b[0m\u001b[0;34m\u001b[0m\u001b[0;34m\u001b[0m\u001b[0m\n\u001b[0;32m-> 3143\u001b[0;31m                 \u001b[0mnew_axis\u001b[0m \u001b[0;34m=\u001b[0m \u001b[0maxis\u001b[0m\u001b[0;34m.\u001b[0m\u001b[0mdrop\u001b[0m\u001b[0;34m(\u001b[0m\u001b[0mlabels\u001b[0m\u001b[0;34m,\u001b[0m \u001b[0merrors\u001b[0m\u001b[0;34m=\u001b[0m\u001b[0merrors\u001b[0m\u001b[0;34m)\u001b[0m\u001b[0;34m\u001b[0m\u001b[0;34m\u001b[0m\u001b[0m\n\u001b[0m\u001b[1;32m   3144\u001b[0m             \u001b[0mresult\u001b[0m \u001b[0;34m=\u001b[0m \u001b[0mself\u001b[0m\u001b[0;34m.\u001b[0m\u001b[0mreindex\u001b[0m\u001b[0;34m(\u001b[0m\u001b[0;34m**\u001b[0m\u001b[0;34m{\u001b[0m\u001b[0maxis_name\u001b[0m\u001b[0;34m:\u001b[0m \u001b[0mnew_axis\u001b[0m\u001b[0;34m}\u001b[0m\u001b[0;34m)\u001b[0m\u001b[0;34m\u001b[0m\u001b[0;34m\u001b[0m\u001b[0m\n\u001b[1;32m   3145\u001b[0m \u001b[0;34m\u001b[0m\u001b[0m\n",
      "\u001b[0;32m/anaconda3/lib/python3.7/site-packages/pandas/core/indexes/base.py\u001b[0m in \u001b[0;36mdrop\u001b[0;34m(self, labels, errors)\u001b[0m\n\u001b[1;32m   4402\u001b[0m             \u001b[0;32mif\u001b[0m \u001b[0merrors\u001b[0m \u001b[0;34m!=\u001b[0m \u001b[0;34m'ignore'\u001b[0m\u001b[0;34m:\u001b[0m\u001b[0;34m\u001b[0m\u001b[0;34m\u001b[0m\u001b[0m\n\u001b[1;32m   4403\u001b[0m                 raise KeyError(\n\u001b[0;32m-> 4404\u001b[0;31m                     '{} not found in axis'.format(labels[mask]))\n\u001b[0m\u001b[1;32m   4405\u001b[0m             \u001b[0mindexer\u001b[0m \u001b[0;34m=\u001b[0m \u001b[0mindexer\u001b[0m\u001b[0;34m[\u001b[0m\u001b[0;34m~\u001b[0m\u001b[0mmask\u001b[0m\u001b[0;34m]\u001b[0m\u001b[0;34m\u001b[0m\u001b[0;34m\u001b[0m\u001b[0m\n\u001b[1;32m   4406\u001b[0m         \u001b[0;32mreturn\u001b[0m \u001b[0mself\u001b[0m\u001b[0;34m.\u001b[0m\u001b[0mdelete\u001b[0m\u001b[0;34m(\u001b[0m\u001b[0mindexer\u001b[0m\u001b[0;34m)\u001b[0m\u001b[0;34m\u001b[0m\u001b[0;34m\u001b[0m\u001b[0m\n",
      "\u001b[0;31mKeyError\u001b[0m: \"['range' 'min' 'max' 5] not found in axis\""
     ]
    }
   ],
   "source": [
    "#only keep relevent columns before merge back\n",
    "salary_range = salary_range.drop(columns=['range','min','max',5])"
   ]
  },
  {
   "cell_type": "code",
   "execution_count": 36,
   "metadata": {},
   "outputs": [],
   "source": [
    "#concat back to orginal dataframe after feature engineering completed for salary columns\n",
    "job_df = pd.concat([job_clean_df, salary_range], axis=1)"
   ]
  },
  {
   "cell_type": "code",
   "execution_count": 37,
   "metadata": {},
   "outputs": [],
   "source": [
    "#drop original salary columns and date posted due to feature not useful for prediction\n",
    "job_df = job_df.drop(columns=['Date_Posted','Salary','recruiter'])"
   ]
  },
  {
   "cell_type": "code",
   "execution_count": 38,
   "metadata": {},
   "outputs": [
    {
     "data": {
      "text/html": [
       "<div>\n",
       "<style scoped>\n",
       "    .dataframe tbody tr th:only-of-type {\n",
       "        vertical-align: middle;\n",
       "    }\n",
       "\n",
       "    .dataframe tbody tr th {\n",
       "        vertical-align: top;\n",
       "    }\n",
       "\n",
       "    .dataframe thead th {\n",
       "        text-align: right;\n",
       "    }\n",
       "</style>\n",
       "<table border=\"1\" class=\"dataframe\">\n",
       "  <thead>\n",
       "    <tr style=\"text-align: right;\">\n",
       "      <th></th>\n",
       "      <th>Job_Title</th>\n",
       "      <th>Company</th>\n",
       "      <th>Seniority</th>\n",
       "      <th>Category</th>\n",
       "      <th>Requirements</th>\n",
       "      <th>type</th>\n",
       "      <th>sal_min</th>\n",
       "      <th>sal_max</th>\n",
       "    </tr>\n",
       "  </thead>\n",
       "  <tbody>\n",
       "    <tr>\n",
       "      <th>809</th>\n",
       "      <td>Assistant Manager / Manager</td>\n",
       "      <td>SAMSUNG SDS ASIA PACIFIC PTE. LTD.</td>\n",
       "      <td>Senior Executive</td>\n",
       "      <td>Others</td>\n",
       "      <td>\" Bachelors degree in Mathematics, Computer Sc...</td>\n",
       "      <td>Monthly</td>\n",
       "      <td>5000.0</td>\n",
       "      <td>70000.0</td>\n",
       "    </tr>\n",
       "    <tr>\n",
       "      <th>1650</th>\n",
       "      <td>Sr Sitecore Developer</td>\n",
       "      <td>GATEWAY SEARCH PTE. LTD.</td>\n",
       "      <td>Senior Executive</td>\n",
       "      <td>Information Technology</td>\n",
       "      <td>2 years’ experience in designing, developing,...</td>\n",
       "      <td>Monthly</td>\n",
       "      <td>5000.0</td>\n",
       "      <td>75000.0</td>\n",
       "    </tr>\n",
       "    <tr>\n",
       "      <th>1860</th>\n",
       "      <td>Technical Consultant</td>\n",
       "      <td>RANDSTAD PTE. LIMITED</td>\n",
       "      <td>Senior Executive</td>\n",
       "      <td>Information Technology</td>\n",
       "      <td>:  • Degree in Information Technology or relat...</td>\n",
       "      <td>Monthly</td>\n",
       "      <td>7000.0</td>\n",
       "      <td>100000.0</td>\n",
       "    </tr>\n",
       "    <tr>\n",
       "      <th>3171</th>\n",
       "      <td>Front-End Developer</td>\n",
       "      <td>STANDARD CHARTERED BANK</td>\n",
       "      <td>Manager</td>\n",
       "      <td>Banking and Finance, Information Technology</td>\n",
       "      <td>Ideal Candidate: The successful candidate is e...</td>\n",
       "      <td>Monthly</td>\n",
       "      <td>10000.0</td>\n",
       "      <td>190000.0</td>\n",
       "    </tr>\n",
       "    <tr>\n",
       "      <th>3553</th>\n",
       "      <td>Software engineer</td>\n",
       "      <td>Company Undisclosed</td>\n",
       "      <td>Executive, Senior Executive</td>\n",
       "      <td>Information Technology</td>\n",
       "      <td>WHAT YOU’LL NEED:  Strong CS fundamentals (wit...</td>\n",
       "      <td>Monthly</td>\n",
       "      <td>4000.0</td>\n",
       "      <td>85000.0</td>\n",
       "    </tr>\n",
       "  </tbody>\n",
       "</table>\n",
       "</div>"
      ],
      "text/plain": [
       "                        Job_Title                             Company  \\\n",
       "809   Assistant Manager / Manager  SAMSUNG SDS ASIA PACIFIC PTE. LTD.   \n",
       "1650        Sr Sitecore Developer            GATEWAY SEARCH PTE. LTD.   \n",
       "1860         Technical Consultant               RANDSTAD PTE. LIMITED   \n",
       "3171          Front-End Developer             STANDARD CHARTERED BANK   \n",
       "3553            Software engineer                 Company Undisclosed   \n",
       "\n",
       "                        Seniority  \\\n",
       "809              Senior Executive   \n",
       "1650             Senior Executive   \n",
       "1860             Senior Executive   \n",
       "3171                      Manager   \n",
       "3553  Executive, Senior Executive   \n",
       "\n",
       "                                         Category  \\\n",
       "809                                        Others   \n",
       "1650                       Information Technology   \n",
       "1860                       Information Technology   \n",
       "3171  Banking and Finance, Information Technology   \n",
       "3553                       Information Technology   \n",
       "\n",
       "                                           Requirements      type  sal_min  \\\n",
       "809   \" Bachelors degree in Mathematics, Computer Sc...   Monthly   5000.0   \n",
       "1650   2 years’ experience in designing, developing,...   Monthly   5000.0   \n",
       "1860  :  • Degree in Information Technology or relat...   Monthly   7000.0   \n",
       "3171  Ideal Candidate: The successful candidate is e...   Monthly  10000.0   \n",
       "3553  WHAT YOU’LL NEED:  Strong CS fundamentals (wit...   Monthly   4000.0   \n",
       "\n",
       "       sal_max  \n",
       "809    70000.0  \n",
       "1650   75000.0  \n",
       "1860  100000.0  \n",
       "3171  190000.0  \n",
       "3553   85000.0  "
      ]
     },
     "execution_count": 38,
     "metadata": {},
     "output_type": "execute_result"
    }
   ],
   "source": [
    "#detected 5 jobs with unrealistic min and max monthly salary range (which is more than 10 times)\n",
    "job_df.loc[(job_df['sal_max']>10*job_df['sal_min'])]"
   ]
  },
  {
   "cell_type": "code",
   "execution_count": 39,
   "metadata": {},
   "outputs": [],
   "source": [
    "#assuming typo for sal_max 10 times more than sal_min. To correct value by sal_max divided by 10\n",
    "job_df.loc[(job_df['sal_max']>10*job_df['sal_min']), 'sal_max'] = job_df['sal_max']/10"
   ]
  },
  {
   "cell_type": "code",
   "execution_count": 40,
   "metadata": {},
   "outputs": [],
   "source": [
    "#standardize all salary type to Monthly\n",
    "job_df.loc[job_df['type'].str.contains(' Annually'), 'sal_min'] = round(job_df['sal_min']/12)\n",
    "job_df.loc[job_df['type'].str.contains(' Annually'), 'sal_max'] = round(job_df['sal_max']/12)\n",
    "job_df = job_df.drop(columns='type')"
   ]
  },
  {
   "cell_type": "code",
   "execution_count": 41,
   "metadata": {},
   "outputs": [],
   "source": [
    "#further remove job with same data from all columns\n",
    "job_df = job_df.drop_duplicates(subset=job_df.columns, keep='first')"
   ]
  },
  {
   "cell_type": "code",
   "execution_count": 42,
   "metadata": {},
   "outputs": [],
   "source": [
    "#further filter on job title with specific keywords\n",
    "title_key = ['DATA', 'MACHINE','ANALYST','MACHINE LEARNING','ANALYTICS','DEEP LEARNING','RESEARCH','NLP']\n",
    "key = '|'.join(title_key)\n",
    "data_job = job_df['Job_Title'].str.upper().str.contains(key)\n",
    "job_df = job_df[data_job]"
   ]
  },
  {
   "cell_type": "code",
   "execution_count": 43,
   "metadata": {},
   "outputs": [],
   "source": [
    "#to drop job with max salary less than 2000, assuming data entry/admin/operator job\n",
    "mask_low = job_df['sal_max']<=2000\n",
    "job_df = job_df[~mask_low]"
   ]
  },
  {
   "cell_type": "code",
   "execution_count": 44,
   "metadata": {},
   "outputs": [
    {
     "data": {
      "text/plain": [
       "<matplotlib.axes._subplots.AxesSubplot at 0x1a1e84a780>"
      ]
     },
     "execution_count": 44,
     "metadata": {},
     "output_type": "execute_result"
    },
    {
     "data": {
      "image/png": "[encoded data removed]",
      "text/plain": [
       "<Figure size 864x360 with 2 Axes>"
      ]
     },
     "metadata": {
      "image/png": {
       "height": 314,
       "width": 766
      },
      "needs_background": "light"
     },
     "output_type": "display_data"
    }
   ],
   "source": [
    "fig, ax =plt.subplots(nrows=1, ncols=2, figsize=(12,5))\n",
    "sns.boxplot(job_df['sal_max'], ax=ax[0])\n",
    "sns.distplot(job_df['sal_max'],bins=15, ax=ax[1])"
   ]
  },
  {
   "cell_type": "markdown",
   "metadata": {},
   "source": [
    "After few extream outliers were removed, median for sal_max is around $7500 but there are still few job with very high monthly salary"
   ]
  },
  {
   "cell_type": "code",
   "execution_count": 45,
   "metadata": {},
   "outputs": [
    {
     "data": {
      "text/html": [
       "<div>\n",
       "<style scoped>\n",
       "    .dataframe tbody tr th:only-of-type {\n",
       "        vertical-align: middle;\n",
       "    }\n",
       "\n",
       "    .dataframe tbody tr th {\n",
       "        vertical-align: top;\n",
       "    }\n",
       "\n",
       "    .dataframe thead th {\n",
       "        text-align: right;\n",
       "    }\n",
       "</style>\n",
       "<table border=\"1\" class=\"dataframe\">\n",
       "  <thead>\n",
       "    <tr style=\"text-align: right;\">\n",
       "      <th></th>\n",
       "      <th></th>\n",
       "      <th>Job_Title</th>\n",
       "      <th>Category</th>\n",
       "      <th>Requirements</th>\n",
       "      <th>sal_min</th>\n",
       "      <th>sal_max</th>\n",
       "    </tr>\n",
       "    <tr>\n",
       "      <th>Company</th>\n",
       "      <th>Seniority</th>\n",
       "      <th></th>\n",
       "      <th></th>\n",
       "      <th></th>\n",
       "      <th></th>\n",
       "      <th></th>\n",
       "    </tr>\n",
       "  </thead>\n",
       "  <tbody>\n",
       "    <tr>\n",
       "      <th>CISCO SYSTEMS (USA) PTE. LTD.</th>\n",
       "      <th>Professional</th>\n",
       "      <td>1</td>\n",
       "      <td>1</td>\n",
       "      <td>1</td>\n",
       "      <td>1</td>\n",
       "      <td>1</td>\n",
       "    </tr>\n",
       "    <tr>\n",
       "      <th>Company Undisclosed</th>\n",
       "      <th>Senior Management</th>\n",
       "      <td>2</td>\n",
       "      <td>2</td>\n",
       "      <td>2</td>\n",
       "      <td>2</td>\n",
       "      <td>2</td>\n",
       "    </tr>\n",
       "    <tr>\n",
       "      <th rowspan=\"2\" valign=\"top\">DBS BANK LTD.</th>\n",
       "      <th>Middle Management</th>\n",
       "      <td>1</td>\n",
       "      <td>1</td>\n",
       "      <td>1</td>\n",
       "      <td>1</td>\n",
       "      <td>1</td>\n",
       "    </tr>\n",
       "    <tr>\n",
       "      <th>Senior Management</th>\n",
       "      <td>7</td>\n",
       "      <td>7</td>\n",
       "      <td>7</td>\n",
       "      <td>7</td>\n",
       "      <td>7</td>\n",
       "    </tr>\n",
       "    <tr>\n",
       "      <th>DEUTSCHE BANK AKTIENGESELLSCHAFT</th>\n",
       "      <th>Professional</th>\n",
       "      <td>1</td>\n",
       "      <td>1</td>\n",
       "      <td>1</td>\n",
       "      <td>1</td>\n",
       "      <td>1</td>\n",
       "    </tr>\n",
       "    <tr>\n",
       "      <th>GOOGLE ASIA PACIFIC PTE. LTD.</th>\n",
       "      <th>Executive</th>\n",
       "      <td>3</td>\n",
       "      <td>3</td>\n",
       "      <td>3</td>\n",
       "      <td>3</td>\n",
       "      <td>3</td>\n",
       "    </tr>\n",
       "    <tr>\n",
       "      <th>MARKS SATTIN (SINGAPORE) PTE. LIMITED</th>\n",
       "      <th>Executive</th>\n",
       "      <td>1</td>\n",
       "      <td>1</td>\n",
       "      <td>1</td>\n",
       "      <td>1</td>\n",
       "      <td>1</td>\n",
       "    </tr>\n",
       "    <tr>\n",
       "      <th>MERGERMARKET CONSULTING (SINGAPORE) PTE. LTD.</th>\n",
       "      <th>Executive, Senior Executive</th>\n",
       "      <td>1</td>\n",
       "      <td>1</td>\n",
       "      <td>1</td>\n",
       "      <td>1</td>\n",
       "      <td>1</td>\n",
       "    </tr>\n",
       "    <tr>\n",
       "      <th>RIO TINTO COMMERCIAL PTE. LTD.</th>\n",
       "      <th>Professional</th>\n",
       "      <td>2</td>\n",
       "      <td>2</td>\n",
       "      <td>2</td>\n",
       "      <td>2</td>\n",
       "      <td>2</td>\n",
       "    </tr>\n",
       "    <tr>\n",
       "      <th>STANDARD CHARTERED BANK</th>\n",
       "      <th>Middle Management, Manager</th>\n",
       "      <td>1</td>\n",
       "      <td>1</td>\n",
       "      <td>1</td>\n",
       "      <td>1</td>\n",
       "      <td>1</td>\n",
       "    </tr>\n",
       "  </tbody>\n",
       "</table>\n",
       "</div>"
      ],
      "text/plain": [
       "                                                                           Job_Title  \\\n",
       "Company                                       Seniority                                \n",
       "CISCO SYSTEMS (USA) PTE. LTD.                 Professional                         1   \n",
       "Company Undisclosed                           Senior Management                    2   \n",
       "DBS BANK LTD.                                 Middle Management                    1   \n",
       "                                              Senior Management                    7   \n",
       "DEUTSCHE BANK AKTIENGESELLSCHAFT              Professional                         1   \n",
       "GOOGLE ASIA PACIFIC PTE. LTD.                 Executive                            3   \n",
       "MARKS SATTIN (SINGAPORE) PTE. LIMITED         Executive                            1   \n",
       "MERGERMARKET CONSULTING (SINGAPORE) PTE. LTD. Executive, Senior Executive          1   \n",
       "RIO TINTO COMMERCIAL PTE. LTD.                Professional                         2   \n",
       "STANDARD CHARTERED BANK                       Middle Management, Manager           1   \n",
       "\n",
       "                                                                           Category  \\\n",
       "Company                                       Seniority                               \n",
       "CISCO SYSTEMS (USA) PTE. LTD.                 Professional                        1   \n",
       "Company Undisclosed                           Senior Management                   2   \n",
       "DBS BANK LTD.                                 Middle Management                   1   \n",
       "                                              Senior Management                   7   \n",
       "DEUTSCHE BANK AKTIENGESELLSCHAFT              Professional                        1   \n",
       "GOOGLE ASIA PACIFIC PTE. LTD.                 Executive                           3   \n",
       "MARKS SATTIN (SINGAPORE) PTE. LIMITED         Executive                           1   \n",
       "MERGERMARKET CONSULTING (SINGAPORE) PTE. LTD. Executive, Senior Executive         1   \n",
       "RIO TINTO COMMERCIAL PTE. LTD.                Professional                        2   \n",
       "STANDARD CHARTERED BANK                       Middle Management, Manager          1   \n",
       "\n",
       "                                                                           Requirements  \\\n",
       "Company                                       Seniority                                   \n",
       "CISCO SYSTEMS (USA) PTE. LTD.                 Professional                            1   \n",
       "Company Undisclosed                           Senior Management                       2   \n",
       "DBS BANK LTD.                                 Middle Management                       1   \n",
       "                                              Senior Management                       7   \n",
       "DEUTSCHE BANK AKTIENGESELLSCHAFT              Professional                            1   \n",
       "GOOGLE ASIA PACIFIC PTE. LTD.                 Executive                               3   \n",
       "MARKS SATTIN (SINGAPORE) PTE. LIMITED         Executive                               1   \n",
       "MERGERMARKET CONSULTING (SINGAPORE) PTE. LTD. Executive, Senior Executive             1   \n",
       "RIO TINTO COMMERCIAL PTE. LTD.                Professional                            2   \n",
       "STANDARD CHARTERED BANK                       Middle Management, Manager              1   \n",
       "\n",
       "                                                                           sal_min  \\\n",
       "Company                                       Seniority                              \n",
       "CISCO SYSTEMS (USA) PTE. LTD.                 Professional                       1   \n",
       "Company Undisclosed                           Senior Management                  2   \n",
       "DBS BANK LTD.                                 Middle Management                  1   \n",
       "                                              Senior Management                  7   \n",
       "DEUTSCHE BANK AKTIENGESELLSCHAFT              Professional                       1   \n",
       "GOOGLE ASIA PACIFIC PTE. LTD.                 Executive                          3   \n",
       "MARKS SATTIN (SINGAPORE) PTE. LIMITED         Executive                          1   \n",
       "MERGERMARKET CONSULTING (SINGAPORE) PTE. LTD. Executive, Senior Executive        1   \n",
       "RIO TINTO COMMERCIAL PTE. LTD.                Professional                       2   \n",
       "STANDARD CHARTERED BANK                       Middle Management, Manager         1   \n",
       "\n",
       "                                                                           sal_max  \n",
       "Company                                       Seniority                             \n",
       "CISCO SYSTEMS (USA) PTE. LTD.                 Professional                       1  \n",
       "Company Undisclosed                           Senior Management                  2  \n",
       "DBS BANK LTD.                                 Middle Management                  1  \n",
       "                                              Senior Management                  7  \n",
       "DEUTSCHE BANK AKTIENGESELLSCHAFT              Professional                       1  \n",
       "GOOGLE ASIA PACIFIC PTE. LTD.                 Executive                          3  \n",
       "MARKS SATTIN (SINGAPORE) PTE. LIMITED         Executive                          1  \n",
       "MERGERMARKET CONSULTING (SINGAPORE) PTE. LTD. Executive, Senior Executive        1  \n",
       "RIO TINTO COMMERCIAL PTE. LTD.                Professional                       2  \n",
       "STANDARD CHARTERED BANK                       Middle Management, Manager         1  "
      ]
     },
     "execution_count": 45,
     "metadata": {},
     "output_type": "execute_result"
    }
   ],
   "source": [
    "job_df[job_df['sal_max']>17500].groupby(['Company', 'Seniority']).count()"
   ]
  },
  {
   "cell_type": "markdown",
   "metadata": {},
   "source": [
    "Jobs with high salary are mainy from higher management level, banking/finance industry, well-known MNC such as Google and CISCO. Hence, will keep in the dataset"
   ]
  },
  {
   "cell_type": "code",
   "execution_count": 46,
   "metadata": {},
   "outputs": [],
   "source": [
    "#create new feature for average salary\n",
    "job_df['Avg Salary'] = (job_df['sal_min'] + job_df['sal_max']) / 2"
   ]
  },
  {
   "cell_type": "code",
   "execution_count": 47,
   "metadata": {},
   "outputs": [
    {
     "data": {
      "text/plain": [
       "count      838.000000\n",
       "mean      6618.238663\n",
       "std       2950.465273\n",
       "min       2000.000000\n",
       "25%       4258.375000\n",
       "50%       6000.000000\n",
       "75%       8000.000000\n",
       "max      21750.000000\n",
       "Name: Avg Salary, dtype: float64"
      ]
     },
     "execution_count": 47,
     "metadata": {},
     "output_type": "execute_result"
    }
   ],
   "source": [
    "job_df['Avg Salary'].describe()"
   ]
  },
  {
   "cell_type": "code",
   "execution_count": 48,
   "metadata": {},
   "outputs": [
    {
     "data": {
      "text/plain": [
       "<matplotlib.axes._subplots.AxesSubplot at 0x1a1e8bdb38>"
      ]
     },
     "execution_count": 48,
     "metadata": {},
     "output_type": "execute_result"
    },
    {
     "data": {
      "image/png": "[encoded data removed]",
      "text/plain": [
       "<Figure size 864x360 with 2 Axes>"
      ]
     },
     "metadata": {
      "image/png": {
       "height": 318,
       "width": 776
      },
      "needs_background": "light"
     },
     "output_type": "display_data"
    }
   ],
   "source": [
    "fig, ax =plt.subplots(nrows=1, ncols=2, figsize=(12,5))\n",
    "sns.boxplot(job_df['Avg Salary'], ax=ax[0])\n",
    "sns.distplot(job_df['Avg Salary'],bins=15, ax=ax[1])"
   ]
  },
  {
   "cell_type": "markdown",
   "metadata": {},
   "source": [
    "Average monthly salary column was created for labeling purpose for next step. The mean value at $6600 for the average salary and median at 6000, which in Singapore is consider as high pay.\n",
    "Next label was created for high and low salary according to median salary."
   ]
  },
  {
   "cell_type": "code",
   "execution_count": 49,
   "metadata": {},
   "outputs": [
    {
     "data": {
      "text/plain": [
       "1    450\n",
       "0    388\n",
       "Name: sal_high, dtype: int64"
      ]
     },
     "execution_count": 49,
     "metadata": {},
     "output_type": "execute_result"
    }
   ],
   "source": [
    "#Labeled 1 for salary above median (high) and 0 for salary below median (low)\n",
    "job_df[\"sal_high\"] = job_df['Avg Salary'].map(lambda x: 1 if x >= np.median(job_df['Avg Salary']) else 0)\n",
    "job_df[\"sal_high\"].value_counts()"
   ]
  },
  {
   "cell_type": "code",
   "execution_count": 50,
   "metadata": {},
   "outputs": [
    {
     "data": {
      "text/plain": [
       "0.5369928400954654"
      ]
     },
     "execution_count": 50,
     "metadata": {},
     "output_type": "execute_result"
    }
   ],
   "source": [
    "#baseline model at 53% due to salary cut-off at median\n",
    "baseline = np.mean(job_df[\"sal_high\"])\n",
    "baseline"
   ]
  },
  {
   "cell_type": "code",
   "execution_count": 51,
   "metadata": {},
   "outputs": [],
   "source": [
    "job_df = job_df.reset_index(drop=True)"
   ]
  },
  {
   "cell_type": "code",
   "execution_count": 52,
   "metadata": {},
   "outputs": [
    {
     "data": {
      "text/html": [
       "<div>\n",
       "<style scoped>\n",
       "    .dataframe tbody tr th:only-of-type {\n",
       "        vertical-align: middle;\n",
       "    }\n",
       "\n",
       "    .dataframe tbody tr th {\n",
       "        vertical-align: top;\n",
       "    }\n",
       "\n",
       "    .dataframe thead th {\n",
       "        text-align: right;\n",
       "    }\n",
       "</style>\n",
       "<table border=\"1\" class=\"dataframe\">\n",
       "  <thead>\n",
       "    <tr style=\"text-align: right;\">\n",
       "      <th></th>\n",
       "      <th>Job_Title</th>\n",
       "      <th>Company</th>\n",
       "      <th>Seniority</th>\n",
       "      <th>Category</th>\n",
       "      <th>Requirements</th>\n",
       "      <th>sal_min</th>\n",
       "      <th>sal_max</th>\n",
       "      <th>Avg Salary</th>\n",
       "      <th>sal_high</th>\n",
       "    </tr>\n",
       "  </thead>\n",
       "  <tbody>\n",
       "    <tr>\n",
       "      <th>54</th>\n",
       "      <td>Senior / Reporting Analyst</td>\n",
       "      <td>SIVANTOS PTE. LTD.</td>\n",
       "      <td>Executive, Junior Executive, Senior Executive</td>\n",
       "      <td>Logistics / Supply Chain</td>\n",
       "      <td>The successful candidate will be an individual...</td>\n",
       "      <td>3500.0</td>\n",
       "      <td>5500.0</td>\n",
       "      <td>4500.0</td>\n",
       "      <td>0</td>\n",
       "    </tr>\n",
       "    <tr>\n",
       "      <th>63</th>\n",
       "      <td>Data Migration Lead</td>\n",
       "      <td>Company Undisclosed</td>\n",
       "      <td>Manager, Professional, Senior Executive</td>\n",
       "      <td>Information Technology</td>\n",
       "      <td>\"The Successful Applicant  Must have relevant ...</td>\n",
       "      <td>7000.0</td>\n",
       "      <td>10000.0</td>\n",
       "      <td>8500.0</td>\n",
       "      <td>1</td>\n",
       "    </tr>\n",
       "    <tr>\n",
       "      <th>70</th>\n",
       "      <td>Data Engineer</td>\n",
       "      <td>FRIARTUCK PTE LTD</td>\n",
       "      <td>Professional, Executive, Senior Executive</td>\n",
       "      <td>Consulting , Information Technology</td>\n",
       "      <td>\"Responsibilities  Build the infrastructure an...</td>\n",
       "      <td>6000.0</td>\n",
       "      <td>8000.0</td>\n",
       "      <td>7000.0</td>\n",
       "      <td>1</td>\n",
       "    </tr>\n",
       "    <tr>\n",
       "      <th>84</th>\n",
       "      <td>Analyst</td>\n",
       "      <td>AON HEWITT SINGAPORE PTE. LTD.</td>\n",
       "      <td>Executive, Junior Executive, Senior Executive</td>\n",
       "      <td>Consulting</td>\n",
       "      <td>Bachelor’s Degree in Business Administration,...</td>\n",
       "      <td>3000.0</td>\n",
       "      <td>4000.0</td>\n",
       "      <td>3500.0</td>\n",
       "      <td>0</td>\n",
       "    </tr>\n",
       "    <tr>\n",
       "      <th>139</th>\n",
       "      <td>Project Analyst</td>\n",
       "      <td>INDEPENDENT PROJECT ANALYSIS PRIVATE LIMITED</td>\n",
       "      <td>Manager, Professional, Senior Executive</td>\n",
       "      <td>Consulting , Professional Services</td>\n",
       "      <td>*Strong quantitative analytical skill/ Underst...</td>\n",
       "      <td>6000.0</td>\n",
       "      <td>10000.0</td>\n",
       "      <td>8000.0</td>\n",
       "      <td>1</td>\n",
       "    </tr>\n",
       "  </tbody>\n",
       "</table>\n",
       "</div>"
      ],
      "text/plain": [
       "                      Job_Title                                       Company  \\\n",
       "54   Senior / Reporting Analyst                            SIVANTOS PTE. LTD.   \n",
       "63          Data Migration Lead                           Company Undisclosed   \n",
       "70                Data Engineer                             FRIARTUCK PTE LTD   \n",
       "84                      Analyst                AON HEWITT SINGAPORE PTE. LTD.   \n",
       "139             Project Analyst  INDEPENDENT PROJECT ANALYSIS PRIVATE LIMITED   \n",
       "\n",
       "                                         Seniority  \\\n",
       "54   Executive, Junior Executive, Senior Executive   \n",
       "63         Manager, Professional, Senior Executive   \n",
       "70       Professional, Executive, Senior Executive   \n",
       "84   Executive, Junior Executive, Senior Executive   \n",
       "139        Manager, Professional, Senior Executive   \n",
       "\n",
       "                                Category  \\\n",
       "54              Logistics / Supply Chain   \n",
       "63                Information Technology   \n",
       "70   Consulting , Information Technology   \n",
       "84                           Consulting    \n",
       "139   Consulting , Professional Services   \n",
       "\n",
       "                                          Requirements  sal_min  sal_max  \\\n",
       "54   The successful candidate will be an individual...   3500.0   5500.0   \n",
       "63   \"The Successful Applicant  Must have relevant ...   7000.0  10000.0   \n",
       "70   \"Responsibilities  Build the infrastructure an...   6000.0   8000.0   \n",
       "84    Bachelor’s Degree in Business Administration,...   3000.0   4000.0   \n",
       "139  *Strong quantitative analytical skill/ Underst...   6000.0  10000.0   \n",
       "\n",
       "     Avg Salary  sal_high  \n",
       "54       4500.0         0  \n",
       "63       8500.0         1  \n",
       "70       7000.0         1  \n",
       "84       3500.0         0  \n",
       "139      8000.0         1  "
      ]
     },
     "execution_count": 52,
     "metadata": {},
     "output_type": "execute_result"
    }
   ],
   "source": [
    "#check seniority with multiple rank\n",
    "job_df[job_df['Seniority'].str.count(',')>=2].head()"
   ]
  },
  {
   "cell_type": "code",
   "execution_count": 53,
   "metadata": {},
   "outputs": [],
   "source": [
    "job_df['Seniority'] = job_df['Seniority'].str.split(', ')"
   ]
  },
  {
   "cell_type": "code",
   "execution_count": 54,
   "metadata": {},
   "outputs": [],
   "source": [
    "#for job more with multiple seniority, only one will be taken as reference after the split\n",
    "job_df['Seniority'] = job_df['Seniority'].map(lambda x: x[0] if len(x)>2 else (x[1] if len(x)>1 else x[0]))"
   ]
  },
  {
   "cell_type": "code",
   "execution_count": 55,
   "metadata": {},
   "outputs": [
    {
     "data": {
      "text/plain": [
       "Professional         233\n",
       "Executive            198\n",
       "Senior Executive     109\n",
       "Non-executive         79\n",
       "Manager               60\n",
       "Junior Executive      54\n",
       "Fresh/entry level     41\n",
       "Middle Management     38\n",
       "Senior Management     26\n",
       "Name: Seniority, dtype: int64"
      ]
     },
     "execution_count": 55,
     "metadata": {},
     "output_type": "execute_result"
    }
   ],
   "source": [
    "job_df['Seniority'].value_counts()"
   ]
  },
  {
   "cell_type": "code",
   "execution_count": 56,
   "metadata": {},
   "outputs": [
    {
     "data": {
      "image/png": "[encoded data removed]",
      "text/plain": [
       "<Figure size 1080x360 with 1 Axes>"
      ]
     },
     "metadata": {
      "image/png": {
       "height": 424,
       "width": 1074
      },
      "needs_background": "light"
     },
     "output_type": "display_data"
    }
   ],
   "source": [
    "senior_order = ('Senior Management', 'Middle Management', 'Manager','Senior Executive',\n",
    "                'Professional','Executive', 'Junior Executive','Non-executive','Fresh/entry level')\n",
    "\n",
    "sns.catplot(x='Seniority', y='sal_high',data=job_df, kind='bar', aspect=3, \n",
    "               order=senior_order).set_xticklabels(rotation=55, horizontalalignment='right')\n",
    "plt.show();"
   ]
  },
  {
   "cell_type": "markdown",
   "metadata": {},
   "source": [
    "From the plot, seniority can be a good predictor for high and low salary. Junior executive can be considered as fresh/entry level too for most of the companies. Non-executive was slightly above both Junior role and entry level due to job without executive level was mostly likely to classify as non-executive."
   ]
  },
  {
   "cell_type": "code",
   "execution_count": 57,
   "metadata": {},
   "outputs": [
    {
     "data": {
      "text/html": [
       "<div>\n",
       "<style scoped>\n",
       "    .dataframe tbody tr th:only-of-type {\n",
       "        vertical-align: middle;\n",
       "    }\n",
       "\n",
       "    .dataframe tbody tr th {\n",
       "        vertical-align: top;\n",
       "    }\n",
       "\n",
       "    .dataframe thead th {\n",
       "        text-align: right;\n",
       "    }\n",
       "</style>\n",
       "<table border=\"1\" class=\"dataframe\">\n",
       "  <thead>\n",
       "    <tr style=\"text-align: right;\">\n",
       "      <th></th>\n",
       "      <th>Executive</th>\n",
       "      <th>Fresh/entry level</th>\n",
       "      <th>Junior Executive</th>\n",
       "      <th>Manager</th>\n",
       "      <th>Middle Management</th>\n",
       "      <th>Non-executive</th>\n",
       "      <th>Professional</th>\n",
       "      <th>Senior Executive</th>\n",
       "      <th>Senior Management</th>\n",
       "    </tr>\n",
       "  </thead>\n",
       "  <tbody>\n",
       "    <tr>\n",
       "      <th>0</th>\n",
       "      <td>1</td>\n",
       "      <td>0</td>\n",
       "      <td>0</td>\n",
       "      <td>0</td>\n",
       "      <td>0</td>\n",
       "      <td>0</td>\n",
       "      <td>0</td>\n",
       "      <td>0</td>\n",
       "      <td>0</td>\n",
       "    </tr>\n",
       "    <tr>\n",
       "      <th>1</th>\n",
       "      <td>0</td>\n",
       "      <td>0</td>\n",
       "      <td>0</td>\n",
       "      <td>1</td>\n",
       "      <td>0</td>\n",
       "      <td>0</td>\n",
       "      <td>0</td>\n",
       "      <td>0</td>\n",
       "      <td>0</td>\n",
       "    </tr>\n",
       "    <tr>\n",
       "      <th>2</th>\n",
       "      <td>0</td>\n",
       "      <td>0</td>\n",
       "      <td>0</td>\n",
       "      <td>0</td>\n",
       "      <td>1</td>\n",
       "      <td>0</td>\n",
       "      <td>0</td>\n",
       "      <td>0</td>\n",
       "      <td>0</td>\n",
       "    </tr>\n",
       "    <tr>\n",
       "      <th>3</th>\n",
       "      <td>0</td>\n",
       "      <td>0</td>\n",
       "      <td>0</td>\n",
       "      <td>0</td>\n",
       "      <td>0</td>\n",
       "      <td>0</td>\n",
       "      <td>0</td>\n",
       "      <td>1</td>\n",
       "      <td>0</td>\n",
       "    </tr>\n",
       "    <tr>\n",
       "      <th>4</th>\n",
       "      <td>0</td>\n",
       "      <td>0</td>\n",
       "      <td>0</td>\n",
       "      <td>0</td>\n",
       "      <td>0</td>\n",
       "      <td>0</td>\n",
       "      <td>1</td>\n",
       "      <td>0</td>\n",
       "      <td>0</td>\n",
       "    </tr>\n",
       "  </tbody>\n",
       "</table>\n",
       "</div>"
      ],
      "text/plain": [
       "   Executive  Fresh/entry level  Junior Executive  Manager  Middle Management  \\\n",
       "0          1                  0                 0        0                  0   \n",
       "1          0                  0                 0        1                  0   \n",
       "2          0                  0                 0        0                  1   \n",
       "3          0                  0                 0        0                  0   \n",
       "4          0                  0                 0        0                  0   \n",
       "\n",
       "   Non-executive  Professional  Senior Executive  Senior Management  \n",
       "0              0             0                 0                  0  \n",
       "1              0             0                 0                  0  \n",
       "2              0             0                 0                  0  \n",
       "3              0             0                 1                  0  \n",
       "4              0             1                 0                  0  "
      ]
     },
     "execution_count": 57,
     "metadata": {},
     "output_type": "execute_result"
    }
   ],
   "source": [
    "#Dummified Seniority columns to use as predictor features\n",
    "seniority_cat=job_df['Seniority'].str.get_dummies()\n",
    "seniority_cat.head()"
   ]
  },
  {
   "cell_type": "code",
   "execution_count": 58,
   "metadata": {},
   "outputs": [],
   "source": [
    "job_df = pd.concat([job_df, seniority_cat], axis=1)"
   ]
  },
  {
   "cell_type": "markdown",
   "metadata": {},
   "source": [
    "# QUESTION 1: Factors that impact salary"
   ]
  },
  {
   "cell_type": "code",
   "execution_count": 59,
   "metadata": {},
   "outputs": [],
   "source": [
    "from sklearn.feature_extraction.text import CountVectorizer, TfidfVectorizer\n",
    "from sklearn.feature_extraction import stop_words\n",
    "from nltk.corpus import stopwords"
   ]
  },
  {
   "cell_type": "code",
   "execution_count": 60,
   "metadata": {},
   "outputs": [],
   "source": [
    "#stop words were added to filter some generic recurring business terms.\n",
    "stop = stopwords.words('english')\n",
    "stop += ['regret','shortlisted', 'candidates','notified','etc', 'take', 'hands']"
   ]
  },
  {
   "cell_type": "code",
   "execution_count": 61,
   "metadata": {},
   "outputs": [],
   "source": [
    "def freq_words(word_count, features):\n",
    "\n",
    "    num_word = np.asarray(word_count.sum(axis=0)).reshape(-1)\n",
    "    most_count = num_word.argsort()[::-1]\n",
    "    key_word = pd.Series(num_word[most_count], \n",
    "                           index=features[most_count])\n",
    "\n",
    "    return key_word"
   ]
  },
  {
   "cell_type": "code",
   "execution_count": 62,
   "metadata": {},
   "outputs": [
    {
     "data": {
      "text/plain": [
       "data             1637\n",
       "skills           1268\n",
       "knowledge         719\n",
       "ability           692\n",
       "strong            681\n",
       "years             593\n",
       "work              567\n",
       "business          522\n",
       "management        511\n",
       "working           496\n",
       "good              486\n",
       "degree            477\n",
       "science           442\n",
       "computer          422\n",
       "communication     417\n",
       "team              410\n",
       "excellent         364\n",
       "sql               328\n",
       "related           318\n",
       "learning          317\n",
       "dtype: int64"
      ]
     },
     "execution_count": 62,
     "metadata": {},
     "output_type": "execute_result"
    }
   ],
   "source": [
    "#most common words for requirements\n",
    "cvt      =  CountVectorizer(lowercase=True, strip_accents='unicode',\n",
    "                       max_features=1500, min_df=5, max_df=0.7,\n",
    "                       stop_words=stop, ngram_range=(1,2))\n",
    "vect_word    =  cvt.fit_transform(job_df['Requirements'])\n",
    "features  =  np.array(cvt.get_feature_names()) \n",
    "\n",
    "key_word = freq_words(vect_word, features)\n",
    "key_word[:20]"
   ]
  },
  {
   "cell_type": "markdown",
   "metadata": {},
   "source": [
    "Checking keyword with countvetorizer with number of features set to 1500, minimun appearance of 5 times from different row and maximum apperance of not more than 70% in the overall dataset. Common word for data related job such as data, skills, knowledge, ability still can be observed after the setting the parameters."
   ]
  },
  {
   "cell_type": "code",
   "execution_count": 63,
   "metadata": {},
   "outputs": [
    {
     "data": {
      "text/plain": [
       "computer science        291\n",
       "communication skills    267\n",
       "years experience        224\n",
       "machine learning        201\n",
       "problem solving         168\n",
       "ability work            157\n",
       "big data                149\n",
       "experience working      143\n",
       "skills ability          142\n",
       "team player             130\n",
       "dtype: int64"
      ]
     },
     "execution_count": 63,
     "metadata": {},
     "output_type": "execute_result"
    }
   ],
   "source": [
    "#most common ngrams for requirements\n",
    "cvt = CountVectorizer(lowercase=True, strip_accents='unicode',\n",
    "                       max_features=1500, min_df=5, max_df=0.7,\n",
    "                       stop_words=stop, ngram_range=(2,2))\n",
    "vect_word = cvt.fit_transform(job_df['Requirements'])\n",
    "features  =  np.array(cvt.get_feature_names())\n",
    "\n",
    "key_word = freq_words(vect_word, features)\n",
    "key_word[:10]"
   ]
  },
  {
   "cell_type": "markdown",
   "metadata": {},
   "source": [
    "Limit ngram to 2, data science related keywords can be observed such as machine learning, big data and computer science"
   ]
  },
  {
   "cell_type": "code",
   "execution_count": 64,
   "metadata": {},
   "outputs": [
    {
     "data": {
      "text/plain": [
       "communication skills    25.591916\n",
       "computer science        25.538059\n",
       "years experience        22.934461\n",
       "machine learning        21.423508\n",
       "least years             17.625518\n",
       "problem solving         17.451751\n",
       "ability work            17.350427\n",
       "experience working      16.833215\n",
       "team player             16.443906\n",
       "big data                15.745155\n",
       "dtype: float64"
      ]
     },
     "execution_count": 64,
     "metadata": {},
     "output_type": "execute_result"
    }
   ],
   "source": [
    "tfid = TfidfVectorizer(lowercase=True, strip_accents='unicode',\n",
    "                       max_features=1500, min_df=5, max_df=0.7,\n",
    "                       stop_words=stop, ngram_range=(2,2))\n",
    "tfid_word = tfid.fit_transform(job_df['Requirements'])\n",
    "features  =  np.array(tfid.get_feature_names())\n",
    "\n",
    "key_word = freq_words(tfid_word, features)\n",
    "key_word[:10]"
   ]
  },
  {
   "cell_type": "markdown",
   "metadata": {},
   "source": [
    "Tried with TFID vectorizer on ngam=2 but result shows no siginifiant different from Count vectorizer, hence for the modeling will just stick with Count Vectorizer"
   ]
  },
  {
   "cell_type": "code",
   "execution_count": 65,
   "metadata": {},
   "outputs": [
    {
     "data": {
      "text/plain": [
       "CountVectorizer(analyzer='word', binary=False, decode_error='strict',\n",
       "        dtype=<class 'numpy.int64'>, encoding='utf-8', input='content',\n",
       "        lowercase=True, max_df=0.7, max_features=1500, min_df=5,\n",
       "        ngram_range=(1, 2), preprocessor=None,\n",
       "        stop_words=['i', 'me', 'my', 'myself', 'we', 'our', 'ours', 'ourselves', 'you', \"you're\", \"you've\", \"you'll\", \"you'd\", 'your', 'yours', 'yourself', 'yourselves', 'he', 'him', 'his', 'himself', 'she', \"she's\", 'her', 'hers', 'herself', 'it', \"it's\", 'its', 'itself', 'they', 'them', 'their', 'theirs',...t\", 'wouldn', \"wouldn't\", 'regret', 'shortlisted', 'candidates', 'notified', 'etc', 'take', 'hands'],\n",
       "        strip_accents='unicode', token_pattern='(?u)\\\\b\\\\w\\\\w+\\\\b',\n",
       "        tokenizer=None, vocabulary=None)"
      ]
     },
     "execution_count": 65,
     "metadata": {},
     "output_type": "execute_result"
    }
   ],
   "source": [
    "#CountVectorizer job requirements columns\n",
    "cvec = CountVectorizer(lowercase=True, strip_accents='unicode',\n",
    "                       max_features=1500, min_df=5, max_df=0.7, \n",
    "                       stop_words=stop,ngram_range=(1,2))\n",
    "cvec.fit(job_df['Requirements'])"
   ]
  },
  {
   "cell_type": "code",
   "execution_count": 66,
   "metadata": {},
   "outputs": [
    {
     "data": {
      "text/plain": [
       "(838, 1511)"
      ]
     },
     "execution_count": 66,
     "metadata": {},
     "output_type": "execute_result"
    }
   ],
   "source": [
    "#creating predictor and target dataset\n",
    "model_data = job_df.drop(columns=['Job_Title','Company','Seniority','Category','sal_min','sal_max','Avg Salary'])\n",
    "\n",
    "nlp = pd.DataFrame(cvec.transform(model_data['Requirements']).todense(),columns=cvec.get_feature_names())\n",
    "\n",
    "senior_nlp = pd.concat([model_data, nlp], axis=1)\n",
    "senior_nlp.shape"
   ]
  },
  {
   "cell_type": "code",
   "execution_count": 67,
   "metadata": {},
   "outputs": [],
   "source": [
    "X = senior_nlp.drop(columns=['sal_high','Requirements'])\n",
    "X_nlp = nlp\n",
    "y = senior_nlp['sal_high'].values"
   ]
  },
  {
   "cell_type": "code",
   "execution_count": 68,
   "metadata": {},
   "outputs": [],
   "source": [
    "#Data with dummified 'seniority' and countvectorized 'requirements'\n",
    "X_train, X_test, y_train, y_test = train_test_split(X, y, test_size=0.2, random_state=42)"
   ]
  },
  {
   "cell_type": "code",
   "execution_count": 69,
   "metadata": {},
   "outputs": [],
   "source": [
    "#Data with countvectorized 'requirements' only\n",
    "X_train_nlp, X_test_nlp, y_train_nlp, y_test_nlp = train_test_split(X_nlp, y, test_size=0.2, random_state=42)"
   ]
  },
  {
   "cell_type": "markdown",
   "metadata": {},
   "source": [
    "### Choosing the best model (Logistic, AdaBoost or RandomForest)"
   ]
  },
  {
   "cell_type": "code",
   "execution_count": 70,
   "metadata": {},
   "outputs": [
    {
     "name": "stdout",
     "output_type": "stream",
     "text": [
      "CV score on NLP+Seniority dummy data: 0.787587582444087\n",
      "CV score on NLP data: 0.7702642477725774\n"
     ]
    }
   ],
   "source": [
    "#Logistic regression model\n",
    "from sklearn.linear_model import LogisticRegression\n",
    "lr = LogisticRegression()\n",
    "lr.fit(X_train, y_train)\n",
    "print('CV score on NLP+Seniority dummy data:', np.mean(cross_val_score(lr, X_train, y_train, cv=5, scoring='roc_auc')))\n",
    "print('CV score on NLP data:', np.mean(cross_val_score(lr, X_train_nlp, y_train_nlp, cv=5, scoring='roc_auc')))"
   ]
  },
  {
   "cell_type": "code",
   "execution_count": 71,
   "metadata": {},
   "outputs": [
    {
     "name": "stdout",
     "output_type": "stream",
     "text": [
      "CV score on NLP+Seniority dummy data: 0.7909851482451058\n",
      "CV score on NLP data: 0.7431006288627824\n"
     ]
    }
   ],
   "source": [
    "#Adaboost model\n",
    "from sklearn.ensemble import AdaBoostClassifier\n",
    "Ada = AdaBoostClassifier()\n",
    "Ada.fit(X_train, y_train)\n",
    "print('CV score on NLP+Seniority dummy data:', np.mean(cross_val_score(Ada, X_train, y_train, cv=5, scoring='roc_auc')))\n",
    "print('CV score on NLP data:', np.mean(cross_val_score(Ada, X_train_nlp, y_train_nlp, cv=5, scoring='roc_auc')))"
   ]
  },
  {
   "cell_type": "code",
   "execution_count": 72,
   "metadata": {},
   "outputs": [
    {
     "name": "stdout",
     "output_type": "stream",
     "text": [
      "CV score on NLP+Seniority dummy data: 0.7550960882779754\n",
      "CV score on NLP data: 0.7523778773797705\n"
     ]
    }
   ],
   "source": [
    "#RandomForest model\n",
    "from sklearn.ensemble import RandomForestClassifier\n",
    "rfc=RandomForestClassifier(random_state=42)\n",
    "rfc.fit(X_train,y_train)\n",
    "print('CV score on NLP+Seniority dummy data:', np.mean(cross_val_score(rfc, X_train, y_train, cv=5, scoring='roc_auc')))\n",
    "print('CV score on NLP data:', np.mean(cross_val_score(rfc, X_train_nlp, y_train_nlp, cv=5, scoring='roc_auc')))"
   ]
  },
  {
   "cell_type": "markdown",
   "metadata": {},
   "source": [
    "Data consists of dummified seniority plus CountVectorized requirements provide better cross val score across all models. Logistic regression model performed better in cross val score compare to ensemble models (AdaBoost and RandomForest)."
   ]
  },
  {
   "cell_type": "markdown",
   "metadata": {},
   "source": [
    "### Logistic regression model with hyperparameter tune and classfication report"
   ]
  },
  {
   "cell_type": "code",
   "execution_count": 73,
   "metadata": {},
   "outputs": [
    {
     "name": "stdout",
     "output_type": "stream",
     "text": [
      "CV score on train data: 0.7960960806655947\n",
      "CV score on test data: 0.7702534113060429\n"
     ]
    }
   ],
   "source": [
    "#hyperparameter tune for logistic regression\n",
    "lr_params = {'penalty': ['l1','l2'], 'C': [0.001,0.01,0.1,1,10,100,1000]}\n",
    "gs_lr = GridSearchCV(lr, param_grid=lr_params, cv=5, scoring='roc_auc', n_jobs=-1)\n",
    "gs_lr.fit(X_train,y_train)\n",
    "\n",
    "lr_c2=gs_lr.best_estimator_\n",
    "lr_c2.fit(X_train,y_train)\n",
    "\n",
    "print('CV score on train data:', np.mean(cross_val_score(lr_c2, X_train, y_train, cv=5, scoring='roc_auc')))\n",
    "print('CV score on test data:', np.mean(cross_val_score(lr_c2, X_test, y_test, cv=5, scoring='roc_auc')))"
   ]
  },
  {
   "cell_type": "code",
   "execution_count": 74,
   "metadata": {},
   "outputs": [
    {
     "data": {
      "text/html": [
       "<div>\n",
       "<style scoped>\n",
       "    .dataframe tbody tr th:only-of-type {\n",
       "        vertical-align: middle;\n",
       "    }\n",
       "\n",
       "    .dataframe tbody tr th {\n",
       "        vertical-align: top;\n",
       "    }\n",
       "\n",
       "    .dataframe thead th {\n",
       "        text-align: right;\n",
       "    }\n",
       "</style>\n",
       "<table border=\"1\" class=\"dataframe\">\n",
       "  <thead>\n",
       "    <tr style=\"text-align: right;\">\n",
       "      <th></th>\n",
       "      <th>Predicted Low Salary</th>\n",
       "      <th>Predicted High Salary</th>\n",
       "    </tr>\n",
       "  </thead>\n",
       "  <tbody>\n",
       "    <tr>\n",
       "      <th>Actual Low Salary</th>\n",
       "      <td>52</td>\n",
       "      <td>23</td>\n",
       "    </tr>\n",
       "    <tr>\n",
       "      <th>Actual High Salary</th>\n",
       "      <td>24</td>\n",
       "      <td>69</td>\n",
       "    </tr>\n",
       "  </tbody>\n",
       "</table>\n",
       "</div>"
      ],
      "text/plain": [
       "                    Predicted Low Salary  Predicted High Salary\n",
       "Actual Low Salary                     52                     23\n",
       "Actual High Salary                    24                     69"
      ]
     },
     "execution_count": 74,
     "metadata": {},
     "output_type": "execute_result"
    }
   ],
   "source": [
    "pd.DataFrame(confusion_matrix(y_test,lr_c2.predict(X_test)),\n",
    "             index=['Actual Low Salary','Actual High Salary'],\n",
    "             columns=['Predicted Low Salary','Predicted High Salary'])"
   ]
  },
  {
   "cell_type": "code",
   "execution_count": 75,
   "metadata": {},
   "outputs": [
    {
     "name": "stdout",
     "output_type": "stream",
     "text": [
      "              precision    recall  f1-score   support\n",
      "\n",
      "  Low Salary       0.68      0.69      0.69        75\n",
      " High Salary       0.75      0.74      0.75        93\n",
      "\n",
      "   micro avg       0.72      0.72      0.72       168\n",
      "   macro avg       0.72      0.72      0.72       168\n",
      "weighted avg       0.72      0.72      0.72       168\n",
      "\n"
     ]
    }
   ],
   "source": [
    "print(classification_report(y_test,lr_c2.predict(X_test),target_names=[\"Low Salary\", \"High Salary\"]))"
   ]
  },
  {
   "cell_type": "markdown",
   "metadata": {},
   "source": [
    "Both class under train/test data are balance, so AUC score was chosen as valuation parameter. In overall the model is able to predict better than the baseline.\n",
    "Recall for low salary indicates 23 out of 75 low salary jobs are predicted as high salary which is the major concern for bonus question. This will be handled in the next part."
   ]
  },
  {
   "cell_type": "code",
   "execution_count": 85,
   "metadata": {},
   "outputs": [
    {
     "data": {
      "text/html": [
       "<div>\n",
       "<style scoped>\n",
       "    .dataframe tbody tr th:only-of-type {\n",
       "        vertical-align: middle;\n",
       "    }\n",
       "\n",
       "    .dataframe tbody tr th {\n",
       "        vertical-align: top;\n",
       "    }\n",
       "\n",
       "    .dataframe thead th {\n",
       "        text-align: right;\n",
       "    }\n",
       "</style>\n",
       "<table border=\"1\" class=\"dataframe\">\n",
       "  <thead>\n",
       "    <tr style=\"text-align: right;\">\n",
       "      <th></th>\n",
       "      <th>coef</th>\n",
       "      <th>abs coef</th>\n",
       "    </tr>\n",
       "  </thead>\n",
       "  <tbody>\n",
       "    <tr>\n",
       "      <th>phd</th>\n",
       "      <td>0.436951</td>\n",
       "      <td>0.436951</td>\n",
       "    </tr>\n",
       "    <tr>\n",
       "      <th>work experience</th>\n",
       "      <td>0.333218</td>\n",
       "      <td>0.333218</td>\n",
       "    </tr>\n",
       "    <tr>\n",
       "      <th>modeling</th>\n",
       "      <td>0.319042</td>\n",
       "      <td>0.319042</td>\n",
       "    </tr>\n",
       "    <tr>\n",
       "      <th>Manager</th>\n",
       "      <td>0.315336</td>\n",
       "      <td>0.315336</td>\n",
       "    </tr>\n",
       "    <tr>\n",
       "      <th>hadoop</th>\n",
       "      <td>0.312095</td>\n",
       "      <td>0.312095</td>\n",
       "    </tr>\n",
       "  </tbody>\n",
       "</table>\n",
       "</div>"
      ],
      "text/plain": [
       "                     coef  abs coef\n",
       "phd              0.436951  0.436951\n",
       "work experience  0.333218  0.333218\n",
       "modeling         0.319042  0.319042\n",
       "Manager          0.315336  0.315336\n",
       "hadoop           0.312095  0.312095"
      ]
     },
     "execution_count": 85,
     "metadata": {},
     "output_type": "execute_result"
    }
   ],
   "source": [
    "features = np.array(X_train.columns)\n",
    "lr_coefs = pd.DataFrame({'coef':lr_c2.coef_[0], 'abs coef':abs(lr_c2.coef_[0])},index=features)\n",
    "lr_coefs = lr_coefs.sort_values('coef',ascending=False)\n",
    "lr_coefs.head(5)"
   ]
  },
  {
   "cell_type": "code",
   "execution_count": 86,
   "metadata": {},
   "outputs": [
    {
     "data": {
      "text/html": [
       "<div>\n",
       "<style scoped>\n",
       "    .dataframe tbody tr th:only-of-type {\n",
       "        vertical-align: middle;\n",
       "    }\n",
       "\n",
       "    .dataframe tbody tr th {\n",
       "        vertical-align: top;\n",
       "    }\n",
       "\n",
       "    .dataframe thead th {\n",
       "        text-align: right;\n",
       "    }\n",
       "</style>\n",
       "<table border=\"1\" class=\"dataframe\">\n",
       "  <thead>\n",
       "    <tr style=\"text-align: right;\">\n",
       "      <th></th>\n",
       "      <th>coef</th>\n",
       "      <th>abs coef</th>\n",
       "    </tr>\n",
       "  </thead>\n",
       "  <tbody>\n",
       "    <tr>\n",
       "      <th>Non-executive</th>\n",
       "      <td>-0.373823</td>\n",
       "      <td>0.373823</td>\n",
       "    </tr>\n",
       "    <tr>\n",
       "      <th>sciences</th>\n",
       "      <td>-0.382525</td>\n",
       "      <td>0.382525</td>\n",
       "    </tr>\n",
       "    <tr>\n",
       "      <th>Junior Executive</th>\n",
       "      <td>-0.388593</td>\n",
       "      <td>0.388593</td>\n",
       "    </tr>\n",
       "    <tr>\n",
       "      <th>Executive</th>\n",
       "      <td>-0.420766</td>\n",
       "      <td>0.420766</td>\n",
       "    </tr>\n",
       "    <tr>\n",
       "      <th>diploma</th>\n",
       "      <td>-0.432527</td>\n",
       "      <td>0.432527</td>\n",
       "    </tr>\n",
       "  </tbody>\n",
       "</table>\n",
       "</div>"
      ],
      "text/plain": [
       "                      coef  abs coef\n",
       "Non-executive    -0.373823  0.373823\n",
       "sciences         -0.382525  0.382525\n",
       "Junior Executive -0.388593  0.388593\n",
       "Executive        -0.420766  0.420766\n",
       "diploma          -0.432527  0.432527"
      ]
     },
     "execution_count": 86,
     "metadata": {},
     "output_type": "execute_result"
    }
   ],
   "source": [
    "lr_coefs.tail(5)"
   ]
  },
  {
   "cell_type": "markdown",
   "metadata": {},
   "source": [
    "Logisitic regression model is able to provide both positive and negative coefficient, which allow us to find out features that contribute to high salary and low salary as well.\n",
    "From the features, apart from seniority level, education level such as phD holder vs diploma, work experience and skill such as hadoop have a direct impact on the salary."
   ]
  },
  {
   "cell_type": "markdown",
   "metadata": {},
   "source": [
    "### Random Forest model with hyperparameter tune and classfication report"
   ]
  },
  {
   "cell_type": "code",
   "execution_count": 92,
   "metadata": {},
   "outputs": [
    {
     "name": "stdout",
     "output_type": "stream",
     "text": [
      "CV score on train data: 0.8166269320422735\n",
      "CV score on test data: 0.7375438596491228\n"
     ]
    }
   ],
   "source": [
    "rfc_params={\n",
    " 'max_depth': [10, 20, 30, 40, 50, 60, 70, 80, 90, 100, None],\n",
    " 'n_estimators': [50,100,150,200]}\n",
    "\n",
    "gs_rfc=GridSearchCV(rfc, rfc_params, cv=5, scoring='roc_auc', n_jobs=-1)\n",
    "gs_rfc.fit(X_train,y_train)\n",
    "\n",
    "rfc2=gs_rfc.best_estimator_\n",
    "rfc2.fit(X_train,y_train)\n",
    "\n",
    "print('CV score on train data:', np.mean(cross_val_score(rfc2, X_train, y_train, cv=5, scoring='roc_auc')))\n",
    "print('CV score on test data:', np.mean(cross_val_score(rfc2, X_test, y_test, cv=5, scoring='roc_auc')))"
   ]
  },
  {
   "cell_type": "code",
   "execution_count": 93,
   "metadata": {},
   "outputs": [
    {
     "data": {
      "text/html": [
       "<div>\n",
       "<style scoped>\n",
       "    .dataframe tbody tr th:only-of-type {\n",
       "        vertical-align: middle;\n",
       "    }\n",
       "\n",
       "    .dataframe tbody tr th {\n",
       "        vertical-align: top;\n",
       "    }\n",
       "\n",
       "    .dataframe thead th {\n",
       "        text-align: right;\n",
       "    }\n",
       "</style>\n",
       "<table border=\"1\" class=\"dataframe\">\n",
       "  <thead>\n",
       "    <tr style=\"text-align: right;\">\n",
       "      <th></th>\n",
       "      <th>Predicted Low Salary</th>\n",
       "      <th>Predicted High Salary</th>\n",
       "    </tr>\n",
       "  </thead>\n",
       "  <tbody>\n",
       "    <tr>\n",
       "      <th>Actual Low Salary</th>\n",
       "      <td>54</td>\n",
       "      <td>21</td>\n",
       "    </tr>\n",
       "    <tr>\n",
       "      <th>Actual High Salary</th>\n",
       "      <td>20</td>\n",
       "      <td>73</td>\n",
       "    </tr>\n",
       "  </tbody>\n",
       "</table>\n",
       "</div>"
      ],
      "text/plain": [
       "                    Predicted Low Salary  Predicted High Salary\n",
       "Actual Low Salary                     54                     21\n",
       "Actual High Salary                    20                     73"
      ]
     },
     "execution_count": 93,
     "metadata": {},
     "output_type": "execute_result"
    }
   ],
   "source": [
    "pd.DataFrame(confusion_matrix(y_test,rfc2.predict(X_test)),\n",
    "             index=['Actual Low Salary','Actual High Salary'],\n",
    "             columns=['Predicted Low Salary','Predicted High Salary'])"
   ]
  },
  {
   "cell_type": "code",
   "execution_count": 94,
   "metadata": {},
   "outputs": [
    {
     "name": "stdout",
     "output_type": "stream",
     "text": [
      "              precision    recall  f1-score   support\n",
      "\n",
      "  Low Salary       0.73      0.72      0.72        75\n",
      " High Salary       0.78      0.78      0.78        93\n",
      "\n",
      "   micro avg       0.76      0.76      0.76       168\n",
      "   macro avg       0.75      0.75      0.75       168\n",
      "weighted avg       0.76      0.76      0.76       168\n",
      "\n"
     ]
    }
   ],
   "source": [
    "print(classification_report(y_test,rfc2.predict(X_test),target_names=[\"Low Salary\", \"High Salary\"]))"
   ]
  },
  {
   "cell_type": "markdown",
   "metadata": {},
   "source": [
    "From the test data cross val score, random forest is slightly lower compare to logistic regression but higher precision and recall score"
   ]
  },
  {
   "cell_type": "code",
   "execution_count": 90,
   "metadata": {},
   "outputs": [
    {
     "data": {
      "text/html": [
       "<div>\n",
       "<style scoped>\n",
       "    .dataframe tbody tr th:only-of-type {\n",
       "        vertical-align: middle;\n",
       "    }\n",
       "\n",
       "    .dataframe tbody tr th {\n",
       "        vertical-align: top;\n",
       "    }\n",
       "\n",
       "    .dataframe thead th {\n",
       "        text-align: right;\n",
       "    }\n",
       "</style>\n",
       "<table border=\"1\" class=\"dataframe\">\n",
       "  <thead>\n",
       "    <tr style=\"text-align: right;\">\n",
       "      <th></th>\n",
       "      <th>coef</th>\n",
       "    </tr>\n",
       "  </thead>\n",
       "  <tbody>\n",
       "    <tr>\n",
       "      <th>diploma</th>\n",
       "      <td>0.015199</td>\n",
       "    </tr>\n",
       "    <tr>\n",
       "      <th>Executive</th>\n",
       "      <td>0.009360</td>\n",
       "    </tr>\n",
       "    <tr>\n",
       "      <th>hadoop</th>\n",
       "      <td>0.008942</td>\n",
       "    </tr>\n",
       "    <tr>\n",
       "      <th>modeling</th>\n",
       "      <td>0.008766</td>\n",
       "    </tr>\n",
       "    <tr>\n",
       "      <th>understanding</th>\n",
       "      <td>0.007481</td>\n",
       "    </tr>\n",
       "    <tr>\n",
       "      <th>across</th>\n",
       "      <td>0.007439</td>\n",
       "    </tr>\n",
       "    <tr>\n",
       "      <th>Senior Management</th>\n",
       "      <td>0.007384</td>\n",
       "    </tr>\n",
       "    <tr>\n",
       "      <th>Junior Executive</th>\n",
       "      <td>0.007347</td>\n",
       "    </tr>\n",
       "    <tr>\n",
       "      <th>Middle Management</th>\n",
       "      <td>0.007292</td>\n",
       "    </tr>\n",
       "    <tr>\n",
       "      <th>salary</th>\n",
       "      <td>0.006621</td>\n",
       "    </tr>\n",
       "  </tbody>\n",
       "</table>\n",
       "</div>"
      ],
      "text/plain": [
       "                       coef\n",
       "diploma            0.015199\n",
       "Executive          0.009360\n",
       "hadoop             0.008942\n",
       "modeling           0.008766\n",
       "understanding      0.007481\n",
       "across             0.007439\n",
       "Senior Management  0.007384\n",
       "Junior Executive   0.007347\n",
       "Middle Management  0.007292\n",
       "salary             0.006621"
      ]
     },
     "execution_count": 90,
     "metadata": {},
     "output_type": "execute_result"
    }
   ],
   "source": [
    "features = np.array(X_train.columns)\n",
    "rf_coefs = pd.DataFrame({'coef':rfc2.feature_importances_},index=features)\n",
    "rf_coefs.sort_values('coef',ascending = False).head(10)"
   ]
  },
  {
   "cell_type": "markdown",
   "metadata": {},
   "source": [
    "Random Forest model importance feature also indicates certain features which appeared in logisitic regression model such as diploma, hadoop, modeling and seniority level"
   ]
  },
  {
   "cell_type": "markdown",
   "metadata": {},
   "source": [
    "### AdaBoost model with hyperparameter tune and classfication report"
   ]
  },
  {
   "cell_type": "code",
   "execution_count": 95,
   "metadata": {},
   "outputs": [
    {
     "name": "stderr",
     "output_type": "stream",
     "text": [
      "/anaconda3/lib/python3.7/site-packages/sklearn/model_selection/_search.py:841: DeprecationWarning: The default of the `iid` parameter will change from True to False in version 0.22 and will be removed in 0.24. This will change numeric results when test-set sizes are unequal.\n",
      "  DeprecationWarning)\n"
     ]
    },
    {
     "name": "stdout",
     "output_type": "stream",
     "text": [
      "CV score on train data: 0.7983762891967495\n",
      "CV score on test data: 0.7410526315789474\n"
     ]
    }
   ],
   "source": [
    "ada_params = {'n_estimators' : [50,100,150,200,250,500],'learning_rate' : [.5,.75,1.0,1.25,1.5,1.75,2.0]}\n",
    "gs_ada = GridSearchCV(Ada, param_grid=ada_params, cv=5, scoring='roc_auc', n_jobs=-1)\n",
    "gs_ada.fit(X_train,y_train)\n",
    "\n",
    "ada_c2=gs_ada.best_estimator_\n",
    "ada_c2.fit(X_train,y_train)\n",
    "\n",
    "print('CV score on train data:', np.mean(cross_val_score(ada_c2, X_train, y_train, cv=5, scoring='roc_auc')))\n",
    "print('CV score on test data:', np.mean(cross_val_score(ada_c2, X_test, y_test, cv=5, scoring='roc_auc')))"
   ]
  },
  {
   "cell_type": "code",
   "execution_count": 96,
   "metadata": {},
   "outputs": [
    {
     "data": {
      "text/html": [
       "<div>\n",
       "<style scoped>\n",
       "    .dataframe tbody tr th:only-of-type {\n",
       "        vertical-align: middle;\n",
       "    }\n",
       "\n",
       "    .dataframe tbody tr th {\n",
       "        vertical-align: top;\n",
       "    }\n",
       "\n",
       "    .dataframe thead th {\n",
       "        text-align: right;\n",
       "    }\n",
       "</style>\n",
       "<table border=\"1\" class=\"dataframe\">\n",
       "  <thead>\n",
       "    <tr style=\"text-align: right;\">\n",
       "      <th></th>\n",
       "      <th>Predicted Low Salary</th>\n",
       "      <th>Predicted High Salary</th>\n",
       "    </tr>\n",
       "  </thead>\n",
       "  <tbody>\n",
       "    <tr>\n",
       "      <th>Actual Low Salary</th>\n",
       "      <td>58</td>\n",
       "      <td>17</td>\n",
       "    </tr>\n",
       "    <tr>\n",
       "      <th>Actual High Salary</th>\n",
       "      <td>22</td>\n",
       "      <td>71</td>\n",
       "    </tr>\n",
       "  </tbody>\n",
       "</table>\n",
       "</div>"
      ],
      "text/plain": [
       "                    Predicted Low Salary  Predicted High Salary\n",
       "Actual Low Salary                     58                     17\n",
       "Actual High Salary                    22                     71"
      ]
     },
     "execution_count": 96,
     "metadata": {},
     "output_type": "execute_result"
    }
   ],
   "source": [
    "pd.DataFrame(confusion_matrix(y_test,ada_c2.predict(X_test)),\n",
    "             index=['Actual Low Salary','Actual High Salary'],\n",
    "             columns=['Predicted Low Salary','Predicted High Salary'])"
   ]
  },
  {
   "cell_type": "code",
   "execution_count": 97,
   "metadata": {},
   "outputs": [
    {
     "name": "stdout",
     "output_type": "stream",
     "text": [
      "              precision    recall  f1-score   support\n",
      "\n",
      "  Low Salary       0.72      0.77      0.75        75\n",
      " High Salary       0.81      0.76      0.78        93\n",
      "\n",
      "   micro avg       0.77      0.77      0.77       168\n",
      "   macro avg       0.77      0.77      0.77       168\n",
      "weighted avg       0.77      0.77      0.77       168\n",
      "\n"
     ]
    }
   ],
   "source": [
    "print(classification_report(y_test,ada_c2.predict(X_test),target_names=[\"Low Salary\", \"High Salary\"]))"
   ]
  },
  {
   "cell_type": "markdown",
   "metadata": {},
   "source": [
    "Adaboost test data cross val score ranked second but with the highest precision and recall score among all"
   ]
  },
  {
   "cell_type": "code",
   "execution_count": 100,
   "metadata": {},
   "outputs": [
    {
     "data": {
      "text/html": [
       "<div>\n",
       "<style scoped>\n",
       "    .dataframe tbody tr th:only-of-type {\n",
       "        vertical-align: middle;\n",
       "    }\n",
       "\n",
       "    .dataframe tbody tr th {\n",
       "        vertical-align: top;\n",
       "    }\n",
       "\n",
       "    .dataframe thead th {\n",
       "        text-align: right;\n",
       "    }\n",
       "</style>\n",
       "<table border=\"1\" class=\"dataframe\">\n",
       "  <thead>\n",
       "    <tr style=\"text-align: right;\">\n",
       "      <th></th>\n",
       "      <th>coef</th>\n",
       "    </tr>\n",
       "  </thead>\n",
       "  <tbody>\n",
       "    <tr>\n",
       "      <th>Non-executive</th>\n",
       "      <td>0.020</td>\n",
       "    </tr>\n",
       "    <tr>\n",
       "      <th>Middle Management</th>\n",
       "      <td>0.018</td>\n",
       "    </tr>\n",
       "    <tr>\n",
       "      <th>Professional</th>\n",
       "      <td>0.016</td>\n",
       "    </tr>\n",
       "    <tr>\n",
       "      <th>phd</th>\n",
       "      <td>0.014</td>\n",
       "    </tr>\n",
       "    <tr>\n",
       "      <th>command</th>\n",
       "      <td>0.012</td>\n",
       "    </tr>\n",
       "    <tr>\n",
       "      <th>sciences</th>\n",
       "      <td>0.012</td>\n",
       "    </tr>\n",
       "    <tr>\n",
       "      <th>projects</th>\n",
       "      <td>0.012</td>\n",
       "    </tr>\n",
       "    <tr>\n",
       "      <th>minimum bachelor</th>\n",
       "      <td>0.010</td>\n",
       "    </tr>\n",
       "    <tr>\n",
       "      <th>integration</th>\n",
       "      <td>0.010</td>\n",
       "    </tr>\n",
       "    <tr>\n",
       "      <th>Fresh/entry level</th>\n",
       "      <td>0.010</td>\n",
       "    </tr>\n",
       "  </tbody>\n",
       "</table>\n",
       "</div>"
      ],
      "text/plain": [
       "                    coef\n",
       "Non-executive      0.020\n",
       "Middle Management  0.018\n",
       "Professional       0.016\n",
       "phd                0.014\n",
       "command            0.012\n",
       "sciences           0.012\n",
       "projects           0.012\n",
       "minimum bachelor   0.010\n",
       "integration        0.010\n",
       "Fresh/entry level  0.010"
      ]
     },
     "execution_count": 100,
     "metadata": {},
     "output_type": "execute_result"
    }
   ],
   "source": [
    "features = np.array(X_train.columns)\n",
    "ada_coefs = pd.DataFrame({'coef':ada_c2.feature_importances_},index=features)\n",
    "ada_coefs.sort_values('coef',ascending = False).head(10)"
   ]
  },
  {
   "cell_type": "markdown",
   "metadata": {},
   "source": [
    "With no suprise that seniority play a big part as predictor, phD is being captured by Adaboost as one of the top predictor which is the same as logisitic regression model"
   ]
  },
  {
   "cell_type": "code",
   "execution_count": 101,
   "metadata": {},
   "outputs": [
    {
     "data": {
      "image/png": "[encoded data removed]",
      "text/plain": [
       "<Figure size 432x288 with 1 Axes>"
      ]
     },
     "metadata": {
      "image/png": {
       "height": 279,
       "width": 430
      },
      "needs_background": "light"
     },
     "output_type": "display_data"
    }
   ],
   "source": [
    "#ROC curve and AUC score for all 3 models\n",
    "\n",
    "y_score_lr = lr_c2.predict_proba(X_test)[:,1]\n",
    "y_score_ada = ada_c2.predict_proba(X_test)[:,1]\n",
    "y_score_rf = rfc2.predict_proba(X_test)[:,1]\n",
    "\n",
    "FPR1, TPR1, THR1 = roc_curve(y_test,y_score_lr)\n",
    "FPR2, TPR2, THR2 = roc_curve(y_test,y_score_ada)\n",
    "FPR3, TPR3, THR3 = roc_curve(y_test,y_score_rf)\n",
    "ROC_AUC1=auc(FPR1,TPR1)\n",
    "ROC_AUC2=auc(FPR2,TPR2)\n",
    "ROC_AUC3=auc(FPR3,TPR3)\n",
    "\n",
    "plt.plot(FPR1, TPR1, label='Logistic Regression ROC curve (area = %0.3f)' % ROC_AUC1, linewidth=4)\n",
    "plt.plot(FPR2, TPR2, label='AdaBoost ROC curve (area = %0.3f)' % ROC_AUC2, linewidth=4)\n",
    "plt.plot(FPR3, TPR3, label='RandomForest ROC curve (area = %0.3f)' % ROC_AUC3, linewidth=4)\n",
    "\n",
    "plt.plot([0, 1], [0, 1], 'k--', linewidth=3)\n",
    "plt.xlim([-0.01, 1.0])\n",
    "plt.ylim([0.0, 1.05])\n",
    "plt.xlabel('False Positive Rate', fontsize=12)\n",
    "plt.ylabel('True Positive Rate', fontsize=12)\n",
    "plt.title('ROC curve for High Salary detection', fontsize=18)\n",
    "plt.legend(loc=\"lower right\")\n",
    "plt.show()"
   ]
  },
  {
   "cell_type": "markdown",
   "metadata": {},
   "source": [
    "Based on AUC score, logistic regression is the highest among 3 models but Adaboost model turn out to have higher precision and recall score which is better for prediction. Logistic regression on the other hand is able to provide positive and negative coeffient which is important to determine which features contribute to higher salary."
   ]
  },
  {
   "cell_type": "code",
   "execution_count": 104,
   "metadata": {},
   "outputs": [
    {
     "data": {
      "text/html": [
       "<div>\n",
       "<style scoped>\n",
       "    .dataframe tbody tr th:only-of-type {\n",
       "        vertical-align: middle;\n",
       "    }\n",
       "\n",
       "    .dataframe tbody tr th {\n",
       "        vertical-align: top;\n",
       "    }\n",
       "\n",
       "    .dataframe thead th {\n",
       "        text-align: right;\n",
       "    }\n",
       "</style>\n",
       "<table border=\"1\" class=\"dataframe\">\n",
       "  <thead>\n",
       "    <tr style=\"text-align: right;\">\n",
       "      <th></th>\n",
       "      <th>AdaBoost model</th>\n",
       "      <th>Logistic model</th>\n",
       "      <th>Random Forest</th>\n",
       "    </tr>\n",
       "  </thead>\n",
       "  <tbody>\n",
       "    <tr>\n",
       "      <th>0</th>\n",
       "      <td>Non-executive</td>\n",
       "      <td>phd</td>\n",
       "      <td>diploma</td>\n",
       "    </tr>\n",
       "    <tr>\n",
       "      <th>1</th>\n",
       "      <td>Middle Management</td>\n",
       "      <td>diploma</td>\n",
       "      <td>Executive</td>\n",
       "    </tr>\n",
       "    <tr>\n",
       "      <th>2</th>\n",
       "      <td>Professional</td>\n",
       "      <td>Executive</td>\n",
       "      <td>hadoop</td>\n",
       "    </tr>\n",
       "    <tr>\n",
       "      <th>3</th>\n",
       "      <td>phd</td>\n",
       "      <td>Junior Executive</td>\n",
       "      <td>modeling</td>\n",
       "    </tr>\n",
       "    <tr>\n",
       "      <th>4</th>\n",
       "      <td>command</td>\n",
       "      <td>sciences</td>\n",
       "      <td>understanding</td>\n",
       "    </tr>\n",
       "    <tr>\n",
       "      <th>5</th>\n",
       "      <td>sciences</td>\n",
       "      <td>Non-executive</td>\n",
       "      <td>across</td>\n",
       "    </tr>\n",
       "    <tr>\n",
       "      <th>6</th>\n",
       "      <td>projects</td>\n",
       "      <td>Fresh/entry level</td>\n",
       "      <td>Senior Management</td>\n",
       "    </tr>\n",
       "    <tr>\n",
       "      <th>7</th>\n",
       "      <td>minimum bachelor</td>\n",
       "      <td>statistical</td>\n",
       "      <td>Junior Executive</td>\n",
       "    </tr>\n",
       "    <tr>\n",
       "      <th>8</th>\n",
       "      <td>integration</td>\n",
       "      <td>engineering</td>\n",
       "      <td>Middle Management</td>\n",
       "    </tr>\n",
       "    <tr>\n",
       "      <th>9</th>\n",
       "      <td>Fresh/entry level</td>\n",
       "      <td>work experience</td>\n",
       "      <td>salary</td>\n",
       "    </tr>\n",
       "  </tbody>\n",
       "</table>\n",
       "</div>"
      ],
      "text/plain": [
       "      AdaBoost model     Logistic model      Random Forest\n",
       "0      Non-executive                phd            diploma\n",
       "1  Middle Management            diploma          Executive\n",
       "2       Professional          Executive             hadoop\n",
       "3                phd   Junior Executive           modeling\n",
       "4            command           sciences      understanding\n",
       "5           sciences      Non-executive             across\n",
       "6           projects  Fresh/entry level  Senior Management\n",
       "7   minimum bachelor        statistical   Junior Executive\n",
       "8        integration        engineering  Middle Management\n",
       "9  Fresh/entry level    work experience             salary"
      ]
     },
     "execution_count": 104,
     "metadata": {},
     "output_type": "execute_result"
    }
   ],
   "source": [
    "#Top 10 features from all 3 models\n",
    "Ada_feat = ada_coefs.sort_values('coef',ascending = False).head(10).index\n",
    "Logit_reg = lr_coefs.sort_values('abs coef',ascending=False).head(10).index\n",
    "rf_feat = rf_coefs.sort_values('coef',ascending = False).head(10).index\n",
    "\n",
    "sal_features = pd.DataFrame({'AdaBoost model':Ada_feat, 'Logistic model':Logit_reg, 'Random Forest':rf_feat})\n",
    "sal_features"
   ]
  },
  {
   "cell_type": "code",
   "execution_count": 84,
   "metadata": {},
   "outputs": [
    {
     "data": {
      "text/plain": [
       "<matplotlib.axes._subplots.AxesSubplot at 0x1a1d9bf550>"
      ]
     },
     "execution_count": 84,
     "metadata": {},
     "output_type": "execute_result"
    },
    {
     "data": {
      "image/png": "[encoded data removed]",
      "text/plain": [
       "<Figure size 432x288 with 1 Axes>"
      ]
     },
     "metadata": {
      "image/png": {
       "height": 244,
       "width": 467
      },
      "needs_background": "light"
     },
     "output_type": "display_data"
    }
   ],
   "source": [
    "#Positive and negative coefficient chart from logistic regression model\n",
    "imp_coefs = pd.concat([lr_coefs.sort_values('coef',ascending = True).head(5),\n",
    "                     lr_coefs.sort_values('coef',ascending = True).tail(5)])\n",
    "imp_coefs['coef'].plot(kind = \"barh\")"
   ]
  },
  {
   "cell_type": "markdown",
   "metadata": {},
   "source": [
    "## Question 1 conclusion\n",
    "\n",
    "### Factos that impact salary:\n",
    "\n",
    "1) In conclusion, all 3 models AUC are better than baseline\n",
    "\n",
    "2) Logistic regression model topped the AUC score but Adaboost has better precision and recall score. Logistic regression model is able to provide better insight due to positive and negative coefficient.\n",
    "\n",
    "3) Top 5 job requirements which have positive coefficient for higher salary are PhD, managerial level, modeling skill, knowledge in Hadoop and work experience is a must.\n",
    "\n",
    "4) Top 5 job requirements which have negative coefficient on the salary are diploma, seniority level which is below management and senior executive\n",
    "\n",
    "5) We can conclude that seniority below or above managerial level is one of the main factor for salary above or below median. Other than seniority, education level and specific skills also contribute certain weightage on salary."
   ]
  },
  {
   "cell_type": "markdown",
   "metadata": {},
   "source": [
    "### BONUS PROBLEM\n",
    "\n",
    "Your boss would rather tell a client incorrectly that they would get a lower salary job than tell a client incorrectly that they would get a high salary job. Adjust one of your models to ease his mind, and explain what it is doing and any tradeoffs. Plot the ROC curve."
   ]
  },
  {
   "cell_type": "code",
   "execution_count": null,
   "metadata": {},
   "outputs": [],
   "source": []
  },
  {
   "cell_type": "code",
   "execution_count": 105,
   "metadata": {},
   "outputs": [
    {
     "data": {
      "text/html": [
       "<div>\n",
       "<style scoped>\n",
       "    .dataframe tbody tr th:only-of-type {\n",
       "        vertical-align: middle;\n",
       "    }\n",
       "\n",
       "    .dataframe tbody tr th {\n",
       "        vertical-align: top;\n",
       "    }\n",
       "\n",
       "    .dataframe thead th {\n",
       "        text-align: right;\n",
       "    }\n",
       "</style>\n",
       "<table border=\"1\" class=\"dataframe\">\n",
       "  <thead>\n",
       "    <tr style=\"text-align: right;\">\n",
       "      <th></th>\n",
       "      <th>Predicted Low Salary</th>\n",
       "      <th>Predicted High Salary</th>\n",
       "    </tr>\n",
       "  </thead>\n",
       "  <tbody>\n",
       "    <tr>\n",
       "      <th>Actual Low Salary</th>\n",
       "      <td>58</td>\n",
       "      <td>17</td>\n",
       "    </tr>\n",
       "    <tr>\n",
       "      <th>Actual High Salary</th>\n",
       "      <td>22</td>\n",
       "      <td>71</td>\n",
       "    </tr>\n",
       "  </tbody>\n",
       "</table>\n",
       "</div>"
      ],
      "text/plain": [
       "                    Predicted Low Salary  Predicted High Salary\n",
       "Actual Low Salary                     58                     17\n",
       "Actual High Salary                    22                     71"
      ]
     },
     "execution_count": 105,
     "metadata": {},
     "output_type": "execute_result"
    }
   ],
   "source": [
    "pd.DataFrame(confusion_matrix(y_test,ada_c2.predict(X_test)),\n",
    "             index=['Actual Low Salary','Actual High Salary'],\n",
    "             columns=['Predicted Low Salary','Predicted High Salary'])"
   ]
  },
  {
   "cell_type": "code",
   "execution_count": 106,
   "metadata": {},
   "outputs": [
    {
     "name": "stdout",
     "output_type": "stream",
     "text": [
      "              precision    recall  f1-score   support\n",
      "\n",
      "  Low Salary       0.72      0.77      0.75        75\n",
      " High Salary       0.81      0.76      0.78        93\n",
      "\n",
      "   micro avg       0.77      0.77      0.77       168\n",
      "   macro avg       0.77      0.77      0.77       168\n",
      "weighted avg       0.77      0.77      0.77       168\n",
      "\n"
     ]
    }
   ],
   "source": [
    "print(classification_report(y_test,ada_c2.predict(X_test),target_names=[\"Low Salary\", \"High Salary\"]))"
   ]
  },
  {
   "cell_type": "markdown",
   "metadata": {},
   "source": [
    "For this problem, AdaBoost model is selected for high precision and recall score. In this care, we will try to increase the recall score for low salary (means less false positive)"
   ]
  },
  {
   "cell_type": "code",
   "execution_count": null,
   "metadata": {},
   "outputs": [],
   "source": []
  },
  {
   "cell_type": "code",
   "execution_count": null,
   "metadata": {},
   "outputs": [],
   "source": [
    "#ROC curve and AUC score for all 3 models\n",
    "\n",
    "\n",
    "y_score_ada = ada_c2.predict_proba(X_test)[:,1]\n",
    "\n",
    "\n",
    "#FPR1, TPR1, THR1 = roc_curve(y_test,y_score_lr)\n",
    "FPR2, TPR2, THR2 = roc_curve(y_test,y_score_ada)\n",
    "\n",
    "#ROC_AUC1=auc(FPR1,TPR1)\n",
    "ROC_AUC2=auc(FPR2,TPR2)\n",
    "\n",
    "#plt.plot(FPR2, TPR2, label='ROC curve after adjustment (area = %0.3f)' % ROC_AUC2, linewidth=4)\n",
    "plt.plot(FPR2, TPR2, label='ROC curve before adjustment(area = %0.3f)' % ROC_AUC2, linewidth=4)\n",
    "\n",
    "plt.plot([0, 1], [0, 1], 'k--', linewidth=3)\n",
    "plt.xlim([-0.01, 1.0])\n",
    "plt.ylim([0.0, 1.05])\n",
    "plt.xlabel('False Positive Rate', fontsize=12)\n",
    "plt.ylabel('True Positive Rate', fontsize=12)\n",
    "plt.title('ROC curve for High Salary detection', fontsize=18)\n",
    "plt.legend(loc=\"lower right\")\n",
    "plt.show()"
   ]
  },
  {
   "cell_type": "code",
   "execution_count": 107,
   "metadata": {},
   "outputs": [],
   "source": [
    "#re-predict y based on threshold value given\n",
    "def re_predict (y, threshold):\n",
    "        if y > threshold:\n",
    "            return 1\n",
    "        else:\n",
    "            return 0"
   ]
  },
  {
   "cell_type": "code",
   "execution_count": 111,
   "metadata": {},
   "outputs": [],
   "source": [
    "pred_y = ada_c2.predict_proba(X_test)\n",
    "new_pred = []\n",
    "for i in range(len(pred_y)):\n",
    "    new_pred.append(re_predict(pred_y[i,1], 0.5))"
   ]
  },
  {
   "cell_type": "code",
   "execution_count": 114,
   "metadata": {},
   "outputs": [
    {
     "data": {
      "text/html": [
       "<div>\n",
       "<style scoped>\n",
       "    .dataframe tbody tr th:only-of-type {\n",
       "        vertical-align: middle;\n",
       "    }\n",
       "\n",
       "    .dataframe tbody tr th {\n",
       "        vertical-align: top;\n",
       "    }\n",
       "\n",
       "    .dataframe thead th {\n",
       "        text-align: right;\n",
       "    }\n",
       "</style>\n",
       "<table border=\"1\" class=\"dataframe\">\n",
       "  <thead>\n",
       "    <tr style=\"text-align: right;\">\n",
       "      <th></th>\n",
       "      <th>Predicted Low Salary</th>\n",
       "      <th>Predicted High Salary</th>\n",
       "    </tr>\n",
       "  </thead>\n",
       "  <tbody>\n",
       "    <tr>\n",
       "      <th>Actual Low Salary</th>\n",
       "      <td>58</td>\n",
       "      <td>17</td>\n",
       "    </tr>\n",
       "    <tr>\n",
       "      <th>Actual High Salary</th>\n",
       "      <td>22</td>\n",
       "      <td>71</td>\n",
       "    </tr>\n",
       "  </tbody>\n",
       "</table>\n",
       "</div>"
      ],
      "text/plain": [
       "                    Predicted Low Salary  Predicted High Salary\n",
       "Actual Low Salary                     58                     17\n",
       "Actual High Salary                    22                     71"
      ]
     },
     "execution_count": 114,
     "metadata": {},
     "output_type": "execute_result"
    }
   ],
   "source": [
    "pd.DataFrame(confusion_matrix(y_test,new_pred),\n",
    "             index=['Actual Low Salary','Actual High Salary'],\n",
    "             columns=['Predicted Low Salary','Predicted High Salary'])"
   ]
  },
  {
   "cell_type": "code",
   "execution_count": 117,
   "metadata": {},
   "outputs": [
    {
     "name": "stdout",
     "output_type": "stream",
     "text": [
      "              precision    recall  f1-score   support\n",
      "\n",
      "  Low Salary       0.72      0.77      0.75        75\n",
      " High Salary       0.81      0.76      0.78        93\n",
      "\n",
      "   micro avg       0.77      0.77      0.77       168\n",
      "   macro avg       0.77      0.77      0.77       168\n",
      "weighted avg       0.77      0.77      0.77       168\n",
      "\n"
     ]
    }
   ],
   "source": [
    "print(classification_report(y_test,new_pred,target_names=[\"Low Salary\", \"High Salary\"]))"
   ]
  },
  {
   "cell_type": "markdown",
   "metadata": {},
   "source": [
    "### Question 2:\n",
    "Identify features in the data related to job postings that can distinguish job titles from each other. \n",
    "What components of a job posting distinguish data scientists from other data jobs?"
   ]
  },
  {
   "cell_type": "code",
   "execution_count": 96,
   "metadata": {},
   "outputs": [],
   "source": [
    "job_title = job_clean[['Job_Title','Requirements']]"
   ]
  },
  {
   "cell_type": "code",
   "execution_count": 97,
   "metadata": {},
   "outputs": [],
   "source": [
    "#job titles containing keywords below are considered as data scientists role\n",
    "title_key = ['SCIENCE','SCIENCTIST','MACHINE','DEEP','NLP','ANALYST','ANALYTIC']\n",
    "key = '|'.join(title_key)"
   ]
  },
  {
   "cell_type": "code",
   "execution_count": 98,
   "metadata": {},
   "outputs": [],
   "source": [
    "#1 for data science role, 0 for others\n",
    "job_title[\"data_science\"] = np.where(job_title['Job_Title'].str.upper().str.contains(key), 1, 0)"
   ]
  },
  {
   "cell_type": "code",
   "execution_count": 99,
   "metadata": {},
   "outputs": [
    {
     "data": {
      "text/html": [
       "<div>\n",
       "<style scoped>\n",
       "    .dataframe tbody tr th:only-of-type {\n",
       "        vertical-align: middle;\n",
       "    }\n",
       "\n",
       "    .dataframe tbody tr th {\n",
       "        vertical-align: top;\n",
       "    }\n",
       "\n",
       "    .dataframe thead th {\n",
       "        text-align: right;\n",
       "    }\n",
       "</style>\n",
       "<table border=\"1\" class=\"dataframe\">\n",
       "  <thead>\n",
       "    <tr style=\"text-align: right;\">\n",
       "      <th></th>\n",
       "      <th>Job_Title</th>\n",
       "      <th>Requirements</th>\n",
       "      <th>data_science</th>\n",
       "    </tr>\n",
       "  </thead>\n",
       "  <tbody>\n",
       "    <tr>\n",
       "      <th>0</th>\n",
       "      <td>Data Engineer (5 days, Orchard, $3500-4000)</td>\n",
       "      <td>Minimum Degree/Diploma in Computer Science, ...</td>\n",
       "      <td>0</td>\n",
       "    </tr>\n",
       "    <tr>\n",
       "      <th>1</th>\n",
       "      <td>Customer Engagement Excellence Learning Manager</td>\n",
       "      <td>A University / Bachelors degree holder in app...</td>\n",
       "      <td>0</td>\n",
       "    </tr>\n",
       "    <tr>\n",
       "      <th>2</th>\n",
       "      <td>Manager, Research</td>\n",
       "      <td>·A smart communicator, a team player with proa...</td>\n",
       "      <td>0</td>\n",
       "    </tr>\n",
       "    <tr>\n",
       "      <th>3</th>\n",
       "      <td>Head of Research &amp; Evaluation, Asia</td>\n",
       "      <td>Qualifications  10 plus years expertise and do...</td>\n",
       "      <td>0</td>\n",
       "    </tr>\n",
       "    <tr>\n",
       "      <th>4</th>\n",
       "      <td>IT Systems Adminstrator</td>\n",
       "      <td>\" Bachelors Degree in Computer Science, Comput...</td>\n",
       "      <td>0</td>\n",
       "    </tr>\n",
       "  </tbody>\n",
       "</table>\n",
       "</div>"
      ],
      "text/plain": [
       "                                         Job_Title  \\\n",
       "0      Data Engineer (5 days, Orchard, $3500-4000)   \n",
       "1  Customer Engagement Excellence Learning Manager   \n",
       "2                                Manager, Research   \n",
       "3              Head of Research & Evaluation, Asia   \n",
       "4                          IT Systems Adminstrator   \n",
       "\n",
       "                                        Requirements  data_science  \n",
       "0    Minimum Degree/Diploma in Computer Science, ...             0  \n",
       "1   A University / Bachelors degree holder in app...             0  \n",
       "2  ·A smart communicator, a team player with proa...             0  \n",
       "3  Qualifications  10 plus years expertise and do...             0  \n",
       "4  \" Bachelors Degree in Computer Science, Comput...             0  "
      ]
     },
     "execution_count": 99,
     "metadata": {},
     "output_type": "execute_result"
    }
   ],
   "source": [
    "job_title.head()"
   ]
  },
  {
   "cell_type": "code",
   "execution_count": 100,
   "metadata": {},
   "outputs": [
    {
     "data": {
      "text/plain": [
       "0    3473\n",
       "1     458\n",
       "Name: data_science, dtype: int64"
      ]
     },
     "execution_count": 100,
     "metadata": {},
     "output_type": "execute_result"
    }
   ],
   "source": [
    "job_title['data_science'].value_counts()"
   ]
  },
  {
   "cell_type": "code",
   "execution_count": 101,
   "metadata": {},
   "outputs": [
    {
     "data": {
      "text/plain": [
       "0.11650979394556092"
      ]
     },
     "execution_count": 101,
     "metadata": {},
     "output_type": "execute_result"
    }
   ],
   "source": [
    "#baseline to predict data science job is 0.11, which indicate this is a imbalance data\n",
    "job_title[job_title['data_science']==1].count().Job_Title/len(job_title['data_science'])"
   ]
  },
  {
   "cell_type": "code",
   "execution_count": null,
   "metadata": {},
   "outputs": [],
   "source": []
  },
  {
   "cell_type": "markdown",
   "metadata": {},
   "source": [
    "from sklearn.feature_extraction.text import CountVectorizer, TfidfVectorizer\n",
    "from sklearn.feature_extraction import stop_words\n",
    "from nltk.corpus import stopwords\n",
    "stop = stopwords.words('english')\n",
    "tf_vectorizer = CountVectorizer(strip_accents = 'unicode',\n",
    "                                stop_words = stop,\n",
    "                                lowercase = True,\n",
    "                                token_pattern = r'\\b[a-zA-Z]{3,}\\b',\n",
    "                                max_df = 0.5, \n",
    "                                min_df = 5)\n",
    "dtm = tf_vectorizer.fit_transform(job_title['Requirements'])"
   ]
  },
  {
   "cell_type": "markdown",
   "metadata": {},
   "source": [
    "import pyLDAvis\n",
    "import pyLDAvis.sklearn\n",
    "from sklearn.decomposition import LatentDirichletAllocation\n",
    "\n",
    "lda_tf = LatentDirichletAllocation(n_topics=7)\n",
    "lda_tf.fit(dtm)"
   ]
  },
  {
   "cell_type": "markdown",
   "metadata": {},
   "source": [
    "dispay_data = pyLDAvis.sklearn.prepare(lda_tf, dtm, tf_vectorizer)"
   ]
  },
  {
   "cell_type": "markdown",
   "metadata": {},
   "source": [
    "pd.options.display.max_colwidth = 4000\n",
    "#pyLDAvis.display(dispay_data)\n",
    "pyLDAvis.show(dispay_data)"
   ]
  },
  {
   "cell_type": "code",
   "execution_count": 102,
   "metadata": {},
   "outputs": [],
   "source": [
    "#using hashingvectorizer to enhance stopword\n",
    "from sklearn.feature_extraction.text import HashingVectorizer\n",
    "hashvect      =  HashingVectorizer(lowercase=True, strip_accents='unicode',\n",
    "                 stop_words=stop, ngram_range=(2,3))\n",
    "\n",
    "DS_hash    =  hashvect.fit_transform(job_title['Requirements'])\n",
    "hash_stop = list(hashvect.get_stop_words())"
   ]
  },
  {
   "cell_type": "code",
   "execution_count": 103,
   "metadata": {},
   "outputs": [
    {
     "data": {
      "text/plain": [
       "CountVectorizer(analyzer='word', binary=False, decode_error='strict',\n",
       "        dtype=<class 'numpy.int64'>, encoding='utf-8', input='content',\n",
       "        lowercase=True, max_df=0.3, max_features=1500, min_df=5,\n",
       "        ngram_range=(1, 2), preprocessor=None,\n",
       "        stop_words=['i', 'me', 'my', 'myself', 'we', 'our', 'ours', 'ourselves', 'you', \"you're\", \"you've\", \"you'll\", \"you'd\", 'your', 'yours', 'yourself', 'yourselves', 'he', 'him', 'his', 'himself', 'she', \"she's\", 'her', 'hers', 'herself', 'it', \"it's\", 'its', 'itself', 'they', 'them', 'their', 'theirs',...you'd\", 'theirs', \"it's\", 'been', 'very', 'i', 'whom', 'but', 'for', 'some', 'than', 'my', 'd', 'o'],\n",
       "        strip_accents='unicode', token_pattern='(?u)\\\\b\\\\w\\\\w+\\\\b',\n",
       "        tokenizer=None, vocabulary=None)"
      ]
     },
     "execution_count": 103,
     "metadata": {},
     "output_type": "execute_result"
    }
   ],
   "source": [
    "from sklearn.feature_extraction.text import CountVectorizer, TfidfVectorizer\n",
    "from sklearn.feature_extraction import stop_words\n",
    "from nltk.corpus import stopwords\n",
    "\n",
    "#CountVectorizer job requirements columns\n",
    "stop = stopwords.words('english')\n",
    "stop += ['regret','shortlisted', 'candidates','notified','etc', 'take', 'hands',\n",
    "         'related','least','able','good','preferred','skill','experience','degree',\n",
    "         'hours', 'work', 'gce','last']\n",
    "stop += hash_stop\n",
    "\n",
    "cvec = CountVectorizer(lowercase=True, strip_accents='unicode',\n",
    "                       max_features=1500, min_df=5, max_df=0.3, \n",
    "                       stop_words=stop,ngram_range=(1,2))\n",
    "cvec.fit(job_title['Requirements'])"
   ]
  },
  {
   "cell_type": "code",
   "execution_count": 104,
   "metadata": {},
   "outputs": [],
   "source": [
    "nlp = pd.DataFrame(cvec.transform(job_title['Requirements']).todense(),\n",
    "                   columns=cvec.get_feature_names())"
   ]
  },
  {
   "cell_type": "code",
   "execution_count": 105,
   "metadata": {},
   "outputs": [],
   "source": [
    "X = nlp\n",
    "y = job_title['data_science'].values"
   ]
  },
  {
   "cell_type": "code",
   "execution_count": 106,
   "metadata": {},
   "outputs": [],
   "source": [
    "#Data with dummified 'seniority' and countvectorized 'requirements'\n",
    "X_train, X_test, y_train, y_test = train_test_split(X, y, test_size=0.2, random_state=42)"
   ]
  },
  {
   "cell_type": "code",
   "execution_count": 109,
   "metadata": {},
   "outputs": [
    {
     "name": "stdout",
     "output_type": "stream",
     "text": [
      "Logistic reg auc score: 0.8046378359926164\n",
      "Logistic reg f1 score: 0.4671435575034494\n",
      "RandomForest auc score: 0.8178180392950161\n",
      "RandomForest f1 score: 0.39903639658180834\n"
     ]
    }
   ],
   "source": [
    "from sklearn.utils import class_weight\n",
    "from sklearn.utils.class_weight import compute_sample_weight\n",
    "#class_weights = class_weight.compute_class_weight('balanced', np.unique(y_train), y_train)\n",
    "class_weights = dict({0:1.,1:15.})\n",
    "\n",
    "from sklearn.linear_model import LogisticRegression\n",
    "from sklearn.ensemble import RandomForestClassifier\n",
    "\n",
    "lr = LogisticRegression()\n",
    "lr.fit(X_train, y_train)\n",
    "\n",
    "rfc = RandomForestClassifier(class_weight=class_weights,random_state=42)\n",
    "rfc.fit(X_train, y_train)\n",
    "\n",
    "print('Logistic reg auc score:', np.mean(cross_val_score(lr, X_train, y_train, cv=5, scoring ='roc_auc')))\n",
    "print('Logistic reg f1 score:', np.mean(cross_val_score(lr, X_train, y_train, cv=5, scoring ='f1')))\n",
    "print('RandomForest auc score:', np.mean(cross_val_score(rfc, X_train, y_train, cv=5, scoring ='roc_auc')))\n",
    "print('RandomForest f1 score:', np.mean(cross_val_score(rfc, X_train, y_train, cv=5, scoring ='f1')))"
   ]
  },
  {
   "cell_type": "markdown",
   "metadata": {},
   "source": [
    "### Hyperparameter for logistic regression and random forest model\n",
    "Using f1 score for gridsearch and scoring instean of auc score due to imbalance data on DS class"
   ]
  },
  {
   "cell_type": "code",
   "execution_count": 110,
   "metadata": {},
   "outputs": [
    {
     "name": "stdout",
     "output_type": "stream",
     "text": [
      "Cross val f1 score on train data: 0.4701275909069957\n"
     ]
    }
   ],
   "source": [
    "#hyperparameter tune for logistic regression (gridsearch based on f1 score)\n",
    "lr_params = {'penalty': ['l1','l2'], 'C': [0.001,0.01,0.1,1,10,100,1000]}\n",
    "gs_lrf = GridSearchCV(lr, param_grid=lr_params, cv=5, scoring='f1', n_jobs=-1)\n",
    "gs_lrf.fit(X_train,y_train)\n",
    "\n",
    "lr_c2f=gs_lrf.best_estimator_\n",
    "lr_c2f.fit(X_train,y_train)\n",
    "\n",
    "print('Cross val f1 score on train data:', np.mean(cross_val_score(lr_c2f, X_train, y_train, cv=5, scoring='f1')))"
   ]
  },
  {
   "cell_type": "code",
   "execution_count": 116,
   "metadata": {},
   "outputs": [
    {
     "data": {
      "text/html": [
       "<div>\n",
       "<style scoped>\n",
       "    .dataframe tbody tr th:only-of-type {\n",
       "        vertical-align: middle;\n",
       "    }\n",
       "\n",
       "    .dataframe tbody tr th {\n",
       "        vertical-align: top;\n",
       "    }\n",
       "\n",
       "    .dataframe thead th {\n",
       "        text-align: right;\n",
       "    }\n",
       "</style>\n",
       "<table border=\"1\" class=\"dataframe\">\n",
       "  <thead>\n",
       "    <tr style=\"text-align: right;\">\n",
       "      <th></th>\n",
       "      <th>Predicted Other job</th>\n",
       "      <th>Predicted DS job</th>\n",
       "    </tr>\n",
       "  </thead>\n",
       "  <tbody>\n",
       "    <tr>\n",
       "      <th>Actual Other job</th>\n",
       "      <td>661</td>\n",
       "      <td>27</td>\n",
       "    </tr>\n",
       "    <tr>\n",
       "      <th>Actual DS job</th>\n",
       "      <td>66</td>\n",
       "      <td>33</td>\n",
       "    </tr>\n",
       "  </tbody>\n",
       "</table>\n",
       "</div>"
      ],
      "text/plain": [
       "                  Predicted Other job  Predicted DS job\n",
       "Actual Other job                  661                27\n",
       "Actual DS job                      66                33"
      ]
     },
     "execution_count": 116,
     "metadata": {},
     "output_type": "execute_result"
    }
   ],
   "source": [
    "pd.DataFrame(confusion_matrix(y_test,lr_c2f.predict(X_test)),\n",
    "             index=['Actual Other job','Actual DS job'],\n",
    "             columns=['Predicted Other job','Predicted DS job'])"
   ]
  },
  {
   "cell_type": "code",
   "execution_count": 115,
   "metadata": {},
   "outputs": [
    {
     "name": "stdout",
     "output_type": "stream",
     "text": [
      "              precision    recall  f1-score   support\n",
      "\n",
      "   Other job       0.91      0.96      0.93       688\n",
      "      DS job       0.55      0.33      0.42        99\n",
      "\n",
      "   micro avg       0.88      0.88      0.88       787\n",
      "   macro avg       0.73      0.65      0.67       787\n",
      "weighted avg       0.86      0.88      0.87       787\n",
      "\n"
     ]
    }
   ],
   "source": [
    "print(classification_report(y_test,lr_c2f.predict(X_test),target_names=[\"Other job\", \"DS job\"]))"
   ]
  },
  {
   "cell_type": "code",
   "execution_count": 125,
   "metadata": {},
   "outputs": [
    {
     "data": {
      "text/html": [
       "<div>\n",
       "<style scoped>\n",
       "    .dataframe tbody tr th:only-of-type {\n",
       "        vertical-align: middle;\n",
       "    }\n",
       "\n",
       "    .dataframe tbody tr th {\n",
       "        vertical-align: top;\n",
       "    }\n",
       "\n",
       "    .dataframe thead th {\n",
       "        text-align: right;\n",
       "    }\n",
       "</style>\n",
       "<table border=\"1\" class=\"dataframe\">\n",
       "  <thead>\n",
       "    <tr style=\"text-align: right;\">\n",
       "      <th></th>\n",
       "      <th>coef</th>\n",
       "    </tr>\n",
       "  </thead>\n",
       "  <tbody>\n",
       "    <tr>\n",
       "      <th>analyst</th>\n",
       "      <td>2.797223</td>\n",
       "    </tr>\n",
       "    <tr>\n",
       "      <th>java python</th>\n",
       "      <td>2.086826</td>\n",
       "    </tr>\n",
       "    <tr>\n",
       "      <th>business analysis</th>\n",
       "      <td>1.690863</td>\n",
       "    </tr>\n",
       "    <tr>\n",
       "      <th>analyzing</th>\n",
       "      <td>1.636646</td>\n",
       "    </tr>\n",
       "    <tr>\n",
       "      <th>communications skills</th>\n",
       "      <td>1.600007</td>\n",
       "    </tr>\n",
       "    <tr>\n",
       "      <th>lean</th>\n",
       "      <td>1.595578</td>\n",
       "    </tr>\n",
       "    <tr>\n",
       "      <th>possess diploma</th>\n",
       "      <td>1.532295</td>\n",
       "    </tr>\n",
       "    <tr>\n",
       "      <th>commit</th>\n",
       "      <td>1.414349</td>\n",
       "    </tr>\n",
       "    <tr>\n",
       "      <th>jira</th>\n",
       "      <td>1.173392</td>\n",
       "    </tr>\n",
       "    <tr>\n",
       "      <th>deep learning</th>\n",
       "      <td>1.162733</td>\n",
       "    </tr>\n",
       "  </tbody>\n",
       "</table>\n",
       "</div>"
      ],
      "text/plain": [
       "                           coef\n",
       "analyst                2.797223\n",
       "java python            2.086826\n",
       "business analysis      1.690863\n",
       "analyzing              1.636646\n",
       "communications skills  1.600007\n",
       "lean                   1.595578\n",
       "possess diploma        1.532295\n",
       "commit                 1.414349\n",
       "jira                   1.173392\n",
       "deep learning          1.162733"
      ]
     },
     "execution_count": 125,
     "metadata": {},
     "output_type": "execute_result"
    }
   ],
   "source": [
    "features = np.array(X_train.columns)\n",
    "lrf_coefs = pd.DataFrame({'coef':lr_c2f.coef_[0]},index=features)\n",
    "lrf_coefs = lrf_coefs.sort_values('coef',ascending=False)\n",
    "lrf_coefs.head(10)"
   ]
  },
  {
   "cell_type": "code",
   "execution_count": 114,
   "metadata": {},
   "outputs": [
    {
     "name": "stdout",
     "output_type": "stream",
     "text": [
      "Random forest best parameters: RandomForestClassifier(bootstrap=True, class_weight={0: 1.0, 1: 15.0},\n",
      "            criterion='gini', max_depth=20, max_features='auto',\n",
      "            max_leaf_nodes=None, min_impurity_decrease=0.0,\n",
      "            min_impurity_split=None, min_samples_leaf=1,\n",
      "            min_samples_split=2, min_weight_fraction_leaf=0.0,\n",
      "            n_estimators=200, n_jobs=None, oob_score=False,\n",
      "            random_state=42, verbose=0, warm_start=False)\n",
      "Cross val f1 score on train data: 0.48872445384073293\n"
     ]
    }
   ],
   "source": [
    "#hyperparameter tune for random forest\n",
    "rfc_params={\n",
    "             'max_depth': [10, 20, 30, 40, 50, 60, 70, 80, 90, 100, None],\n",
    "             'n_estimators': [50,100,150,200],\n",
    "           }\n",
    "\n",
    "gs_rfc=GridSearchCV(rfc, rfc_params, cv=5, scoring='f1', n_jobs=-1)\n",
    "gs_rfc.fit(X_train,y_train)\n",
    "\n",
    "rfc2=gs_rfc.best_estimator_\n",
    "rfc2.fit(X_train,y_train)\n",
    "\n",
    "print('Random forest best parameters:', rfc2)\n",
    "print('Cross val f1 score on train data:', np.mean(cross_val_score(rfc2, X_train, y_train, cv=5, scoring='f1')))"
   ]
  },
  {
   "cell_type": "code",
   "execution_count": 117,
   "metadata": {},
   "outputs": [
    {
     "data": {
      "text/html": [
       "<div>\n",
       "<style scoped>\n",
       "    .dataframe tbody tr th:only-of-type {\n",
       "        vertical-align: middle;\n",
       "    }\n",
       "\n",
       "    .dataframe tbody tr th {\n",
       "        vertical-align: top;\n",
       "    }\n",
       "\n",
       "    .dataframe thead th {\n",
       "        text-align: right;\n",
       "    }\n",
       "</style>\n",
       "<table border=\"1\" class=\"dataframe\">\n",
       "  <thead>\n",
       "    <tr style=\"text-align: right;\">\n",
       "      <th></th>\n",
       "      <th>Predicted Other job</th>\n",
       "      <th>Predicted DS job</th>\n",
       "    </tr>\n",
       "  </thead>\n",
       "  <tbody>\n",
       "    <tr>\n",
       "      <th>Actual Other job</th>\n",
       "      <td>655</td>\n",
       "      <td>33</td>\n",
       "    </tr>\n",
       "    <tr>\n",
       "      <th>Actual DS job</th>\n",
       "      <td>61</td>\n",
       "      <td>38</td>\n",
       "    </tr>\n",
       "  </tbody>\n",
       "</table>\n",
       "</div>"
      ],
      "text/plain": [
       "                  Predicted Other job  Predicted DS job\n",
       "Actual Other job                  655                33\n",
       "Actual DS job                      61                38"
      ]
     },
     "execution_count": 117,
     "metadata": {},
     "output_type": "execute_result"
    }
   ],
   "source": [
    "pd.DataFrame(confusion_matrix(y_test,rfc2.predict(X_test)),\n",
    "             index=['Actual Other job','Actual DS job'],\n",
    "             columns=['Predicted Other job','Predicted DS job'])"
   ]
  },
  {
   "cell_type": "code",
   "execution_count": 118,
   "metadata": {},
   "outputs": [
    {
     "name": "stdout",
     "output_type": "stream",
     "text": [
      "              precision    recall  f1-score   support\n",
      "\n",
      "   Other job       0.91      0.95      0.93       688\n",
      "      DS job       0.54      0.38      0.45        99\n",
      "\n",
      "   micro avg       0.88      0.88      0.88       787\n",
      "   macro avg       0.73      0.67      0.69       787\n",
      "weighted avg       0.87      0.88      0.87       787\n",
      "\n"
     ]
    }
   ],
   "source": [
    "print(classification_report(y_test,rfc2.predict(X_test),target_names=[\"Other job\", \"DS job\"]))"
   ]
  },
  {
   "cell_type": "code",
   "execution_count": 119,
   "metadata": {},
   "outputs": [
    {
     "data": {
      "text/html": [
       "<div>\n",
       "<style scoped>\n",
       "    .dataframe tbody tr th:only-of-type {\n",
       "        vertical-align: middle;\n",
       "    }\n",
       "\n",
       "    .dataframe tbody tr th {\n",
       "        vertical-align: top;\n",
       "    }\n",
       "\n",
       "    .dataframe thead th {\n",
       "        text-align: right;\n",
       "    }\n",
       "</style>\n",
       "<table border=\"1\" class=\"dataframe\">\n",
       "  <thead>\n",
       "    <tr style=\"text-align: right;\">\n",
       "      <th></th>\n",
       "      <th>coef</th>\n",
       "    </tr>\n",
       "  </thead>\n",
       "  <tbody>\n",
       "    <tr>\n",
       "      <th>science</th>\n",
       "      <td>0.019085</td>\n",
       "    </tr>\n",
       "    <tr>\n",
       "      <th>analytical</th>\n",
       "      <td>0.017929</td>\n",
       "    </tr>\n",
       "    <tr>\n",
       "      <th>statistics</th>\n",
       "      <td>0.013873</td>\n",
       "    </tr>\n",
       "    <tr>\n",
       "      <th>sql</th>\n",
       "      <td>0.013515</td>\n",
       "    </tr>\n",
       "    <tr>\n",
       "      <th>business</th>\n",
       "      <td>0.011813</td>\n",
       "    </tr>\n",
       "    <tr>\n",
       "      <th>excel</th>\n",
       "      <td>0.011237</td>\n",
       "    </tr>\n",
       "    <tr>\n",
       "      <th>computer science</th>\n",
       "      <td>0.010789</td>\n",
       "    </tr>\n",
       "    <tr>\n",
       "      <th>analysis</th>\n",
       "      <td>0.010151</td>\n",
       "    </tr>\n",
       "    <tr>\n",
       "      <th>analyst</th>\n",
       "      <td>0.008492</td>\n",
       "    </tr>\n",
       "    <tr>\n",
       "      <th>python</th>\n",
       "      <td>0.007965</td>\n",
       "    </tr>\n",
       "  </tbody>\n",
       "</table>\n",
       "</div>"
      ],
      "text/plain": [
       "                      coef\n",
       "science           0.019085\n",
       "analytical        0.017929\n",
       "statistics        0.013873\n",
       "sql               0.013515\n",
       "business          0.011813\n",
       "excel             0.011237\n",
       "computer science  0.010789\n",
       "analysis          0.010151\n",
       "analyst           0.008492\n",
       "python            0.007965"
      ]
     },
     "execution_count": 119,
     "metadata": {},
     "output_type": "execute_result"
    }
   ],
   "source": [
    "features = np.array(X_train.columns)\n",
    "rf_coefs = pd.DataFrame({'coef':rfc2.feature_importances_},index=features)\n",
    "rf_coefs.sort_values('coef',ascending = False).head(10)"
   ]
  },
  {
   "cell_type": "code",
   "execution_count": 123,
   "metadata": {},
   "outputs": [
    {
     "data": {
      "text/html": [
       "<div>\n",
       "<style scoped>\n",
       "    .dataframe tbody tr th:only-of-type {\n",
       "        vertical-align: middle;\n",
       "    }\n",
       "\n",
       "    .dataframe tbody tr th {\n",
       "        vertical-align: top;\n",
       "    }\n",
       "\n",
       "    .dataframe thead th {\n",
       "        text-align: right;\n",
       "    }\n",
       "</style>\n",
       "<table border=\"1\" class=\"dataframe\">\n",
       "  <thead>\n",
       "    <tr style=\"text-align: right;\">\n",
       "      <th></th>\n",
       "      <th>Logistic model</th>\n",
       "      <th>Random Forest</th>\n",
       "    </tr>\n",
       "  </thead>\n",
       "  <tbody>\n",
       "    <tr>\n",
       "      <th>0</th>\n",
       "      <td>analyst</td>\n",
       "      <td>science</td>\n",
       "    </tr>\n",
       "    <tr>\n",
       "      <th>1</th>\n",
       "      <td>java python</td>\n",
       "      <td>analytical</td>\n",
       "    </tr>\n",
       "    <tr>\n",
       "      <th>2</th>\n",
       "      <td>business analysis</td>\n",
       "      <td>statistics</td>\n",
       "    </tr>\n",
       "    <tr>\n",
       "      <th>3</th>\n",
       "      <td>analyzing</td>\n",
       "      <td>sql</td>\n",
       "    </tr>\n",
       "    <tr>\n",
       "      <th>4</th>\n",
       "      <td>communications skills</td>\n",
       "      <td>business</td>\n",
       "    </tr>\n",
       "    <tr>\n",
       "      <th>5</th>\n",
       "      <td>lean</td>\n",
       "      <td>excel</td>\n",
       "    </tr>\n",
       "    <tr>\n",
       "      <th>6</th>\n",
       "      <td>possess diploma</td>\n",
       "      <td>computer science</td>\n",
       "    </tr>\n",
       "    <tr>\n",
       "      <th>7</th>\n",
       "      <td>commit</td>\n",
       "      <td>analysis</td>\n",
       "    </tr>\n",
       "    <tr>\n",
       "      <th>8</th>\n",
       "      <td>jira</td>\n",
       "      <td>analyst</td>\n",
       "    </tr>\n",
       "    <tr>\n",
       "      <th>9</th>\n",
       "      <td>deep learning</td>\n",
       "      <td>python</td>\n",
       "    </tr>\n",
       "  </tbody>\n",
       "</table>\n",
       "</div>"
      ],
      "text/plain": [
       "          Logistic model     Random Forest\n",
       "0                analyst           science\n",
       "1            java python        analytical\n",
       "2      business analysis        statistics\n",
       "3              analyzing               sql\n",
       "4  communications skills          business\n",
       "5                   lean             excel\n",
       "6        possess diploma  computer science\n",
       "7                 commit          analysis\n",
       "8                   jira           analyst\n",
       "9          deep learning            python"
      ]
     },
     "execution_count": 123,
     "metadata": {},
     "output_type": "execute_result"
    }
   ],
   "source": [
    "#Top 10 features for salary high and low prediction.\n",
    "Logit_reg = lrf_coefs.sort_values('coef',ascending=False).head(10).index\n",
    "rf_feat = rf_coefs.sort_values('coef',ascending = False).head(10).index\n",
    "\n",
    "DS_features = pd.DataFrame({'Logistic model':Logit_reg, 'Random Forest':rf_feat})\n",
    "DS_features"
   ]
  },
  {
   "cell_type": "markdown",
   "metadata": {},
   "source": [
    "From the logistic regression model coefficient and random forest important features, we can conclude that specific features distinguished data science job from other data related job, such as a computer science or statistics degree, machine learning skill, data mining skill, strong in analytical and python programming."
   ]
  },
  {
   "cell_type": "markdown",
   "metadata": {},
   "source": [
    "### Trying with different threshold value to increase f1 score (using Random Forest model)"
   ]
  },
  {
   "cell_type": "code",
   "execution_count": 102,
   "metadata": {},
   "outputs": [],
   "source": [
    "#re-predict y based on threshold value given\n",
    "def re_predict (y, threshold):\n",
    "        if y > threshold:\n",
    "            return 1\n",
    "        else:\n",
    "            return 0"
   ]
  },
  {
   "cell_type": "code",
   "execution_count": 103,
   "metadata": {},
   "outputs": [],
   "source": [
    "pred_y = rfc2.predict_proba(X_test)\n",
    "new_pred = []\n",
    "for i in range(len(pred_y)):\n",
    "    new_pred.append(re_predict(pred_y[i,1], 0.45))"
   ]
  },
  {
   "cell_type": "code",
   "execution_count": 104,
   "metadata": {},
   "outputs": [
    {
     "data": {
      "text/html": [
       "<div>\n",
       "<style scoped>\n",
       "    .dataframe tbody tr th:only-of-type {\n",
       "        vertical-align: middle;\n",
       "    }\n",
       "\n",
       "    .dataframe tbody tr th {\n",
       "        vertical-align: top;\n",
       "    }\n",
       "\n",
       "    .dataframe thead th {\n",
       "        text-align: right;\n",
       "    }\n",
       "</style>\n",
       "<table border=\"1\" class=\"dataframe\">\n",
       "  <thead>\n",
       "    <tr style=\"text-align: right;\">\n",
       "      <th></th>\n",
       "      <th>Predicted None DS job</th>\n",
       "      <th>Predicted DS job</th>\n",
       "    </tr>\n",
       "  </thead>\n",
       "  <tbody>\n",
       "    <tr>\n",
       "      <th>Actual None DS job</th>\n",
       "      <td>641</td>\n",
       "      <td>47</td>\n",
       "    </tr>\n",
       "    <tr>\n",
       "      <th>Actual DS job</th>\n",
       "      <td>54</td>\n",
       "      <td>45</td>\n",
       "    </tr>\n",
       "  </tbody>\n",
       "</table>\n",
       "</div>"
      ],
      "text/plain": [
       "                    Predicted None DS job  Predicted DS job\n",
       "Actual None DS job                    641                47\n",
       "Actual DS job                          54                45"
      ]
     },
     "execution_count": 104,
     "metadata": {},
     "output_type": "execute_result"
    }
   ],
   "source": [
    "pd.DataFrame(confusion_matrix(y_test,new_pred),\n",
    "             index=['Actual None DS job','Actual DS job'],\n",
    "             columns=['Predicted None DS job','Predicted DS job'])"
   ]
  },
  {
   "cell_type": "code",
   "execution_count": 105,
   "metadata": {},
   "outputs": [
    {
     "name": "stdout",
     "output_type": "stream",
     "text": [
      "              precision    recall  f1-score   support\n",
      "\n",
      "           0       0.92      0.93      0.93       688\n",
      "           1       0.49      0.45      0.47        99\n",
      "\n",
      "   micro avg       0.87      0.87      0.87       787\n",
      "   macro avg       0.71      0.69      0.70       787\n",
      "weighted avg       0.87      0.87      0.87       787\n",
      "\n"
     ]
    }
   ],
   "source": [
    "print(classification_report(y_test,new_pred))"
   ]
  },
  {
   "cell_type": "markdown",
   "metadata": {},
   "source": [
    "By tuning the thresold value from 0.5 to 0.45, we managed to increase the true positive for DS job but the down side is more non DS job will be predicted as DS job."
   ]
  }
 ],
 "metadata": {
  "kernelspec": {
   "display_name": "Python 3",
   "language": "python",
   "name": "python3"
  },
  "language_info": {
   "codemirror_mode": {
    "name": "ipython",
    "version": 3
   },
   "file_extension": ".py",
   "mimetype": "text/x-python",
   "name": "python",
   "nbconvert_exporter": "python",
   "pygments_lexer": "ipython3",
   "version": "3.7.1"
  }
 },
 "nbformat": 4,
 "nbformat_minor": 2
}
